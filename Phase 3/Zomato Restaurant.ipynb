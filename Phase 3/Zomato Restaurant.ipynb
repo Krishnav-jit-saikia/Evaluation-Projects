{
 "cells": [
  {
   "cell_type": "markdown",
   "id": "b7ac9029",
   "metadata": {},
   "source": [
    "# Zomato Restaurant :"
   ]
  },
  {
   "cell_type": "code",
   "execution_count": 1,
   "id": "fdb9838f",
   "metadata": {},
   "outputs": [],
   "source": [
    "# importing  important models :\n",
    "import pandas as pd\n",
    "import numpy as np\n",
    "import matplotlib.pyplot as plt\n",
    "import seaborn as sns\n",
    "import warnings\n",
    "warnings.filterwarnings('ignore')"
   ]
  },
  {
   "cell_type": "code",
   "execution_count": 2,
   "id": "c32838fe",
   "metadata": {},
   "outputs": [
    {
     "data": {
      "text/html": [
       "<div>\n",
       "<style scoped>\n",
       "    .dataframe tbody tr th:only-of-type {\n",
       "        vertical-align: middle;\n",
       "    }\n",
       "\n",
       "    .dataframe tbody tr th {\n",
       "        vertical-align: top;\n",
       "    }\n",
       "\n",
       "    .dataframe thead th {\n",
       "        text-align: right;\n",
       "    }\n",
       "</style>\n",
       "<table border=\"1\" class=\"dataframe\">\n",
       "  <thead>\n",
       "    <tr style=\"text-align: right;\">\n",
       "      <th></th>\n",
       "      <th>Restaurant ID</th>\n",
       "      <th>Restaurant Name</th>\n",
       "      <th>Country Code</th>\n",
       "      <th>City</th>\n",
       "      <th>Address</th>\n",
       "      <th>Locality</th>\n",
       "      <th>Locality Verbose</th>\n",
       "      <th>Longitude</th>\n",
       "      <th>Latitude</th>\n",
       "      <th>Cuisines</th>\n",
       "      <th>...</th>\n",
       "      <th>Currency</th>\n",
       "      <th>Has Table booking</th>\n",
       "      <th>Has Online delivery</th>\n",
       "      <th>Is delivering now</th>\n",
       "      <th>Switch to order menu</th>\n",
       "      <th>Price range</th>\n",
       "      <th>Aggregate rating</th>\n",
       "      <th>Rating color</th>\n",
       "      <th>Rating text</th>\n",
       "      <th>Votes</th>\n",
       "    </tr>\n",
       "  </thead>\n",
       "  <tbody>\n",
       "    <tr>\n",
       "      <th>0</th>\n",
       "      <td>6317637</td>\n",
       "      <td>Le Petit Souffle</td>\n",
       "      <td>162</td>\n",
       "      <td>Makati City</td>\n",
       "      <td>Third Floor, Century City Mall, Kalayaan Avenu...</td>\n",
       "      <td>Century City Mall, Poblacion, Makati City</td>\n",
       "      <td>Century City Mall, Poblacion, Makati City, Mak...</td>\n",
       "      <td>121.027535</td>\n",
       "      <td>14.565443</td>\n",
       "      <td>French, Japanese, Desserts</td>\n",
       "      <td>...</td>\n",
       "      <td>Botswana Pula(P)</td>\n",
       "      <td>Yes</td>\n",
       "      <td>No</td>\n",
       "      <td>No</td>\n",
       "      <td>No</td>\n",
       "      <td>3</td>\n",
       "      <td>4.8</td>\n",
       "      <td>Dark Green</td>\n",
       "      <td>Excellent</td>\n",
       "      <td>314</td>\n",
       "    </tr>\n",
       "    <tr>\n",
       "      <th>1</th>\n",
       "      <td>6304287</td>\n",
       "      <td>Izakaya Kikufuji</td>\n",
       "      <td>162</td>\n",
       "      <td>Makati City</td>\n",
       "      <td>Little Tokyo, 2277 Chino Roces Avenue, Legaspi...</td>\n",
       "      <td>Little Tokyo, Legaspi Village, Makati City</td>\n",
       "      <td>Little Tokyo, Legaspi Village, Makati City, Ma...</td>\n",
       "      <td>121.014101</td>\n",
       "      <td>14.553708</td>\n",
       "      <td>Japanese</td>\n",
       "      <td>...</td>\n",
       "      <td>Botswana Pula(P)</td>\n",
       "      <td>Yes</td>\n",
       "      <td>No</td>\n",
       "      <td>No</td>\n",
       "      <td>No</td>\n",
       "      <td>3</td>\n",
       "      <td>4.5</td>\n",
       "      <td>Dark Green</td>\n",
       "      <td>Excellent</td>\n",
       "      <td>591</td>\n",
       "    </tr>\n",
       "    <tr>\n",
       "      <th>2</th>\n",
       "      <td>6300002</td>\n",
       "      <td>Heat - Edsa Shangri-La</td>\n",
       "      <td>162</td>\n",
       "      <td>Mandaluyong City</td>\n",
       "      <td>Edsa Shangri-La, 1 Garden Way, Ortigas, Mandal...</td>\n",
       "      <td>Edsa Shangri-La, Ortigas, Mandaluyong City</td>\n",
       "      <td>Edsa Shangri-La, Ortigas, Mandaluyong City, Ma...</td>\n",
       "      <td>121.056831</td>\n",
       "      <td>14.581404</td>\n",
       "      <td>Seafood, Asian, Filipino, Indian</td>\n",
       "      <td>...</td>\n",
       "      <td>Botswana Pula(P)</td>\n",
       "      <td>Yes</td>\n",
       "      <td>No</td>\n",
       "      <td>No</td>\n",
       "      <td>No</td>\n",
       "      <td>4</td>\n",
       "      <td>4.4</td>\n",
       "      <td>Green</td>\n",
       "      <td>Very Good</td>\n",
       "      <td>270</td>\n",
       "    </tr>\n",
       "    <tr>\n",
       "      <th>3</th>\n",
       "      <td>6318506</td>\n",
       "      <td>Ooma</td>\n",
       "      <td>162</td>\n",
       "      <td>Mandaluyong City</td>\n",
       "      <td>Third Floor, Mega Fashion Hall, SM Megamall, O...</td>\n",
       "      <td>SM Megamall, Ortigas, Mandaluyong City</td>\n",
       "      <td>SM Megamall, Ortigas, Mandaluyong City, Mandal...</td>\n",
       "      <td>121.056475</td>\n",
       "      <td>14.585318</td>\n",
       "      <td>Japanese, Sushi</td>\n",
       "      <td>...</td>\n",
       "      <td>Botswana Pula(P)</td>\n",
       "      <td>No</td>\n",
       "      <td>No</td>\n",
       "      <td>No</td>\n",
       "      <td>No</td>\n",
       "      <td>4</td>\n",
       "      <td>4.9</td>\n",
       "      <td>Dark Green</td>\n",
       "      <td>Excellent</td>\n",
       "      <td>365</td>\n",
       "    </tr>\n",
       "    <tr>\n",
       "      <th>4</th>\n",
       "      <td>6314302</td>\n",
       "      <td>Sambo Kojin</td>\n",
       "      <td>162</td>\n",
       "      <td>Mandaluyong City</td>\n",
       "      <td>Third Floor, Mega Atrium, SM Megamall, Ortigas...</td>\n",
       "      <td>SM Megamall, Ortigas, Mandaluyong City</td>\n",
       "      <td>SM Megamall, Ortigas, Mandaluyong City, Mandal...</td>\n",
       "      <td>121.057508</td>\n",
       "      <td>14.584450</td>\n",
       "      <td>Japanese, Korean</td>\n",
       "      <td>...</td>\n",
       "      <td>Botswana Pula(P)</td>\n",
       "      <td>Yes</td>\n",
       "      <td>No</td>\n",
       "      <td>No</td>\n",
       "      <td>No</td>\n",
       "      <td>4</td>\n",
       "      <td>4.8</td>\n",
       "      <td>Dark Green</td>\n",
       "      <td>Excellent</td>\n",
       "      <td>229</td>\n",
       "    </tr>\n",
       "    <tr>\n",
       "      <th>...</th>\n",
       "      <td>...</td>\n",
       "      <td>...</td>\n",
       "      <td>...</td>\n",
       "      <td>...</td>\n",
       "      <td>...</td>\n",
       "      <td>...</td>\n",
       "      <td>...</td>\n",
       "      <td>...</td>\n",
       "      <td>...</td>\n",
       "      <td>...</td>\n",
       "      <td>...</td>\n",
       "      <td>...</td>\n",
       "      <td>...</td>\n",
       "      <td>...</td>\n",
       "      <td>...</td>\n",
       "      <td>...</td>\n",
       "      <td>...</td>\n",
       "      <td>...</td>\n",
       "      <td>...</td>\n",
       "      <td>...</td>\n",
       "      <td>...</td>\n",
       "    </tr>\n",
       "    <tr>\n",
       "      <th>9546</th>\n",
       "      <td>5915730</td>\n",
       "      <td>Naml۱ Gurme</td>\n",
       "      <td>208</td>\n",
       "      <td>��stanbul</td>\n",
       "      <td>Kemanke�� Karamustafa Pa��a Mahallesi, R۱ht۱m ...</td>\n",
       "      <td>Karak�_y</td>\n",
       "      <td>Karak�_y, ��stanbul</td>\n",
       "      <td>28.977392</td>\n",
       "      <td>41.022793</td>\n",
       "      <td>Turkish</td>\n",
       "      <td>...</td>\n",
       "      <td>Turkish Lira(TL)</td>\n",
       "      <td>No</td>\n",
       "      <td>No</td>\n",
       "      <td>No</td>\n",
       "      <td>No</td>\n",
       "      <td>3</td>\n",
       "      <td>4.1</td>\n",
       "      <td>Green</td>\n",
       "      <td>Very Good</td>\n",
       "      <td>788</td>\n",
       "    </tr>\n",
       "    <tr>\n",
       "      <th>9547</th>\n",
       "      <td>5908749</td>\n",
       "      <td>Ceviz A��ac۱</td>\n",
       "      <td>208</td>\n",
       "      <td>��stanbul</td>\n",
       "      <td>Ko��uyolu Mahallesi, Muhittin ��st�_nda�� Cadd...</td>\n",
       "      <td>Ko��uyolu</td>\n",
       "      <td>Ko��uyolu, ��stanbul</td>\n",
       "      <td>29.041297</td>\n",
       "      <td>41.009847</td>\n",
       "      <td>World Cuisine, Patisserie, Cafe</td>\n",
       "      <td>...</td>\n",
       "      <td>Turkish Lira(TL)</td>\n",
       "      <td>No</td>\n",
       "      <td>No</td>\n",
       "      <td>No</td>\n",
       "      <td>No</td>\n",
       "      <td>3</td>\n",
       "      <td>4.2</td>\n",
       "      <td>Green</td>\n",
       "      <td>Very Good</td>\n",
       "      <td>1034</td>\n",
       "    </tr>\n",
       "    <tr>\n",
       "      <th>9548</th>\n",
       "      <td>5915807</td>\n",
       "      <td>Huqqa</td>\n",
       "      <td>208</td>\n",
       "      <td>��stanbul</td>\n",
       "      <td>Kuru�_e��me Mahallesi, Muallim Naci Caddesi, N...</td>\n",
       "      <td>Kuru�_e��me</td>\n",
       "      <td>Kuru�_e��me, ��stanbul</td>\n",
       "      <td>29.034640</td>\n",
       "      <td>41.055817</td>\n",
       "      <td>Italian, World Cuisine</td>\n",
       "      <td>...</td>\n",
       "      <td>Turkish Lira(TL)</td>\n",
       "      <td>No</td>\n",
       "      <td>No</td>\n",
       "      <td>No</td>\n",
       "      <td>No</td>\n",
       "      <td>4</td>\n",
       "      <td>3.7</td>\n",
       "      <td>Yellow</td>\n",
       "      <td>Good</td>\n",
       "      <td>661</td>\n",
       "    </tr>\n",
       "    <tr>\n",
       "      <th>9549</th>\n",
       "      <td>5916112</td>\n",
       "      <td>A���k Kahve</td>\n",
       "      <td>208</td>\n",
       "      <td>��stanbul</td>\n",
       "      <td>Kuru�_e��me Mahallesi, Muallim Naci Caddesi, N...</td>\n",
       "      <td>Kuru�_e��me</td>\n",
       "      <td>Kuru�_e��me, ��stanbul</td>\n",
       "      <td>29.036019</td>\n",
       "      <td>41.057979</td>\n",
       "      <td>Restaurant Cafe</td>\n",
       "      <td>...</td>\n",
       "      <td>Turkish Lira(TL)</td>\n",
       "      <td>No</td>\n",
       "      <td>No</td>\n",
       "      <td>No</td>\n",
       "      <td>No</td>\n",
       "      <td>4</td>\n",
       "      <td>4.0</td>\n",
       "      <td>Green</td>\n",
       "      <td>Very Good</td>\n",
       "      <td>901</td>\n",
       "    </tr>\n",
       "    <tr>\n",
       "      <th>9550</th>\n",
       "      <td>5927402</td>\n",
       "      <td>Walter's Coffee Roastery</td>\n",
       "      <td>208</td>\n",
       "      <td>��stanbul</td>\n",
       "      <td>Cafea��a Mahallesi, Bademalt۱ Sokak, No 21/B, ...</td>\n",
       "      <td>Moda</td>\n",
       "      <td>Moda, ��stanbul</td>\n",
       "      <td>29.026016</td>\n",
       "      <td>40.984776</td>\n",
       "      <td>Cafe</td>\n",
       "      <td>...</td>\n",
       "      <td>Turkish Lira(TL)</td>\n",
       "      <td>No</td>\n",
       "      <td>No</td>\n",
       "      <td>No</td>\n",
       "      <td>No</td>\n",
       "      <td>2</td>\n",
       "      <td>4.0</td>\n",
       "      <td>Green</td>\n",
       "      <td>Very Good</td>\n",
       "      <td>591</td>\n",
       "    </tr>\n",
       "  </tbody>\n",
       "</table>\n",
       "<p>9551 rows × 21 columns</p>\n",
       "</div>"
      ],
      "text/plain": [
       "      Restaurant ID           Restaurant Name  Country Code              City  \\\n",
       "0           6317637          Le Petit Souffle           162       Makati City   \n",
       "1           6304287          Izakaya Kikufuji           162       Makati City   \n",
       "2           6300002    Heat - Edsa Shangri-La           162  Mandaluyong City   \n",
       "3           6318506                      Ooma           162  Mandaluyong City   \n",
       "4           6314302               Sambo Kojin           162  Mandaluyong City   \n",
       "...             ...                       ...           ...               ...   \n",
       "9546        5915730               Naml۱ Gurme           208         ��stanbul   \n",
       "9547        5908749              Ceviz A��ac۱           208         ��stanbul   \n",
       "9548        5915807                     Huqqa           208         ��stanbul   \n",
       "9549        5916112               A���k Kahve           208         ��stanbul   \n",
       "9550        5927402  Walter's Coffee Roastery           208         ��stanbul   \n",
       "\n",
       "                                                Address  \\\n",
       "0     Third Floor, Century City Mall, Kalayaan Avenu...   \n",
       "1     Little Tokyo, 2277 Chino Roces Avenue, Legaspi...   \n",
       "2     Edsa Shangri-La, 1 Garden Way, Ortigas, Mandal...   \n",
       "3     Third Floor, Mega Fashion Hall, SM Megamall, O...   \n",
       "4     Third Floor, Mega Atrium, SM Megamall, Ortigas...   \n",
       "...                                                 ...   \n",
       "9546  Kemanke�� Karamustafa Pa��a Mahallesi, R۱ht۱m ...   \n",
       "9547  Ko��uyolu Mahallesi, Muhittin ��st�_nda�� Cadd...   \n",
       "9548  Kuru�_e��me Mahallesi, Muallim Naci Caddesi, N...   \n",
       "9549  Kuru�_e��me Mahallesi, Muallim Naci Caddesi, N...   \n",
       "9550  Cafea��a Mahallesi, Bademalt۱ Sokak, No 21/B, ...   \n",
       "\n",
       "                                        Locality  \\\n",
       "0      Century City Mall, Poblacion, Makati City   \n",
       "1     Little Tokyo, Legaspi Village, Makati City   \n",
       "2     Edsa Shangri-La, Ortigas, Mandaluyong City   \n",
       "3         SM Megamall, Ortigas, Mandaluyong City   \n",
       "4         SM Megamall, Ortigas, Mandaluyong City   \n",
       "...                                          ...   \n",
       "9546                                    Karak�_y   \n",
       "9547                                   Ko��uyolu   \n",
       "9548                                 Kuru�_e��me   \n",
       "9549                                 Kuru�_e��me   \n",
       "9550                                        Moda   \n",
       "\n",
       "                                       Locality Verbose   Longitude  \\\n",
       "0     Century City Mall, Poblacion, Makati City, Mak...  121.027535   \n",
       "1     Little Tokyo, Legaspi Village, Makati City, Ma...  121.014101   \n",
       "2     Edsa Shangri-La, Ortigas, Mandaluyong City, Ma...  121.056831   \n",
       "3     SM Megamall, Ortigas, Mandaluyong City, Mandal...  121.056475   \n",
       "4     SM Megamall, Ortigas, Mandaluyong City, Mandal...  121.057508   \n",
       "...                                                 ...         ...   \n",
       "9546                                Karak�_y, ��stanbul   28.977392   \n",
       "9547                               Ko��uyolu, ��stanbul   29.041297   \n",
       "9548                             Kuru�_e��me, ��stanbul   29.034640   \n",
       "9549                             Kuru�_e��me, ��stanbul   29.036019   \n",
       "9550                                    Moda, ��stanbul   29.026016   \n",
       "\n",
       "       Latitude                          Cuisines  ...          Currency  \\\n",
       "0     14.565443        French, Japanese, Desserts  ...  Botswana Pula(P)   \n",
       "1     14.553708                          Japanese  ...  Botswana Pula(P)   \n",
       "2     14.581404  Seafood, Asian, Filipino, Indian  ...  Botswana Pula(P)   \n",
       "3     14.585318                   Japanese, Sushi  ...  Botswana Pula(P)   \n",
       "4     14.584450                  Japanese, Korean  ...  Botswana Pula(P)   \n",
       "...         ...                               ...  ...               ...   \n",
       "9546  41.022793                           Turkish  ...  Turkish Lira(TL)   \n",
       "9547  41.009847   World Cuisine, Patisserie, Cafe  ...  Turkish Lira(TL)   \n",
       "9548  41.055817            Italian, World Cuisine  ...  Turkish Lira(TL)   \n",
       "9549  41.057979                   Restaurant Cafe  ...  Turkish Lira(TL)   \n",
       "9550  40.984776                              Cafe  ...  Turkish Lira(TL)   \n",
       "\n",
       "     Has Table booking Has Online delivery Is delivering now  \\\n",
       "0                  Yes                  No                No   \n",
       "1                  Yes                  No                No   \n",
       "2                  Yes                  No                No   \n",
       "3                   No                  No                No   \n",
       "4                  Yes                  No                No   \n",
       "...                ...                 ...               ...   \n",
       "9546                No                  No                No   \n",
       "9547                No                  No                No   \n",
       "9548                No                  No                No   \n",
       "9549                No                  No                No   \n",
       "9550                No                  No                No   \n",
       "\n",
       "     Switch to order menu Price range  Aggregate rating  Rating color  \\\n",
       "0                      No           3               4.8    Dark Green   \n",
       "1                      No           3               4.5    Dark Green   \n",
       "2                      No           4               4.4         Green   \n",
       "3                      No           4               4.9    Dark Green   \n",
       "4                      No           4               4.8    Dark Green   \n",
       "...                   ...         ...               ...           ...   \n",
       "9546                   No           3               4.1         Green   \n",
       "9547                   No           3               4.2         Green   \n",
       "9548                   No           4               3.7        Yellow   \n",
       "9549                   No           4               4.0         Green   \n",
       "9550                   No           2               4.0         Green   \n",
       "\n",
       "     Rating text Votes  \n",
       "0      Excellent   314  \n",
       "1      Excellent   591  \n",
       "2      Very Good   270  \n",
       "3      Excellent   365  \n",
       "4      Excellent   229  \n",
       "...          ...   ...  \n",
       "9546   Very Good   788  \n",
       "9547   Very Good  1034  \n",
       "9548        Good   661  \n",
       "9549   Very Good   901  \n",
       "9550   Very Good   591  \n",
       "\n",
       "[9551 rows x 21 columns]"
      ]
     },
     "execution_count": 2,
     "metadata": {},
     "output_type": "execute_result"
    }
   ],
   "source": [
    "df = pd.read_csv('Zomato_Resturant.csv')\n",
    "df"
   ]
  },
  {
   "cell_type": "code",
   "execution_count": 3,
   "id": "d9208521",
   "metadata": {},
   "outputs": [
    {
     "data": {
      "text/plain": [
       "Index(['Restaurant ID', 'Restaurant Name', 'Country Code', 'City', 'Address',\n",
       "       'Locality', 'Locality Verbose', 'Longitude', 'Latitude', 'Cuisines',\n",
       "       'Average Cost for two', 'Currency', 'Has Table booking',\n",
       "       'Has Online delivery', 'Is delivering now', 'Switch to order menu',\n",
       "       'Price range', 'Aggregate rating', 'Rating color', 'Rating text',\n",
       "       'Votes'],\n",
       "      dtype='object')"
      ]
     },
     "execution_count": 3,
     "metadata": {},
     "output_type": "execute_result"
    }
   ],
   "source": [
    "df.columns"
   ]
  },
  {
   "cell_type": "code",
   "execution_count": 4,
   "id": "32004c58",
   "metadata": {},
   "outputs": [
    {
     "data": {
      "text/plain": [
       "1826"
      ]
     },
     "execution_count": 4,
     "metadata": {},
     "output_type": "execute_result"
    }
   ],
   "source": [
    "len(df['Cuisines'].unique())"
   ]
  },
  {
   "cell_type": "code",
   "execution_count": 5,
   "id": "c38399aa",
   "metadata": {},
   "outputs": [
    {
     "data": {
      "text/plain": [
       "array(['Makati City', 'Mandaluyong City', 'Pasay City', 'Pasig City',\n",
       "       'Quezon City', 'San Juan City', 'Santa Rosa', 'Tagaytay City',\n",
       "       'Taguig City', 'Bras�_lia', 'Rio de Janeiro', 'S��o Paulo',\n",
       "       'Albany', 'Armidale', 'Athens', 'Augusta', 'Balingup',\n",
       "       'Beechworth', 'Boise', 'Cedar Rapids/Iowa City', 'Chatham-Kent',\n",
       "       'Clatskanie', 'Cochrane', 'Columbus', 'Consort', 'Dalton',\n",
       "       'Davenport', 'Des Moines', 'Dicky Beach', 'Dubuque',\n",
       "       'East Ballina', 'Fernley', 'Flaxton', 'Forrest', 'Gainesville',\n",
       "       'Hepburn Springs', 'Huskisson', 'Inverloch', 'Lakes Entrance',\n",
       "       'Lakeview', 'Lincoln', 'Lorn', 'Macedon', 'Macon', 'Mayfield',\n",
       "       'Mc Millan', 'Middleton Beach', 'Miller', 'Monroe', 'Montville',\n",
       "       'Ojo Caliente', 'Orlando', 'Palm Cove', 'Paynesville', 'Penola',\n",
       "       'Pensacola', 'Phillip Island', 'Pocatello', 'Potrero', 'Princeton',\n",
       "       'Rest of Hawaii', 'Savannah', 'Singapore', 'Sioux City',\n",
       "       'Tampa Bay', 'Tanunda', 'Trentham East', 'Valdosta', 'Vernonia',\n",
       "       'Victor Harbor', 'Vineland Station', 'Waterloo', 'Weirton',\n",
       "       'Winchester Bay', 'Yorkton', 'Abu Dhabi', 'Dubai', 'Sharjah',\n",
       "       'Agra', 'Ahmedabad', 'Allahabad', 'Amritsar', 'Aurangabad',\n",
       "       'Bangalore', 'Bhopal', 'Bhubaneshwar', 'Chandigarh', 'Chennai',\n",
       "       'Coimbatore', 'Dehradun', 'Faridabad', 'Ghaziabad', 'Goa',\n",
       "       'Gurgaon', 'Guwahati', 'Hyderabad', 'Indore', 'Jaipur', 'Kanpur',\n",
       "       'Kochi', 'Kolkata', 'Lucknow', 'Ludhiana', 'Mangalore', 'Mohali',\n",
       "       'Mumbai', 'Mysore', 'Nagpur', 'Nashik', 'New Delhi', 'Noida',\n",
       "       'Panchkula', 'Patna', 'Puducherry', 'Pune', 'Ranchi',\n",
       "       'Secunderabad', 'Surat', 'Vadodara', 'Varanasi', 'Vizag',\n",
       "       'Bandung', 'Bogor', 'Jakarta', 'Tangerang', 'Auckland',\n",
       "       'Wellington City', 'Birmingham', 'Edinburgh', 'London',\n",
       "       'Manchester', 'Doha', 'Cape Town', 'Inner City', 'Johannesburg',\n",
       "       'Pretoria', 'Randburg', 'Sandton', 'Colombo', 'Ankara',\n",
       "       '��stanbul'], dtype=object)"
      ]
     },
     "execution_count": 5,
     "metadata": {},
     "output_type": "execute_result"
    }
   ],
   "source": [
    "df['City'].unique()"
   ]
  },
  {
   "cell_type": "code",
   "execution_count": 6,
   "id": "2f89d71b",
   "metadata": {},
   "outputs": [
    {
     "data": {
      "text/plain": [
       "array(['Third Floor, Century City Mall, Kalayaan Avenue, Poblacion, Makati City',\n",
       "       'Little Tokyo, 2277 Chino Roces Avenue, Legaspi Village, Makati City',\n",
       "       'Edsa Shangri-La, 1 Garden Way, Ortigas, Mandaluyong City', ...,\n",
       "       'Kuru�_e��me Mahallesi, Muallim Naci Caddesi, No 56, Be��ikta��, ��stanbul',\n",
       "       'Kuru�_e��me Mahallesi, Muallim Naci Caddesi, No 64/B, Be��ikta��, ��stanbul',\n",
       "       'Cafea��a Mahallesi, Bademalt۱ Sokak, No 21/B, Kad۱k�_y, ��stanbul'],\n",
       "      dtype=object)"
      ]
     },
     "execution_count": 6,
     "metadata": {},
     "output_type": "execute_result"
    }
   ],
   "source": [
    "df['Address'].unique()"
   ]
  },
  {
   "cell_type": "markdown",
   "id": "e4644e8f",
   "metadata": {},
   "source": [
    "# Removindg all the symbols � :"
   ]
  },
  {
   "cell_type": "code",
   "execution_count": 7,
   "id": "ad07675b",
   "metadata": {},
   "outputs": [],
   "source": [
    "import re\n",
    "\n",
    "\n",
    "def clean_text(text):\n",
    "  return re.sub(r\"[^\\w\\s]\", \"\", text)"
   ]
  },
  {
   "cell_type": "code",
   "execution_count": 8,
   "id": "bca9429e",
   "metadata": {},
   "outputs": [],
   "source": [
    "columns = ['Restaurant Name', 'City','Address','Locality','Locality Verbose']\n",
    "for col in columns :\n",
    "    df[col] = df[col].apply(clean_text)"
   ]
  },
  {
   "cell_type": "code",
   "execution_count": 9,
   "id": "786167e5",
   "metadata": {},
   "outputs": [
    {
     "data": {
      "text/html": [
       "<div>\n",
       "<style scoped>\n",
       "    .dataframe tbody tr th:only-of-type {\n",
       "        vertical-align: middle;\n",
       "    }\n",
       "\n",
       "    .dataframe tbody tr th {\n",
       "        vertical-align: top;\n",
       "    }\n",
       "\n",
       "    .dataframe thead th {\n",
       "        text-align: right;\n",
       "    }\n",
       "</style>\n",
       "<table border=\"1\" class=\"dataframe\">\n",
       "  <thead>\n",
       "    <tr style=\"text-align: right;\">\n",
       "      <th></th>\n",
       "      <th>Restaurant ID</th>\n",
       "      <th>Restaurant Name</th>\n",
       "      <th>Country Code</th>\n",
       "      <th>City</th>\n",
       "      <th>Address</th>\n",
       "      <th>Locality</th>\n",
       "      <th>Locality Verbose</th>\n",
       "      <th>Longitude</th>\n",
       "      <th>Latitude</th>\n",
       "      <th>Cuisines</th>\n",
       "      <th>...</th>\n",
       "      <th>Currency</th>\n",
       "      <th>Has Table booking</th>\n",
       "      <th>Has Online delivery</th>\n",
       "      <th>Is delivering now</th>\n",
       "      <th>Switch to order menu</th>\n",
       "      <th>Price range</th>\n",
       "      <th>Aggregate rating</th>\n",
       "      <th>Rating color</th>\n",
       "      <th>Rating text</th>\n",
       "      <th>Votes</th>\n",
       "    </tr>\n",
       "  </thead>\n",
       "  <tbody>\n",
       "    <tr>\n",
       "      <th>0</th>\n",
       "      <td>6317637</td>\n",
       "      <td>Le Petit Souffle</td>\n",
       "      <td>162</td>\n",
       "      <td>Makati City</td>\n",
       "      <td>Third Floor Century City Mall Kalayaan Avenue ...</td>\n",
       "      <td>Century City Mall Poblacion Makati City</td>\n",
       "      <td>Century City Mall Poblacion Makati City Makati...</td>\n",
       "      <td>121.027535</td>\n",
       "      <td>14.565443</td>\n",
       "      <td>French, Japanese, Desserts</td>\n",
       "      <td>...</td>\n",
       "      <td>Botswana Pula(P)</td>\n",
       "      <td>Yes</td>\n",
       "      <td>No</td>\n",
       "      <td>No</td>\n",
       "      <td>No</td>\n",
       "      <td>3</td>\n",
       "      <td>4.8</td>\n",
       "      <td>Dark Green</td>\n",
       "      <td>Excellent</td>\n",
       "      <td>314</td>\n",
       "    </tr>\n",
       "    <tr>\n",
       "      <th>1</th>\n",
       "      <td>6304287</td>\n",
       "      <td>Izakaya Kikufuji</td>\n",
       "      <td>162</td>\n",
       "      <td>Makati City</td>\n",
       "      <td>Little Tokyo 2277 Chino Roces Avenue Legaspi V...</td>\n",
       "      <td>Little Tokyo Legaspi Village Makati City</td>\n",
       "      <td>Little Tokyo Legaspi Village Makati City Makat...</td>\n",
       "      <td>121.014101</td>\n",
       "      <td>14.553708</td>\n",
       "      <td>Japanese</td>\n",
       "      <td>...</td>\n",
       "      <td>Botswana Pula(P)</td>\n",
       "      <td>Yes</td>\n",
       "      <td>No</td>\n",
       "      <td>No</td>\n",
       "      <td>No</td>\n",
       "      <td>3</td>\n",
       "      <td>4.5</td>\n",
       "      <td>Dark Green</td>\n",
       "      <td>Excellent</td>\n",
       "      <td>591</td>\n",
       "    </tr>\n",
       "    <tr>\n",
       "      <th>2</th>\n",
       "      <td>6300002</td>\n",
       "      <td>Heat  Edsa ShangriLa</td>\n",
       "      <td>162</td>\n",
       "      <td>Mandaluyong City</td>\n",
       "      <td>Edsa ShangriLa 1 Garden Way Ortigas Mandaluyon...</td>\n",
       "      <td>Edsa ShangriLa Ortigas Mandaluyong City</td>\n",
       "      <td>Edsa ShangriLa Ortigas Mandaluyong City Mandal...</td>\n",
       "      <td>121.056831</td>\n",
       "      <td>14.581404</td>\n",
       "      <td>Seafood, Asian, Filipino, Indian</td>\n",
       "      <td>...</td>\n",
       "      <td>Botswana Pula(P)</td>\n",
       "      <td>Yes</td>\n",
       "      <td>No</td>\n",
       "      <td>No</td>\n",
       "      <td>No</td>\n",
       "      <td>4</td>\n",
       "      <td>4.4</td>\n",
       "      <td>Green</td>\n",
       "      <td>Very Good</td>\n",
       "      <td>270</td>\n",
       "    </tr>\n",
       "    <tr>\n",
       "      <th>3</th>\n",
       "      <td>6318506</td>\n",
       "      <td>Ooma</td>\n",
       "      <td>162</td>\n",
       "      <td>Mandaluyong City</td>\n",
       "      <td>Third Floor Mega Fashion Hall SM Megamall Orti...</td>\n",
       "      <td>SM Megamall Ortigas Mandaluyong City</td>\n",
       "      <td>SM Megamall Ortigas Mandaluyong City Mandaluyo...</td>\n",
       "      <td>121.056475</td>\n",
       "      <td>14.585318</td>\n",
       "      <td>Japanese, Sushi</td>\n",
       "      <td>...</td>\n",
       "      <td>Botswana Pula(P)</td>\n",
       "      <td>No</td>\n",
       "      <td>No</td>\n",
       "      <td>No</td>\n",
       "      <td>No</td>\n",
       "      <td>4</td>\n",
       "      <td>4.9</td>\n",
       "      <td>Dark Green</td>\n",
       "      <td>Excellent</td>\n",
       "      <td>365</td>\n",
       "    </tr>\n",
       "    <tr>\n",
       "      <th>4</th>\n",
       "      <td>6314302</td>\n",
       "      <td>Sambo Kojin</td>\n",
       "      <td>162</td>\n",
       "      <td>Mandaluyong City</td>\n",
       "      <td>Third Floor Mega Atrium SM Megamall Ortigas Ma...</td>\n",
       "      <td>SM Megamall Ortigas Mandaluyong City</td>\n",
       "      <td>SM Megamall Ortigas Mandaluyong City Mandaluyo...</td>\n",
       "      <td>121.057508</td>\n",
       "      <td>14.584450</td>\n",
       "      <td>Japanese, Korean</td>\n",
       "      <td>...</td>\n",
       "      <td>Botswana Pula(P)</td>\n",
       "      <td>Yes</td>\n",
       "      <td>No</td>\n",
       "      <td>No</td>\n",
       "      <td>No</td>\n",
       "      <td>4</td>\n",
       "      <td>4.8</td>\n",
       "      <td>Dark Green</td>\n",
       "      <td>Excellent</td>\n",
       "      <td>229</td>\n",
       "    </tr>\n",
       "    <tr>\n",
       "      <th>...</th>\n",
       "      <td>...</td>\n",
       "      <td>...</td>\n",
       "      <td>...</td>\n",
       "      <td>...</td>\n",
       "      <td>...</td>\n",
       "      <td>...</td>\n",
       "      <td>...</td>\n",
       "      <td>...</td>\n",
       "      <td>...</td>\n",
       "      <td>...</td>\n",
       "      <td>...</td>\n",
       "      <td>...</td>\n",
       "      <td>...</td>\n",
       "      <td>...</td>\n",
       "      <td>...</td>\n",
       "      <td>...</td>\n",
       "      <td>...</td>\n",
       "      <td>...</td>\n",
       "      <td>...</td>\n",
       "      <td>...</td>\n",
       "      <td>...</td>\n",
       "    </tr>\n",
       "    <tr>\n",
       "      <th>9546</th>\n",
       "      <td>5915730</td>\n",
       "      <td>Naml۱ Gurme</td>\n",
       "      <td>208</td>\n",
       "      <td>stanbul</td>\n",
       "      <td>Kemanke Karamustafa Paa Mahallesi R۱ht۱m Cadde...</td>\n",
       "      <td>Karak_y</td>\n",
       "      <td>Karak_y stanbul</td>\n",
       "      <td>28.977392</td>\n",
       "      <td>41.022793</td>\n",
       "      <td>Turkish</td>\n",
       "      <td>...</td>\n",
       "      <td>Turkish Lira(TL)</td>\n",
       "      <td>No</td>\n",
       "      <td>No</td>\n",
       "      <td>No</td>\n",
       "      <td>No</td>\n",
       "      <td>3</td>\n",
       "      <td>4.1</td>\n",
       "      <td>Green</td>\n",
       "      <td>Very Good</td>\n",
       "      <td>788</td>\n",
       "    </tr>\n",
       "    <tr>\n",
       "      <th>9547</th>\n",
       "      <td>5908749</td>\n",
       "      <td>Ceviz Aac۱</td>\n",
       "      <td>208</td>\n",
       "      <td>stanbul</td>\n",
       "      <td>Kouyolu Mahallesi Muhittin st_nda Caddesi No 8...</td>\n",
       "      <td>Kouyolu</td>\n",
       "      <td>Kouyolu stanbul</td>\n",
       "      <td>29.041297</td>\n",
       "      <td>41.009847</td>\n",
       "      <td>World Cuisine, Patisserie, Cafe</td>\n",
       "      <td>...</td>\n",
       "      <td>Turkish Lira(TL)</td>\n",
       "      <td>No</td>\n",
       "      <td>No</td>\n",
       "      <td>No</td>\n",
       "      <td>No</td>\n",
       "      <td>3</td>\n",
       "      <td>4.2</td>\n",
       "      <td>Green</td>\n",
       "      <td>Very Good</td>\n",
       "      <td>1034</td>\n",
       "    </tr>\n",
       "    <tr>\n",
       "      <th>9548</th>\n",
       "      <td>5915807</td>\n",
       "      <td>Huqqa</td>\n",
       "      <td>208</td>\n",
       "      <td>stanbul</td>\n",
       "      <td>Kuru_eme Mahallesi Muallim Naci Caddesi No 56 ...</td>\n",
       "      <td>Kuru_eme</td>\n",
       "      <td>Kuru_eme stanbul</td>\n",
       "      <td>29.034640</td>\n",
       "      <td>41.055817</td>\n",
       "      <td>Italian, World Cuisine</td>\n",
       "      <td>...</td>\n",
       "      <td>Turkish Lira(TL)</td>\n",
       "      <td>No</td>\n",
       "      <td>No</td>\n",
       "      <td>No</td>\n",
       "      <td>No</td>\n",
       "      <td>4</td>\n",
       "      <td>3.7</td>\n",
       "      <td>Yellow</td>\n",
       "      <td>Good</td>\n",
       "      <td>661</td>\n",
       "    </tr>\n",
       "    <tr>\n",
       "      <th>9549</th>\n",
       "      <td>5916112</td>\n",
       "      <td>Ak Kahve</td>\n",
       "      <td>208</td>\n",
       "      <td>stanbul</td>\n",
       "      <td>Kuru_eme Mahallesi Muallim Naci Caddesi No 64B...</td>\n",
       "      <td>Kuru_eme</td>\n",
       "      <td>Kuru_eme stanbul</td>\n",
       "      <td>29.036019</td>\n",
       "      <td>41.057979</td>\n",
       "      <td>Restaurant Cafe</td>\n",
       "      <td>...</td>\n",
       "      <td>Turkish Lira(TL)</td>\n",
       "      <td>No</td>\n",
       "      <td>No</td>\n",
       "      <td>No</td>\n",
       "      <td>No</td>\n",
       "      <td>4</td>\n",
       "      <td>4.0</td>\n",
       "      <td>Green</td>\n",
       "      <td>Very Good</td>\n",
       "      <td>901</td>\n",
       "    </tr>\n",
       "    <tr>\n",
       "      <th>9550</th>\n",
       "      <td>5927402</td>\n",
       "      <td>Walters Coffee Roastery</td>\n",
       "      <td>208</td>\n",
       "      <td>stanbul</td>\n",
       "      <td>Cafeaa Mahallesi Bademalt۱ Sokak No 21B Kad۱k_...</td>\n",
       "      <td>Moda</td>\n",
       "      <td>Moda stanbul</td>\n",
       "      <td>29.026016</td>\n",
       "      <td>40.984776</td>\n",
       "      <td>Cafe</td>\n",
       "      <td>...</td>\n",
       "      <td>Turkish Lira(TL)</td>\n",
       "      <td>No</td>\n",
       "      <td>No</td>\n",
       "      <td>No</td>\n",
       "      <td>No</td>\n",
       "      <td>2</td>\n",
       "      <td>4.0</td>\n",
       "      <td>Green</td>\n",
       "      <td>Very Good</td>\n",
       "      <td>591</td>\n",
       "    </tr>\n",
       "  </tbody>\n",
       "</table>\n",
       "<p>9551 rows × 21 columns</p>\n",
       "</div>"
      ],
      "text/plain": [
       "      Restaurant ID          Restaurant Name  Country Code              City  \\\n",
       "0           6317637         Le Petit Souffle           162       Makati City   \n",
       "1           6304287         Izakaya Kikufuji           162       Makati City   \n",
       "2           6300002     Heat  Edsa ShangriLa           162  Mandaluyong City   \n",
       "3           6318506                     Ooma           162  Mandaluyong City   \n",
       "4           6314302              Sambo Kojin           162  Mandaluyong City   \n",
       "...             ...                      ...           ...               ...   \n",
       "9546        5915730              Naml۱ Gurme           208           stanbul   \n",
       "9547        5908749               Ceviz Aac۱           208           stanbul   \n",
       "9548        5915807                    Huqqa           208           stanbul   \n",
       "9549        5916112                 Ak Kahve           208           stanbul   \n",
       "9550        5927402  Walters Coffee Roastery           208           stanbul   \n",
       "\n",
       "                                                Address  \\\n",
       "0     Third Floor Century City Mall Kalayaan Avenue ...   \n",
       "1     Little Tokyo 2277 Chino Roces Avenue Legaspi V...   \n",
       "2     Edsa ShangriLa 1 Garden Way Ortigas Mandaluyon...   \n",
       "3     Third Floor Mega Fashion Hall SM Megamall Orti...   \n",
       "4     Third Floor Mega Atrium SM Megamall Ortigas Ma...   \n",
       "...                                                 ...   \n",
       "9546  Kemanke Karamustafa Paa Mahallesi R۱ht۱m Cadde...   \n",
       "9547  Kouyolu Mahallesi Muhittin st_nda Caddesi No 8...   \n",
       "9548  Kuru_eme Mahallesi Muallim Naci Caddesi No 56 ...   \n",
       "9549  Kuru_eme Mahallesi Muallim Naci Caddesi No 64B...   \n",
       "9550  Cafeaa Mahallesi Bademalt۱ Sokak No 21B Kad۱k_...   \n",
       "\n",
       "                                      Locality  \\\n",
       "0      Century City Mall Poblacion Makati City   \n",
       "1     Little Tokyo Legaspi Village Makati City   \n",
       "2      Edsa ShangriLa Ortigas Mandaluyong City   \n",
       "3         SM Megamall Ortigas Mandaluyong City   \n",
       "4         SM Megamall Ortigas Mandaluyong City   \n",
       "...                                        ...   \n",
       "9546                                   Karak_y   \n",
       "9547                                   Kouyolu   \n",
       "9548                                  Kuru_eme   \n",
       "9549                                  Kuru_eme   \n",
       "9550                                      Moda   \n",
       "\n",
       "                                       Locality Verbose   Longitude  \\\n",
       "0     Century City Mall Poblacion Makati City Makati...  121.027535   \n",
       "1     Little Tokyo Legaspi Village Makati City Makat...  121.014101   \n",
       "2     Edsa ShangriLa Ortigas Mandaluyong City Mandal...  121.056831   \n",
       "3     SM Megamall Ortigas Mandaluyong City Mandaluyo...  121.056475   \n",
       "4     SM Megamall Ortigas Mandaluyong City Mandaluyo...  121.057508   \n",
       "...                                                 ...         ...   \n",
       "9546                                    Karak_y stanbul   28.977392   \n",
       "9547                                    Kouyolu stanbul   29.041297   \n",
       "9548                                   Kuru_eme stanbul   29.034640   \n",
       "9549                                   Kuru_eme stanbul   29.036019   \n",
       "9550                                       Moda stanbul   29.026016   \n",
       "\n",
       "       Latitude                          Cuisines  ...          Currency  \\\n",
       "0     14.565443        French, Japanese, Desserts  ...  Botswana Pula(P)   \n",
       "1     14.553708                          Japanese  ...  Botswana Pula(P)   \n",
       "2     14.581404  Seafood, Asian, Filipino, Indian  ...  Botswana Pula(P)   \n",
       "3     14.585318                   Japanese, Sushi  ...  Botswana Pula(P)   \n",
       "4     14.584450                  Japanese, Korean  ...  Botswana Pula(P)   \n",
       "...         ...                               ...  ...               ...   \n",
       "9546  41.022793                           Turkish  ...  Turkish Lira(TL)   \n",
       "9547  41.009847   World Cuisine, Patisserie, Cafe  ...  Turkish Lira(TL)   \n",
       "9548  41.055817            Italian, World Cuisine  ...  Turkish Lira(TL)   \n",
       "9549  41.057979                   Restaurant Cafe  ...  Turkish Lira(TL)   \n",
       "9550  40.984776                              Cafe  ...  Turkish Lira(TL)   \n",
       "\n",
       "     Has Table booking Has Online delivery Is delivering now  \\\n",
       "0                  Yes                  No                No   \n",
       "1                  Yes                  No                No   \n",
       "2                  Yes                  No                No   \n",
       "3                   No                  No                No   \n",
       "4                  Yes                  No                No   \n",
       "...                ...                 ...               ...   \n",
       "9546                No                  No                No   \n",
       "9547                No                  No                No   \n",
       "9548                No                  No                No   \n",
       "9549                No                  No                No   \n",
       "9550                No                  No                No   \n",
       "\n",
       "     Switch to order menu Price range  Aggregate rating  Rating color  \\\n",
       "0                      No           3               4.8    Dark Green   \n",
       "1                      No           3               4.5    Dark Green   \n",
       "2                      No           4               4.4         Green   \n",
       "3                      No           4               4.9    Dark Green   \n",
       "4                      No           4               4.8    Dark Green   \n",
       "...                   ...         ...               ...           ...   \n",
       "9546                   No           3               4.1         Green   \n",
       "9547                   No           3               4.2         Green   \n",
       "9548                   No           4               3.7        Yellow   \n",
       "9549                   No           4               4.0         Green   \n",
       "9550                   No           2               4.0         Green   \n",
       "\n",
       "     Rating text Votes  \n",
       "0      Excellent   314  \n",
       "1      Excellent   591  \n",
       "2      Very Good   270  \n",
       "3      Excellent   365  \n",
       "4      Excellent   229  \n",
       "...          ...   ...  \n",
       "9546   Very Good   788  \n",
       "9547   Very Good  1034  \n",
       "9548        Good   661  \n",
       "9549   Very Good   901  \n",
       "9550   Very Good   591  \n",
       "\n",
       "[9551 rows x 21 columns]"
      ]
     },
     "execution_count": 9,
     "metadata": {},
     "output_type": "execute_result"
    }
   ],
   "source": [
    "df"
   ]
  },
  {
   "cell_type": "code",
   "execution_count": 10,
   "id": "02582ed3",
   "metadata": {},
   "outputs": [
    {
     "data": {
      "text/plain": [
       "array([  1100,   1200,   4000,   1500,   1000,   2000,   6000,    800,\n",
       "          900,    700,    850,    600,   3000,   1800,     55,     30,\n",
       "           45,     60,     50,     80,     90,    200,    150,    100,\n",
       "          230,    240,    350,    140,    170,    120,    250,     40,\n",
       "           70,    300,     85,     75,    400,     65,     25,     10,\n",
       "            0,     20,     35,      7,    270,    500,    430,    315,\n",
       "          220,     95,    190,    260,    180,    330,    280,    160,\n",
       "          285,    130,    110,   2500,   3600,    550,   1400,    450,\n",
       "          950,    650,   1300,   2400,   1600,   2200,    750,   1700,\n",
       "         1250,   1900,   2700,   3500,   5000,   2300,   1750,   3200,\n",
       "         2100,   1850,   4500,   3300,   1350,   1650,   1950,   1050,\n",
       "          290,   1450,   2800,   3650,   4800,   1550,    720,   6500,\n",
       "         7000,   1150,   2900,   2600,   4700,   3700,   3800,   4100,\n",
       "         4300,   2650,   5100,   5500,   4400,   4200,   8000,   2350,\n",
       "       150000,  70000, 250000, 200000, 165000, 800000, 500000, 300000,\n",
       "       450000, 120000, 100000, 350000,    105,     15,    445,    294,\n",
       "          360,    535,    125,    320,    570,   1540,    515,    955,\n",
       "          390,    410,   3210,    545], dtype=int64)"
      ]
     },
     "execution_count": 10,
     "metadata": {},
     "output_type": "execute_result"
    }
   ],
   "source": [
    "df['Average Cost for two'].unique()"
   ]
  },
  {
   "cell_type": "code",
   "execution_count": 11,
   "id": "5214b397",
   "metadata": {},
   "outputs": [
    {
     "data": {
      "text/plain": [
       "Restaurant ID           0\n",
       "Restaurant Name         0\n",
       "Country Code            0\n",
       "City                    0\n",
       "Address                 0\n",
       "Locality                0\n",
       "Locality Verbose        0\n",
       "Longitude               0\n",
       "Latitude                0\n",
       "Cuisines                9\n",
       "Average Cost for two    0\n",
       "Currency                0\n",
       "Has Table booking       0\n",
       "Has Online delivery     0\n",
       "Is delivering now       0\n",
       "Switch to order menu    0\n",
       "Price range             0\n",
       "Aggregate rating        0\n",
       "Rating color            0\n",
       "Rating text             0\n",
       "Votes                   0\n",
       "dtype: int64"
      ]
     },
     "execution_count": 11,
     "metadata": {},
     "output_type": "execute_result"
    }
   ],
   "source": [
    "df.isnull().sum()"
   ]
  },
  {
   "cell_type": "code",
   "execution_count": 12,
   "id": "9442b27d",
   "metadata": {},
   "outputs": [],
   "source": [
    "df.dropna(axis = 0, inplace = True)"
   ]
  },
  {
   "cell_type": "code",
   "execution_count": 13,
   "id": "898179da",
   "metadata": {},
   "outputs": [
    {
     "data": {
      "text/plain": [
       "0"
      ]
     },
     "execution_count": 13,
     "metadata": {},
     "output_type": "execute_result"
    }
   ],
   "source": [
    "df.duplicated().sum()"
   ]
  },
  {
   "cell_type": "markdown",
   "id": "6a48b9f4",
   "metadata": {},
   "source": [
    "# Working on Average Cost for two :"
   ]
  },
  {
   "cell_type": "markdown",
   "id": "867be337",
   "metadata": {},
   "source": [
    "# EDA :"
   ]
  },
  {
   "cell_type": "code",
   "execution_count": 64,
   "id": "82e607a6",
   "metadata": {},
   "outputs": [
    {
     "data": {
      "text/plain": [
       "Index(['Restaurant ID', 'Restaurant Name', 'Country Code', 'City', 'Address',\n",
       "       'Locality', 'Locality Verbose', 'Longitude', 'Latitude', 'Cuisines',\n",
       "       'Average Cost for two', 'Currency', 'Has Table booking',\n",
       "       'Has Online delivery', 'Is delivering now', 'Switch to order menu',\n",
       "       'Price range', 'Aggregate rating', 'Rating color', 'Rating text',\n",
       "       'Votes'],\n",
       "      dtype='object')"
      ]
     },
     "execution_count": 64,
     "metadata": {},
     "output_type": "execute_result"
    }
   ],
   "source": [
    "df.columns"
   ]
  },
  {
   "cell_type": "markdown",
   "id": "cdf42508",
   "metadata": {},
   "source": [
    "# Voting :"
   ]
  },
  {
   "cell_type": "code",
   "execution_count": 86,
   "id": "b3e09f57",
   "metadata": {},
   "outputs": [
    {
     "data": {
      "text/plain": [
       "<Axes: xlabel='Average Cost for two', ylabel='Votes'>"
      ]
     },
     "execution_count": 86,
     "metadata": {},
     "output_type": "execute_result"
    },
    {
     "data": {
      "image/png": "[encoded data removed]",
      "text/plain": [
       "<Figure size 640x480 with 1 Axes>"
      ]
     },
     "metadata": {},
     "output_type": "display_data"
    }
   ],
   "source": [
    "sns.scatterplot(data = df ,  x = 'Average Cost for two', y = 'Votes')"
   ]
  },
  {
   "cell_type": "markdown",
   "id": "1e2e72cc",
   "metadata": {},
   "source": [
    "# Aggregate rating :"
   ]
  },
  {
   "cell_type": "code",
   "execution_count": 84,
   "id": "21dd8695",
   "metadata": {},
   "outputs": [
    {
     "data": {
      "text/plain": [
       "<Axes: xlabel='Average Cost for two', ylabel='Aggregate rating'>"
      ]
     },
     "execution_count": 84,
     "metadata": {},
     "output_type": "execute_result"
    },
    {
     "data": {
      "image/png": "[encoded data removed]",
      "text/plain": [
       "<Figure size 640x480 with 1 Axes>"
      ]
     },
     "metadata": {},
     "output_type": "display_data"
    }
   ],
   "source": [
    "sns.scatterplot(data = df ,  x = 'Average Cost for two', y = 'Aggregate rating')"
   ]
  },
  {
   "cell_type": "markdown",
   "id": "ceb7a148",
   "metadata": {},
   "source": [
    "# Price range :"
   ]
  },
  {
   "cell_type": "code",
   "execution_count": 81,
   "id": "ddc59e5c",
   "metadata": {},
   "outputs": [
    {
     "data": {
      "text/plain": [
       "1    4438\n",
       "2    3113\n",
       "3    1405\n",
       "4     586\n",
       "Name: Price range, dtype: int64"
      ]
     },
     "execution_count": 81,
     "metadata": {},
     "output_type": "execute_result"
    }
   ],
   "source": [
    "df['Price range'].value_counts()"
   ]
  },
  {
   "cell_type": "code",
   "execution_count": 82,
   "id": "e25625d5",
   "metadata": {},
   "outputs": [
    {
     "data": {
      "text/plain": [
       "<Axes: xlabel='Price range', ylabel='Average Cost for two'>"
      ]
     },
     "execution_count": 82,
     "metadata": {},
     "output_type": "execute_result"
    },
    {
     "data": {
      "image/png": "[encoded data removed]",
      "text/plain": [
       "<Figure size 640x480 with 1 Axes>"
      ]
     },
     "metadata": {},
     "output_type": "display_data"
    }
   ],
   "source": [
    "sns.barplot(data  = df , y = 'Average Cost for two', x = 'Price range' )"
   ]
  },
  {
   "cell_type": "code",
   "execution_count": 74,
   "id": "05c0a611",
   "metadata": {},
   "outputs": [
    {
     "data": {
      "text/plain": [
       "No     8384\n",
       "Yes    1158\n",
       "Name: Has Table booking, dtype: int64"
      ]
     },
     "execution_count": 74,
     "metadata": {},
     "output_type": "execute_result"
    }
   ],
   "source": [
    "df['Has Table booking'].value_counts()"
   ]
  },
  {
   "cell_type": "code",
   "execution_count": 75,
   "id": "ea9149bf",
   "metadata": {},
   "outputs": [
    {
     "data": {
      "text/plain": [
       "Has Table booking\n",
       "No     9674942\n",
       "Yes    1778570\n",
       "Name: Average Cost for two, dtype: int64"
      ]
     },
     "execution_count": 75,
     "metadata": {},
     "output_type": "execute_result"
    }
   ],
   "source": [
    "df.groupby('Has Table booking')['Average Cost for two'].sum()"
   ]
  },
  {
   "cell_type": "markdown",
   "id": "1c5bbdbb",
   "metadata": {},
   "source": [
    "# Cuisnines :"
   ]
  },
  {
   "cell_type": "code",
   "execution_count": 73,
   "id": "4801e7ed",
   "metadata": {},
   "outputs": [
    {
     "data": {
      "text/plain": [
       "1825"
      ]
     },
     "execution_count": 73,
     "metadata": {},
     "output_type": "execute_result"
    }
   ],
   "source": [
    "len(df['Cuisines'].unique())"
   ]
  },
  {
   "cell_type": "code",
   "execution_count": 72,
   "id": "fb3227da",
   "metadata": {},
   "outputs": [
    {
     "name": "stdout",
     "output_type": "stream",
     "text": [
      "Top 10 cuisines with Highest Average Cost for two :\n",
      "Cuisines\n",
      "Asian, Indonesian, Western    800000.0\n",
      "French, Western               350000.0\n",
      "Cafe, Western                 300000.0\n",
      "Indonesian                    300000.0\n",
      "Sushi, Japanese               250060.0\n",
      "Peranakan, Indonesian         250000.0\n",
      "Western, Asian, Cafe          250000.0\n",
      "Sunda, Indonesian             200000.0\n",
      "Desserts, Bakery, Western     200000.0\n",
      "Japanese, Sushi, Ramen        200000.0\n",
      "Name: Average Cost for two, dtype: float64\n",
      "\n",
      "Bottom 10 cuisines with Lowest Average Cost for two :\n",
      "Cuisines\n",
      "Burger, Bar Food, Vegetarian                                  10.0\n",
      "Breakfast, Diner, Southern                                    10.0\n",
      "Desserts, Sandwich, Ice Cream                                 10.0\n",
      "Coffee and Tea, Tea, Modern Australian                         7.0\n",
      "Italian, Fusion, Cafe                                          7.0\n",
      "Burger, Coffee and Tea, Modern Australian                      7.0\n",
      "Desserts, Pizza, Ice Cream                                     0.0\n",
      "Indian, Chinese, Continental                                   0.0\n",
      "Cafe, Italian, Mexican, North Indian, Continental              0.0\n",
      "Cafe, Continental, Desserts, Ice Cream, Italian, Beverages     0.0\n",
      "Name: Average Cost for two, dtype: float64\n"
     ]
    }
   ],
   "source": [
    "Cost_according_to_cuisines = df.groupby('Cuisines')['Average Cost for two'].mean()\n",
    "sorted_values = Cost_according_to_cuisines.sort_values(ascending = False)\n",
    "top_10_cuisines = sorted_values.head(10)\n",
    "bottom_10_cuisines = sorted_values.tail(10)\n",
    "print(\"Top 10 cuisines with Highest Average Cost for two :\")\n",
    "print(top_10_cuisines)\n",
    "\n",
    "print(\"\\nBottom 10 cuisines with Lowest Average Cost for two :\")\n",
    "print(bottom_10_cuisines)\n"
   ]
  },
  {
   "cell_type": "markdown",
   "id": "60472f84",
   "metadata": {},
   "source": [
    "# Longitude , Latitude :"
   ]
  },
  {
   "cell_type": "code",
   "execution_count": 71,
   "id": "dd7ff136",
   "metadata": {},
   "outputs": [
    {
     "data": {
      "image/png": "[encoded data removed]",
      "text/plain": [
       "<Figure size 640x480 with 1 Axes>"
      ]
     },
     "metadata": {},
     "output_type": "display_data"
    }
   ],
   "source": [
    "sns.scatterplot(data = df , x = 'Average Cost for two', y = 'Longitude' , hue = 'Latitude' )\n",
    "plt.show()"
   ]
  },
  {
   "cell_type": "markdown",
   "id": "145efb2d",
   "metadata": {},
   "source": [
    "# Locality  :"
   ]
  },
  {
   "cell_type": "code",
   "execution_count": 68,
   "id": "95c1b030",
   "metadata": {},
   "outputs": [
    {
     "data": {
      "text/plain": [
       "1206"
      ]
     },
     "execution_count": 68,
     "metadata": {},
     "output_type": "execute_result"
    }
   ],
   "source": [
    "len(df['Locality'].unique())"
   ]
  },
  {
   "cell_type": "code",
   "execution_count": 70,
   "id": "a1a1de27",
   "metadata": {},
   "outputs": [
    {
     "name": "stdout",
     "output_type": "stream",
     "text": [
      "Top 10 locality with Highest Average Cost for two :\n",
      "Locality\n",
      "Hotel ShangriLa Sudirman                 800000.0\n",
      "Penjaringan                              500000.0\n",
      "Grand Indonesia Mall Thamrin             500000.0\n",
      "Thamrin                                  350000.0\n",
      "Alam Sutera Town Center Serpong Utara    300000.0\n",
      "Plaza Festival Kuningan                  300000.0\n",
      "Senopati                                 285000.0\n",
      "Kelapa Gading                            250000.0\n",
      "Bogor Utara                              250000.0\n",
      "Gandaria City Mall Gandaria              200000.0\n",
      "Name: Average Cost for two, dtype: float64\n",
      "\n",
      "Bottom 10 locality with Lowest Average Cost for two :\n",
      "Locality\n",
      "Ringgold              10.0\n",
      "Greater South Side    10.0\n",
      "Clarkesville          10.0\n",
      "Mc Millan             10.0\n",
      "Clatskanie            10.0\n",
      "Inverloch              7.0\n",
      "Lakes Entrance         7.0\n",
      "Dicky Beach            7.0\n",
      "Lava Hot Springs       5.0\n",
      "Parade                 0.0\n",
      "Name: Average Cost for two, dtype: float64\n"
     ]
    }
   ],
   "source": [
    "Cost_according_to_locality = df.groupby('Locality')['Average Cost for two'].mean()\n",
    "sorted_values = Cost_according_to_locality.sort_values(ascending = False)\n",
    "top_10_locality = sorted_values.head(10)\n",
    "bottom_10_locality = sorted_values.tail(10)\n",
    "print(\"Top 10 locality with Highest Average Cost for two :\")\n",
    "print(top_10_locality)\n",
    "\n",
    "print(\"\\nBottom 10 locality with Lowest Average Cost for two :\")\n",
    "print(bottom_10_locality)\n"
   ]
  },
  {
   "cell_type": "markdown",
   "id": "b09ccf5e",
   "metadata": {},
   "source": [
    "# Address :"
   ]
  },
  {
   "cell_type": "code",
   "execution_count": 66,
   "id": "15f9e7d2",
   "metadata": {},
   "outputs": [
    {
     "data": {
      "text/plain": [
       "8891"
      ]
     },
     "execution_count": 66,
     "metadata": {},
     "output_type": "execute_result"
    }
   ],
   "source": [
    "len(df['Address'].unique())"
   ]
  },
  {
   "cell_type": "code",
   "execution_count": 67,
   "id": "506363c2",
   "metadata": {},
   "outputs": [
    {
     "name": "stdout",
     "output_type": "stream",
     "text": [
      "Top 10 Address with Highest Average Cost for two :\n",
      "Address\n",
      "Menara BCA Lantai 56 Jl MH Thamrin Thamrin Jakarta                                         800000.0\n",
      "Hotel ShangriLa Jl Jend Sudirman                                                           800000.0\n",
      "Jl Tuna Raya No 5 Penjaringan                                                              500000.0\n",
      "Jl Suryo No 26 Senopati Jakarta                                                            450000.0\n",
      "Gedung PIC Jl Teluk Betung 43 Thamrin Jakarta                                              350000.0\n",
      "Plaza Festival South Parking Jl HR Rasuna Said Kuningan Jakarta                            300000.0\n",
      "Alam Sutera Town Center Jl Alam Utama Serpong Tangerang                                    300000.0\n",
      "Jl Raya Pajajaran No 21 Bogor Utara Bogor                                                  250000.0\n",
      "Komplek Graha Boulevard Timur Summarecon Kelapa Gading Blok ND151 Kelapa Gading Jakarta    250000.0\n",
      "Jl Lingkar Luar Barat                                                                      200000.0\n",
      "Name: Average Cost for two, dtype: float64\n",
      "\n",
      "Bottom 10 Address with Lowest Average Cost for two :\n",
      "Address\n",
      "1374 K1375 K 2nd floor Dinesh Nagar Fatehbad Road Tajganj Agra    0.0\n",
      "3201 Macon Rd Ste 167 Columbus GA 31906                           0.0\n",
      "855 Century Dr Dubuque IA 52002                                   0.0\n",
      "Hotel Varuna Ground Floor 22 Gulab Bagh Sigra Varanasi            0.0\n",
      "Near Vishal Megamart Civil Lines Allahabad                        0.0\n",
      "8th Floor JS Tower 16106  Mall Road Kanpur Mall Road Kanpur       0.0\n",
      "140 A Rajpur Road Jakhan Dehradun                                 0.0\n",
      "11 E Main St Lava Hot Springs ID 83246                            0.0\n",
      "961 Hiline Rd Pocatello ID 83201                                  0.0\n",
      "14125 The Mall Mall Road Colonelganj Parade Kanpur                0.0\n",
      "Name: Average Cost for two, dtype: float64\n"
     ]
    }
   ],
   "source": [
    "Cost_according_to_address = df.groupby('Address')['Average Cost for two'].mean()\n",
    "sorted_values = Cost_according_to_address.sort_values(ascending = False)\n",
    "top_10_address = sorted_values.head(10)\n",
    "bottom_10_address = sorted_values.tail(10)\n",
    "print(\"Top 10 Address with Highest Average Cost for two :\")\n",
    "print(top_10_address)\n",
    "\n",
    "print(\"\\nBottom 10 Address with Lowest Average Cost for two :\")\n",
    "print(bottom_10_address)\n"
   ]
  },
  {
   "cell_type": "markdown",
   "id": "c0e845aa",
   "metadata": {},
   "source": [
    "# City :"
   ]
  },
  {
   "cell_type": "code",
   "execution_count": 18,
   "id": "7d625669",
   "metadata": {},
   "outputs": [
    {
     "data": {
      "text/plain": [
       "140"
      ]
     },
     "execution_count": 18,
     "metadata": {},
     "output_type": "execute_result"
    }
   ],
   "source": [
    "len(df['City'].unique())"
   ]
  },
  {
   "cell_type": "code",
   "execution_count": 32,
   "id": "8348f2f9",
   "metadata": {},
   "outputs": [
    {
     "name": "stdout",
     "output_type": "stream",
     "text": [
      "Top 10 Cities with Highest Average Cost for two :\n",
      "City\n",
      "Jakarta             308437.500000\n",
      "Tangerang           250000.000000\n",
      "Bogor               160000.000000\n",
      "Bandung             150000.000000\n",
      "Pasay City            3333.333333\n",
      "Colombo               2375.000000\n",
      "Mandaluyong City      2000.000000\n",
      "Panchkula             2000.000000\n",
      "Taguig City           1725.000000\n",
      "Hyderabad             1361.111111\n",
      "Name: Average Cost for two, dtype: float64\n",
      "\n",
      "Bottom 10 Cities with Lowest Average Cost for two :\n",
      "City\n",
      "Dalton             16.0\n",
      "Hepburn Springs    13.5\n",
      "Mc Millan          10.0\n",
      "Clatskanie         10.0\n",
      "Lakeview           10.0\n",
      "Vernonia           10.0\n",
      "Fernley            10.0\n",
      "Inverloch           7.0\n",
      "Lakes Entrance      7.0\n",
      "Dicky Beach         7.0\n",
      "Name: Average Cost for two, dtype: float64\n"
     ]
    }
   ],
   "source": [
    "city_totals = df.groupby('City')['Average Cost for two'].mean()\n",
    "sorted_totals = city_totals.sort_values(ascending=False)\n",
    "top_10_cities = sorted_totals.head(10)\n",
    "bottom_10_cities = sorted_totals.tail(10)\n",
    "\n",
    "print(\"Top 10 Cities with Highest Average Cost for two :\")\n",
    "print(top_10_cities)\n",
    "\n",
    "print(\"\\nBottom 10 Cities with Lowest Average Cost for two :\")\n",
    "print(bottom_10_cities)\n"
   ]
  },
  {
   "cell_type": "markdown",
   "id": "c2b0a973",
   "metadata": {},
   "source": [
    "# Country Code :"
   ]
  },
  {
   "cell_type": "code",
   "execution_count": 13,
   "id": "05ba94db",
   "metadata": {},
   "outputs": [
    {
     "data": {
      "text/plain": [
       "1      8652\n",
       "216     425\n",
       "215      80\n",
       "30       60\n",
       "214      60\n",
       "189      60\n",
       "148      40\n",
       "208      34\n",
       "14       24\n",
       "162      22\n",
       "94       21\n",
       "184      20\n",
       "166      20\n",
       "191      20\n",
       "37        4\n",
       "Name: Country Code, dtype: int64"
      ]
     },
     "execution_count": 13,
     "metadata": {},
     "output_type": "execute_result"
    }
   ],
   "source": [
    "df['Country Code'].value_counts()"
   ]
  },
  {
   "cell_type": "code",
   "execution_count": 14,
   "id": "681fd97e",
   "metadata": {},
   "outputs": [
    {
     "data": {
      "image/png": "[encoded data removed]",
      "text/plain": [
       "<Figure size 640x480 with 1 Axes>"
      ]
     },
     "metadata": {},
     "output_type": "display_data"
    }
   ],
   "source": [
    "sns.barplot(data = df , x = 'Country Code', y = 'Average Cost for two')\n",
    "plt.show()"
   ]
  },
  {
   "cell_type": "code",
   "execution_count": 15,
   "id": "51350714",
   "metadata": {},
   "outputs": [
    {
     "data": {
      "text/plain": [
       "Indian Rupees(Rs.)        8652\n",
       "Dollar($)                  473\n",
       "Pounds(��)                  80\n",
       "Brazilian Real(R$)          60\n",
       "Emirati Diram(AED)          60\n",
       "Rand(R)                     60\n",
       "NewZealand($)               40\n",
       "Turkish Lira(TL)            34\n",
       "Botswana Pula(P)            22\n",
       "Indonesian Rupiah(IDR)      21\n",
       "Qatari Rial(QR)             20\n",
       "Sri Lankan Rupee(LKR)       20\n",
       "Name: Currency, dtype: int64"
      ]
     },
     "execution_count": 15,
     "metadata": {},
     "output_type": "execute_result"
    }
   ],
   "source": [
    "df['Currency'].value_counts()"
   ]
  },
  {
   "cell_type": "code",
   "execution_count": 12,
   "id": "cb816920",
   "metadata": {},
   "outputs": [
    {
     "data": {
      "image/png": "[encoded data removed]",
      "text/plain": [
       "<Figure size 640x480 with 1 Axes>"
      ]
     },
     "metadata": {},
     "output_type": "display_data"
    }
   ],
   "source": [
    "sns.barplot(data = df , x = 'Currency', y = 'Average Cost for two')\n",
    "plt.xticks (rotation = 45)\n",
    "plt.show()"
   ]
  },
  {
   "cell_type": "code",
   "execution_count": 14,
   "id": "82e2ea3e",
   "metadata": {},
   "outputs": [
    {
     "data": {
      "text/html": [
       "<div>\n",
       "<style scoped>\n",
       "    .dataframe tbody tr th:only-of-type {\n",
       "        vertical-align: middle;\n",
       "    }\n",
       "\n",
       "    .dataframe tbody tr th {\n",
       "        vertical-align: top;\n",
       "    }\n",
       "\n",
       "    .dataframe thead th {\n",
       "        text-align: right;\n",
       "    }\n",
       "</style>\n",
       "<table border=\"1\" class=\"dataframe\">\n",
       "  <thead>\n",
       "    <tr style=\"text-align: right;\">\n",
       "      <th></th>\n",
       "      <th>Country Code</th>\n",
       "      <th>City</th>\n",
       "      <th>Locality</th>\n",
       "      <th>Cuisines</th>\n",
       "      <th>Currency</th>\n",
       "      <th>Price range</th>\n",
       "      <th>Average Cost for two</th>\n",
       "    </tr>\n",
       "  </thead>\n",
       "  <tbody>\n",
       "    <tr>\n",
       "      <th>0</th>\n",
       "      <td>162</td>\n",
       "      <td>Makati City</td>\n",
       "      <td>Century City Mall Poblacion Makati City</td>\n",
       "      <td>French, Japanese, Desserts</td>\n",
       "      <td>Botswana Pula(P)</td>\n",
       "      <td>3</td>\n",
       "      <td>1100</td>\n",
       "    </tr>\n",
       "    <tr>\n",
       "      <th>1</th>\n",
       "      <td>162</td>\n",
       "      <td>Makati City</td>\n",
       "      <td>Little Tokyo Legaspi Village Makati City</td>\n",
       "      <td>Japanese</td>\n",
       "      <td>Botswana Pula(P)</td>\n",
       "      <td>3</td>\n",
       "      <td>1200</td>\n",
       "    </tr>\n",
       "    <tr>\n",
       "      <th>2</th>\n",
       "      <td>162</td>\n",
       "      <td>Mandaluyong City</td>\n",
       "      <td>Edsa ShangriLa Ortigas Mandaluyong City</td>\n",
       "      <td>Seafood, Asian, Filipino, Indian</td>\n",
       "      <td>Botswana Pula(P)</td>\n",
       "      <td>4</td>\n",
       "      <td>4000</td>\n",
       "    </tr>\n",
       "    <tr>\n",
       "      <th>3</th>\n",
       "      <td>162</td>\n",
       "      <td>Mandaluyong City</td>\n",
       "      <td>SM Megamall Ortigas Mandaluyong City</td>\n",
       "      <td>Japanese, Sushi</td>\n",
       "      <td>Botswana Pula(P)</td>\n",
       "      <td>4</td>\n",
       "      <td>1500</td>\n",
       "    </tr>\n",
       "    <tr>\n",
       "      <th>4</th>\n",
       "      <td>162</td>\n",
       "      <td>Mandaluyong City</td>\n",
       "      <td>SM Megamall Ortigas Mandaluyong City</td>\n",
       "      <td>Japanese, Korean</td>\n",
       "      <td>Botswana Pula(P)</td>\n",
       "      <td>4</td>\n",
       "      <td>1500</td>\n",
       "    </tr>\n",
       "    <tr>\n",
       "      <th>...</th>\n",
       "      <td>...</td>\n",
       "      <td>...</td>\n",
       "      <td>...</td>\n",
       "      <td>...</td>\n",
       "      <td>...</td>\n",
       "      <td>...</td>\n",
       "      <td>...</td>\n",
       "    </tr>\n",
       "    <tr>\n",
       "      <th>9546</th>\n",
       "      <td>208</td>\n",
       "      <td>stanbul</td>\n",
       "      <td>Karak_y</td>\n",
       "      <td>Turkish</td>\n",
       "      <td>Turkish Lira(TL)</td>\n",
       "      <td>3</td>\n",
       "      <td>80</td>\n",
       "    </tr>\n",
       "    <tr>\n",
       "      <th>9547</th>\n",
       "      <td>208</td>\n",
       "      <td>stanbul</td>\n",
       "      <td>Kouyolu</td>\n",
       "      <td>World Cuisine, Patisserie, Cafe</td>\n",
       "      <td>Turkish Lira(TL)</td>\n",
       "      <td>3</td>\n",
       "      <td>105</td>\n",
       "    </tr>\n",
       "    <tr>\n",
       "      <th>9548</th>\n",
       "      <td>208</td>\n",
       "      <td>stanbul</td>\n",
       "      <td>Kuru_eme</td>\n",
       "      <td>Italian, World Cuisine</td>\n",
       "      <td>Turkish Lira(TL)</td>\n",
       "      <td>4</td>\n",
       "      <td>170</td>\n",
       "    </tr>\n",
       "    <tr>\n",
       "      <th>9549</th>\n",
       "      <td>208</td>\n",
       "      <td>stanbul</td>\n",
       "      <td>Kuru_eme</td>\n",
       "      <td>Restaurant Cafe</td>\n",
       "      <td>Turkish Lira(TL)</td>\n",
       "      <td>4</td>\n",
       "      <td>120</td>\n",
       "    </tr>\n",
       "    <tr>\n",
       "      <th>9550</th>\n",
       "      <td>208</td>\n",
       "      <td>stanbul</td>\n",
       "      <td>Moda</td>\n",
       "      <td>Cafe</td>\n",
       "      <td>Turkish Lira(TL)</td>\n",
       "      <td>2</td>\n",
       "      <td>55</td>\n",
       "    </tr>\n",
       "  </tbody>\n",
       "</table>\n",
       "<p>9542 rows × 7 columns</p>\n",
       "</div>"
      ],
      "text/plain": [
       "      Country Code              City  \\\n",
       "0              162       Makati City   \n",
       "1              162       Makati City   \n",
       "2              162  Mandaluyong City   \n",
       "3              162  Mandaluyong City   \n",
       "4              162  Mandaluyong City   \n",
       "...            ...               ...   \n",
       "9546           208           stanbul   \n",
       "9547           208           stanbul   \n",
       "9548           208           stanbul   \n",
       "9549           208           stanbul   \n",
       "9550           208           stanbul   \n",
       "\n",
       "                                      Locality  \\\n",
       "0      Century City Mall Poblacion Makati City   \n",
       "1     Little Tokyo Legaspi Village Makati City   \n",
       "2      Edsa ShangriLa Ortigas Mandaluyong City   \n",
       "3         SM Megamall Ortigas Mandaluyong City   \n",
       "4         SM Megamall Ortigas Mandaluyong City   \n",
       "...                                        ...   \n",
       "9546                                   Karak_y   \n",
       "9547                                   Kouyolu   \n",
       "9548                                  Kuru_eme   \n",
       "9549                                  Kuru_eme   \n",
       "9550                                      Moda   \n",
       "\n",
       "                              Cuisines          Currency  Price range  \\\n",
       "0           French, Japanese, Desserts  Botswana Pula(P)            3   \n",
       "1                             Japanese  Botswana Pula(P)            3   \n",
       "2     Seafood, Asian, Filipino, Indian  Botswana Pula(P)            4   \n",
       "3                      Japanese, Sushi  Botswana Pula(P)            4   \n",
       "4                     Japanese, Korean  Botswana Pula(P)            4   \n",
       "...                                ...               ...          ...   \n",
       "9546                           Turkish  Turkish Lira(TL)            3   \n",
       "9547   World Cuisine, Patisserie, Cafe  Turkish Lira(TL)            3   \n",
       "9548            Italian, World Cuisine  Turkish Lira(TL)            4   \n",
       "9549                   Restaurant Cafe  Turkish Lira(TL)            4   \n",
       "9550                              Cafe  Turkish Lira(TL)            2   \n",
       "\n",
       "      Average Cost for two  \n",
       "0                     1100  \n",
       "1                     1200  \n",
       "2                     4000  \n",
       "3                     1500  \n",
       "4                     1500  \n",
       "...                    ...  \n",
       "9546                    80  \n",
       "9547                   105  \n",
       "9548                   170  \n",
       "9549                   120  \n",
       "9550                    55  \n",
       "\n",
       "[9542 rows x 7 columns]"
      ]
     },
     "execution_count": 14,
     "metadata": {},
     "output_type": "execute_result"
    }
   ],
   "source": [
    "# So , analysing all thecolumns , I will go for some most important columns :\n",
    "important_columns = ['Country Code', 'City', 'Locality', 'Cuisines', 'Currency', 'Price range', 'Average Cost for two' ]\n",
    "Average_cost = df[important_columns]\n",
    "Average_cost"
   ]
  },
  {
   "cell_type": "markdown",
   "id": "0bc14551",
   "metadata": {},
   "source": [
    "# Spliting :"
   ]
  },
  {
   "cell_type": "code",
   "execution_count": 15,
   "id": "462ea6f8",
   "metadata": {},
   "outputs": [],
   "source": [
    "X = Average_cost.drop('Average Cost for two', axis = 1)\n",
    "y = Average_cost['Average Cost for two']"
   ]
  },
  {
   "cell_type": "code",
   "execution_count": 16,
   "id": "94cf820a",
   "metadata": {},
   "outputs": [
    {
     "data": {
      "text/html": [
       "<div>\n",
       "<style scoped>\n",
       "    .dataframe tbody tr th:only-of-type {\n",
       "        vertical-align: middle;\n",
       "    }\n",
       "\n",
       "    .dataframe tbody tr th {\n",
       "        vertical-align: top;\n",
       "    }\n",
       "\n",
       "    .dataframe thead th {\n",
       "        text-align: right;\n",
       "    }\n",
       "</style>\n",
       "<table border=\"1\" class=\"dataframe\">\n",
       "  <thead>\n",
       "    <tr style=\"text-align: right;\">\n",
       "      <th></th>\n",
       "      <th>Country Code</th>\n",
       "      <th>City</th>\n",
       "      <th>Locality</th>\n",
       "      <th>Cuisines</th>\n",
       "      <th>Currency</th>\n",
       "      <th>Price range</th>\n",
       "    </tr>\n",
       "  </thead>\n",
       "  <tbody>\n",
       "    <tr>\n",
       "      <th>0</th>\n",
       "      <td>162</td>\n",
       "      <td>Makati City</td>\n",
       "      <td>Century City Mall Poblacion Makati City</td>\n",
       "      <td>French, Japanese, Desserts</td>\n",
       "      <td>Botswana Pula(P)</td>\n",
       "      <td>3</td>\n",
       "    </tr>\n",
       "    <tr>\n",
       "      <th>1</th>\n",
       "      <td>162</td>\n",
       "      <td>Makati City</td>\n",
       "      <td>Little Tokyo Legaspi Village Makati City</td>\n",
       "      <td>Japanese</td>\n",
       "      <td>Botswana Pula(P)</td>\n",
       "      <td>3</td>\n",
       "    </tr>\n",
       "    <tr>\n",
       "      <th>2</th>\n",
       "      <td>162</td>\n",
       "      <td>Mandaluyong City</td>\n",
       "      <td>Edsa ShangriLa Ortigas Mandaluyong City</td>\n",
       "      <td>Seafood, Asian, Filipino, Indian</td>\n",
       "      <td>Botswana Pula(P)</td>\n",
       "      <td>4</td>\n",
       "    </tr>\n",
       "  </tbody>\n",
       "</table>\n",
       "</div>"
      ],
      "text/plain": [
       "   Country Code              City                                  Locality  \\\n",
       "0           162       Makati City   Century City Mall Poblacion Makati City   \n",
       "1           162       Makati City  Little Tokyo Legaspi Village Makati City   \n",
       "2           162  Mandaluyong City   Edsa ShangriLa Ortigas Mandaluyong City   \n",
       "\n",
       "                           Cuisines          Currency  Price range  \n",
       "0        French, Japanese, Desserts  Botswana Pula(P)            3  \n",
       "1                          Japanese  Botswana Pula(P)            3  \n",
       "2  Seafood, Asian, Filipino, Indian  Botswana Pula(P)            4  "
      ]
     },
     "execution_count": 16,
     "metadata": {},
     "output_type": "execute_result"
    }
   ],
   "source": [
    "X.head(3)"
   ]
  },
  {
   "cell_type": "markdown",
   "id": "86a6700c",
   "metadata": {},
   "source": [
    "# Column Transformer :"
   ]
  },
  {
   "cell_type": "code",
   "execution_count": 17,
   "id": "b2a9d85f",
   "metadata": {},
   "outputs": [],
   "source": [
    "from sklearn.preprocessing import OneHotEncoder, LabelEncoder\n",
    "from sklearn.compose import ColumnTransformer"
   ]
  },
  {
   "cell_type": "code",
   "execution_count": 26,
   "id": "9e06300a",
   "metadata": {},
   "outputs": [],
   "source": [
    "label = LabelEncoder()\n",
    "ohe = OneHotEncoder(sparse = False ,handle_unknown='ignore')\n",
    "preprocessor = ColumnTransformer(\n",
    "transformers = [\n",
    "    ('onehotencoder', ohe , [1,2,3,4]),\n",
    "#     ('labelencoder', label,[1,2,3,4])\n",
    "],\n",
    "remainder = 'passthrough')"
   ]
  },
  {
   "cell_type": "markdown",
   "id": "02330523",
   "metadata": {},
   "source": [
    "# Using different models :"
   ]
  },
  {
   "cell_type": "code",
   "execution_count": 20,
   "id": "70b8993b",
   "metadata": {},
   "outputs": [],
   "source": [
    "from sklearn.model_selection import train_test_split, GridSearchCV\n",
    "from sklearn.tree import DecisionTreeRegressor\n",
    "from sklearn.ensemble import RandomForestRegressor , GradientBoostingRegressor\n",
    "from sklearn.metrics import r2_score"
   ]
  },
  {
   "cell_type": "markdown",
   "id": "0ba75458",
   "metadata": {},
   "source": [
    "# DecisionTreeRegressor :"
   ]
  },
  {
   "cell_type": "code",
   "execution_count": 38,
   "id": "275aff0c",
   "metadata": {},
   "outputs": [
    {
     "name": "stdout",
     "output_type": "stream",
     "text": [
      "r2_score : 0.8534289587587511\n"
     ]
    }
   ],
   "source": [
    "X_train_dt , X_test_dt , y_train_dt , y_test_dt = train_test_split(X,y,test_size = 0.3, random_state = 87)\n",
    "X_train_dummy = preprocessor.fit_transform(X_train_dt)\n",
    "X_test_dt = preprocessor.transform(X_test_dt)\n",
    "dt = DecisionTreeRegressor(max_depth = 10)\n",
    "dt.fit(X_train_dummy , y_train_dt)\n",
    "y_pred_dt = dt.predict(X_test_dt)\n",
    "print('r2_score :', r2_score(y_test_dt , y_pred_dt))"
   ]
  },
  {
   "cell_type": "code",
   "execution_count": 34,
   "id": "9dabc546",
   "metadata": {},
   "outputs": [],
   "source": [
    "dt_score = []\n",
    "for i in range(100) :\n",
    "    X_train_dt , X_test_dt , y_train_dt , y_test_dt = train_test_split(X,y,test_size = 0.3, random_state = i)\n",
    "    X_train_dummy = preprocessor.fit_transform(X_train_dt)\n",
    "    X_test_dt = preprocessor.transform(X_test_dt)\n",
    "    dt = DecisionTreeRegressor(max_depth = 10)\n",
    "    dt.fit(X_train_dummy , y_train_dt)\n",
    "    y_pred_dt = dt.predict(X_test_dt)\n",
    "    dt_score.append(r2_score(y_test_dt , y_pred_dt))\n",
    "    "
   ]
  },
  {
   "cell_type": "code",
   "execution_count": 35,
   "id": "dc63d748",
   "metadata": {},
   "outputs": [
    {
     "name": "stdout",
     "output_type": "stream",
     "text": [
      "best random state : 87\n",
      "\n",
      "best score : 0.9942390041199484\n"
     ]
    }
   ],
   "source": [
    "print('best random state :', np.argmax(dt_score))\n",
    "print()\n",
    "print('best score :', dt_score[np.argmax(dt_score)])"
   ]
  },
  {
   "cell_type": "code",
   "execution_count": 40,
   "id": "94934f5e",
   "metadata": {},
   "outputs": [
    {
     "name": "stdout",
     "output_type": "stream",
     "text": [
      "r2_score : 0.8534317263319264\n"
     ]
    }
   ],
   "source": [
    "X_train_dt , X_test_dt , y_train_dt , y_test_dt = train_test_split(X,y,test_size = 0.3, random_state = 87)\n",
    "X_train_dummy = preprocessor.fit_transform(X_train_dt)\n",
    "X_test_dt = preprocessor.transform(X_test_dt)\n",
    "dt = DecisionTreeRegressor(max_depth = 10)\n",
    "dt.fit(X_train_dummy , y_train_dt)\n",
    "y_pred_dt = dt.predict(X_test_dt)\n",
    "print('r2_score :', r2_score(y_test_dt , y_pred_dt))"
   ]
  },
  {
   "cell_type": "markdown",
   "id": "14b289b3",
   "metadata": {},
   "source": [
    "# Using RandomForestClassifier :"
   ]
  },
  {
   "cell_type": "code",
   "execution_count": 44,
   "id": "2a7b6021",
   "metadata": {},
   "outputs": [
    {
     "name": "stdout",
     "output_type": "stream",
     "text": [
      "r2_score : 0.9105474300085494\n"
     ]
    }
   ],
   "source": [
    "X_train_rf , X_test_rf , y_train_rf , y_test_rf = train_test_split(X,y,test_size = 0.3, random_state = 87)\n",
    "X_train_dummy = preprocessor.fit_transform(X_train_rf)\n",
    "X_test_dummy = preprocessor.transform(X_test_rf)\n",
    "rf = RandomForestRegressor(n_estimators = 100,max_depth = 10)\n",
    "rf.fit(X_train_dummy , y_train_rf)\n",
    "y_pred_rf = rf.predict(X_test_dummy)\n",
    "print('r2_score :', r2_score(y_test_rf , y_pred_rf))"
   ]
  },
  {
   "cell_type": "markdown",
   "id": "05c1d9dc",
   "metadata": {},
   "source": [
    "# Using GradientBoostingRegressor :"
   ]
  },
  {
   "cell_type": "code",
   "execution_count": 45,
   "id": "9f774fbe",
   "metadata": {},
   "outputs": [
    {
     "name": "stdout",
     "output_type": "stream",
     "text": [
      "r2_score : 0.8538022801470035\n"
     ]
    }
   ],
   "source": [
    "X_train_gb , X_test_gb , y_train_gb , y_test_gb = train_test_split(X,y,test_size = 0.3, random_state = 87)\n",
    "X_train_dummy = preprocessor.fit_transform(X_train_gb)\n",
    "X_test_dummy = preprocessor.transform(X_test_gb)\n",
    "gb = GradientBoostingRegressor(n_estimators = 100)\n",
    "gb.fit(X_train_dummy , y_train_gb)\n",
    "y_pred_gb = gb.predict(X_test_dummy)\n",
    "print('r2_score :', r2_score(y_test_gb , y_pred_gb))"
   ]
  },
  {
   "cell_type": "markdown",
   "id": "9d3b0693",
   "metadata": {},
   "source": [
    "# So, I will select RandomForestRegressor ."
   ]
  },
  {
   "cell_type": "markdown",
   "id": "00441afa",
   "metadata": {},
   "source": [
    "# Prediction model :"
   ]
  },
  {
   "cell_type": "code",
   "execution_count": 59,
   "id": "c6052291",
   "metadata": {},
   "outputs": [],
   "source": [
    "def Average_cost_for_two(Country_Code,\tCity,\tLocality,\tCuisines,\tCurrency,\tPrice_range):\n",
    "    features = np.array([[Country_Code,\tCity,\tLocality,\tCuisines,\tCurrency,\tPrice_range]])\n",
    "    transformed_features = preprocessor.transform(features)\n",
    "    prediction = rf.predict(transformed_features).reshape(1,-1)\n",
    "    print('The Average cost for two is :', prediction.round(0))"
   ]
  },
  {
   "cell_type": "code",
   "execution_count": 61,
   "id": "9c0e738a",
   "metadata": {},
   "outputs": [
    {
     "name": "stdout",
     "output_type": "stream",
     "text": [
      "The Average cost for two is : [[3002.]]\n"
     ]
    }
   ],
   "source": [
    "Country_Code =  162\n",
    "City = 'Mandaluyong City'\n",
    "Locality  = 'Edsa ShangriLa Ortigas Mandaluyong City'\n",
    "Cuisines = 'Seafood, Asian, Filipino, Indian'\n",
    "Currency = 'Botswana Pula(P)'\n",
    "Price_range = 4\n",
    "\n",
    "results = Average_cost_for_two(Country_Code,\tCity,\tLocality,\tCuisines,\tCurrency,\tPrice_range)\n",
    "results"
   ]
  },
  {
   "cell_type": "markdown",
   "id": "484eb7c0",
   "metadata": {},
   "source": [
    "# Working on Price range :"
   ]
  },
  {
   "cell_type": "code",
   "execution_count": 62,
   "id": "8982095d",
   "metadata": {},
   "outputs": [
    {
     "data": {
      "text/plain": [
       "Index(['Restaurant ID', 'Restaurant Name', 'Country Code', 'City', 'Address',\n",
       "       'Locality', 'Locality Verbose', 'Longitude', 'Latitude', 'Cuisines',\n",
       "       'Average Cost for two', 'Currency', 'Has Table booking',\n",
       "       'Has Online delivery', 'Is delivering now', 'Switch to order menu',\n",
       "       'Price range', 'Aggregate rating', 'Rating color', 'Rating text',\n",
       "       'Votes'],\n",
       "      dtype='object')"
      ]
     },
     "execution_count": 62,
     "metadata": {},
     "output_type": "execute_result"
    }
   ],
   "source": [
    "df.columns"
   ]
  },
  {
   "cell_type": "markdown",
   "id": "ef2d48dc",
   "metadata": {},
   "source": [
    "# EDA :"
   ]
  },
  {
   "cell_type": "markdown",
   "id": "3a1f86e4",
   "metadata": {},
   "source": [
    "# Average Cost for two :"
   ]
  },
  {
   "cell_type": "code",
   "execution_count": 75,
   "id": "9fc1fab7",
   "metadata": {},
   "outputs": [
    {
     "data": {
      "text/plain": [
       "<Axes: xlabel='Price range', ylabel='Average Cost for two'>"
      ]
     },
     "execution_count": 75,
     "metadata": {},
     "output_type": "execute_result"
    },
    {
     "data": {
      "image/png": "[encoded data removed]",
      "text/plain": [
       "<Figure size 640x480 with 1 Axes>"
      ]
     },
     "metadata": {},
     "output_type": "display_data"
    }
   ],
   "source": [
    "sns.barplot(data = df , x = 'Price range', y = 'Average Cost for two')"
   ]
  },
  {
   "cell_type": "markdown",
   "id": "6b22a345",
   "metadata": {},
   "source": [
    "# Currency :"
   ]
  },
  {
   "cell_type": "code",
   "execution_count": 74,
   "id": "4933ef35",
   "metadata": {},
   "outputs": [
    {
     "data": {
      "text/plain": [
       "Currency                Price range\n",
       "Botswana Pula(P)        3                12\n",
       "                        4                 9\n",
       "                        2                 1\n",
       "Brazilian Real(R$)      4                35\n",
       "                        3                16\n",
       "                        2                 7\n",
       "                        1                 2\n",
       "Dollar($)               2               183\n",
       "                        1               134\n",
       "                        3               117\n",
       "                        4                39\n",
       "Emirati Diram(AED)      3                29\n",
       "                        4                22\n",
       "                        2                 9\n",
       "Indian Rupees(Rs.)      1              4295\n",
       "                        2              2858\n",
       "                        3              1111\n",
       "                        4               388\n",
       "Indonesian Rupiah(IDR)  3                20\n",
       "                        2                 1\n",
       "NewZealand($)           3                17\n",
       "                        4                16\n",
       "                        2                 4\n",
       "                        1                 3\n",
       "Pounds(��)              3                32\n",
       "                        2                28\n",
       "                        4                16\n",
       "                        1                 4\n",
       "Qatari Rial(QR)         4                14\n",
       "                        3                 5\n",
       "                        2                 1\n",
       "Rand(R)                 4                39\n",
       "                        3                17\n",
       "                        2                 4\n",
       "Sri Lankan Rupee(LKR)   3                11\n",
       "                        2                 6\n",
       "                        4                 3\n",
       "Turkish Lira(TL)        3                18\n",
       "                        2                11\n",
       "                        4                 5\n",
       "Name: Price range, dtype: int64"
      ]
     },
     "execution_count": 74,
     "metadata": {},
     "output_type": "execute_result"
    }
   ],
   "source": [
    "df.groupby('Currency')['Price range'].value_counts()"
   ]
  },
  {
   "cell_type": "code",
   "execution_count": 78,
   "id": "826c8d14",
   "metadata": {},
   "outputs": [
    {
     "data": {
      "text/plain": [
       "No     8384\n",
       "Yes    1158\n",
       "Name: Has Table booking, dtype: int64"
      ]
     },
     "execution_count": 78,
     "metadata": {},
     "output_type": "execute_result"
    }
   ],
   "source": [
    "df['Has Table booking'].value_counts()"
   ]
  },
  {
   "cell_type": "markdown",
   "id": "e12312c3",
   "metadata": {},
   "source": [
    "# Has Online delivery :"
   ]
  },
  {
   "cell_type": "code",
   "execution_count": 72,
   "id": "32f2ccbd",
   "metadata": {},
   "outputs": [
    {
     "data": {
      "text/plain": [
       "No     7091\n",
       "Yes    2451\n",
       "Name: Has Online delivery, dtype: int64"
      ]
     },
     "execution_count": 72,
     "metadata": {},
     "output_type": "execute_result"
    }
   ],
   "source": [
    "df['Has Online delivery'].value_counts()"
   ]
  },
  {
   "cell_type": "code",
   "execution_count": 73,
   "id": "81f9f02f",
   "metadata": {},
   "outputs": [
    {
     "data": {
      "text/plain": [
       "Has Online delivery  Price range\n",
       "No                   1              3737\n",
       "                     2              1827\n",
       "                     3               994\n",
       "                     4               533\n",
       "Yes                  2              1286\n",
       "                     1               701\n",
       "                     3               411\n",
       "                     4                53\n",
       "Name: Price range, dtype: int64"
      ]
     },
     "execution_count": 73,
     "metadata": {},
     "output_type": "execute_result"
    }
   ],
   "source": [
    "df.groupby('Has Online delivery')['Price range'].value_counts()"
   ]
  },
  {
   "cell_type": "markdown",
   "id": "75732c48",
   "metadata": {},
   "source": [
    "# Is delivering now :"
   ]
  },
  {
   "cell_type": "code",
   "execution_count": 71,
   "id": "a510e393",
   "metadata": {},
   "outputs": [
    {
     "data": {
      "text/plain": [
       "No     9508\n",
       "Yes      34\n",
       "Name: Is delivering now, dtype: int64"
      ]
     },
     "execution_count": 71,
     "metadata": {},
     "output_type": "execute_result"
    }
   ],
   "source": [
    "df['Is delivering now'].value_counts()"
   ]
  },
  {
   "cell_type": "markdown",
   "id": "2ee4e542",
   "metadata": {},
   "source": [
    "# Switch to order menu :"
   ]
  },
  {
   "cell_type": "code",
   "execution_count": 70,
   "id": "16f232e4",
   "metadata": {},
   "outputs": [
    {
     "data": {
      "text/plain": [
       "No    9542\n",
       "Name: Switch to order menu, dtype: int64"
      ]
     },
     "execution_count": 70,
     "metadata": {},
     "output_type": "execute_result"
    }
   ],
   "source": [
    "df['Switch to order menu'].value_counts()"
   ]
  },
  {
   "cell_type": "markdown",
   "id": "63259853",
   "metadata": {},
   "source": [
    "# Rating text :"
   ]
  },
  {
   "cell_type": "code",
   "execution_count": 67,
   "id": "ac9e9136",
   "metadata": {},
   "outputs": [
    {
     "data": {
      "text/plain": [
       "Rating text  Price range\n",
       "Average      1              1895\n",
       "             2              1425\n",
       "             3               313\n",
       "             4               101\n",
       "Excellent    3               126\n",
       "             4                74\n",
       "             2                69\n",
       "             1                31\n",
       "Good         2               794\n",
       "             1               606\n",
       "             3               496\n",
       "             4               200\n",
       "Not rated    1              1700\n",
       "             2               402\n",
       "             3                35\n",
       "             4                11\n",
       "Poor         2                98\n",
       "             1                62\n",
       "             3                20\n",
       "             4                 6\n",
       "Very Good    3               415\n",
       "             2               325\n",
       "             4               194\n",
       "             1               144\n",
       "Name: Price range, dtype: int64"
      ]
     },
     "execution_count": 67,
     "metadata": {},
     "output_type": "execute_result"
    }
   ],
   "source": [
    "df.groupby('Rating text')['Price range'].value_counts()"
   ]
  },
  {
   "cell_type": "markdown",
   "id": "fcd87fe7",
   "metadata": {},
   "source": [
    "# Votes :"
   ]
  },
  {
   "cell_type": "code",
   "execution_count": 64,
   "id": "ed6efef2",
   "metadata": {},
   "outputs": [
    {
     "data": {
      "text/plain": [
       "<Axes: xlabel='Price range', ylabel='Votes'>"
      ]
     },
     "execution_count": 64,
     "metadata": {},
     "output_type": "execute_result"
    },
    {
     "data": {
      "image/png": "[encoded data removed]",
      "text/plain": [
       "<Figure size 640x480 with 1 Axes>"
      ]
     },
     "metadata": {},
     "output_type": "display_data"
    }
   ],
   "source": [
    "sns.barplot(data = df , x = 'Price range', y = 'Votes')"
   ]
  },
  {
   "cell_type": "code",
   "execution_count": 81,
   "id": "1219bf3e",
   "metadata": {},
   "outputs": [],
   "source": [
    "# Analysing the columns , I will select some most important columns :\n",
    "important_columns = ['Country Code', 'City','Cuisines','Average Cost for two', 'Currency','Aggregate rating','Rating text','Votes', 'Price range']"
   ]
  },
  {
   "cell_type": "code",
   "execution_count": 82,
   "id": "0c5424fb",
   "metadata": {},
   "outputs": [
    {
     "data": {
      "text/html": [
       "<div>\n",
       "<style scoped>\n",
       "    .dataframe tbody tr th:only-of-type {\n",
       "        vertical-align: middle;\n",
       "    }\n",
       "\n",
       "    .dataframe tbody tr th {\n",
       "        vertical-align: top;\n",
       "    }\n",
       "\n",
       "    .dataframe thead th {\n",
       "        text-align: right;\n",
       "    }\n",
       "</style>\n",
       "<table border=\"1\" class=\"dataframe\">\n",
       "  <thead>\n",
       "    <tr style=\"text-align: right;\">\n",
       "      <th></th>\n",
       "      <th>Country Code</th>\n",
       "      <th>City</th>\n",
       "      <th>Cuisines</th>\n",
       "      <th>Average Cost for two</th>\n",
       "      <th>Currency</th>\n",
       "      <th>Aggregate rating</th>\n",
       "      <th>Rating text</th>\n",
       "      <th>Votes</th>\n",
       "      <th>Price range</th>\n",
       "    </tr>\n",
       "  </thead>\n",
       "  <tbody>\n",
       "    <tr>\n",
       "      <th>0</th>\n",
       "      <td>162</td>\n",
       "      <td>Makati City</td>\n",
       "      <td>French, Japanese, Desserts</td>\n",
       "      <td>1100</td>\n",
       "      <td>Botswana Pula(P)</td>\n",
       "      <td>4.8</td>\n",
       "      <td>Excellent</td>\n",
       "      <td>314</td>\n",
       "      <td>3</td>\n",
       "    </tr>\n",
       "    <tr>\n",
       "      <th>1</th>\n",
       "      <td>162</td>\n",
       "      <td>Makati City</td>\n",
       "      <td>Japanese</td>\n",
       "      <td>1200</td>\n",
       "      <td>Botswana Pula(P)</td>\n",
       "      <td>4.5</td>\n",
       "      <td>Excellent</td>\n",
       "      <td>591</td>\n",
       "      <td>3</td>\n",
       "    </tr>\n",
       "    <tr>\n",
       "      <th>2</th>\n",
       "      <td>162</td>\n",
       "      <td>Mandaluyong City</td>\n",
       "      <td>Seafood, Asian, Filipino, Indian</td>\n",
       "      <td>4000</td>\n",
       "      <td>Botswana Pula(P)</td>\n",
       "      <td>4.4</td>\n",
       "      <td>Very Good</td>\n",
       "      <td>270</td>\n",
       "      <td>4</td>\n",
       "    </tr>\n",
       "    <tr>\n",
       "      <th>3</th>\n",
       "      <td>162</td>\n",
       "      <td>Mandaluyong City</td>\n",
       "      <td>Japanese, Sushi</td>\n",
       "      <td>1500</td>\n",
       "      <td>Botswana Pula(P)</td>\n",
       "      <td>4.9</td>\n",
       "      <td>Excellent</td>\n",
       "      <td>365</td>\n",
       "      <td>4</td>\n",
       "    </tr>\n",
       "    <tr>\n",
       "      <th>4</th>\n",
       "      <td>162</td>\n",
       "      <td>Mandaluyong City</td>\n",
       "      <td>Japanese, Korean</td>\n",
       "      <td>1500</td>\n",
       "      <td>Botswana Pula(P)</td>\n",
       "      <td>4.8</td>\n",
       "      <td>Excellent</td>\n",
       "      <td>229</td>\n",
       "      <td>4</td>\n",
       "    </tr>\n",
       "    <tr>\n",
       "      <th>...</th>\n",
       "      <td>...</td>\n",
       "      <td>...</td>\n",
       "      <td>...</td>\n",
       "      <td>...</td>\n",
       "      <td>...</td>\n",
       "      <td>...</td>\n",
       "      <td>...</td>\n",
       "      <td>...</td>\n",
       "      <td>...</td>\n",
       "    </tr>\n",
       "    <tr>\n",
       "      <th>9546</th>\n",
       "      <td>208</td>\n",
       "      <td>stanbul</td>\n",
       "      <td>Turkish</td>\n",
       "      <td>80</td>\n",
       "      <td>Turkish Lira(TL)</td>\n",
       "      <td>4.1</td>\n",
       "      <td>Very Good</td>\n",
       "      <td>788</td>\n",
       "      <td>3</td>\n",
       "    </tr>\n",
       "    <tr>\n",
       "      <th>9547</th>\n",
       "      <td>208</td>\n",
       "      <td>stanbul</td>\n",
       "      <td>World Cuisine, Patisserie, Cafe</td>\n",
       "      <td>105</td>\n",
       "      <td>Turkish Lira(TL)</td>\n",
       "      <td>4.2</td>\n",
       "      <td>Very Good</td>\n",
       "      <td>1034</td>\n",
       "      <td>3</td>\n",
       "    </tr>\n",
       "    <tr>\n",
       "      <th>9548</th>\n",
       "      <td>208</td>\n",
       "      <td>stanbul</td>\n",
       "      <td>Italian, World Cuisine</td>\n",
       "      <td>170</td>\n",
       "      <td>Turkish Lira(TL)</td>\n",
       "      <td>3.7</td>\n",
       "      <td>Good</td>\n",
       "      <td>661</td>\n",
       "      <td>4</td>\n",
       "    </tr>\n",
       "    <tr>\n",
       "      <th>9549</th>\n",
       "      <td>208</td>\n",
       "      <td>stanbul</td>\n",
       "      <td>Restaurant Cafe</td>\n",
       "      <td>120</td>\n",
       "      <td>Turkish Lira(TL)</td>\n",
       "      <td>4.0</td>\n",
       "      <td>Very Good</td>\n",
       "      <td>901</td>\n",
       "      <td>4</td>\n",
       "    </tr>\n",
       "    <tr>\n",
       "      <th>9550</th>\n",
       "      <td>208</td>\n",
       "      <td>stanbul</td>\n",
       "      <td>Cafe</td>\n",
       "      <td>55</td>\n",
       "      <td>Turkish Lira(TL)</td>\n",
       "      <td>4.0</td>\n",
       "      <td>Very Good</td>\n",
       "      <td>591</td>\n",
       "      <td>2</td>\n",
       "    </tr>\n",
       "  </tbody>\n",
       "</table>\n",
       "<p>9542 rows × 9 columns</p>\n",
       "</div>"
      ],
      "text/plain": [
       "      Country Code              City                          Cuisines  \\\n",
       "0              162       Makati City        French, Japanese, Desserts   \n",
       "1              162       Makati City                          Japanese   \n",
       "2              162  Mandaluyong City  Seafood, Asian, Filipino, Indian   \n",
       "3              162  Mandaluyong City                   Japanese, Sushi   \n",
       "4              162  Mandaluyong City                  Japanese, Korean   \n",
       "...            ...               ...                               ...   \n",
       "9546           208           stanbul                           Turkish   \n",
       "9547           208           stanbul   World Cuisine, Patisserie, Cafe   \n",
       "9548           208           stanbul            Italian, World Cuisine   \n",
       "9549           208           stanbul                   Restaurant Cafe   \n",
       "9550           208           stanbul                              Cafe   \n",
       "\n",
       "      Average Cost for two          Currency  Aggregate rating Rating text  \\\n",
       "0                     1100  Botswana Pula(P)               4.8   Excellent   \n",
       "1                     1200  Botswana Pula(P)               4.5   Excellent   \n",
       "2                     4000  Botswana Pula(P)               4.4   Very Good   \n",
       "3                     1500  Botswana Pula(P)               4.9   Excellent   \n",
       "4                     1500  Botswana Pula(P)               4.8   Excellent   \n",
       "...                    ...               ...               ...         ...   \n",
       "9546                    80  Turkish Lira(TL)               4.1   Very Good   \n",
       "9547                   105  Turkish Lira(TL)               4.2   Very Good   \n",
       "9548                   170  Turkish Lira(TL)               3.7        Good   \n",
       "9549                   120  Turkish Lira(TL)               4.0   Very Good   \n",
       "9550                    55  Turkish Lira(TL)               4.0   Very Good   \n",
       "\n",
       "      Votes  Price range  \n",
       "0       314            3  \n",
       "1       591            3  \n",
       "2       270            4  \n",
       "3       365            4  \n",
       "4       229            4  \n",
       "...     ...          ...  \n",
       "9546    788            3  \n",
       "9547   1034            3  \n",
       "9548    661            4  \n",
       "9549    901            4  \n",
       "9550    591            2  \n",
       "\n",
       "[9542 rows x 9 columns]"
      ]
     },
     "execution_count": 82,
     "metadata": {},
     "output_type": "execute_result"
    }
   ],
   "source": [
    "Price_range_df  = df[important_columns]\n",
    "Price_range_df"
   ]
  },
  {
   "cell_type": "markdown",
   "id": "299f1836",
   "metadata": {},
   "source": [
    "# Spliting the data :"
   ]
  },
  {
   "cell_type": "code",
   "execution_count": 83,
   "id": "56715348",
   "metadata": {},
   "outputs": [],
   "source": [
    "X = Price_range_df.drop('Price range', axis = 1)\n",
    "y = Price_range_df['Price range']"
   ]
  },
  {
   "cell_type": "markdown",
   "id": "e98d2b08",
   "metadata": {},
   "source": [
    "# Column transformation :"
   ]
  },
  {
   "cell_type": "code",
   "execution_count": 86,
   "id": "6b86d1d7",
   "metadata": {},
   "outputs": [
    {
     "data": {
      "text/html": [
       "<div>\n",
       "<style scoped>\n",
       "    .dataframe tbody tr th:only-of-type {\n",
       "        vertical-align: middle;\n",
       "    }\n",
       "\n",
       "    .dataframe tbody tr th {\n",
       "        vertical-align: top;\n",
       "    }\n",
       "\n",
       "    .dataframe thead th {\n",
       "        text-align: right;\n",
       "    }\n",
       "</style>\n",
       "<table border=\"1\" class=\"dataframe\">\n",
       "  <thead>\n",
       "    <tr style=\"text-align: right;\">\n",
       "      <th></th>\n",
       "      <th>Country Code</th>\n",
       "      <th>City</th>\n",
       "      <th>Cuisines</th>\n",
       "      <th>Average Cost for two</th>\n",
       "      <th>Currency</th>\n",
       "      <th>Aggregate rating</th>\n",
       "      <th>Rating text</th>\n",
       "      <th>Votes</th>\n",
       "    </tr>\n",
       "  </thead>\n",
       "  <tbody>\n",
       "    <tr>\n",
       "      <th>0</th>\n",
       "      <td>162</td>\n",
       "      <td>Makati City</td>\n",
       "      <td>French, Japanese, Desserts</td>\n",
       "      <td>1100</td>\n",
       "      <td>Botswana Pula(P)</td>\n",
       "      <td>4.8</td>\n",
       "      <td>Excellent</td>\n",
       "      <td>314</td>\n",
       "    </tr>\n",
       "    <tr>\n",
       "      <th>1</th>\n",
       "      <td>162</td>\n",
       "      <td>Makati City</td>\n",
       "      <td>Japanese</td>\n",
       "      <td>1200</td>\n",
       "      <td>Botswana Pula(P)</td>\n",
       "      <td>4.5</td>\n",
       "      <td>Excellent</td>\n",
       "      <td>591</td>\n",
       "    </tr>\n",
       "    <tr>\n",
       "      <th>2</th>\n",
       "      <td>162</td>\n",
       "      <td>Mandaluyong City</td>\n",
       "      <td>Seafood, Asian, Filipino, Indian</td>\n",
       "      <td>4000</td>\n",
       "      <td>Botswana Pula(P)</td>\n",
       "      <td>4.4</td>\n",
       "      <td>Very Good</td>\n",
       "      <td>270</td>\n",
       "    </tr>\n",
       "  </tbody>\n",
       "</table>\n",
       "</div>"
      ],
      "text/plain": [
       "   Country Code              City                          Cuisines  \\\n",
       "0           162       Makati City        French, Japanese, Desserts   \n",
       "1           162       Makati City                          Japanese   \n",
       "2           162  Mandaluyong City  Seafood, Asian, Filipino, Indian   \n",
       "\n",
       "   Average Cost for two          Currency  Aggregate rating Rating text  Votes  \n",
       "0                  1100  Botswana Pula(P)               4.8   Excellent    314  \n",
       "1                  1200  Botswana Pula(P)               4.5   Excellent    591  \n",
       "2                  4000  Botswana Pula(P)               4.4   Very Good    270  "
      ]
     },
     "execution_count": 86,
     "metadata": {},
     "output_type": "execute_result"
    }
   ],
   "source": [
    "X.head(3)"
   ]
  },
  {
   "cell_type": "code",
   "execution_count": 87,
   "id": "1f9999b2",
   "metadata": {},
   "outputs": [],
   "source": [
    "preprocessor = ColumnTransformer(\n",
    "transformers = [\n",
    "    ('onehotencoder', ohe , [1,2,4,6])\n",
    "],\n",
    "remainder = 'passthrough')"
   ]
  },
  {
   "cell_type": "markdown",
   "id": "5c96a829",
   "metadata": {},
   "source": [
    "# Using different models :"
   ]
  },
  {
   "cell_type": "code",
   "execution_count": 88,
   "id": "9b4b843b",
   "metadata": {},
   "outputs": [],
   "source": [
    "from sklearn.metrics import accuracy_score\n",
    "from sklearn.tree import DecisionTreeClassifier\n",
    "from sklearn.ensemble import RandomForestClassifier , GradientBoostingClassifier"
   ]
  },
  {
   "cell_type": "markdown",
   "id": "92b78c4e",
   "metadata": {},
   "source": [
    "# Using DecisionTreeClassifier :"
   ]
  },
  {
   "cell_type": "code",
   "execution_count": 103,
   "id": "eda27d61",
   "metadata": {},
   "outputs": [
    {
     "name": "stdout",
     "output_type": "stream",
     "text": [
      "accuracy_score : 0.958085923856095\n"
     ]
    }
   ],
   "source": [
    "X_train_dt , X_test_dt , y_train_dt , y_test_dt = train_test_split(X,y,test_size = 0.3, random_state = 42)\n",
    "X_train_dummy = preprocessor.fit_transform(X_train_dt)\n",
    "X_test_dt = preprocessor.transform(X_test_dt)\n",
    "dt = DecisionTreeClassifier(max_depth = 4)\n",
    "dt.fit(X_train_dummy , y_train_dt)\n",
    "y_pred_dt = dt.predict(X_test_dt)\n",
    "print('accuracy_score :', accuracy_score(y_test_dt , y_pred_dt))"
   ]
  },
  {
   "cell_type": "markdown",
   "id": "7e202390",
   "metadata": {},
   "source": [
    "# Using RandomForestClassifier :"
   ]
  },
  {
   "cell_type": "code",
   "execution_count": 101,
   "id": "32c82fb3",
   "metadata": {},
   "outputs": [
    {
     "name": "stdout",
     "output_type": "stream",
     "text": [
      "0.7397834439399231\n"
     ]
    }
   ],
   "source": [
    "X_train_rf , X_test_rf , y_train_rf , y_test_rf = train_test_split(X,y,test_size = 0.3, random_state = 42)\n",
    "X_train_dummy = preprocessor.fit_transform(X_train_rf)\n",
    "X_test_dummy = preprocessor.transform(X_test_rf)\n",
    "rf = RandomForestClassifier(max_depth = 10, n_estimators = 500, criterion = 'gini')\n",
    "rf.fit(X_train_dummy , y_train_rf)\n",
    "y_pred_rf = rf.predict(X_test_dummy)\n",
    "print(accuracy_score(y_test_rf , y_pred_rf))"
   ]
  },
  {
   "cell_type": "markdown",
   "id": "cc22ca29",
   "metadata": {},
   "source": [
    "# GradientBoostingClassifier :"
   ]
  },
  {
   "cell_type": "code",
   "execution_count": 102,
   "id": "4a9a391b",
   "metadata": {},
   "outputs": [
    {
     "name": "stdout",
     "output_type": "stream",
     "text": [
      "0.9741529863779252\n"
     ]
    }
   ],
   "source": [
    "X_train_gbc , X_test_gbc , y_train_gbc , y_test_gbc = train_test_split(X,y,test_size = 0.3, random_state = 42)\n",
    "X_train_dummy = preprocessor.fit_transform(X_train_gbc)\n",
    "X_test_dummy = preprocessor.transform(X_test_gbc)\n",
    "gbc = GradientBoostingClassifier(n_estimators = 300)\n",
    "gbc.fit(X_train_dummy , y_train_gbc)\n",
    "y_pred_gbc = gbc.predict(X_test_dummy)\n",
    "print(accuracy_score(y_test_gbc , y_pred_gbc))"
   ]
  },
  {
   "cell_type": "markdown",
   "id": "db3c19ac",
   "metadata": {},
   "source": [
    "# So , I will go  for DecisionTreeClassifier "
   ]
  },
  {
   "cell_type": "markdown",
   "id": "6bf8848b",
   "metadata": {},
   "source": [
    "# prediction model:"
   ]
  },
  {
   "cell_type": "code",
   "execution_count": 107,
   "id": "8409f976",
   "metadata": {},
   "outputs": [],
   "source": [
    "def Price_range(Country_Code,\tCity,\tCuisines,\tAverage_Cost_for_two,\tCurrency,\tAggregate_rating,\tRating_text,\tVotes):\n",
    "    features = np.array([[Country_Code,\tCity,\tCuisines,\tAverage_Cost_for_two,\tCurrency,\tAggregate_rating,\tRating_text,\tVotes]])\n",
    "    feature_transformed = preprocessor.transform(features)\n",
    "    prediction = dt.predict(feature_transformed).reshape(1,-1)\n",
    "    print(\"The price range is :\", prediction[0])"
   ]
  },
  {
   "cell_type": "code",
   "execution_count": 108,
   "id": "dc5bf157",
   "metadata": {},
   "outputs": [
    {
     "name": "stdout",
     "output_type": "stream",
     "text": [
      "The price range is : [3]\n"
     ]
    }
   ],
   "source": [
    "Country_Code = 162\n",
    "City = 'Makati City'\n",
    "Cuisines = 'French, Japanese, Desserts'\n",
    "Average_Cost_for_two = 1100\n",
    "Currency ='Botswana Pula(P)'\n",
    "Aggregate_rating = 4.8\n",
    "Rating_text = 'Excellent'\n",
    "Votes = 314\n",
    "\n",
    "results = Price_range(Country_Code,\tCity,\tCuisines,\tAverage_Cost_for_two,\tCurrency,\tAggregate_rating,\tRating_text,\tVotes)\n",
    "results"
   ]
  },
  {
   "cell_type": "code",
   "execution_count": null,
   "id": "248571e6",
   "metadata": {},
   "outputs": [],
   "source": []
  }
 ],
 "metadata": {
  "kernelspec": {
   "display_name": "Python 3 (ipykernel)",
   "language": "python",
   "name": "python3"
  },
  "language_info": {
   "codemirror_mode": {
    "name": "ipython",
    "version": 3
   },
   "file_extension": ".py",
   "mimetype": "text/x-python",
   "name": "python",
   "nbconvert_exporter": "python",
   "pygments_lexer": "ipython3",
   "version": "3.11.5"
  }
 },
 "nbformat": 4,
 "nbformat_minor": 5
}
