{
 "cells": [
  {
   "cell_type": "markdown",
   "id": "a883708a",
   "metadata": {},
   "source": [
    "# Rainfall Weather Forecasting"
   ]
  },
  {
   "cell_type": "code",
   "execution_count": 130,
   "id": "1d4240d2",
   "metadata": {},
   "outputs": [],
   "source": [
    "import pandas as pd\n",
    "import numpy as np\n",
    "import matplotlib.pyplot as plt\n",
    "import seaborn as sns"
   ]
  },
  {
   "cell_type": "code",
   "execution_count": 131,
   "id": "9183ee87",
   "metadata": {},
   "outputs": [
    {
     "data": {
      "text/html": [
       "<div>\n",
       "<style scoped>\n",
       "    .dataframe tbody tr th:only-of-type {\n",
       "        vertical-align: middle;\n",
       "    }\n",
       "\n",
       "    .dataframe tbody tr th {\n",
       "        vertical-align: top;\n",
       "    }\n",
       "\n",
       "    .dataframe thead th {\n",
       "        text-align: right;\n",
       "    }\n",
       "</style>\n",
       "<table border=\"1\" class=\"dataframe\">\n",
       "  <thead>\n",
       "    <tr style=\"text-align: right;\">\n",
       "      <th></th>\n",
       "      <th>Date</th>\n",
       "      <th>Location</th>\n",
       "      <th>MinTemp</th>\n",
       "      <th>MaxTemp</th>\n",
       "      <th>Rainfall</th>\n",
       "      <th>Evaporation</th>\n",
       "      <th>Sunshine</th>\n",
       "      <th>WindGustDir</th>\n",
       "      <th>WindGustSpeed</th>\n",
       "      <th>WindDir9am</th>\n",
       "      <th>...</th>\n",
       "      <th>Humidity9am</th>\n",
       "      <th>Humidity3pm</th>\n",
       "      <th>Pressure9am</th>\n",
       "      <th>Pressure3pm</th>\n",
       "      <th>Cloud9am</th>\n",
       "      <th>Cloud3pm</th>\n",
       "      <th>Temp9am</th>\n",
       "      <th>Temp3pm</th>\n",
       "      <th>RainToday</th>\n",
       "      <th>RainTomorrow</th>\n",
       "    </tr>\n",
       "  </thead>\n",
       "  <tbody>\n",
       "    <tr>\n",
       "      <th>0</th>\n",
       "      <td>2008-12-01</td>\n",
       "      <td>Albury</td>\n",
       "      <td>13.4</td>\n",
       "      <td>22.9</td>\n",
       "      <td>0.6</td>\n",
       "      <td>NaN</td>\n",
       "      <td>NaN</td>\n",
       "      <td>W</td>\n",
       "      <td>44.0</td>\n",
       "      <td>W</td>\n",
       "      <td>...</td>\n",
       "      <td>71.0</td>\n",
       "      <td>22.0</td>\n",
       "      <td>1007.7</td>\n",
       "      <td>1007.1</td>\n",
       "      <td>8.0</td>\n",
       "      <td>NaN</td>\n",
       "      <td>16.9</td>\n",
       "      <td>21.8</td>\n",
       "      <td>No</td>\n",
       "      <td>No</td>\n",
       "    </tr>\n",
       "    <tr>\n",
       "      <th>1</th>\n",
       "      <td>2008-12-02</td>\n",
       "      <td>Albury</td>\n",
       "      <td>7.4</td>\n",
       "      <td>25.1</td>\n",
       "      <td>0.0</td>\n",
       "      <td>NaN</td>\n",
       "      <td>NaN</td>\n",
       "      <td>WNW</td>\n",
       "      <td>44.0</td>\n",
       "      <td>NNW</td>\n",
       "      <td>...</td>\n",
       "      <td>44.0</td>\n",
       "      <td>25.0</td>\n",
       "      <td>1010.6</td>\n",
       "      <td>1007.8</td>\n",
       "      <td>NaN</td>\n",
       "      <td>NaN</td>\n",
       "      <td>17.2</td>\n",
       "      <td>24.3</td>\n",
       "      <td>No</td>\n",
       "      <td>No</td>\n",
       "    </tr>\n",
       "    <tr>\n",
       "      <th>2</th>\n",
       "      <td>2008-12-03</td>\n",
       "      <td>Albury</td>\n",
       "      <td>12.9</td>\n",
       "      <td>25.7</td>\n",
       "      <td>0.0</td>\n",
       "      <td>NaN</td>\n",
       "      <td>NaN</td>\n",
       "      <td>WSW</td>\n",
       "      <td>46.0</td>\n",
       "      <td>W</td>\n",
       "      <td>...</td>\n",
       "      <td>38.0</td>\n",
       "      <td>30.0</td>\n",
       "      <td>1007.6</td>\n",
       "      <td>1008.7</td>\n",
       "      <td>NaN</td>\n",
       "      <td>2.0</td>\n",
       "      <td>21.0</td>\n",
       "      <td>23.2</td>\n",
       "      <td>No</td>\n",
       "      <td>No</td>\n",
       "    </tr>\n",
       "    <tr>\n",
       "      <th>3</th>\n",
       "      <td>2008-12-04</td>\n",
       "      <td>Albury</td>\n",
       "      <td>9.2</td>\n",
       "      <td>28.0</td>\n",
       "      <td>0.0</td>\n",
       "      <td>NaN</td>\n",
       "      <td>NaN</td>\n",
       "      <td>NE</td>\n",
       "      <td>24.0</td>\n",
       "      <td>SE</td>\n",
       "      <td>...</td>\n",
       "      <td>45.0</td>\n",
       "      <td>16.0</td>\n",
       "      <td>1017.6</td>\n",
       "      <td>1012.8</td>\n",
       "      <td>NaN</td>\n",
       "      <td>NaN</td>\n",
       "      <td>18.1</td>\n",
       "      <td>26.5</td>\n",
       "      <td>No</td>\n",
       "      <td>No</td>\n",
       "    </tr>\n",
       "    <tr>\n",
       "      <th>4</th>\n",
       "      <td>2008-12-05</td>\n",
       "      <td>Albury</td>\n",
       "      <td>17.5</td>\n",
       "      <td>32.3</td>\n",
       "      <td>1.0</td>\n",
       "      <td>NaN</td>\n",
       "      <td>NaN</td>\n",
       "      <td>W</td>\n",
       "      <td>41.0</td>\n",
       "      <td>ENE</td>\n",
       "      <td>...</td>\n",
       "      <td>82.0</td>\n",
       "      <td>33.0</td>\n",
       "      <td>1010.8</td>\n",
       "      <td>1006.0</td>\n",
       "      <td>7.0</td>\n",
       "      <td>8.0</td>\n",
       "      <td>17.8</td>\n",
       "      <td>29.7</td>\n",
       "      <td>No</td>\n",
       "      <td>No</td>\n",
       "    </tr>\n",
       "    <tr>\n",
       "      <th>...</th>\n",
       "      <td>...</td>\n",
       "      <td>...</td>\n",
       "      <td>...</td>\n",
       "      <td>...</td>\n",
       "      <td>...</td>\n",
       "      <td>...</td>\n",
       "      <td>...</td>\n",
       "      <td>...</td>\n",
       "      <td>...</td>\n",
       "      <td>...</td>\n",
       "      <td>...</td>\n",
       "      <td>...</td>\n",
       "      <td>...</td>\n",
       "      <td>...</td>\n",
       "      <td>...</td>\n",
       "      <td>...</td>\n",
       "      <td>...</td>\n",
       "      <td>...</td>\n",
       "      <td>...</td>\n",
       "      <td>...</td>\n",
       "      <td>...</td>\n",
       "    </tr>\n",
       "    <tr>\n",
       "      <th>8420</th>\n",
       "      <td>2017-06-21</td>\n",
       "      <td>Uluru</td>\n",
       "      <td>2.8</td>\n",
       "      <td>23.4</td>\n",
       "      <td>0.0</td>\n",
       "      <td>NaN</td>\n",
       "      <td>NaN</td>\n",
       "      <td>E</td>\n",
       "      <td>31.0</td>\n",
       "      <td>SE</td>\n",
       "      <td>...</td>\n",
       "      <td>51.0</td>\n",
       "      <td>24.0</td>\n",
       "      <td>1024.6</td>\n",
       "      <td>1020.3</td>\n",
       "      <td>NaN</td>\n",
       "      <td>NaN</td>\n",
       "      <td>10.1</td>\n",
       "      <td>22.4</td>\n",
       "      <td>No</td>\n",
       "      <td>No</td>\n",
       "    </tr>\n",
       "    <tr>\n",
       "      <th>8421</th>\n",
       "      <td>2017-06-22</td>\n",
       "      <td>Uluru</td>\n",
       "      <td>3.6</td>\n",
       "      <td>25.3</td>\n",
       "      <td>0.0</td>\n",
       "      <td>NaN</td>\n",
       "      <td>NaN</td>\n",
       "      <td>NNW</td>\n",
       "      <td>22.0</td>\n",
       "      <td>SE</td>\n",
       "      <td>...</td>\n",
       "      <td>56.0</td>\n",
       "      <td>21.0</td>\n",
       "      <td>1023.5</td>\n",
       "      <td>1019.1</td>\n",
       "      <td>NaN</td>\n",
       "      <td>NaN</td>\n",
       "      <td>10.9</td>\n",
       "      <td>24.5</td>\n",
       "      <td>No</td>\n",
       "      <td>No</td>\n",
       "    </tr>\n",
       "    <tr>\n",
       "      <th>8422</th>\n",
       "      <td>2017-06-23</td>\n",
       "      <td>Uluru</td>\n",
       "      <td>5.4</td>\n",
       "      <td>26.9</td>\n",
       "      <td>0.0</td>\n",
       "      <td>NaN</td>\n",
       "      <td>NaN</td>\n",
       "      <td>N</td>\n",
       "      <td>37.0</td>\n",
       "      <td>SE</td>\n",
       "      <td>...</td>\n",
       "      <td>53.0</td>\n",
       "      <td>24.0</td>\n",
       "      <td>1021.0</td>\n",
       "      <td>1016.8</td>\n",
       "      <td>NaN</td>\n",
       "      <td>NaN</td>\n",
       "      <td>12.5</td>\n",
       "      <td>26.1</td>\n",
       "      <td>No</td>\n",
       "      <td>No</td>\n",
       "    </tr>\n",
       "    <tr>\n",
       "      <th>8423</th>\n",
       "      <td>2017-06-24</td>\n",
       "      <td>Uluru</td>\n",
       "      <td>7.8</td>\n",
       "      <td>27.0</td>\n",
       "      <td>0.0</td>\n",
       "      <td>NaN</td>\n",
       "      <td>NaN</td>\n",
       "      <td>SE</td>\n",
       "      <td>28.0</td>\n",
       "      <td>SSE</td>\n",
       "      <td>...</td>\n",
       "      <td>51.0</td>\n",
       "      <td>24.0</td>\n",
       "      <td>1019.4</td>\n",
       "      <td>1016.5</td>\n",
       "      <td>3.0</td>\n",
       "      <td>2.0</td>\n",
       "      <td>15.1</td>\n",
       "      <td>26.0</td>\n",
       "      <td>No</td>\n",
       "      <td>No</td>\n",
       "    </tr>\n",
       "    <tr>\n",
       "      <th>8424</th>\n",
       "      <td>2017-06-25</td>\n",
       "      <td>Uluru</td>\n",
       "      <td>14.9</td>\n",
       "      <td>NaN</td>\n",
       "      <td>0.0</td>\n",
       "      <td>NaN</td>\n",
       "      <td>NaN</td>\n",
       "      <td>NaN</td>\n",
       "      <td>NaN</td>\n",
       "      <td>ESE</td>\n",
       "      <td>...</td>\n",
       "      <td>62.0</td>\n",
       "      <td>36.0</td>\n",
       "      <td>1020.2</td>\n",
       "      <td>1017.9</td>\n",
       "      <td>8.0</td>\n",
       "      <td>8.0</td>\n",
       "      <td>15.0</td>\n",
       "      <td>20.9</td>\n",
       "      <td>No</td>\n",
       "      <td>NaN</td>\n",
       "    </tr>\n",
       "  </tbody>\n",
       "</table>\n",
       "<p>8425 rows × 23 columns</p>\n",
       "</div>"
      ],
      "text/plain": [
       "            Date Location  MinTemp  MaxTemp  Rainfall  Evaporation  Sunshine  \\\n",
       "0     2008-12-01   Albury     13.4     22.9       0.6          NaN       NaN   \n",
       "1     2008-12-02   Albury      7.4     25.1       0.0          NaN       NaN   \n",
       "2     2008-12-03   Albury     12.9     25.7       0.0          NaN       NaN   \n",
       "3     2008-12-04   Albury      9.2     28.0       0.0          NaN       NaN   \n",
       "4     2008-12-05   Albury     17.5     32.3       1.0          NaN       NaN   \n",
       "...          ...      ...      ...      ...       ...          ...       ...   \n",
       "8420  2017-06-21    Uluru      2.8     23.4       0.0          NaN       NaN   \n",
       "8421  2017-06-22    Uluru      3.6     25.3       0.0          NaN       NaN   \n",
       "8422  2017-06-23    Uluru      5.4     26.9       0.0          NaN       NaN   \n",
       "8423  2017-06-24    Uluru      7.8     27.0       0.0          NaN       NaN   \n",
       "8424  2017-06-25    Uluru     14.9      NaN       0.0          NaN       NaN   \n",
       "\n",
       "     WindGustDir  WindGustSpeed WindDir9am  ... Humidity9am  Humidity3pm  \\\n",
       "0              W           44.0          W  ...        71.0         22.0   \n",
       "1            WNW           44.0        NNW  ...        44.0         25.0   \n",
       "2            WSW           46.0          W  ...        38.0         30.0   \n",
       "3             NE           24.0         SE  ...        45.0         16.0   \n",
       "4              W           41.0        ENE  ...        82.0         33.0   \n",
       "...          ...            ...        ...  ...         ...          ...   \n",
       "8420           E           31.0         SE  ...        51.0         24.0   \n",
       "8421         NNW           22.0         SE  ...        56.0         21.0   \n",
       "8422           N           37.0         SE  ...        53.0         24.0   \n",
       "8423          SE           28.0        SSE  ...        51.0         24.0   \n",
       "8424         NaN            NaN        ESE  ...        62.0         36.0   \n",
       "\n",
       "      Pressure9am  Pressure3pm  Cloud9am  Cloud3pm  Temp9am  Temp3pm  \\\n",
       "0          1007.7       1007.1       8.0       NaN     16.9     21.8   \n",
       "1          1010.6       1007.8       NaN       NaN     17.2     24.3   \n",
       "2          1007.6       1008.7       NaN       2.0     21.0     23.2   \n",
       "3          1017.6       1012.8       NaN       NaN     18.1     26.5   \n",
       "4          1010.8       1006.0       7.0       8.0     17.8     29.7   \n",
       "...           ...          ...       ...       ...      ...      ...   \n",
       "8420       1024.6       1020.3       NaN       NaN     10.1     22.4   \n",
       "8421       1023.5       1019.1       NaN       NaN     10.9     24.5   \n",
       "8422       1021.0       1016.8       NaN       NaN     12.5     26.1   \n",
       "8423       1019.4       1016.5       3.0       2.0     15.1     26.0   \n",
       "8424       1020.2       1017.9       8.0       8.0     15.0     20.9   \n",
       "\n",
       "      RainToday  RainTomorrow  \n",
       "0            No            No  \n",
       "1            No            No  \n",
       "2            No            No  \n",
       "3            No            No  \n",
       "4            No            No  \n",
       "...         ...           ...  \n",
       "8420         No            No  \n",
       "8421         No            No  \n",
       "8422         No            No  \n",
       "8423         No            No  \n",
       "8424         No           NaN  \n",
       "\n",
       "[8425 rows x 23 columns]"
      ]
     },
     "execution_count": 131,
     "metadata": {},
     "output_type": "execute_result"
    }
   ],
   "source": [
    "df = pd.read_csv('rainfall.csv')\n",
    "df"
   ]
  },
  {
   "cell_type": "code",
   "execution_count": 132,
   "id": "2b2115b1",
   "metadata": {},
   "outputs": [
    {
     "name": "stdout",
     "output_type": "stream",
     "text": [
      "<class 'pandas.core.frame.DataFrame'>\n",
      "RangeIndex: 8425 entries, 0 to 8424\n",
      "Data columns (total 23 columns):\n",
      " #   Column         Non-Null Count  Dtype  \n",
      "---  ------         --------------  -----  \n",
      " 0   Date           8425 non-null   object \n",
      " 1   Location       8425 non-null   object \n",
      " 2   MinTemp        8350 non-null   float64\n",
      " 3   MaxTemp        8365 non-null   float64\n",
      " 4   Rainfall       8185 non-null   float64\n",
      " 5   Evaporation    4913 non-null   float64\n",
      " 6   Sunshine       4431 non-null   float64\n",
      " 7   WindGustDir    7434 non-null   object \n",
      " 8   WindGustSpeed  7434 non-null   float64\n",
      " 9   WindDir9am     7596 non-null   object \n",
      " 10  WindDir3pm     8117 non-null   object \n",
      " 11  WindSpeed9am   8349 non-null   float64\n",
      " 12  WindSpeed3pm   8318 non-null   float64\n",
      " 13  Humidity9am    8366 non-null   float64\n",
      " 14  Humidity3pm    8323 non-null   float64\n",
      " 15  Pressure9am    7116 non-null   float64\n",
      " 16  Pressure3pm    7113 non-null   float64\n",
      " 17  Cloud9am       6004 non-null   float64\n",
      " 18  Cloud3pm       5970 non-null   float64\n",
      " 19  Temp9am        8369 non-null   float64\n",
      " 20  Temp3pm        8329 non-null   float64\n",
      " 21  RainToday      8185 non-null   object \n",
      " 22  RainTomorrow   8186 non-null   object \n",
      "dtypes: float64(16), object(7)\n",
      "memory usage: 1.5+ MB\n"
     ]
    }
   ],
   "source": [
    "df.info()"
   ]
  },
  {
   "cell_type": "code",
   "execution_count": 133,
   "id": "67bb3c89",
   "metadata": {},
   "outputs": [
    {
     "data": {
      "text/plain": [
       "Date                0\n",
       "Location            0\n",
       "MinTemp            75\n",
       "MaxTemp            60\n",
       "Rainfall          240\n",
       "Evaporation      3512\n",
       "Sunshine         3994\n",
       "WindGustDir       991\n",
       "WindGustSpeed     991\n",
       "WindDir9am        829\n",
       "WindDir3pm        308\n",
       "WindSpeed9am       76\n",
       "WindSpeed3pm      107\n",
       "Humidity9am        59\n",
       "Humidity3pm       102\n",
       "Pressure9am      1309\n",
       "Pressure3pm      1312\n",
       "Cloud9am         2421\n",
       "Cloud3pm         2455\n",
       "Temp9am            56\n",
       "Temp3pm            96\n",
       "RainToday         240\n",
       "RainTomorrow      239\n",
       "dtype: int64"
      ]
     },
     "execution_count": 133,
     "metadata": {},
     "output_type": "execute_result"
    }
   ],
   "source": [
    "df.isnull().sum()"
   ]
  },
  {
   "cell_type": "code",
   "execution_count": 134,
   "id": "cfa385cf",
   "metadata": {},
   "outputs": [
    {
     "data": {
      "text/plain": [
       "No     6195\n",
       "Yes    1990\n",
       "Name: RainToday, dtype: int64"
      ]
     },
     "execution_count": 134,
     "metadata": {},
     "output_type": "execute_result"
    }
   ],
   "source": [
    "df['RainToday'].value_counts()"
   ]
  },
  {
   "cell_type": "code",
   "execution_count": 135,
   "id": "d65fa0fe",
   "metadata": {},
   "outputs": [
    {
     "data": {
      "text/plain": [
       "No     6195\n",
       "Yes    1991\n",
       "Name: RainTomorrow, dtype: int64"
      ]
     },
     "execution_count": 135,
     "metadata": {},
     "output_type": "execute_result"
    }
   ],
   "source": [
    "df['RainTomorrow'].value_counts()"
   ]
  },
  {
   "cell_type": "code",
   "execution_count": 1,
   "id": "12ea025b",
   "metadata": {},
   "outputs": [],
   "source": [
    "# First I will balance the data :"
   ]
  },
  {
   "cell_type": "code",
   "execution_count": 136,
   "id": "02858257",
   "metadata": {},
   "outputs": [],
   "source": [
    "No_rain_tomorrow = df[df['RainTomorrow']=='No']\n",
    "Yes_rain_tomorrow = df[df['RainTomorrow']=='Yes']"
   ]
  },
  {
   "cell_type": "code",
   "execution_count": 137,
   "id": "9d4f6178",
   "metadata": {},
   "outputs": [
    {
     "data": {
      "text/html": [
       "<div>\n",
       "<style scoped>\n",
       "    .dataframe tbody tr th:only-of-type {\n",
       "        vertical-align: middle;\n",
       "    }\n",
       "\n",
       "    .dataframe tbody tr th {\n",
       "        vertical-align: top;\n",
       "    }\n",
       "\n",
       "    .dataframe thead th {\n",
       "        text-align: right;\n",
       "    }\n",
       "</style>\n",
       "<table border=\"1\" class=\"dataframe\">\n",
       "  <thead>\n",
       "    <tr style=\"text-align: right;\">\n",
       "      <th></th>\n",
       "      <th>Date</th>\n",
       "      <th>Location</th>\n",
       "      <th>MinTemp</th>\n",
       "      <th>MaxTemp</th>\n",
       "      <th>Rainfall</th>\n",
       "      <th>Evaporation</th>\n",
       "      <th>Sunshine</th>\n",
       "      <th>WindGustDir</th>\n",
       "      <th>WindGustSpeed</th>\n",
       "      <th>WindDir9am</th>\n",
       "      <th>...</th>\n",
       "      <th>Humidity9am</th>\n",
       "      <th>Humidity3pm</th>\n",
       "      <th>Pressure9am</th>\n",
       "      <th>Pressure3pm</th>\n",
       "      <th>Cloud9am</th>\n",
       "      <th>Cloud3pm</th>\n",
       "      <th>Temp9am</th>\n",
       "      <th>Temp3pm</th>\n",
       "      <th>RainToday</th>\n",
       "      <th>RainTomorrow</th>\n",
       "    </tr>\n",
       "  </thead>\n",
       "  <tbody>\n",
       "    <tr>\n",
       "      <th>4011</th>\n",
       "      <td>2016-09-21</td>\n",
       "      <td>Williamtown</td>\n",
       "      <td>12.2</td>\n",
       "      <td>20.3</td>\n",
       "      <td>0.6</td>\n",
       "      <td>3.6</td>\n",
       "      <td>NaN</td>\n",
       "      <td>NaN</td>\n",
       "      <td>NaN</td>\n",
       "      <td>N</td>\n",
       "      <td>...</td>\n",
       "      <td>90.0</td>\n",
       "      <td>83.0</td>\n",
       "      <td>1013.9</td>\n",
       "      <td>1007.9</td>\n",
       "      <td>8.0</td>\n",
       "      <td>7.0</td>\n",
       "      <td>13.5</td>\n",
       "      <td>16.9</td>\n",
       "      <td>No</td>\n",
       "      <td>No</td>\n",
       "    </tr>\n",
       "    <tr>\n",
       "      <th>3187</th>\n",
       "      <td>2016-10-19</td>\n",
       "      <td>Williamtown</td>\n",
       "      <td>10.2</td>\n",
       "      <td>24.0</td>\n",
       "      <td>0.0</td>\n",
       "      <td>7.4</td>\n",
       "      <td>NaN</td>\n",
       "      <td>SE</td>\n",
       "      <td>35.0</td>\n",
       "      <td>WNW</td>\n",
       "      <td>...</td>\n",
       "      <td>56.0</td>\n",
       "      <td>47.0</td>\n",
       "      <td>1017.9</td>\n",
       "      <td>1016.6</td>\n",
       "      <td>4.0</td>\n",
       "      <td>NaN</td>\n",
       "      <td>18.1</td>\n",
       "      <td>21.1</td>\n",
       "      <td>No</td>\n",
       "      <td>No</td>\n",
       "    </tr>\n",
       "    <tr>\n",
       "      <th>2213</th>\n",
       "      <td>2015-05-05</td>\n",
       "      <td>Newcastle</td>\n",
       "      <td>15.1</td>\n",
       "      <td>26.8</td>\n",
       "      <td>0.0</td>\n",
       "      <td>NaN</td>\n",
       "      <td>NaN</td>\n",
       "      <td>NaN</td>\n",
       "      <td>NaN</td>\n",
       "      <td>N</td>\n",
       "      <td>...</td>\n",
       "      <td>90.0</td>\n",
       "      <td>46.0</td>\n",
       "      <td>NaN</td>\n",
       "      <td>NaN</td>\n",
       "      <td>1.0</td>\n",
       "      <td>1.0</td>\n",
       "      <td>18.4</td>\n",
       "      <td>26.0</td>\n",
       "      <td>No</td>\n",
       "      <td>No</td>\n",
       "    </tr>\n",
       "    <tr>\n",
       "      <th>6997</th>\n",
       "      <td>2011-02-01</td>\n",
       "      <td>PerthAirport</td>\n",
       "      <td>17.9</td>\n",
       "      <td>30.7</td>\n",
       "      <td>0.4</td>\n",
       "      <td>6.8</td>\n",
       "      <td>12.4</td>\n",
       "      <td>E</td>\n",
       "      <td>41.0</td>\n",
       "      <td>E</td>\n",
       "      <td>...</td>\n",
       "      <td>46.0</td>\n",
       "      <td>37.0</td>\n",
       "      <td>1013.1</td>\n",
       "      <td>1008.4</td>\n",
       "      <td>0.0</td>\n",
       "      <td>0.0</td>\n",
       "      <td>21.8</td>\n",
       "      <td>29.1</td>\n",
       "      <td>No</td>\n",
       "      <td>No</td>\n",
       "    </tr>\n",
       "    <tr>\n",
       "      <th>1627</th>\n",
       "      <td>2013-09-26</td>\n",
       "      <td>Newcastle</td>\n",
       "      <td>12.8</td>\n",
       "      <td>35.0</td>\n",
       "      <td>0.0</td>\n",
       "      <td>NaN</td>\n",
       "      <td>NaN</td>\n",
       "      <td>NaN</td>\n",
       "      <td>NaN</td>\n",
       "      <td>NW</td>\n",
       "      <td>...</td>\n",
       "      <td>45.0</td>\n",
       "      <td>16.0</td>\n",
       "      <td>NaN</td>\n",
       "      <td>NaN</td>\n",
       "      <td>0.0</td>\n",
       "      <td>0.0</td>\n",
       "      <td>23.0</td>\n",
       "      <td>33.0</td>\n",
       "      <td>No</td>\n",
       "      <td>No</td>\n",
       "    </tr>\n",
       "    <tr>\n",
       "      <th>...</th>\n",
       "      <td>...</td>\n",
       "      <td>...</td>\n",
       "      <td>...</td>\n",
       "      <td>...</td>\n",
       "      <td>...</td>\n",
       "      <td>...</td>\n",
       "      <td>...</td>\n",
       "      <td>...</td>\n",
       "      <td>...</td>\n",
       "      <td>...</td>\n",
       "      <td>...</td>\n",
       "      <td>...</td>\n",
       "      <td>...</td>\n",
       "      <td>...</td>\n",
       "      <td>...</td>\n",
       "      <td>...</td>\n",
       "      <td>...</td>\n",
       "      <td>...</td>\n",
       "      <td>...</td>\n",
       "      <td>...</td>\n",
       "      <td>...</td>\n",
       "    </tr>\n",
       "    <tr>\n",
       "      <th>8371</th>\n",
       "      <td>2012-10-27</td>\n",
       "      <td>Darwin</td>\n",
       "      <td>25.2</td>\n",
       "      <td>34.1</td>\n",
       "      <td>0.0</td>\n",
       "      <td>7.6</td>\n",
       "      <td>10.2</td>\n",
       "      <td>NW</td>\n",
       "      <td>37.0</td>\n",
       "      <td>WSW</td>\n",
       "      <td>...</td>\n",
       "      <td>72.0</td>\n",
       "      <td>61.0</td>\n",
       "      <td>1010.5</td>\n",
       "      <td>1006.5</td>\n",
       "      <td>5.0</td>\n",
       "      <td>3.0</td>\n",
       "      <td>29.9</td>\n",
       "      <td>32.1</td>\n",
       "      <td>No</td>\n",
       "      <td>Yes</td>\n",
       "    </tr>\n",
       "    <tr>\n",
       "      <th>8372</th>\n",
       "      <td>2012-10-28</td>\n",
       "      <td>Darwin</td>\n",
       "      <td>22.9</td>\n",
       "      <td>32.8</td>\n",
       "      <td>5.8</td>\n",
       "      <td>7.4</td>\n",
       "      <td>4.4</td>\n",
       "      <td>N</td>\n",
       "      <td>57.0</td>\n",
       "      <td>N</td>\n",
       "      <td>...</td>\n",
       "      <td>96.0</td>\n",
       "      <td>61.0</td>\n",
       "      <td>1012.1</td>\n",
       "      <td>1007.4</td>\n",
       "      <td>8.0</td>\n",
       "      <td>5.0</td>\n",
       "      <td>23.4</td>\n",
       "      <td>32.0</td>\n",
       "      <td>Yes</td>\n",
       "      <td>Yes</td>\n",
       "    </tr>\n",
       "    <tr>\n",
       "      <th>8377</th>\n",
       "      <td>2012-11-02</td>\n",
       "      <td>Darwin</td>\n",
       "      <td>25.6</td>\n",
       "      <td>34.1</td>\n",
       "      <td>1.0</td>\n",
       "      <td>7.6</td>\n",
       "      <td>11.3</td>\n",
       "      <td>N</td>\n",
       "      <td>35.0</td>\n",
       "      <td>NNE</td>\n",
       "      <td>...</td>\n",
       "      <td>71.0</td>\n",
       "      <td>55.0</td>\n",
       "      <td>1011.2</td>\n",
       "      <td>1006.9</td>\n",
       "      <td>4.0</td>\n",
       "      <td>3.0</td>\n",
       "      <td>29.2</td>\n",
       "      <td>33.1</td>\n",
       "      <td>No</td>\n",
       "      <td>Yes</td>\n",
       "    </tr>\n",
       "    <tr>\n",
       "      <th>8380</th>\n",
       "      <td>2012-11-05</td>\n",
       "      <td>Darwin</td>\n",
       "      <td>25.8</td>\n",
       "      <td>32.9</td>\n",
       "      <td>0.0</td>\n",
       "      <td>7.6</td>\n",
       "      <td>6.7</td>\n",
       "      <td>N</td>\n",
       "      <td>31.0</td>\n",
       "      <td>N</td>\n",
       "      <td>...</td>\n",
       "      <td>70.0</td>\n",
       "      <td>65.0</td>\n",
       "      <td>1010.2</td>\n",
       "      <td>1006.7</td>\n",
       "      <td>5.0</td>\n",
       "      <td>2.0</td>\n",
       "      <td>30.7</td>\n",
       "      <td>32.0</td>\n",
       "      <td>No</td>\n",
       "      <td>Yes</td>\n",
       "    </tr>\n",
       "    <tr>\n",
       "      <th>8382</th>\n",
       "      <td>2012-11-07</td>\n",
       "      <td>Darwin</td>\n",
       "      <td>26.2</td>\n",
       "      <td>33.3</td>\n",
       "      <td>0.0</td>\n",
       "      <td>6.0</td>\n",
       "      <td>5.9</td>\n",
       "      <td>N</td>\n",
       "      <td>54.0</td>\n",
       "      <td>ENE</td>\n",
       "      <td>...</td>\n",
       "      <td>66.0</td>\n",
       "      <td>93.0</td>\n",
       "      <td>1010.4</td>\n",
       "      <td>1006.8</td>\n",
       "      <td>4.0</td>\n",
       "      <td>8.0</td>\n",
       "      <td>30.2</td>\n",
       "      <td>25.2</td>\n",
       "      <td>No</td>\n",
       "      <td>Yes</td>\n",
       "    </tr>\n",
       "  </tbody>\n",
       "</table>\n",
       "<p>3991 rows × 23 columns</p>\n",
       "</div>"
      ],
      "text/plain": [
       "            Date      Location  MinTemp  MaxTemp  Rainfall  Evaporation  \\\n",
       "4011  2016-09-21   Williamtown     12.2     20.3       0.6          3.6   \n",
       "3187  2016-10-19   Williamtown     10.2     24.0       0.0          7.4   \n",
       "2213  2015-05-05     Newcastle     15.1     26.8       0.0          NaN   \n",
       "6997  2011-02-01  PerthAirport     17.9     30.7       0.4          6.8   \n",
       "1627  2013-09-26     Newcastle     12.8     35.0       0.0          NaN   \n",
       "...          ...           ...      ...      ...       ...          ...   \n",
       "8371  2012-10-27        Darwin     25.2     34.1       0.0          7.6   \n",
       "8372  2012-10-28        Darwin     22.9     32.8       5.8          7.4   \n",
       "8377  2012-11-02        Darwin     25.6     34.1       1.0          7.6   \n",
       "8380  2012-11-05        Darwin     25.8     32.9       0.0          7.6   \n",
       "8382  2012-11-07        Darwin     26.2     33.3       0.0          6.0   \n",
       "\n",
       "      Sunshine WindGustDir  WindGustSpeed WindDir9am  ... Humidity9am  \\\n",
       "4011       NaN         NaN            NaN          N  ...        90.0   \n",
       "3187       NaN          SE           35.0        WNW  ...        56.0   \n",
       "2213       NaN         NaN            NaN          N  ...        90.0   \n",
       "6997      12.4           E           41.0          E  ...        46.0   \n",
       "1627       NaN         NaN            NaN         NW  ...        45.0   \n",
       "...        ...         ...            ...        ...  ...         ...   \n",
       "8371      10.2          NW           37.0        WSW  ...        72.0   \n",
       "8372       4.4           N           57.0          N  ...        96.0   \n",
       "8377      11.3           N           35.0        NNE  ...        71.0   \n",
       "8380       6.7           N           31.0          N  ...        70.0   \n",
       "8382       5.9           N           54.0        ENE  ...        66.0   \n",
       "\n",
       "      Humidity3pm  Pressure9am  Pressure3pm  Cloud9am  Cloud3pm  Temp9am  \\\n",
       "4011         83.0       1013.9       1007.9       8.0       7.0     13.5   \n",
       "3187         47.0       1017.9       1016.6       4.0       NaN     18.1   \n",
       "2213         46.0          NaN          NaN       1.0       1.0     18.4   \n",
       "6997         37.0       1013.1       1008.4       0.0       0.0     21.8   \n",
       "1627         16.0          NaN          NaN       0.0       0.0     23.0   \n",
       "...           ...          ...          ...       ...       ...      ...   \n",
       "8371         61.0       1010.5       1006.5       5.0       3.0     29.9   \n",
       "8372         61.0       1012.1       1007.4       8.0       5.0     23.4   \n",
       "8377         55.0       1011.2       1006.9       4.0       3.0     29.2   \n",
       "8380         65.0       1010.2       1006.7       5.0       2.0     30.7   \n",
       "8382         93.0       1010.4       1006.8       4.0       8.0     30.2   \n",
       "\n",
       "      Temp3pm  RainToday  RainTomorrow  \n",
       "4011     16.9         No            No  \n",
       "3187     21.1         No            No  \n",
       "2213     26.0         No            No  \n",
       "6997     29.1         No            No  \n",
       "1627     33.0         No            No  \n",
       "...       ...        ...           ...  \n",
       "8371     32.1         No           Yes  \n",
       "8372     32.0        Yes           Yes  \n",
       "8377     33.1         No           Yes  \n",
       "8380     32.0         No           Yes  \n",
       "8382     25.2         No           Yes  \n",
       "\n",
       "[3991 rows x 23 columns]"
      ]
     },
     "execution_count": 137,
     "metadata": {},
     "output_type": "execute_result"
    }
   ],
   "source": [
    "sample = No_rain_tomorrow.sample(2000, random_state = 42)\n",
    "new_df = pd.concat([sample , Yes_rain_tomorrow])\n",
    "new_df"
   ]
  },
  {
   "cell_type": "code",
   "execution_count": 138,
   "id": "c898a95d",
   "metadata": {},
   "outputs": [
    {
     "data": {
      "text/plain": [
       "Index(['Date', 'Location', 'MinTemp', 'MaxTemp', 'Rainfall', 'Evaporation',\n",
       "       'Sunshine', 'WindGustDir', 'WindGustSpeed', 'WindDir9am', 'WindDir3pm',\n",
       "       'WindSpeed9am', 'WindSpeed3pm', 'Humidity9am', 'Humidity3pm',\n",
       "       'Pressure9am', 'Pressure3pm', 'Cloud9am', 'Cloud3pm', 'Temp9am',\n",
       "       'Temp3pm', 'RainToday', 'RainTomorrow'],\n",
       "      dtype='object')"
      ]
     },
     "execution_count": 138,
     "metadata": {},
     "output_type": "execute_result"
    }
   ],
   "source": [
    "new_df.columns"
   ]
  },
  {
   "cell_type": "code",
   "execution_count": 139,
   "id": "534c7458",
   "metadata": {},
   "outputs": [
    {
     "data": {
      "text/html": [
       "<div>\n",
       "<style scoped>\n",
       "    .dataframe tbody tr th:only-of-type {\n",
       "        vertical-align: middle;\n",
       "    }\n",
       "\n",
       "    .dataframe tbody tr th {\n",
       "        vertical-align: top;\n",
       "    }\n",
       "\n",
       "    .dataframe thead th {\n",
       "        text-align: right;\n",
       "    }\n",
       "</style>\n",
       "<table border=\"1\" class=\"dataframe\">\n",
       "  <thead>\n",
       "    <tr style=\"text-align: right;\">\n",
       "      <th></th>\n",
       "      <th>Location</th>\n",
       "      <th>MinTemp</th>\n",
       "      <th>MaxTemp</th>\n",
       "      <th>Rainfall</th>\n",
       "      <th>Evaporation</th>\n",
       "      <th>Sunshine</th>\n",
       "      <th>WindGustDir</th>\n",
       "      <th>WindGustSpeed</th>\n",
       "      <th>WindDir9am</th>\n",
       "      <th>WindDir3pm</th>\n",
       "      <th>...</th>\n",
       "      <th>Humidity9am</th>\n",
       "      <th>Humidity3pm</th>\n",
       "      <th>Pressure9am</th>\n",
       "      <th>Pressure3pm</th>\n",
       "      <th>Cloud9am</th>\n",
       "      <th>Cloud3pm</th>\n",
       "      <th>Temp9am</th>\n",
       "      <th>Temp3pm</th>\n",
       "      <th>RainToday</th>\n",
       "      <th>RainTomorrow</th>\n",
       "    </tr>\n",
       "  </thead>\n",
       "  <tbody>\n",
       "    <tr>\n",
       "      <th>4011</th>\n",
       "      <td>Williamtown</td>\n",
       "      <td>12.2</td>\n",
       "      <td>20.3</td>\n",
       "      <td>0.6</td>\n",
       "      <td>3.6</td>\n",
       "      <td>NaN</td>\n",
       "      <td>NaN</td>\n",
       "      <td>NaN</td>\n",
       "      <td>N</td>\n",
       "      <td>SSE</td>\n",
       "      <td>...</td>\n",
       "      <td>90.0</td>\n",
       "      <td>83.0</td>\n",
       "      <td>1013.9</td>\n",
       "      <td>1007.9</td>\n",
       "      <td>8.0</td>\n",
       "      <td>7.0</td>\n",
       "      <td>13.5</td>\n",
       "      <td>16.9</td>\n",
       "      <td>No</td>\n",
       "      <td>No</td>\n",
       "    </tr>\n",
       "    <tr>\n",
       "      <th>3187</th>\n",
       "      <td>Williamtown</td>\n",
       "      <td>10.2</td>\n",
       "      <td>24.0</td>\n",
       "      <td>0.0</td>\n",
       "      <td>7.4</td>\n",
       "      <td>NaN</td>\n",
       "      <td>SE</td>\n",
       "      <td>35.0</td>\n",
       "      <td>WNW</td>\n",
       "      <td>ESE</td>\n",
       "      <td>...</td>\n",
       "      <td>56.0</td>\n",
       "      <td>47.0</td>\n",
       "      <td>1017.9</td>\n",
       "      <td>1016.6</td>\n",
       "      <td>4.0</td>\n",
       "      <td>NaN</td>\n",
       "      <td>18.1</td>\n",
       "      <td>21.1</td>\n",
       "      <td>No</td>\n",
       "      <td>No</td>\n",
       "    </tr>\n",
       "    <tr>\n",
       "      <th>2213</th>\n",
       "      <td>Newcastle</td>\n",
       "      <td>15.1</td>\n",
       "      <td>26.8</td>\n",
       "      <td>0.0</td>\n",
       "      <td>NaN</td>\n",
       "      <td>NaN</td>\n",
       "      <td>NaN</td>\n",
       "      <td>NaN</td>\n",
       "      <td>N</td>\n",
       "      <td>N</td>\n",
       "      <td>...</td>\n",
       "      <td>90.0</td>\n",
       "      <td>46.0</td>\n",
       "      <td>NaN</td>\n",
       "      <td>NaN</td>\n",
       "      <td>1.0</td>\n",
       "      <td>1.0</td>\n",
       "      <td>18.4</td>\n",
       "      <td>26.0</td>\n",
       "      <td>No</td>\n",
       "      <td>No</td>\n",
       "    </tr>\n",
       "    <tr>\n",
       "      <th>6997</th>\n",
       "      <td>PerthAirport</td>\n",
       "      <td>17.9</td>\n",
       "      <td>30.7</td>\n",
       "      <td>0.4</td>\n",
       "      <td>6.8</td>\n",
       "      <td>12.4</td>\n",
       "      <td>E</td>\n",
       "      <td>41.0</td>\n",
       "      <td>E</td>\n",
       "      <td>WSW</td>\n",
       "      <td>...</td>\n",
       "      <td>46.0</td>\n",
       "      <td>37.0</td>\n",
       "      <td>1013.1</td>\n",
       "      <td>1008.4</td>\n",
       "      <td>0.0</td>\n",
       "      <td>0.0</td>\n",
       "      <td>21.8</td>\n",
       "      <td>29.1</td>\n",
       "      <td>No</td>\n",
       "      <td>No</td>\n",
       "    </tr>\n",
       "    <tr>\n",
       "      <th>1627</th>\n",
       "      <td>Newcastle</td>\n",
       "      <td>12.8</td>\n",
       "      <td>35.0</td>\n",
       "      <td>0.0</td>\n",
       "      <td>NaN</td>\n",
       "      <td>NaN</td>\n",
       "      <td>NaN</td>\n",
       "      <td>NaN</td>\n",
       "      <td>NW</td>\n",
       "      <td>SW</td>\n",
       "      <td>...</td>\n",
       "      <td>45.0</td>\n",
       "      <td>16.0</td>\n",
       "      <td>NaN</td>\n",
       "      <td>NaN</td>\n",
       "      <td>0.0</td>\n",
       "      <td>0.0</td>\n",
       "      <td>23.0</td>\n",
       "      <td>33.0</td>\n",
       "      <td>No</td>\n",
       "      <td>No</td>\n",
       "    </tr>\n",
       "    <tr>\n",
       "      <th>...</th>\n",
       "      <td>...</td>\n",
       "      <td>...</td>\n",
       "      <td>...</td>\n",
       "      <td>...</td>\n",
       "      <td>...</td>\n",
       "      <td>...</td>\n",
       "      <td>...</td>\n",
       "      <td>...</td>\n",
       "      <td>...</td>\n",
       "      <td>...</td>\n",
       "      <td>...</td>\n",
       "      <td>...</td>\n",
       "      <td>...</td>\n",
       "      <td>...</td>\n",
       "      <td>...</td>\n",
       "      <td>...</td>\n",
       "      <td>...</td>\n",
       "      <td>...</td>\n",
       "      <td>...</td>\n",
       "      <td>...</td>\n",
       "      <td>...</td>\n",
       "    </tr>\n",
       "    <tr>\n",
       "      <th>8371</th>\n",
       "      <td>Darwin</td>\n",
       "      <td>25.2</td>\n",
       "      <td>34.1</td>\n",
       "      <td>0.0</td>\n",
       "      <td>7.6</td>\n",
       "      <td>10.2</td>\n",
       "      <td>NW</td>\n",
       "      <td>37.0</td>\n",
       "      <td>WSW</td>\n",
       "      <td>NW</td>\n",
       "      <td>...</td>\n",
       "      <td>72.0</td>\n",
       "      <td>61.0</td>\n",
       "      <td>1010.5</td>\n",
       "      <td>1006.5</td>\n",
       "      <td>5.0</td>\n",
       "      <td>3.0</td>\n",
       "      <td>29.9</td>\n",
       "      <td>32.1</td>\n",
       "      <td>No</td>\n",
       "      <td>Yes</td>\n",
       "    </tr>\n",
       "    <tr>\n",
       "      <th>8372</th>\n",
       "      <td>Darwin</td>\n",
       "      <td>22.9</td>\n",
       "      <td>32.8</td>\n",
       "      <td>5.8</td>\n",
       "      <td>7.4</td>\n",
       "      <td>4.4</td>\n",
       "      <td>N</td>\n",
       "      <td>57.0</td>\n",
       "      <td>N</td>\n",
       "      <td>NNW</td>\n",
       "      <td>...</td>\n",
       "      <td>96.0</td>\n",
       "      <td>61.0</td>\n",
       "      <td>1012.1</td>\n",
       "      <td>1007.4</td>\n",
       "      <td>8.0</td>\n",
       "      <td>5.0</td>\n",
       "      <td>23.4</td>\n",
       "      <td>32.0</td>\n",
       "      <td>Yes</td>\n",
       "      <td>Yes</td>\n",
       "    </tr>\n",
       "    <tr>\n",
       "      <th>8377</th>\n",
       "      <td>Darwin</td>\n",
       "      <td>25.6</td>\n",
       "      <td>34.1</td>\n",
       "      <td>1.0</td>\n",
       "      <td>7.6</td>\n",
       "      <td>11.3</td>\n",
       "      <td>N</td>\n",
       "      <td>35.0</td>\n",
       "      <td>NNE</td>\n",
       "      <td>NNW</td>\n",
       "      <td>...</td>\n",
       "      <td>71.0</td>\n",
       "      <td>55.0</td>\n",
       "      <td>1011.2</td>\n",
       "      <td>1006.9</td>\n",
       "      <td>4.0</td>\n",
       "      <td>3.0</td>\n",
       "      <td>29.2</td>\n",
       "      <td>33.1</td>\n",
       "      <td>No</td>\n",
       "      <td>Yes</td>\n",
       "    </tr>\n",
       "    <tr>\n",
       "      <th>8380</th>\n",
       "      <td>Darwin</td>\n",
       "      <td>25.8</td>\n",
       "      <td>32.9</td>\n",
       "      <td>0.0</td>\n",
       "      <td>7.6</td>\n",
       "      <td>6.7</td>\n",
       "      <td>N</td>\n",
       "      <td>31.0</td>\n",
       "      <td>N</td>\n",
       "      <td>NNW</td>\n",
       "      <td>...</td>\n",
       "      <td>70.0</td>\n",
       "      <td>65.0</td>\n",
       "      <td>1010.2</td>\n",
       "      <td>1006.7</td>\n",
       "      <td>5.0</td>\n",
       "      <td>2.0</td>\n",
       "      <td>30.7</td>\n",
       "      <td>32.0</td>\n",
       "      <td>No</td>\n",
       "      <td>Yes</td>\n",
       "    </tr>\n",
       "    <tr>\n",
       "      <th>8382</th>\n",
       "      <td>Darwin</td>\n",
       "      <td>26.2</td>\n",
       "      <td>33.3</td>\n",
       "      <td>0.0</td>\n",
       "      <td>6.0</td>\n",
       "      <td>5.9</td>\n",
       "      <td>N</td>\n",
       "      <td>54.0</td>\n",
       "      <td>ENE</td>\n",
       "      <td>E</td>\n",
       "      <td>...</td>\n",
       "      <td>66.0</td>\n",
       "      <td>93.0</td>\n",
       "      <td>1010.4</td>\n",
       "      <td>1006.8</td>\n",
       "      <td>4.0</td>\n",
       "      <td>8.0</td>\n",
       "      <td>30.2</td>\n",
       "      <td>25.2</td>\n",
       "      <td>No</td>\n",
       "      <td>Yes</td>\n",
       "    </tr>\n",
       "  </tbody>\n",
       "</table>\n",
       "<p>3991 rows × 22 columns</p>\n",
       "</div>"
      ],
      "text/plain": [
       "          Location  MinTemp  MaxTemp  Rainfall  Evaporation  Sunshine  \\\n",
       "4011   Williamtown     12.2     20.3       0.6          3.6       NaN   \n",
       "3187   Williamtown     10.2     24.0       0.0          7.4       NaN   \n",
       "2213     Newcastle     15.1     26.8       0.0          NaN       NaN   \n",
       "6997  PerthAirport     17.9     30.7       0.4          6.8      12.4   \n",
       "1627     Newcastle     12.8     35.0       0.0          NaN       NaN   \n",
       "...            ...      ...      ...       ...          ...       ...   \n",
       "8371        Darwin     25.2     34.1       0.0          7.6      10.2   \n",
       "8372        Darwin     22.9     32.8       5.8          7.4       4.4   \n",
       "8377        Darwin     25.6     34.1       1.0          7.6      11.3   \n",
       "8380        Darwin     25.8     32.9       0.0          7.6       6.7   \n",
       "8382        Darwin     26.2     33.3       0.0          6.0       5.9   \n",
       "\n",
       "     WindGustDir  WindGustSpeed WindDir9am WindDir3pm  ...  Humidity9am  \\\n",
       "4011         NaN            NaN          N        SSE  ...         90.0   \n",
       "3187          SE           35.0        WNW        ESE  ...         56.0   \n",
       "2213         NaN            NaN          N          N  ...         90.0   \n",
       "6997           E           41.0          E        WSW  ...         46.0   \n",
       "1627         NaN            NaN         NW         SW  ...         45.0   \n",
       "...          ...            ...        ...        ...  ...          ...   \n",
       "8371          NW           37.0        WSW         NW  ...         72.0   \n",
       "8372           N           57.0          N        NNW  ...         96.0   \n",
       "8377           N           35.0        NNE        NNW  ...         71.0   \n",
       "8380           N           31.0          N        NNW  ...         70.0   \n",
       "8382           N           54.0        ENE          E  ...         66.0   \n",
       "\n",
       "      Humidity3pm  Pressure9am  Pressure3pm  Cloud9am  Cloud3pm  Temp9am  \\\n",
       "4011         83.0       1013.9       1007.9       8.0       7.0     13.5   \n",
       "3187         47.0       1017.9       1016.6       4.0       NaN     18.1   \n",
       "2213         46.0          NaN          NaN       1.0       1.0     18.4   \n",
       "6997         37.0       1013.1       1008.4       0.0       0.0     21.8   \n",
       "1627         16.0          NaN          NaN       0.0       0.0     23.0   \n",
       "...           ...          ...          ...       ...       ...      ...   \n",
       "8371         61.0       1010.5       1006.5       5.0       3.0     29.9   \n",
       "8372         61.0       1012.1       1007.4       8.0       5.0     23.4   \n",
       "8377         55.0       1011.2       1006.9       4.0       3.0     29.2   \n",
       "8380         65.0       1010.2       1006.7       5.0       2.0     30.7   \n",
       "8382         93.0       1010.4       1006.8       4.0       8.0     30.2   \n",
       "\n",
       "      Temp3pm  RainToday  RainTomorrow  \n",
       "4011     16.9         No            No  \n",
       "3187     21.1         No            No  \n",
       "2213     26.0         No            No  \n",
       "6997     29.1         No            No  \n",
       "1627     33.0         No            No  \n",
       "...       ...        ...           ...  \n",
       "8371     32.1         No           Yes  \n",
       "8372     32.0        Yes           Yes  \n",
       "8377     33.1         No           Yes  \n",
       "8380     32.0         No           Yes  \n",
       "8382     25.2         No           Yes  \n",
       "\n",
       "[3991 rows x 22 columns]"
      ]
     },
     "execution_count": 139,
     "metadata": {},
     "output_type": "execute_result"
    }
   ],
   "source": [
    "new_df.drop('Date', axis = 1, inplace = True)\n",
    "new_df"
   ]
  },
  {
   "cell_type": "code",
   "execution_count": 140,
   "id": "9d676993",
   "metadata": {},
   "outputs": [
    {
     "data": {
      "text/plain": [
       "Melbourne       746\n",
       "Williamtown     575\n",
       "PerthAirport    551\n",
       "Albury          442\n",
       "Newcastle       408\n",
       "CoffsHarbour    324\n",
       "Brisbane        277\n",
       "Wollongong      236\n",
       "Penrith         218\n",
       "Adelaide        100\n",
       "Darwin          100\n",
       "Uluru            14\n",
       "Name: Location, dtype: int64"
      ]
     },
     "execution_count": 140,
     "metadata": {},
     "output_type": "execute_result"
    }
   ],
   "source": [
    "new_df['Location'].value_counts()"
   ]
  },
  {
   "cell_type": "markdown",
   "id": "9a18eec9",
   "metadata": {},
   "source": [
    "# Checking the data :"
   ]
  },
  {
   "cell_type": "code",
   "execution_count": 141,
   "id": "80d75c10",
   "metadata": {},
   "outputs": [
    {
     "data": {
      "text/plain": [
       "Location      RainTomorrow\n",
       "Adelaide      No               55\n",
       "              Yes              45\n",
       "Albury        No              243\n",
       "              Yes             199\n",
       "Brisbane      No              142\n",
       "              Yes             135\n",
       "CoffsHarbour  Yes             186\n",
       "              No              138\n",
       "Darwin        No               68\n",
       "              Yes              32\n",
       "Melbourne     Yes             406\n",
       "              No              340\n",
       "Newcastle     No              210\n",
       "              Yes             198\n",
       "Penrith       Yes             116\n",
       "              No              102\n",
       "PerthAirport  No              309\n",
       "              Yes             242\n",
       "Uluru         No               14\n",
       "Williamtown   Yes             306\n",
       "              No              269\n",
       "Wollongong    Yes             126\n",
       "              No              110\n",
       "Name: RainTomorrow, dtype: int64"
      ]
     },
     "execution_count": 141,
     "metadata": {},
     "output_type": "execute_result"
    }
   ],
   "source": [
    "rainfall_tomorrow_by_location = new_df.groupby('Location')['RainTomorrow'].value_counts()\n",
    "rainfall_tomorrow_by_location"
   ]
  },
  {
   "cell_type": "code",
   "execution_count": 142,
   "id": "295f3457",
   "metadata": {},
   "outputs": [
    {
     "data": {
      "text/plain": [
       "RainToday  RainTomorrow\n",
       "No         No              1666\n",
       "           Yes              978\n",
       "Yes        Yes              946\n",
       "           No               321\n",
       "Name: RainTomorrow, dtype: int64"
      ]
     },
     "execution_count": 142,
     "metadata": {},
     "output_type": "execute_result"
    }
   ],
   "source": [
    "TodayRain_Vs_TomorrowRain = new_df.groupby('RainToday')['RainTomorrow'].value_counts()\n",
    "TodayRain_Vs_TomorrowRain"
   ]
  },
  {
   "cell_type": "code",
   "execution_count": 143,
   "id": "0d02e575",
   "metadata": {},
   "outputs": [
    {
     "data": {
      "text/plain": [
       "N      455\n",
       "SW     360\n",
       "NW     297\n",
       "WSW    244\n",
       "WNW    233\n",
       "SE     233\n",
       "SSW    218\n",
       "W      215\n",
       "NNE    212\n",
       "NE     204\n",
       "S      187\n",
       "SSE    173\n",
       "ENE    169\n",
       "E      152\n",
       "NNW    132\n",
       "ESE    131\n",
       "Name: WindDir9am, dtype: int64"
      ]
     },
     "execution_count": 143,
     "metadata": {},
     "output_type": "execute_result"
    }
   ],
   "source": [
    "new_df['WindDir9am'].value_counts()"
   ]
  },
  {
   "cell_type": "code",
   "execution_count": 144,
   "id": "fd7e4b0a",
   "metadata": {},
   "outputs": [
    {
     "data": {
      "text/plain": [
       "WindDir9am  RainTomorrow\n",
       "E           No              104\n",
       "            Yes              48\n",
       "ENE         No              105\n",
       "            Yes              64\n",
       "ESE         No               69\n",
       "            Yes              62\n",
       "N           Yes             298\n",
       "            No              157\n",
       "NE          No              119\n",
       "            Yes              85\n",
       "NNE         Yes             115\n",
       "            No               97\n",
       "NNW         Yes              72\n",
       "            No               60\n",
       "NW          No              166\n",
       "            Yes             131\n",
       "S           No               99\n",
       "            Yes              88\n",
       "SE          No              139\n",
       "            Yes              94\n",
       "SSE         No              102\n",
       "            Yes              71\n",
       "SSW         Yes             116\n",
       "            No              102\n",
       "SW          Yes             198\n",
       "            No              162\n",
       "W           Yes             112\n",
       "            No              103\n",
       "WNW         Yes             136\n",
       "            No               97\n",
       "WSW         Yes             124\n",
       "            No              120\n",
       "Name: RainTomorrow, dtype: int64"
      ]
     },
     "execution_count": 144,
     "metadata": {},
     "output_type": "execute_result"
    }
   ],
   "source": [
    "WindDirection9amp_Vs_RainTomorrow = new_df.groupby('WindDir9am')['RainTomorrow'].value_counts()\n",
    "WindDirection9amp_Vs_RainTomorrow"
   ]
  },
  {
   "cell_type": "code",
   "execution_count": 145,
   "id": "942bd7a7",
   "metadata": {},
   "outputs": [
    {
     "data": {
      "text/plain": [
       "WindDir3pm  RainTomorrow\n",
       "E           No              114\n",
       "            Yes              94\n",
       "ENE         Yes              89\n",
       "            No               87\n",
       "ESE         No              131\n",
       "            Yes              88\n",
       "N           Yes             143\n",
       "            No              127\n",
       "NE          No              132\n",
       "            Yes             110\n",
       "NNE         No               87\n",
       "            Yes              83\n",
       "NNW         Yes             108\n",
       "            No               54\n",
       "NW          Yes             127\n",
       "            No              111\n",
       "S           Yes             179\n",
       "            No              170\n",
       "SE          No              194\n",
       "            Yes             180\n",
       "SSE         No              165\n",
       "            Yes             126\n",
       "SSW         Yes             130\n",
       "            No               68\n",
       "SW          Yes             114\n",
       "            No              108\n",
       "W           No              134\n",
       "            Yes              97\n",
       "WNW         No              117\n",
       "            Yes             100\n",
       "WSW         Yes             138\n",
       "            No              130\n",
       "Name: RainTomorrow, dtype: int64"
      ]
     },
     "execution_count": 145,
     "metadata": {},
     "output_type": "execute_result"
    }
   ],
   "source": [
    "WindDirection3pm_Vs_RainTomorrow = new_df.groupby('WindDir3pm')['RainTomorrow'].value_counts()\n",
    "WindDirection3pm_Vs_RainTomorrow"
   ]
  },
  {
   "cell_type": "code",
   "execution_count": 146,
   "id": "7f1ee16c",
   "metadata": {},
   "outputs": [
    {
     "data": {
      "text/plain": [
       "WindGustDir  RainTomorrow\n",
       "E            No              155\n",
       "             Yes              67\n",
       "ENE          No               99\n",
       "             Yes              64\n",
       "ESE          No               72\n",
       "             Yes              66\n",
       "N            Yes             198\n",
       "             No              146\n",
       "NE           No               87\n",
       "             Yes              83\n",
       "NNE          Yes              89\n",
       "             No               87\n",
       "NNW          Yes              64\n",
       "             No               54\n",
       "NW           Yes             102\n",
       "             No               87\n",
       "S            Yes             147\n",
       "             No              122\n",
       "SE           No              121\n",
       "             Yes             106\n",
       "SSE          No              137\n",
       "             Yes             134\n",
       "SSW          Yes             113\n",
       "             No               84\n",
       "SW           Yes             152\n",
       "             No              120\n",
       "W            No              142\n",
       "             Yes             107\n",
       "WNW          Yes             135\n",
       "             No              120\n",
       "WSW          Yes             139\n",
       "             No              121\n",
       "Name: RainTomorrow, dtype: int64"
      ]
     },
     "execution_count": 146,
     "metadata": {},
     "output_type": "execute_result"
    }
   ],
   "source": [
    "WindGustDirection_Vs_RainTomorrow = new_df.groupby('WindGustDir')['RainTomorrow'].value_counts()\n",
    "WindGustDirection_Vs_RainTomorrow"
   ]
  },
  {
   "cell_type": "code",
   "execution_count": 147,
   "id": "4c8e32f5",
   "metadata": {},
   "outputs": [
    {
     "data": {
      "text/plain": [
       "Index(['Location', 'MinTemp', 'MaxTemp', 'Rainfall', 'Evaporation', 'Sunshine',\n",
       "       'WindGustDir', 'WindGustSpeed', 'WindDir9am', 'WindDir3pm',\n",
       "       'WindSpeed9am', 'WindSpeed3pm', 'Humidity9am', 'Humidity3pm',\n",
       "       'Pressure9am', 'Pressure3pm', 'Cloud9am', 'Cloud3pm', 'Temp9am',\n",
       "       'Temp3pm', 'RainToday', 'RainTomorrow'],\n",
       "      dtype='object')"
      ]
     },
     "execution_count": 147,
     "metadata": {},
     "output_type": "execute_result"
    }
   ],
   "source": [
    "new_df.columns"
   ]
  },
  {
   "cell_type": "markdown",
   "id": "ee8450bd",
   "metadata": {},
   "source": [
    "# EDA :"
   ]
  },
  {
   "cell_type": "markdown",
   "id": "94267f15",
   "metadata": {},
   "source": [
    "# Maximum  , Minimum Temperature  :"
   ]
  },
  {
   "cell_type": "code",
   "execution_count": 148,
   "id": "61723395",
   "metadata": {},
   "outputs": [
    {
     "data": {
      "image/png": "[encoded data removed]",
      "text/plain": [
       "<Figure size 640x480 with 1 Axes>"
      ]
     },
     "metadata": {},
     "output_type": "display_data"
    }
   ],
   "source": [
    "sns.barplot(data =  new_df , x = 'RainTomorrow', y = 'MinTemp' )\n",
    "plt.show()"
   ]
  },
  {
   "cell_type": "code",
   "execution_count": 149,
   "id": "3e19b075",
   "metadata": {},
   "outputs": [
    {
     "data": {
      "image/png": "[encoded data removed]",
      "text/plain": [
       "<Figure size 640x480 with 1 Axes>"
      ]
     },
     "metadata": {},
     "output_type": "display_data"
    }
   ],
   "source": [
    "sns.barplot(data =  new_df , x = 'RainTomorrow', y = 'MaxTemp' )\n",
    "plt.show()"
   ]
  },
  {
   "cell_type": "markdown",
   "id": "5c3fd4e2",
   "metadata": {},
   "source": [
    "# Rainfall :"
   ]
  },
  {
   "cell_type": "code",
   "execution_count": 150,
   "id": "9b192798",
   "metadata": {},
   "outputs": [
    {
     "data": {
      "image/png": "[encoded data removed]",
      "text/plain": [
       "<Figure size 640x480 with 1 Axes>"
      ]
     },
     "metadata": {},
     "output_type": "display_data"
    }
   ],
   "source": [
    "sns.barplot(data =  new_df , x = 'RainTomorrow', y = 'Rainfall' )\n",
    "plt.show()"
   ]
  },
  {
   "cell_type": "markdown",
   "id": "8838fc7d",
   "metadata": {},
   "source": [
    "# Evaporation :"
   ]
  },
  {
   "cell_type": "code",
   "execution_count": 151,
   "id": "7e2fc4c9",
   "metadata": {},
   "outputs": [
    {
     "data": {
      "image/png": "[encoded data removed]",
      "text/plain": [
       "<Figure size 640x480 with 1 Axes>"
      ]
     },
     "metadata": {},
     "output_type": "display_data"
    }
   ],
   "source": [
    "sns.barplot(data =  new_df , x = 'RainTomorrow', y = 'Evaporation' )\n",
    "plt.show()"
   ]
  },
  {
   "cell_type": "markdown",
   "id": "f281e3e3",
   "metadata": {},
   "source": [
    "# Sunshine :"
   ]
  },
  {
   "cell_type": "code",
   "execution_count": 152,
   "id": "467f5e54",
   "metadata": {},
   "outputs": [
    {
     "data": {
      "image/png": "[encoded data removed]",
      "text/plain": [
       "<Figure size 640x480 with 1 Axes>"
      ]
     },
     "metadata": {},
     "output_type": "display_data"
    }
   ],
   "source": [
    "sns.barplot(data =  new_df , x = 'RainTomorrow', y = 'Sunshine' )\n",
    "plt.show()"
   ]
  },
  {
   "cell_type": "markdown",
   "id": "5bc1ca70",
   "metadata": {},
   "source": [
    "# WindGustSpeed :"
   ]
  },
  {
   "cell_type": "code",
   "execution_count": 153,
   "id": "64734d6d",
   "metadata": {},
   "outputs": [
    {
     "data": {
      "image/png": "[encoded data removed]",
      "text/plain": [
       "<Figure size 640x480 with 1 Axes>"
      ]
     },
     "metadata": {},
     "output_type": "display_data"
    }
   ],
   "source": [
    "sns.barplot(data =  new_df , x = 'RainTomorrow', y = 'WindGustSpeed' )\n",
    "plt.show()"
   ]
  },
  {
   "cell_type": "markdown",
   "id": "cef18e66",
   "metadata": {},
   "source": [
    "# WindSpeed :"
   ]
  },
  {
   "cell_type": "code",
   "execution_count": 154,
   "id": "45e90b56",
   "metadata": {},
   "outputs": [
    {
     "data": {
      "image/png": "[encoded data removed]",
      "text/plain": [
       "<Figure size 640x480 with 1 Axes>"
      ]
     },
     "metadata": {},
     "output_type": "display_data"
    }
   ],
   "source": [
    "sns.barplot(data =  new_df , x = 'RainTomorrow', y = 'WindSpeed9am' )\n",
    "plt.show()"
   ]
  },
  {
   "cell_type": "code",
   "execution_count": 155,
   "id": "641e0fcd",
   "metadata": {},
   "outputs": [
    {
     "data": {
      "image/png": "[encoded data removed]",
      "text/plain": [
       "<Figure size 640x480 with 1 Axes>"
      ]
     },
     "metadata": {},
     "output_type": "display_data"
    }
   ],
   "source": [
    "sns.barplot(data =  new_df , x = 'RainTomorrow', y = 'WindSpeed3pm' )\n",
    "plt.show()"
   ]
  },
  {
   "cell_type": "markdown",
   "id": "2440ec80",
   "metadata": {},
   "source": [
    "# Pressure :"
   ]
  },
  {
   "cell_type": "code",
   "execution_count": 156,
   "id": "5f70c312",
   "metadata": {},
   "outputs": [
    {
     "data": {
      "image/png": "[encoded data removed]",
      "text/plain": [
       "<Figure size 640x480 with 1 Axes>"
      ]
     },
     "metadata": {},
     "output_type": "display_data"
    }
   ],
   "source": [
    "sns.barplot(data =  new_df , x = 'RainTomorrow', y = 'Pressure9am' )\n",
    "plt.show()"
   ]
  },
  {
   "cell_type": "code",
   "execution_count": 157,
   "id": "3d71a8bc",
   "metadata": {},
   "outputs": [
    {
     "data": {
      "image/png": "[encoded data removed]",
      "text/plain": [
       "<Figure size 640x480 with 1 Axes>"
      ]
     },
     "metadata": {},
     "output_type": "display_data"
    }
   ],
   "source": [
    "sns.barplot(data =  new_df , x = 'RainTomorrow', y = 'Pressure3pm' )\n",
    "plt.show()"
   ]
  },
  {
   "cell_type": "markdown",
   "id": "eeb75cb7",
   "metadata": {},
   "source": [
    "# Temperature :"
   ]
  },
  {
   "cell_type": "code",
   "execution_count": 158,
   "id": "15165fe0",
   "metadata": {},
   "outputs": [
    {
     "data": {
      "image/png": "[encoded data removed]",
      "text/plain": [
       "<Figure size 640x480 with 1 Axes>"
      ]
     },
     "metadata": {},
     "output_type": "display_data"
    }
   ],
   "source": [
    "sns.barplot(data =  new_df , x = 'RainTomorrow', y = 'Temp9am' )\n",
    "plt.show()"
   ]
  },
  {
   "cell_type": "code",
   "execution_count": 159,
   "id": "15696dc1",
   "metadata": {},
   "outputs": [
    {
     "data": {
      "image/png": "[encoded data removed]",
      "text/plain": [
       "<Figure size 640x480 with 1 Axes>"
      ]
     },
     "metadata": {},
     "output_type": "display_data"
    }
   ],
   "source": [
    "sns.barplot(data =  new_df , x = 'RainTomorrow', y = 'Temp3pm' )\n",
    "plt.show()"
   ]
  },
  {
   "cell_type": "markdown",
   "id": "5f7b2604",
   "metadata": {},
   "source": [
    "# Cloud :"
   ]
  },
  {
   "cell_type": "code",
   "execution_count": 160,
   "id": "078047a0",
   "metadata": {},
   "outputs": [
    {
     "data": {
      "image/png": "[encoded data removed]",
      "text/plain": [
       "<Figure size 640x480 with 1 Axes>"
      ]
     },
     "metadata": {},
     "output_type": "display_data"
    }
   ],
   "source": [
    "sns.barplot(data =  new_df , x = 'RainTomorrow', y = 'Cloud9am' )\n",
    "plt.show()"
   ]
  },
  {
   "cell_type": "code",
   "execution_count": 161,
   "id": "c94a24ca",
   "metadata": {},
   "outputs": [
    {
     "data": {
      "image/png": "[encoded data removed]",
      "text/plain": [
       "<Figure size 640x480 with 1 Axes>"
      ]
     },
     "metadata": {},
     "output_type": "display_data"
    }
   ],
   "source": [
    "sns.barplot(data =  new_df , x = 'RainTomorrow', y = 'Cloud3pm' )\n",
    "plt.show()"
   ]
  },
  {
   "cell_type": "markdown",
   "id": "b5eb1bb5",
   "metadata": {},
   "source": [
    "# Humidity :"
   ]
  },
  {
   "cell_type": "code",
   "execution_count": 162,
   "id": "561760fd",
   "metadata": {},
   "outputs": [
    {
     "data": {
      "image/png": "[encoded data removed]",
      "text/plain": [
       "<Figure size 640x480 with 1 Axes>"
      ]
     },
     "metadata": {},
     "output_type": "display_data"
    }
   ],
   "source": [
    "sns.barplot(data =  new_df , x = 'RainTomorrow', y = 'Humidity9am' )\n",
    "plt.show()"
   ]
  },
  {
   "cell_type": "code",
   "execution_count": 163,
   "id": "bdefa1f4",
   "metadata": {},
   "outputs": [
    {
     "data": {
      "image/png": "[encoded data removed]",
      "text/plain": [
       "<Figure size 640x480 with 1 Axes>"
      ]
     },
     "metadata": {},
     "output_type": "display_data"
    }
   ],
   "source": [
    "sns.barplot(data =  new_df , x = 'RainTomorrow', y = 'Humidity3pm')\n",
    "plt.show()"
   ]
  },
  {
   "cell_type": "code",
   "execution_count": 164,
   "id": "0245a45c",
   "metadata": {},
   "outputs": [
    {
     "data": {
      "text/plain": [
       "Index(['Location', 'MinTemp', 'MaxTemp', 'Rainfall', 'Evaporation', 'Sunshine',\n",
       "       'WindGustDir', 'WindGustSpeed', 'WindDir9am', 'WindDir3pm',\n",
       "       'WindSpeed9am', 'WindSpeed3pm', 'Humidity9am', 'Humidity3pm',\n",
       "       'Pressure9am', 'Pressure3pm', 'Cloud9am', 'Cloud3pm', 'Temp9am',\n",
       "       'Temp3pm', 'RainToday', 'RainTomorrow'],\n",
       "      dtype='object')"
      ]
     },
     "execution_count": 164,
     "metadata": {},
     "output_type": "execute_result"
    }
   ],
   "source": [
    "new_df.columns"
   ]
  },
  {
   "cell_type": "code",
   "execution_count": 2,
   "id": "5663de83",
   "metadata": {},
   "outputs": [],
   "source": [
    "# So, analysing the columns , I will select some most important columns :"
   ]
  },
  {
   "cell_type": "code",
   "execution_count": 165,
   "id": "518d867f",
   "metadata": {},
   "outputs": [
    {
     "data": {
      "text/html": [
       "<div>\n",
       "<style scoped>\n",
       "    .dataframe tbody tr th:only-of-type {\n",
       "        vertical-align: middle;\n",
       "    }\n",
       "\n",
       "    .dataframe tbody tr th {\n",
       "        vertical-align: top;\n",
       "    }\n",
       "\n",
       "    .dataframe thead th {\n",
       "        text-align: right;\n",
       "    }\n",
       "</style>\n",
       "<table border=\"1\" class=\"dataframe\">\n",
       "  <thead>\n",
       "    <tr style=\"text-align: right;\">\n",
       "      <th></th>\n",
       "      <th>Rainfall</th>\n",
       "      <th>Sunshine</th>\n",
       "      <th>WindGustDir</th>\n",
       "      <th>WindDir9am</th>\n",
       "      <th>WindDir3pm</th>\n",
       "      <th>Humidity9am</th>\n",
       "      <th>Humidity3pm</th>\n",
       "      <th>Cloud9am</th>\n",
       "      <th>Cloud3pm</th>\n",
       "      <th>RainToday</th>\n",
       "      <th>RainTomorrow</th>\n",
       "    </tr>\n",
       "  </thead>\n",
       "  <tbody>\n",
       "    <tr>\n",
       "      <th>4011</th>\n",
       "      <td>0.6</td>\n",
       "      <td>NaN</td>\n",
       "      <td>NaN</td>\n",
       "      <td>N</td>\n",
       "      <td>SSE</td>\n",
       "      <td>90.0</td>\n",
       "      <td>83.0</td>\n",
       "      <td>8.0</td>\n",
       "      <td>7.0</td>\n",
       "      <td>No</td>\n",
       "      <td>No</td>\n",
       "    </tr>\n",
       "    <tr>\n",
       "      <th>3187</th>\n",
       "      <td>0.0</td>\n",
       "      <td>NaN</td>\n",
       "      <td>SE</td>\n",
       "      <td>WNW</td>\n",
       "      <td>ESE</td>\n",
       "      <td>56.0</td>\n",
       "      <td>47.0</td>\n",
       "      <td>4.0</td>\n",
       "      <td>NaN</td>\n",
       "      <td>No</td>\n",
       "      <td>No</td>\n",
       "    </tr>\n",
       "    <tr>\n",
       "      <th>2213</th>\n",
       "      <td>0.0</td>\n",
       "      <td>NaN</td>\n",
       "      <td>NaN</td>\n",
       "      <td>N</td>\n",
       "      <td>N</td>\n",
       "      <td>90.0</td>\n",
       "      <td>46.0</td>\n",
       "      <td>1.0</td>\n",
       "      <td>1.0</td>\n",
       "      <td>No</td>\n",
       "      <td>No</td>\n",
       "    </tr>\n",
       "    <tr>\n",
       "      <th>6997</th>\n",
       "      <td>0.4</td>\n",
       "      <td>12.4</td>\n",
       "      <td>E</td>\n",
       "      <td>E</td>\n",
       "      <td>WSW</td>\n",
       "      <td>46.0</td>\n",
       "      <td>37.0</td>\n",
       "      <td>0.0</td>\n",
       "      <td>0.0</td>\n",
       "      <td>No</td>\n",
       "      <td>No</td>\n",
       "    </tr>\n",
       "    <tr>\n",
       "      <th>1627</th>\n",
       "      <td>0.0</td>\n",
       "      <td>NaN</td>\n",
       "      <td>NaN</td>\n",
       "      <td>NW</td>\n",
       "      <td>SW</td>\n",
       "      <td>45.0</td>\n",
       "      <td>16.0</td>\n",
       "      <td>0.0</td>\n",
       "      <td>0.0</td>\n",
       "      <td>No</td>\n",
       "      <td>No</td>\n",
       "    </tr>\n",
       "    <tr>\n",
       "      <th>...</th>\n",
       "      <td>...</td>\n",
       "      <td>...</td>\n",
       "      <td>...</td>\n",
       "      <td>...</td>\n",
       "      <td>...</td>\n",
       "      <td>...</td>\n",
       "      <td>...</td>\n",
       "      <td>...</td>\n",
       "      <td>...</td>\n",
       "      <td>...</td>\n",
       "      <td>...</td>\n",
       "    </tr>\n",
       "    <tr>\n",
       "      <th>8371</th>\n",
       "      <td>0.0</td>\n",
       "      <td>10.2</td>\n",
       "      <td>NW</td>\n",
       "      <td>WSW</td>\n",
       "      <td>NW</td>\n",
       "      <td>72.0</td>\n",
       "      <td>61.0</td>\n",
       "      <td>5.0</td>\n",
       "      <td>3.0</td>\n",
       "      <td>No</td>\n",
       "      <td>Yes</td>\n",
       "    </tr>\n",
       "    <tr>\n",
       "      <th>8372</th>\n",
       "      <td>5.8</td>\n",
       "      <td>4.4</td>\n",
       "      <td>N</td>\n",
       "      <td>N</td>\n",
       "      <td>NNW</td>\n",
       "      <td>96.0</td>\n",
       "      <td>61.0</td>\n",
       "      <td>8.0</td>\n",
       "      <td>5.0</td>\n",
       "      <td>Yes</td>\n",
       "      <td>Yes</td>\n",
       "    </tr>\n",
       "    <tr>\n",
       "      <th>8377</th>\n",
       "      <td>1.0</td>\n",
       "      <td>11.3</td>\n",
       "      <td>N</td>\n",
       "      <td>NNE</td>\n",
       "      <td>NNW</td>\n",
       "      <td>71.0</td>\n",
       "      <td>55.0</td>\n",
       "      <td>4.0</td>\n",
       "      <td>3.0</td>\n",
       "      <td>No</td>\n",
       "      <td>Yes</td>\n",
       "    </tr>\n",
       "    <tr>\n",
       "      <th>8380</th>\n",
       "      <td>0.0</td>\n",
       "      <td>6.7</td>\n",
       "      <td>N</td>\n",
       "      <td>N</td>\n",
       "      <td>NNW</td>\n",
       "      <td>70.0</td>\n",
       "      <td>65.0</td>\n",
       "      <td>5.0</td>\n",
       "      <td>2.0</td>\n",
       "      <td>No</td>\n",
       "      <td>Yes</td>\n",
       "    </tr>\n",
       "    <tr>\n",
       "      <th>8382</th>\n",
       "      <td>0.0</td>\n",
       "      <td>5.9</td>\n",
       "      <td>N</td>\n",
       "      <td>ENE</td>\n",
       "      <td>E</td>\n",
       "      <td>66.0</td>\n",
       "      <td>93.0</td>\n",
       "      <td>4.0</td>\n",
       "      <td>8.0</td>\n",
       "      <td>No</td>\n",
       "      <td>Yes</td>\n",
       "    </tr>\n",
       "  </tbody>\n",
       "</table>\n",
       "<p>3991 rows × 11 columns</p>\n",
       "</div>"
      ],
      "text/plain": [
       "      Rainfall  Sunshine WindGustDir WindDir9am WindDir3pm  Humidity9am  \\\n",
       "4011       0.6       NaN         NaN          N        SSE         90.0   \n",
       "3187       0.0       NaN          SE        WNW        ESE         56.0   \n",
       "2213       0.0       NaN         NaN          N          N         90.0   \n",
       "6997       0.4      12.4           E          E        WSW         46.0   \n",
       "1627       0.0       NaN         NaN         NW         SW         45.0   \n",
       "...        ...       ...         ...        ...        ...          ...   \n",
       "8371       0.0      10.2          NW        WSW         NW         72.0   \n",
       "8372       5.8       4.4           N          N        NNW         96.0   \n",
       "8377       1.0      11.3           N        NNE        NNW         71.0   \n",
       "8380       0.0       6.7           N          N        NNW         70.0   \n",
       "8382       0.0       5.9           N        ENE          E         66.0   \n",
       "\n",
       "      Humidity3pm  Cloud9am  Cloud3pm RainToday RainTomorrow  \n",
       "4011         83.0       8.0       7.0        No           No  \n",
       "3187         47.0       4.0       NaN        No           No  \n",
       "2213         46.0       1.0       1.0        No           No  \n",
       "6997         37.0       0.0       0.0        No           No  \n",
       "1627         16.0       0.0       0.0        No           No  \n",
       "...           ...       ...       ...       ...          ...  \n",
       "8371         61.0       5.0       3.0        No          Yes  \n",
       "8372         61.0       8.0       5.0       Yes          Yes  \n",
       "8377         55.0       4.0       3.0        No          Yes  \n",
       "8380         65.0       5.0       2.0        No          Yes  \n",
       "8382         93.0       4.0       8.0        No          Yes  \n",
       "\n",
       "[3991 rows x 11 columns]"
      ]
     },
     "execution_count": 165,
     "metadata": {},
     "output_type": "execute_result"
    }
   ],
   "source": [
    "Unimportant_columns = ['Location', 'MinTemp', 'MaxTemp', 'WindGustSpeed','WindSpeed9am', 'WindSpeed3pm','Pressure9am', 'Pressure3pm', 'Temp9am','Temp3pm','Evaporation']\n",
    "Modified_df = new_df.drop(Unimportant_columns, axis = 1)\n",
    "Modified_df"
   ]
  },
  {
   "cell_type": "markdown",
   "id": "3e627223",
   "metadata": {},
   "source": [
    "# Data Preprocessing :"
   ]
  },
  {
   "cell_type": "code",
   "execution_count": 166,
   "id": "33707fff",
   "metadata": {},
   "outputs": [
    {
     "data": {
      "text/plain": [
       "539"
      ]
     },
     "execution_count": 166,
     "metadata": {},
     "output_type": "execute_result"
    }
   ],
   "source": [
    "Modified_df.duplicated().sum()"
   ]
  },
  {
   "cell_type": "code",
   "execution_count": 167,
   "id": "8f791789",
   "metadata": {},
   "outputs": [
    {
     "data": {
      "text/html": [
       "<div>\n",
       "<style scoped>\n",
       "    .dataframe tbody tr th:only-of-type {\n",
       "        vertical-align: middle;\n",
       "    }\n",
       "\n",
       "    .dataframe tbody tr th {\n",
       "        vertical-align: top;\n",
       "    }\n",
       "\n",
       "    .dataframe thead th {\n",
       "        text-align: right;\n",
       "    }\n",
       "</style>\n",
       "<table border=\"1\" class=\"dataframe\">\n",
       "  <thead>\n",
       "    <tr style=\"text-align: right;\">\n",
       "      <th></th>\n",
       "      <th>Rainfall</th>\n",
       "      <th>Sunshine</th>\n",
       "      <th>WindGustDir</th>\n",
       "      <th>WindDir9am</th>\n",
       "      <th>WindDir3pm</th>\n",
       "      <th>Humidity9am</th>\n",
       "      <th>Humidity3pm</th>\n",
       "      <th>Cloud9am</th>\n",
       "      <th>Cloud3pm</th>\n",
       "      <th>RainToday</th>\n",
       "      <th>RainTomorrow</th>\n",
       "    </tr>\n",
       "  </thead>\n",
       "  <tbody>\n",
       "    <tr>\n",
       "      <th>4011</th>\n",
       "      <td>0.6</td>\n",
       "      <td>NaN</td>\n",
       "      <td>NaN</td>\n",
       "      <td>N</td>\n",
       "      <td>SSE</td>\n",
       "      <td>90.0</td>\n",
       "      <td>83.0</td>\n",
       "      <td>8.0</td>\n",
       "      <td>7.0</td>\n",
       "      <td>No</td>\n",
       "      <td>No</td>\n",
       "    </tr>\n",
       "    <tr>\n",
       "      <th>3187</th>\n",
       "      <td>0.0</td>\n",
       "      <td>NaN</td>\n",
       "      <td>SE</td>\n",
       "      <td>WNW</td>\n",
       "      <td>ESE</td>\n",
       "      <td>56.0</td>\n",
       "      <td>47.0</td>\n",
       "      <td>4.0</td>\n",
       "      <td>NaN</td>\n",
       "      <td>No</td>\n",
       "      <td>No</td>\n",
       "    </tr>\n",
       "    <tr>\n",
       "      <th>2213</th>\n",
       "      <td>0.0</td>\n",
       "      <td>NaN</td>\n",
       "      <td>NaN</td>\n",
       "      <td>N</td>\n",
       "      <td>N</td>\n",
       "      <td>90.0</td>\n",
       "      <td>46.0</td>\n",
       "      <td>1.0</td>\n",
       "      <td>1.0</td>\n",
       "      <td>No</td>\n",
       "      <td>No</td>\n",
       "    </tr>\n",
       "    <tr>\n",
       "      <th>6997</th>\n",
       "      <td>0.4</td>\n",
       "      <td>12.4</td>\n",
       "      <td>E</td>\n",
       "      <td>E</td>\n",
       "      <td>WSW</td>\n",
       "      <td>46.0</td>\n",
       "      <td>37.0</td>\n",
       "      <td>0.0</td>\n",
       "      <td>0.0</td>\n",
       "      <td>No</td>\n",
       "      <td>No</td>\n",
       "    </tr>\n",
       "    <tr>\n",
       "      <th>1627</th>\n",
       "      <td>0.0</td>\n",
       "      <td>NaN</td>\n",
       "      <td>NaN</td>\n",
       "      <td>NW</td>\n",
       "      <td>SW</td>\n",
       "      <td>45.0</td>\n",
       "      <td>16.0</td>\n",
       "      <td>0.0</td>\n",
       "      <td>0.0</td>\n",
       "      <td>No</td>\n",
       "      <td>No</td>\n",
       "    </tr>\n",
       "    <tr>\n",
       "      <th>...</th>\n",
       "      <td>...</td>\n",
       "      <td>...</td>\n",
       "      <td>...</td>\n",
       "      <td>...</td>\n",
       "      <td>...</td>\n",
       "      <td>...</td>\n",
       "      <td>...</td>\n",
       "      <td>...</td>\n",
       "      <td>...</td>\n",
       "      <td>...</td>\n",
       "      <td>...</td>\n",
       "    </tr>\n",
       "    <tr>\n",
       "      <th>8371</th>\n",
       "      <td>0.0</td>\n",
       "      <td>10.2</td>\n",
       "      <td>NW</td>\n",
       "      <td>WSW</td>\n",
       "      <td>NW</td>\n",
       "      <td>72.0</td>\n",
       "      <td>61.0</td>\n",
       "      <td>5.0</td>\n",
       "      <td>3.0</td>\n",
       "      <td>No</td>\n",
       "      <td>Yes</td>\n",
       "    </tr>\n",
       "    <tr>\n",
       "      <th>8372</th>\n",
       "      <td>5.8</td>\n",
       "      <td>4.4</td>\n",
       "      <td>N</td>\n",
       "      <td>N</td>\n",
       "      <td>NNW</td>\n",
       "      <td>96.0</td>\n",
       "      <td>61.0</td>\n",
       "      <td>8.0</td>\n",
       "      <td>5.0</td>\n",
       "      <td>Yes</td>\n",
       "      <td>Yes</td>\n",
       "    </tr>\n",
       "    <tr>\n",
       "      <th>8377</th>\n",
       "      <td>1.0</td>\n",
       "      <td>11.3</td>\n",
       "      <td>N</td>\n",
       "      <td>NNE</td>\n",
       "      <td>NNW</td>\n",
       "      <td>71.0</td>\n",
       "      <td>55.0</td>\n",
       "      <td>4.0</td>\n",
       "      <td>3.0</td>\n",
       "      <td>No</td>\n",
       "      <td>Yes</td>\n",
       "    </tr>\n",
       "    <tr>\n",
       "      <th>8380</th>\n",
       "      <td>0.0</td>\n",
       "      <td>6.7</td>\n",
       "      <td>N</td>\n",
       "      <td>N</td>\n",
       "      <td>NNW</td>\n",
       "      <td>70.0</td>\n",
       "      <td>65.0</td>\n",
       "      <td>5.0</td>\n",
       "      <td>2.0</td>\n",
       "      <td>No</td>\n",
       "      <td>Yes</td>\n",
       "    </tr>\n",
       "    <tr>\n",
       "      <th>8382</th>\n",
       "      <td>0.0</td>\n",
       "      <td>5.9</td>\n",
       "      <td>N</td>\n",
       "      <td>ENE</td>\n",
       "      <td>E</td>\n",
       "      <td>66.0</td>\n",
       "      <td>93.0</td>\n",
       "      <td>4.0</td>\n",
       "      <td>8.0</td>\n",
       "      <td>No</td>\n",
       "      <td>Yes</td>\n",
       "    </tr>\n",
       "  </tbody>\n",
       "</table>\n",
       "<p>3452 rows × 11 columns</p>\n",
       "</div>"
      ],
      "text/plain": [
       "      Rainfall  Sunshine WindGustDir WindDir9am WindDir3pm  Humidity9am  \\\n",
       "4011       0.6       NaN         NaN          N        SSE         90.0   \n",
       "3187       0.0       NaN          SE        WNW        ESE         56.0   \n",
       "2213       0.0       NaN         NaN          N          N         90.0   \n",
       "6997       0.4      12.4           E          E        WSW         46.0   \n",
       "1627       0.0       NaN         NaN         NW         SW         45.0   \n",
       "...        ...       ...         ...        ...        ...          ...   \n",
       "8371       0.0      10.2          NW        WSW         NW         72.0   \n",
       "8372       5.8       4.4           N          N        NNW         96.0   \n",
       "8377       1.0      11.3           N        NNE        NNW         71.0   \n",
       "8380       0.0       6.7           N          N        NNW         70.0   \n",
       "8382       0.0       5.9           N        ENE          E         66.0   \n",
       "\n",
       "      Humidity3pm  Cloud9am  Cloud3pm RainToday RainTomorrow  \n",
       "4011         83.0       8.0       7.0        No           No  \n",
       "3187         47.0       4.0       NaN        No           No  \n",
       "2213         46.0       1.0       1.0        No           No  \n",
       "6997         37.0       0.0       0.0        No           No  \n",
       "1627         16.0       0.0       0.0        No           No  \n",
       "...           ...       ...       ...       ...          ...  \n",
       "8371         61.0       5.0       3.0        No          Yes  \n",
       "8372         61.0       8.0       5.0       Yes          Yes  \n",
       "8377         55.0       4.0       3.0        No          Yes  \n",
       "8380         65.0       5.0       2.0        No          Yes  \n",
       "8382         93.0       4.0       8.0        No          Yes  \n",
       "\n",
       "[3452 rows x 11 columns]"
      ]
     },
     "execution_count": 167,
     "metadata": {},
     "output_type": "execute_result"
    }
   ],
   "source": [
    "Modified_df = Modified_df.drop_duplicates()\n",
    "Modified_df"
   ]
  },
  {
   "cell_type": "markdown",
   "id": "7d9e1772",
   "metadata": {},
   "source": [
    "# Handling the Missing values :"
   ]
  },
  {
   "cell_type": "code",
   "execution_count": 168,
   "id": "43c5300b",
   "metadata": {},
   "outputs": [
    {
     "data": {
      "text/plain": [
       "Rainfall          46\n",
       "Sunshine        1669\n",
       "WindGustDir      448\n",
       "WindDir9am       359\n",
       "WindDir3pm       147\n",
       "Humidity9am       16\n",
       "Humidity3pm       33\n",
       "Cloud9am         882\n",
       "Cloud3pm         883\n",
       "RainToday         46\n",
       "RainTomorrow       0\n",
       "dtype: int64"
      ]
     },
     "execution_count": 168,
     "metadata": {},
     "output_type": "execute_result"
    }
   ],
   "source": [
    "Modified_df.isnull().sum()"
   ]
  },
  {
   "cell_type": "markdown",
   "id": "446045ea",
   "metadata": {},
   "source": [
    "# Rainfall :"
   ]
  },
  {
   "cell_type": "code",
   "execution_count": 169,
   "id": "929466d4",
   "metadata": {},
   "outputs": [
    {
     "data": {
      "text/plain": [
       "4.02"
      ]
     },
     "execution_count": 169,
     "metadata": {},
     "output_type": "execute_result"
    }
   ],
   "source": [
    "Modified_df['Rainfall'].mean().round(2)"
   ]
  },
  {
   "cell_type": "code",
   "execution_count": 170,
   "id": "6abd4b59",
   "metadata": {},
   "outputs": [
    {
     "name": "stderr",
     "output_type": "stream",
     "text": [
      "C:\\Users\\admin\\AppData\\Local\\Temp\\ipykernel_15212\\565428788.py:1: SettingWithCopyWarning: \n",
      "A value is trying to be set on a copy of a slice from a DataFrame\n",
      "\n",
      "See the caveats in the documentation: https://pandas.pydata.org/pandas-docs/stable/user_guide/indexing.html#returning-a-view-versus-a-copy\n",
      "  Modified_df['Rainfall'].fillna(Modified_df['Rainfall'].mean().round(2), inplace = True)\n"
     ]
    }
   ],
   "source": [
    "Modified_df['Rainfall'].fillna(Modified_df['Rainfall'].mean().round(2), inplace = True)"
   ]
  },
  {
   "cell_type": "code",
   "execution_count": 171,
   "id": "d72e9dc3",
   "metadata": {},
   "outputs": [
    {
     "data": {
      "text/plain": [
       "Rainfall           0\n",
       "Sunshine        1669\n",
       "WindGustDir      448\n",
       "WindDir9am       359\n",
       "WindDir3pm       147\n",
       "Humidity9am       16\n",
       "Humidity3pm       33\n",
       "Cloud9am         882\n",
       "Cloud3pm         883\n",
       "RainToday         46\n",
       "RainTomorrow       0\n",
       "dtype: int64"
      ]
     },
     "execution_count": 171,
     "metadata": {},
     "output_type": "execute_result"
    }
   ],
   "source": [
    "Modified_df.isnull().sum()"
   ]
  },
  {
   "cell_type": "markdown",
   "id": "740e2a34",
   "metadata": {},
   "source": [
    "# Sunshine :"
   ]
  },
  {
   "cell_type": "code",
   "execution_count": 172,
   "id": "27ae33c2",
   "metadata": {},
   "outputs": [
    {
     "name": "stderr",
     "output_type": "stream",
     "text": [
      "C:\\Users\\admin\\AppData\\Local\\Temp\\ipykernel_15212\\3949511858.py:1: SettingWithCopyWarning: \n",
      "A value is trying to be set on a copy of a slice from a DataFrame\n",
      "\n",
      "See the caveats in the documentation: https://pandas.pydata.org/pandas-docs/stable/user_guide/indexing.html#returning-a-view-versus-a-copy\n",
      "  Modified_df['Sunshine'].fillna(Modified_df['Sunshine'].mean().round(2), inplace = True)\n"
     ]
    }
   ],
   "source": [
    "Modified_df['Sunshine'].fillna(Modified_df['Sunshine'].mean().round(2), inplace = True)"
   ]
  },
  {
   "cell_type": "markdown",
   "id": "31303c47",
   "metadata": {},
   "source": [
    "# 'WindGustDir','WindDir9am', 'WindDir3pm' :"
   ]
  },
  {
   "cell_type": "code",
   "execution_count": 173,
   "id": "f69a4d51",
   "metadata": {},
   "outputs": [
    {
     "name": "stderr",
     "output_type": "stream",
     "text": [
      "C:\\Users\\admin\\AppData\\Local\\Temp\\ipykernel_15212\\503236654.py:3: SettingWithCopyWarning: \n",
      "A value is trying to be set on a copy of a slice from a DataFrame\n",
      "\n",
      "See the caveats in the documentation: https://pandas.pydata.org/pandas-docs/stable/user_guide/indexing.html#returning-a-view-versus-a-copy\n",
      "  Modified_df[col].fillna(mode_value , inplace = True)\n",
      "C:\\Users\\admin\\AppData\\Local\\Temp\\ipykernel_15212\\503236654.py:3: SettingWithCopyWarning: \n",
      "A value is trying to be set on a copy of a slice from a DataFrame\n",
      "\n",
      "See the caveats in the documentation: https://pandas.pydata.org/pandas-docs/stable/user_guide/indexing.html#returning-a-view-versus-a-copy\n",
      "  Modified_df[col].fillna(mode_value , inplace = True)\n",
      "C:\\Users\\admin\\AppData\\Local\\Temp\\ipykernel_15212\\503236654.py:3: SettingWithCopyWarning: \n",
      "A value is trying to be set on a copy of a slice from a DataFrame\n",
      "\n",
      "See the caveats in the documentation: https://pandas.pydata.org/pandas-docs/stable/user_guide/indexing.html#returning-a-view-versus-a-copy\n",
      "  Modified_df[col].fillna(mode_value , inplace = True)\n"
     ]
    }
   ],
   "source": [
    "for col in ['WindGustDir','WindDir9am', 'WindDir3pm'] :\n",
    "    mode_value = Modified_df[col].mode().iloc[0]\n",
    "    Modified_df[col].fillna(mode_value , inplace = True)"
   ]
  },
  {
   "cell_type": "markdown",
   "id": "794eb9d0",
   "metadata": {},
   "source": [
    "# Humidity :"
   ]
  },
  {
   "cell_type": "code",
   "execution_count": 174,
   "id": "a65da47c",
   "metadata": {},
   "outputs": [
    {
     "name": "stderr",
     "output_type": "stream",
     "text": [
      "C:\\Users\\admin\\AppData\\Local\\Temp\\ipykernel_15212\\1615556183.py:3: SettingWithCopyWarning: \n",
      "A value is trying to be set on a copy of a slice from a DataFrame\n",
      "\n",
      "See the caveats in the documentation: https://pandas.pydata.org/pandas-docs/stable/user_guide/indexing.html#returning-a-view-versus-a-copy\n",
      "  Modified_df[col].fillna(mean_value , inplace = True)\n"
     ]
    }
   ],
   "source": [
    "for col in ['Humidity9am','Humidity3pm'] :\n",
    "    mean_value = Modified_df[col].mean().round(2)\n",
    "    Modified_df[col].fillna(mean_value , inplace = True)"
   ]
  },
  {
   "cell_type": "markdown",
   "id": "531b780b",
   "metadata": {},
   "source": [
    "# Cloud :"
   ]
  },
  {
   "cell_type": "code",
   "execution_count": 175,
   "id": "1c130e7a",
   "metadata": {},
   "outputs": [
    {
     "name": "stderr",
     "output_type": "stream",
     "text": [
      "C:\\Users\\admin\\AppData\\Local\\Temp\\ipykernel_15212\\972008398.py:3: SettingWithCopyWarning: \n",
      "A value is trying to be set on a copy of a slice from a DataFrame\n",
      "\n",
      "See the caveats in the documentation: https://pandas.pydata.org/pandas-docs/stable/user_guide/indexing.html#returning-a-view-versus-a-copy\n",
      "  Modified_df[col].fillna(mean_value , inplace = True)\n"
     ]
    }
   ],
   "source": [
    "for col in ['Cloud9am','Cloud3pm'] :\n",
    "    mean_value = Modified_df[col].mean().round(2)\n",
    "    Modified_df[col].fillna(mean_value , inplace = True)"
   ]
  },
  {
   "cell_type": "markdown",
   "id": "68b5d5de",
   "metadata": {},
   "source": [
    "# RainToday :"
   ]
  },
  {
   "cell_type": "code",
   "execution_count": 176,
   "id": "a2107be4",
   "metadata": {},
   "outputs": [
    {
     "name": "stderr",
     "output_type": "stream",
     "text": [
      "C:\\Users\\admin\\AppData\\Local\\Temp\\ipykernel_15212\\4219472911.py:1: SettingWithCopyWarning: \n",
      "A value is trying to be set on a copy of a slice from a DataFrame\n",
      "\n",
      "See the caveats in the documentation: https://pandas.pydata.org/pandas-docs/stable/user_guide/indexing.html#returning-a-view-versus-a-copy\n",
      "  Modified_df['RainToday'].fillna('Yes', inplace = True)\n"
     ]
    }
   ],
   "source": [
    "Modified_df['RainToday'].fillna('Yes', inplace = True)"
   ]
  },
  {
   "cell_type": "code",
   "execution_count": 177,
   "id": "099f89dc",
   "metadata": {},
   "outputs": [
    {
     "data": {
      "text/plain": [
       "Rainfall        0\n",
       "Sunshine        0\n",
       "WindGustDir     0\n",
       "WindDir9am      0\n",
       "WindDir3pm      0\n",
       "Humidity9am     0\n",
       "Humidity3pm     0\n",
       "Cloud9am        0\n",
       "Cloud3pm        0\n",
       "RainToday       0\n",
       "RainTomorrow    0\n",
       "dtype: int64"
      ]
     },
     "execution_count": 177,
     "metadata": {},
     "output_type": "execute_result"
    }
   ],
   "source": [
    "Modified_df.isnull().sum()"
   ]
  },
  {
   "cell_type": "markdown",
   "id": "d88e8d53",
   "metadata": {},
   "source": [
    "# Column transformation in RainTomorrow :"
   ]
  },
  {
   "cell_type": "code",
   "execution_count": 178,
   "id": "a1044269",
   "metadata": {},
   "outputs": [
    {
     "name": "stderr",
     "output_type": "stream",
     "text": [
      "C:\\Users\\admin\\AppData\\Local\\Temp\\ipykernel_15212\\1048511858.py:1: SettingWithCopyWarning: \n",
      "A value is trying to be set on a copy of a slice from a DataFrame.\n",
      "Try using .loc[row_indexer,col_indexer] = value instead\n",
      "\n",
      "See the caveats in the documentation: https://pandas.pydata.org/pandas-docs/stable/user_guide/indexing.html#returning-a-view-versus-a-copy\n",
      "  Modified_df['RainTomorrow'] = Modified_df['RainTomorrow'].map({'Yes':1, 'No':0})\n"
     ]
    },
    {
     "data": {
      "text/html": [
       "<div>\n",
       "<style scoped>\n",
       "    .dataframe tbody tr th:only-of-type {\n",
       "        vertical-align: middle;\n",
       "    }\n",
       "\n",
       "    .dataframe tbody tr th {\n",
       "        vertical-align: top;\n",
       "    }\n",
       "\n",
       "    .dataframe thead th {\n",
       "        text-align: right;\n",
       "    }\n",
       "</style>\n",
       "<table border=\"1\" class=\"dataframe\">\n",
       "  <thead>\n",
       "    <tr style=\"text-align: right;\">\n",
       "      <th></th>\n",
       "      <th>Rainfall</th>\n",
       "      <th>Sunshine</th>\n",
       "      <th>WindGustDir</th>\n",
       "      <th>WindDir9am</th>\n",
       "      <th>WindDir3pm</th>\n",
       "      <th>Humidity9am</th>\n",
       "      <th>Humidity3pm</th>\n",
       "      <th>Cloud9am</th>\n",
       "      <th>Cloud3pm</th>\n",
       "      <th>RainToday</th>\n",
       "      <th>RainTomorrow</th>\n",
       "    </tr>\n",
       "  </thead>\n",
       "  <tbody>\n",
       "    <tr>\n",
       "      <th>4011</th>\n",
       "      <td>0.6</td>\n",
       "      <td>6.92</td>\n",
       "      <td>N</td>\n",
       "      <td>N</td>\n",
       "      <td>SSE</td>\n",
       "      <td>90.0</td>\n",
       "      <td>83.0</td>\n",
       "      <td>8.0</td>\n",
       "      <td>7.00</td>\n",
       "      <td>No</td>\n",
       "      <td>0</td>\n",
       "    </tr>\n",
       "    <tr>\n",
       "      <th>3187</th>\n",
       "      <td>0.0</td>\n",
       "      <td>6.92</td>\n",
       "      <td>SE</td>\n",
       "      <td>WNW</td>\n",
       "      <td>ESE</td>\n",
       "      <td>56.0</td>\n",
       "      <td>47.0</td>\n",
       "      <td>4.0</td>\n",
       "      <td>4.91</td>\n",
       "      <td>No</td>\n",
       "      <td>0</td>\n",
       "    </tr>\n",
       "    <tr>\n",
       "      <th>2213</th>\n",
       "      <td>0.0</td>\n",
       "      <td>6.92</td>\n",
       "      <td>N</td>\n",
       "      <td>N</td>\n",
       "      <td>N</td>\n",
       "      <td>90.0</td>\n",
       "      <td>46.0</td>\n",
       "      <td>1.0</td>\n",
       "      <td>1.00</td>\n",
       "      <td>No</td>\n",
       "      <td>0</td>\n",
       "    </tr>\n",
       "    <tr>\n",
       "      <th>6997</th>\n",
       "      <td>0.4</td>\n",
       "      <td>12.40</td>\n",
       "      <td>E</td>\n",
       "      <td>E</td>\n",
       "      <td>WSW</td>\n",
       "      <td>46.0</td>\n",
       "      <td>37.0</td>\n",
       "      <td>0.0</td>\n",
       "      <td>0.00</td>\n",
       "      <td>No</td>\n",
       "      <td>0</td>\n",
       "    </tr>\n",
       "    <tr>\n",
       "      <th>1627</th>\n",
       "      <td>0.0</td>\n",
       "      <td>6.92</td>\n",
       "      <td>N</td>\n",
       "      <td>NW</td>\n",
       "      <td>SW</td>\n",
       "      <td>45.0</td>\n",
       "      <td>16.0</td>\n",
       "      <td>0.0</td>\n",
       "      <td>0.00</td>\n",
       "      <td>No</td>\n",
       "      <td>0</td>\n",
       "    </tr>\n",
       "    <tr>\n",
       "      <th>...</th>\n",
       "      <td>...</td>\n",
       "      <td>...</td>\n",
       "      <td>...</td>\n",
       "      <td>...</td>\n",
       "      <td>...</td>\n",
       "      <td>...</td>\n",
       "      <td>...</td>\n",
       "      <td>...</td>\n",
       "      <td>...</td>\n",
       "      <td>...</td>\n",
       "      <td>...</td>\n",
       "    </tr>\n",
       "    <tr>\n",
       "      <th>8371</th>\n",
       "      <td>0.0</td>\n",
       "      <td>10.20</td>\n",
       "      <td>NW</td>\n",
       "      <td>WSW</td>\n",
       "      <td>NW</td>\n",
       "      <td>72.0</td>\n",
       "      <td>61.0</td>\n",
       "      <td>5.0</td>\n",
       "      <td>3.00</td>\n",
       "      <td>No</td>\n",
       "      <td>1</td>\n",
       "    </tr>\n",
       "    <tr>\n",
       "      <th>8372</th>\n",
       "      <td>5.8</td>\n",
       "      <td>4.40</td>\n",
       "      <td>N</td>\n",
       "      <td>N</td>\n",
       "      <td>NNW</td>\n",
       "      <td>96.0</td>\n",
       "      <td>61.0</td>\n",
       "      <td>8.0</td>\n",
       "      <td>5.00</td>\n",
       "      <td>Yes</td>\n",
       "      <td>1</td>\n",
       "    </tr>\n",
       "    <tr>\n",
       "      <th>8377</th>\n",
       "      <td>1.0</td>\n",
       "      <td>11.30</td>\n",
       "      <td>N</td>\n",
       "      <td>NNE</td>\n",
       "      <td>NNW</td>\n",
       "      <td>71.0</td>\n",
       "      <td>55.0</td>\n",
       "      <td>4.0</td>\n",
       "      <td>3.00</td>\n",
       "      <td>No</td>\n",
       "      <td>1</td>\n",
       "    </tr>\n",
       "    <tr>\n",
       "      <th>8380</th>\n",
       "      <td>0.0</td>\n",
       "      <td>6.70</td>\n",
       "      <td>N</td>\n",
       "      <td>N</td>\n",
       "      <td>NNW</td>\n",
       "      <td>70.0</td>\n",
       "      <td>65.0</td>\n",
       "      <td>5.0</td>\n",
       "      <td>2.00</td>\n",
       "      <td>No</td>\n",
       "      <td>1</td>\n",
       "    </tr>\n",
       "    <tr>\n",
       "      <th>8382</th>\n",
       "      <td>0.0</td>\n",
       "      <td>5.90</td>\n",
       "      <td>N</td>\n",
       "      <td>ENE</td>\n",
       "      <td>E</td>\n",
       "      <td>66.0</td>\n",
       "      <td>93.0</td>\n",
       "      <td>4.0</td>\n",
       "      <td>8.00</td>\n",
       "      <td>No</td>\n",
       "      <td>1</td>\n",
       "    </tr>\n",
       "  </tbody>\n",
       "</table>\n",
       "<p>3452 rows × 11 columns</p>\n",
       "</div>"
      ],
      "text/plain": [
       "      Rainfall  Sunshine WindGustDir WindDir9am WindDir3pm  Humidity9am  \\\n",
       "4011       0.6      6.92           N          N        SSE         90.0   \n",
       "3187       0.0      6.92          SE        WNW        ESE         56.0   \n",
       "2213       0.0      6.92           N          N          N         90.0   \n",
       "6997       0.4     12.40           E          E        WSW         46.0   \n",
       "1627       0.0      6.92           N         NW         SW         45.0   \n",
       "...        ...       ...         ...        ...        ...          ...   \n",
       "8371       0.0     10.20          NW        WSW         NW         72.0   \n",
       "8372       5.8      4.40           N          N        NNW         96.0   \n",
       "8377       1.0     11.30           N        NNE        NNW         71.0   \n",
       "8380       0.0      6.70           N          N        NNW         70.0   \n",
       "8382       0.0      5.90           N        ENE          E         66.0   \n",
       "\n",
       "      Humidity3pm  Cloud9am  Cloud3pm RainToday  RainTomorrow  \n",
       "4011         83.0       8.0      7.00        No             0  \n",
       "3187         47.0       4.0      4.91        No             0  \n",
       "2213         46.0       1.0      1.00        No             0  \n",
       "6997         37.0       0.0      0.00        No             0  \n",
       "1627         16.0       0.0      0.00        No             0  \n",
       "...           ...       ...       ...       ...           ...  \n",
       "8371         61.0       5.0      3.00        No             1  \n",
       "8372         61.0       8.0      5.00       Yes             1  \n",
       "8377         55.0       4.0      3.00        No             1  \n",
       "8380         65.0       5.0      2.00        No             1  \n",
       "8382         93.0       4.0      8.00        No             1  \n",
       "\n",
       "[3452 rows x 11 columns]"
      ]
     },
     "execution_count": 178,
     "metadata": {},
     "output_type": "execute_result"
    }
   ],
   "source": [
    "Modified_df['RainTomorrow'] = Modified_df['RainTomorrow'].map({'Yes':1, 'No':0})\n",
    "Modified_df"
   ]
  },
  {
   "cell_type": "code",
   "execution_count": 179,
   "id": "95c45972",
   "metadata": {},
   "outputs": [
    {
     "data": {
      "text/plain": [
       "0    1884\n",
       "1    1568\n",
       "Name: RainTomorrow, dtype: int64"
      ]
     },
     "execution_count": 179,
     "metadata": {},
     "output_type": "execute_result"
    }
   ],
   "source": [
    "Modified_df['RainTomorrow'].value_counts()"
   ]
  },
  {
   "cell_type": "markdown",
   "id": "dab74287",
   "metadata": {},
   "source": [
    "# Spliting the data :"
   ]
  },
  {
   "cell_type": "code",
   "execution_count": 180,
   "id": "c6a8220f",
   "metadata": {},
   "outputs": [
    {
     "data": {
      "text/html": [
       "<div>\n",
       "<style scoped>\n",
       "    .dataframe tbody tr th:only-of-type {\n",
       "        vertical-align: middle;\n",
       "    }\n",
       "\n",
       "    .dataframe tbody tr th {\n",
       "        vertical-align: top;\n",
       "    }\n",
       "\n",
       "    .dataframe thead th {\n",
       "        text-align: right;\n",
       "    }\n",
       "</style>\n",
       "<table border=\"1\" class=\"dataframe\">\n",
       "  <thead>\n",
       "    <tr style=\"text-align: right;\">\n",
       "      <th></th>\n",
       "      <th>Rainfall</th>\n",
       "      <th>Sunshine</th>\n",
       "      <th>WindGustDir</th>\n",
       "      <th>WindDir9am</th>\n",
       "      <th>WindDir3pm</th>\n",
       "      <th>Humidity9am</th>\n",
       "      <th>Humidity3pm</th>\n",
       "      <th>Cloud9am</th>\n",
       "      <th>Cloud3pm</th>\n",
       "      <th>RainToday</th>\n",
       "      <th>RainTomorrow</th>\n",
       "    </tr>\n",
       "  </thead>\n",
       "  <tbody>\n",
       "    <tr>\n",
       "      <th>4011</th>\n",
       "      <td>0.6</td>\n",
       "      <td>6.92</td>\n",
       "      <td>N</td>\n",
       "      <td>N</td>\n",
       "      <td>SSE</td>\n",
       "      <td>90.0</td>\n",
       "      <td>83.0</td>\n",
       "      <td>8.0</td>\n",
       "      <td>7.00</td>\n",
       "      <td>No</td>\n",
       "      <td>0</td>\n",
       "    </tr>\n",
       "    <tr>\n",
       "      <th>3187</th>\n",
       "      <td>0.0</td>\n",
       "      <td>6.92</td>\n",
       "      <td>SE</td>\n",
       "      <td>WNW</td>\n",
       "      <td>ESE</td>\n",
       "      <td>56.0</td>\n",
       "      <td>47.0</td>\n",
       "      <td>4.0</td>\n",
       "      <td>4.91</td>\n",
       "      <td>No</td>\n",
       "      <td>0</td>\n",
       "    </tr>\n",
       "    <tr>\n",
       "      <th>2213</th>\n",
       "      <td>0.0</td>\n",
       "      <td>6.92</td>\n",
       "      <td>N</td>\n",
       "      <td>N</td>\n",
       "      <td>N</td>\n",
       "      <td>90.0</td>\n",
       "      <td>46.0</td>\n",
       "      <td>1.0</td>\n",
       "      <td>1.00</td>\n",
       "      <td>No</td>\n",
       "      <td>0</td>\n",
       "    </tr>\n",
       "    <tr>\n",
       "      <th>6997</th>\n",
       "      <td>0.4</td>\n",
       "      <td>12.40</td>\n",
       "      <td>E</td>\n",
       "      <td>E</td>\n",
       "      <td>WSW</td>\n",
       "      <td>46.0</td>\n",
       "      <td>37.0</td>\n",
       "      <td>0.0</td>\n",
       "      <td>0.00</td>\n",
       "      <td>No</td>\n",
       "      <td>0</td>\n",
       "    </tr>\n",
       "    <tr>\n",
       "      <th>1627</th>\n",
       "      <td>0.0</td>\n",
       "      <td>6.92</td>\n",
       "      <td>N</td>\n",
       "      <td>NW</td>\n",
       "      <td>SW</td>\n",
       "      <td>45.0</td>\n",
       "      <td>16.0</td>\n",
       "      <td>0.0</td>\n",
       "      <td>0.00</td>\n",
       "      <td>No</td>\n",
       "      <td>0</td>\n",
       "    </tr>\n",
       "    <tr>\n",
       "      <th>...</th>\n",
       "      <td>...</td>\n",
       "      <td>...</td>\n",
       "      <td>...</td>\n",
       "      <td>...</td>\n",
       "      <td>...</td>\n",
       "      <td>...</td>\n",
       "      <td>...</td>\n",
       "      <td>...</td>\n",
       "      <td>...</td>\n",
       "      <td>...</td>\n",
       "      <td>...</td>\n",
       "    </tr>\n",
       "    <tr>\n",
       "      <th>8371</th>\n",
       "      <td>0.0</td>\n",
       "      <td>10.20</td>\n",
       "      <td>NW</td>\n",
       "      <td>WSW</td>\n",
       "      <td>NW</td>\n",
       "      <td>72.0</td>\n",
       "      <td>61.0</td>\n",
       "      <td>5.0</td>\n",
       "      <td>3.00</td>\n",
       "      <td>No</td>\n",
       "      <td>1</td>\n",
       "    </tr>\n",
       "    <tr>\n",
       "      <th>8372</th>\n",
       "      <td>5.8</td>\n",
       "      <td>4.40</td>\n",
       "      <td>N</td>\n",
       "      <td>N</td>\n",
       "      <td>NNW</td>\n",
       "      <td>96.0</td>\n",
       "      <td>61.0</td>\n",
       "      <td>8.0</td>\n",
       "      <td>5.00</td>\n",
       "      <td>Yes</td>\n",
       "      <td>1</td>\n",
       "    </tr>\n",
       "    <tr>\n",
       "      <th>8377</th>\n",
       "      <td>1.0</td>\n",
       "      <td>11.30</td>\n",
       "      <td>N</td>\n",
       "      <td>NNE</td>\n",
       "      <td>NNW</td>\n",
       "      <td>71.0</td>\n",
       "      <td>55.0</td>\n",
       "      <td>4.0</td>\n",
       "      <td>3.00</td>\n",
       "      <td>No</td>\n",
       "      <td>1</td>\n",
       "    </tr>\n",
       "    <tr>\n",
       "      <th>8380</th>\n",
       "      <td>0.0</td>\n",
       "      <td>6.70</td>\n",
       "      <td>N</td>\n",
       "      <td>N</td>\n",
       "      <td>NNW</td>\n",
       "      <td>70.0</td>\n",
       "      <td>65.0</td>\n",
       "      <td>5.0</td>\n",
       "      <td>2.00</td>\n",
       "      <td>No</td>\n",
       "      <td>1</td>\n",
       "    </tr>\n",
       "    <tr>\n",
       "      <th>8382</th>\n",
       "      <td>0.0</td>\n",
       "      <td>5.90</td>\n",
       "      <td>N</td>\n",
       "      <td>ENE</td>\n",
       "      <td>E</td>\n",
       "      <td>66.0</td>\n",
       "      <td>93.0</td>\n",
       "      <td>4.0</td>\n",
       "      <td>8.00</td>\n",
       "      <td>No</td>\n",
       "      <td>1</td>\n",
       "    </tr>\n",
       "  </tbody>\n",
       "</table>\n",
       "<p>3452 rows × 11 columns</p>\n",
       "</div>"
      ],
      "text/plain": [
       "      Rainfall  Sunshine WindGustDir WindDir9am WindDir3pm  Humidity9am  \\\n",
       "4011       0.6      6.92           N          N        SSE         90.0   \n",
       "3187       0.0      6.92          SE        WNW        ESE         56.0   \n",
       "2213       0.0      6.92           N          N          N         90.0   \n",
       "6997       0.4     12.40           E          E        WSW         46.0   \n",
       "1627       0.0      6.92           N         NW         SW         45.0   \n",
       "...        ...       ...         ...        ...        ...          ...   \n",
       "8371       0.0     10.20          NW        WSW         NW         72.0   \n",
       "8372       5.8      4.40           N          N        NNW         96.0   \n",
       "8377       1.0     11.30           N        NNE        NNW         71.0   \n",
       "8380       0.0      6.70           N          N        NNW         70.0   \n",
       "8382       0.0      5.90           N        ENE          E         66.0   \n",
       "\n",
       "      Humidity3pm  Cloud9am  Cloud3pm RainToday  RainTomorrow  \n",
       "4011         83.0       8.0      7.00        No             0  \n",
       "3187         47.0       4.0      4.91        No             0  \n",
       "2213         46.0       1.0      1.00        No             0  \n",
       "6997         37.0       0.0      0.00        No             0  \n",
       "1627         16.0       0.0      0.00        No             0  \n",
       "...           ...       ...       ...       ...           ...  \n",
       "8371         61.0       5.0      3.00        No             1  \n",
       "8372         61.0       8.0      5.00       Yes             1  \n",
       "8377         55.0       4.0      3.00        No             1  \n",
       "8380         65.0       5.0      2.00        No             1  \n",
       "8382         93.0       4.0      8.00        No             1  \n",
       "\n",
       "[3452 rows x 11 columns]"
      ]
     },
     "execution_count": 180,
     "metadata": {},
     "output_type": "execute_result"
    }
   ],
   "source": [
    "Modified_df"
   ]
  },
  {
   "cell_type": "code",
   "execution_count": 181,
   "id": "355ef953",
   "metadata": {},
   "outputs": [],
   "source": [
    "X = Modified_df.drop('RainTomorrow', axis = 1)\n",
    "y = Modified_df['RainTomorrow']"
   ]
  },
  {
   "cell_type": "markdown",
   "id": "dabdb713",
   "metadata": {},
   "source": [
    "# Feature Transformation  :"
   ]
  },
  {
   "cell_type": "code",
   "execution_count": 213,
   "id": "c231b603",
   "metadata": {},
   "outputs": [],
   "source": [
    "from sklearn.compose import ColumnTransformer\n",
    "from sklearn.preprocessing import OneHotEncoder , StandardScaler\n",
    "from sklearn.model_selection import  GridSearchCV"
   ]
  },
  {
   "cell_type": "code",
   "execution_count": 183,
   "id": "a6d6df1d",
   "metadata": {},
   "outputs": [
    {
     "data": {
      "text/html": [
       "<div>\n",
       "<style scoped>\n",
       "    .dataframe tbody tr th:only-of-type {\n",
       "        vertical-align: middle;\n",
       "    }\n",
       "\n",
       "    .dataframe tbody tr th {\n",
       "        vertical-align: top;\n",
       "    }\n",
       "\n",
       "    .dataframe thead th {\n",
       "        text-align: right;\n",
       "    }\n",
       "</style>\n",
       "<table border=\"1\" class=\"dataframe\">\n",
       "  <thead>\n",
       "    <tr style=\"text-align: right;\">\n",
       "      <th></th>\n",
       "      <th>Rainfall</th>\n",
       "      <th>Sunshine</th>\n",
       "      <th>WindGustDir</th>\n",
       "      <th>WindDir9am</th>\n",
       "      <th>WindDir3pm</th>\n",
       "      <th>Humidity9am</th>\n",
       "      <th>Humidity3pm</th>\n",
       "      <th>Cloud9am</th>\n",
       "      <th>Cloud3pm</th>\n",
       "      <th>RainToday</th>\n",
       "    </tr>\n",
       "  </thead>\n",
       "  <tbody>\n",
       "    <tr>\n",
       "      <th>4011</th>\n",
       "      <td>0.6</td>\n",
       "      <td>6.92</td>\n",
       "      <td>N</td>\n",
       "      <td>N</td>\n",
       "      <td>SSE</td>\n",
       "      <td>90.0</td>\n",
       "      <td>83.0</td>\n",
       "      <td>8.0</td>\n",
       "      <td>7.00</td>\n",
       "      <td>No</td>\n",
       "    </tr>\n",
       "    <tr>\n",
       "      <th>3187</th>\n",
       "      <td>0.0</td>\n",
       "      <td>6.92</td>\n",
       "      <td>SE</td>\n",
       "      <td>WNW</td>\n",
       "      <td>ESE</td>\n",
       "      <td>56.0</td>\n",
       "      <td>47.0</td>\n",
       "      <td>4.0</td>\n",
       "      <td>4.91</td>\n",
       "      <td>No</td>\n",
       "    </tr>\n",
       "    <tr>\n",
       "      <th>2213</th>\n",
       "      <td>0.0</td>\n",
       "      <td>6.92</td>\n",
       "      <td>N</td>\n",
       "      <td>N</td>\n",
       "      <td>N</td>\n",
       "      <td>90.0</td>\n",
       "      <td>46.0</td>\n",
       "      <td>1.0</td>\n",
       "      <td>1.00</td>\n",
       "      <td>No</td>\n",
       "    </tr>\n",
       "  </tbody>\n",
       "</table>\n",
       "</div>"
      ],
      "text/plain": [
       "      Rainfall  Sunshine WindGustDir WindDir9am WindDir3pm  Humidity9am  \\\n",
       "4011       0.6      6.92           N          N        SSE         90.0   \n",
       "3187       0.0      6.92          SE        WNW        ESE         56.0   \n",
       "2213       0.0      6.92           N          N          N         90.0   \n",
       "\n",
       "      Humidity3pm  Cloud9am  Cloud3pm RainToday  \n",
       "4011         83.0       8.0      7.00        No  \n",
       "3187         47.0       4.0      4.91        No  \n",
       "2213         46.0       1.0      1.00        No  "
      ]
     },
     "execution_count": 183,
     "metadata": {},
     "output_type": "execute_result"
    }
   ],
   "source": [
    "X.head(3)"
   ]
  },
  {
   "cell_type": "code",
   "execution_count": 264,
   "id": "7702a201",
   "metadata": {},
   "outputs": [],
   "source": [
    "ohe =  OneHotEncoder(sparse=False)\n",
    "# scale = StandardScaler()\n",
    "preprocessor = ColumnTransformer(\n",
    "transformers = [\n",
    "    ('onehotencoding',ohe,[2,3,4,9]),\n",
    "#     ('standardscaler', scale,[0,1,5,6,7,8])\n",
    "],\n",
    "remainder = 'passthrough'\n",
    ")"
   ]
  },
  {
   "cell_type": "markdown",
   "id": "a2a70b50",
   "metadata": {},
   "source": [
    "# Using different Models :"
   ]
  },
  {
   "cell_type": "code",
   "execution_count": 187,
   "id": "7ee42a95",
   "metadata": {},
   "outputs": [],
   "source": [
    "from sklearn.model_selection import train_test_split\n",
    "from sklearn.metrics import accuracy_score , confusion_matrix\n",
    "from sklearn.tree import DecisionTreeClassifier\n",
    "from sklearn.ensemble import RandomForestClassifier , GradientBoostingClassifier"
   ]
  },
  {
   "cell_type": "code",
   "execution_count": 204,
   "id": "d04b137e",
   "metadata": {},
   "outputs": [
    {
     "name": "stdout",
     "output_type": "stream",
     "text": [
      "accuracy_score : 0.7557915057915058\n",
      "\n",
      "confusion matrix : [[529  69]\n",
      " [184 254]]\n"
     ]
    }
   ],
   "source": [
    "X_train_dt , X_test_dt , y_train_dt , y_test_dt = train_test_split(X,y,test_size = 0.3, random_state = 42)\n",
    "X_train_dummy = preprocessor.fit_transform(X_train_dt)\n",
    "X_test_dt = preprocessor.transform(X_test_dt)\n",
    "dt = DecisionTreeClassifier(max_depth = 4)\n",
    "dt.fit(X_train_dummy , y_train_dt)\n",
    "y_pred_dt = dt.predict(X_test_dt)\n",
    "print('accuracy_score :', accuracy_score(y_test_dt , y_pred_dt))\n",
    "print()\n",
    "print('confusion matrix :', confusion_matrix(y_test_dt , y_pred_dt))"
   ]
  },
  {
   "cell_type": "code",
   "execution_count": 210,
   "id": "c0918053",
   "metadata": {},
   "outputs": [],
   "source": [
    "dt_score = []\n",
    "for i in range(100) :\n",
    "    X_train_dt , X_test_dt , y_train_dt , y_test_dt = train_test_split(X,y,test_size = 0.3, random_state = i)\n",
    "    X_train_dummy = preprocessor.fit_transform(X_train_dt)\n",
    "    X_test_dt = preprocessor.transform(X_test_dt)\n",
    "    dt = DecisionTreeClassifier(max_depth = 4)\n",
    "    dt.fit(X_train_dummy , y_train_dt)\n",
    "    y_pred_dt = dt.predict(X_test_dt)\n",
    "    dt_score.append(accuracy_score(y_test_dt , y_pred_dt))\n",
    "    "
   ]
  },
  {
   "cell_type": "code",
   "execution_count": 211,
   "id": "37cb2720",
   "metadata": {},
   "outputs": [
    {
     "name": "stdout",
     "output_type": "stream",
     "text": [
      "best random state : 85\n",
      "\n",
      "best score : 0.7818532818532818\n"
     ]
    }
   ],
   "source": [
    "print('best random state :', np.argmax(dt_score))\n",
    "print()\n",
    "print('best score :', dt_score[np.argmax(dt_score)])"
   ]
  },
  {
   "cell_type": "code",
   "execution_count": 218,
   "id": "94777b70",
   "metadata": {},
   "outputs": [],
   "source": [
    "X_train_dt , X_test_dt , y_train_dt , y_test_dt = train_test_split(X,y,test_size = 0.3, random_state = 85)\n",
    "X_train_dummy = preprocessor.fit_transform(X_train_dt)\n",
    "X_test_dummy = preprocessor.transform(X_test_dt)"
   ]
  },
  {
   "cell_type": "code",
   "execution_count": 219,
   "id": "81a5f548",
   "metadata": {},
   "outputs": [
    {
     "name": "stdout",
     "output_type": "stream",
     "text": [
      "accuracy score : 0.7818532818532818\n",
      "\n",
      "best parameters : {'criterion': 'gini', 'max_depth': 4, 'splitter': 'best'}\n"
     ]
    }
   ],
   "source": [
    "param_grid = {\n",
    "    'max_depth':[4,5,6,7,8],\n",
    "    'criterion': ['gini', 'entropy'],\n",
    "    'splitter':['best', 'random'],\n",
    "}\n",
    "grid_search_dt = GridSearchCV(dt, param_grid , cv = 5)\n",
    "grid_search_dt.fit(X_train_dummy , y_train_dt)\n",
    "y_pred_dt = grid_search_dt.best_estimator_.predict(X_test_dummy)\n",
    "print('accuracy score :', accuracy_score(y_test_dt , y_pred_dt))\n",
    "print()\n",
    "print('best parameters :',grid_search_dt.best_params_)"
   ]
  },
  {
   "cell_type": "code",
   "execution_count": 265,
   "id": "cd0ea7a9",
   "metadata": {},
   "outputs": [
    {
     "name": "stdout",
     "output_type": "stream",
     "text": [
      "accuracy_score : 0.7818532818532818\n",
      "\n",
      "confusion matrix : [[504  87]\n",
      " [139 306]]\n"
     ]
    },
    {
     "name": "stderr",
     "output_type": "stream",
     "text": [
      "C:\\Users\\admin\\anaconda3\\Lib\\site-packages\\sklearn\\preprocessing\\_encoders.py:972: FutureWarning: `sparse` was renamed to `sparse_output` in version 1.2 and will be removed in 1.4. `sparse_output` is ignored unless you leave `sparse` to its default value.\n",
      "  warnings.warn(\n"
     ]
    }
   ],
   "source": [
    "X_train_dt , X_test_dt , y_train_dt , y_test_dt = train_test_split(X,y,test_size = 0.3, random_state = 85)\n",
    "X_train_dummy = preprocessor.fit_transform(X_train_dt)\n",
    "X_test_dummy = preprocessor.transform(X_test_dt)\n",
    "dt = DecisionTreeClassifier(max_depth = 4, splitter = 'best', criterion = 'gini')\n",
    "dt.fit(X_train_dummy , y_train_dt)\n",
    "y_pred_dt = dt.predict(X_test_dummy)\n",
    "print('accuracy_score :', accuracy_score(y_test_dt , y_pred_dt))\n",
    "print()\n",
    "print('confusion matrix :', confusion_matrix(y_test_dt , y_pred_dt))"
   ]
  },
  {
   "cell_type": "markdown",
   "id": "c6c28825",
   "metadata": {},
   "source": [
    "# Using RandomForestClassifier :"
   ]
  },
  {
   "cell_type": "code",
   "execution_count": 220,
   "id": "ff43eae0",
   "metadata": {},
   "outputs": [],
   "source": [
    "X_train_rf , X_test_rf , y_train_rf , y_test_rf = train_test_split(X,y,test_size = 0.3, random_state = 42)\n",
    "X_train_dummy = preprocessor.fit_transform(X_train_rf)\n",
    "X_test_dummy = preprocessor.transform(X_test_rf)"
   ]
  },
  {
   "cell_type": "code",
   "execution_count": 221,
   "id": "93bae391",
   "metadata": {},
   "outputs": [
    {
     "name": "stdout",
     "output_type": "stream",
     "text": [
      "accuracy score : 0.7693050193050193\n"
     ]
    }
   ],
   "source": [
    "rfc = RandomForestClassifier()\n",
    "param_grid = {\n",
    "    'n_estimators':[100,300,500],\n",
    "    'max_depth':[4,6,7,8],\n",
    "    'criterion': ['gini', 'entropy'],\n",
    "}\n",
    "grid_search_rf = GridSearchCV(rfc, param_grid , cv = 5)\n",
    "grid_search_rf.fit(X_train_dummy , y_train_rf)\n",
    "y_pred_rf = grid_search_rf.best_estimator_.predict(X_test_dummy)\n",
    "print('accuracy score :', accuracy_score(y_test_rf , y_pred_rf))"
   ]
  },
  {
   "cell_type": "code",
   "execution_count": 222,
   "id": "d557fc28",
   "metadata": {},
   "outputs": [
    {
     "name": "stdout",
     "output_type": "stream",
     "text": [
      "best parameters : {'criterion': 'gini', 'max_depth': 8, 'n_estimators': 300}\n"
     ]
    }
   ],
   "source": [
    "print('best parameters :',grid_search_rf.best_params_)"
   ]
  },
  {
   "cell_type": "code",
   "execution_count": 224,
   "id": "8b9546bb",
   "metadata": {},
   "outputs": [],
   "source": [
    "rf_score = []\n",
    "for i in range(100) :\n",
    "    X_train_rf , X_test_rf , y_train_rf , y_test_rf = train_test_split(X,y,test_size = 0.3, random_state = i)\n",
    "    X_train_dummy = preprocessor.fit_transform(X_train_rf)\n",
    "    X_test_dummy = preprocessor.transform(X_test_rf)\n",
    "    rf = RandomForestClassifier(max_depth = 8, n_estimators = 300, criterion = 'gini')\n",
    "    rf.fit(X_train_dummy , y_train_rf)\n",
    "    y_pred_rf = rf.predict(X_test_dummy)\n",
    "    rf_score.append(accuracy_score(y_test_rf , y_pred_rf))\n",
    "    "
   ]
  },
  {
   "cell_type": "code",
   "execution_count": 225,
   "id": "1fed6558",
   "metadata": {},
   "outputs": [
    {
     "name": "stdout",
     "output_type": "stream",
     "text": [
      "best random state : 50\n",
      "\n",
      "best score : 0.7866795366795367\n"
     ]
    }
   ],
   "source": [
    "print('best random state :', np.argmax(rf_score))\n",
    "print()\n",
    "print('best score :', rf_score[np.argmax(rf_score)])"
   ]
  },
  {
   "cell_type": "code",
   "execution_count": 229,
   "id": "ed2f3bac",
   "metadata": {},
   "outputs": [
    {
     "name": "stdout",
     "output_type": "stream",
     "text": [
      "0.7808880308880309\n",
      "[[475  86]\n",
      " [141 334]]\n"
     ]
    }
   ],
   "source": [
    "X_train_rf , X_test_rf , y_train_rf , y_test_rf = train_test_split(X,y,test_size = 0.3, random_state = 50)\n",
    "X_train_dummy = preprocessor.fit_transform(X_train_rf)\n",
    "X_test_dummy = preprocessor.transform(X_test_rf)\n",
    "rf = RandomForestClassifier(max_depth = 8, n_estimators = 300, criterion = 'gini')\n",
    "rf.fit(X_train_dummy , y_train_rf)\n",
    "y_pred_rf = rf.predict(X_test_dummy)\n",
    "print(accuracy_score(y_test_rf , y_pred_rf))\n",
    "print(confusion_matrix(y_test_rf , y_pred_rf))"
   ]
  },
  {
   "cell_type": "markdown",
   "id": "4816315c",
   "metadata": {},
   "source": [
    "# Using GradientBoosting Classifier : :"
   ]
  },
  {
   "cell_type": "code",
   "execution_count": 230,
   "id": "27294638",
   "metadata": {},
   "outputs": [
    {
     "name": "stdout",
     "output_type": "stream",
     "text": [
      "0.7625482625482626\n",
      "[[475 123]\n",
      " [123 315]]\n"
     ]
    }
   ],
   "source": [
    "X_train_gbc , X_test_gbc , y_train_gbc , y_test_gbc = train_test_split(X,y,test_size = 0.3, random_state = 42)\n",
    "X_train_dummy = preprocessor.fit_transform(X_train_gbc)\n",
    "X_test_dummy = preprocessor.transform(X_test_gbc)\n",
    "gbc = GradientBoostingClassifier(n_estimators = 300)\n",
    "gbc.fit(X_train_dummy , y_train_gbc)\n",
    "y_pred_gbc = gbc.predict(X_test_dummy)\n",
    "print(accuracy_score(y_test_gbc , y_pred_gbc))\n",
    "print(confusion_matrix(y_test_gbc , y_pred_gbc))"
   ]
  },
  {
   "cell_type": "code",
   "execution_count": 231,
   "id": "aa682e25",
   "metadata": {},
   "outputs": [
    {
     "name": "stdout",
     "output_type": "stream",
     "text": [
      "accuracy score : 0.778957528957529\n",
      "best parameters : {'criterion': 'friedman_mse', 'learning_rate': 0.01, 'n_estimators': 500}\n"
     ]
    }
   ],
   "source": [
    "gbc = GradientBoostingClassifier()\n",
    "param_grid = {\n",
    "    'n_estimators':[100,300,500],\n",
    "    'criterion': ['friedman_mse', 'squared_error'],\n",
    "    'learning_rate':[0.1, 0.01],\n",
    "}\n",
    "grid_search_gbc = GridSearchCV(gbc, param_grid , cv = 5)\n",
    "grid_search_gbc.fit(X_train_dummy , y_train_gbc)\n",
    "y_pred_gbc = grid_search_gbc.best_estimator_.predict(X_test_dummy)\n",
    "print('accuracy score :', accuracy_score(y_test_gbc , y_pred_gbc))\n",
    "print('best parameters :',grid_search_gbc.best_params_)"
   ]
  },
  {
   "cell_type": "code",
   "execution_count": 235,
   "id": "a89fdd04",
   "metadata": {},
   "outputs": [],
   "source": [
    "gbc_score = []\n",
    "for  i  in range(100) :\n",
    "    X_train_gbc , X_test_gbc , y_train_gbc , y_test_gbc = train_test_split(X,y,test_size = 0.3, random_state = i)\n",
    "    X_train_dummy = preprocessor.fit_transform(X_train_gbc)\n",
    "    X_test_dummy = preprocessor.transform(X_test_gbc)\n",
    "    gbc = GradientBoostingClassifier(n_estimators = 500, learning_rate = 0.01, criterion = 'friedman_mse')\n",
    "    gbc.fit(X_train_dummy , y_train_gbc)\n",
    "    y_pred_gbc = gbc.predict(X_test_dummy)\n",
    "    gbc_score.append(accuracy_score(y_test_gbc , y_pred_gbc))"
   ]
  },
  {
   "cell_type": "code",
   "execution_count": 236,
   "id": "18d4d57f",
   "metadata": {},
   "outputs": [
    {
     "name": "stdout",
     "output_type": "stream",
     "text": [
      "best random state : 98\n",
      "\n",
      "best score : 0.7818532818532818\n"
     ]
    }
   ],
   "source": [
    "print('best random state :', np.argmax(gbc_score))\n",
    "print()\n",
    "print('best score :', gbc_score[np.argmax(gbc_score)])"
   ]
  },
  {
   "cell_type": "code",
   "execution_count": 237,
   "id": "c6f9b05d",
   "metadata": {},
   "outputs": [
    {
     "name": "stdout",
     "output_type": "stream",
     "text": [
      "0.7818532818532818\n",
      "[[325 236]\n",
      " [271 204]]\n"
     ]
    }
   ],
   "source": [
    "X_train_gbc , X_test_gbc , y_train_gbc , y_test_gbc = train_test_split(X,y,test_size = 0.3, random_state = 98)\n",
    "X_train_dummy = preprocessor.fit_transform(X_train_gbc)\n",
    "X_test_dummy = preprocessor.transform(X_test_gbc)\n",
    "gbc = GradientBoostingClassifier(n_estimators = 500, learning_rate = 0.01, criterion = 'friedman_mse')\n",
    "gbc.fit(X_train_dummy , y_train_gbc)\n",
    "y_pred_gbc = gbc.predict(X_test_dummy)\n",
    "print(accuracy_score(y_test_gbc , y_pred_gbc))\n",
    "print(confusion_matrix(y_test_rf , y_pred_gbc))"
   ]
  },
  {
   "cell_type": "code",
   "execution_count": 240,
   "id": "555dbe5d",
   "metadata": {},
   "outputs": [
    {
     "data": {
      "text/plain": [
       "5579    0\n",
       "8164    0\n",
       "2934    0\n",
       "2875    0\n",
       "4264    0\n",
       "       ..\n",
       "6904    0\n",
       "2490    0\n",
       "6749    0\n",
       "3077    0\n",
       "4353    0\n",
       "Name: RainTomorrow, Length: 1036, dtype: int64"
      ]
     },
     "execution_count": 240,
     "metadata": {},
     "output_type": "execute_result"
    }
   ],
   "source": [
    "y_test_dt"
   ]
  },
  {
   "cell_type": "code",
   "execution_count": 242,
   "id": "1d01be39",
   "metadata": {},
   "outputs": [],
   "source": [
    "X_train , X_test , y_train , y_test = train_test_split(X,y,test_size = 0.3, random_state = 85)\n",
    "X_train_dummy = preprocessor.fit_transform(X_train)\n",
    "X_test_dummy = preprocessor.transform(X_test)"
   ]
  },
  {
   "cell_type": "code",
   "execution_count": 246,
   "id": "688b650e",
   "metadata": {},
   "outputs": [
    {
     "data": {
      "text/html": [
       "<div>\n",
       "<style scoped>\n",
       "    .dataframe tbody tr th:only-of-type {\n",
       "        vertical-align: middle;\n",
       "    }\n",
       "\n",
       "    .dataframe tbody tr th {\n",
       "        vertical-align: top;\n",
       "    }\n",
       "\n",
       "    .dataframe thead th {\n",
       "        text-align: right;\n",
       "    }\n",
       "</style>\n",
       "<table border=\"1\" class=\"dataframe\">\n",
       "  <thead>\n",
       "    <tr style=\"text-align: right;\">\n",
       "      <th></th>\n",
       "      <th>y_pred_dt</th>\n",
       "      <th>y_pred_rf</th>\n",
       "      <th>y_pred_gbc</th>\n",
       "      <th>y_test</th>\n",
       "    </tr>\n",
       "  </thead>\n",
       "  <tbody>\n",
       "    <tr>\n",
       "      <th>5579</th>\n",
       "      <td>1</td>\n",
       "      <td>0</td>\n",
       "      <td>0</td>\n",
       "      <td>0</td>\n",
       "    </tr>\n",
       "    <tr>\n",
       "      <th>8164</th>\n",
       "      <td>0</td>\n",
       "      <td>1</td>\n",
       "      <td>1</td>\n",
       "      <td>0</td>\n",
       "    </tr>\n",
       "    <tr>\n",
       "      <th>2934</th>\n",
       "      <td>0</td>\n",
       "      <td>0</td>\n",
       "      <td>0</td>\n",
       "      <td>0</td>\n",
       "    </tr>\n",
       "    <tr>\n",
       "      <th>2875</th>\n",
       "      <td>0</td>\n",
       "      <td>1</td>\n",
       "      <td>0</td>\n",
       "      <td>0</td>\n",
       "    </tr>\n",
       "    <tr>\n",
       "      <th>4264</th>\n",
       "      <td>0</td>\n",
       "      <td>0</td>\n",
       "      <td>0</td>\n",
       "      <td>0</td>\n",
       "    </tr>\n",
       "    <tr>\n",
       "      <th>...</th>\n",
       "      <td>...</td>\n",
       "      <td>...</td>\n",
       "      <td>...</td>\n",
       "      <td>...</td>\n",
       "    </tr>\n",
       "    <tr>\n",
       "      <th>6904</th>\n",
       "      <td>0</td>\n",
       "      <td>1</td>\n",
       "      <td>0</td>\n",
       "      <td>0</td>\n",
       "    </tr>\n",
       "    <tr>\n",
       "      <th>2490</th>\n",
       "      <td>0</td>\n",
       "      <td>0</td>\n",
       "      <td>0</td>\n",
       "      <td>0</td>\n",
       "    </tr>\n",
       "    <tr>\n",
       "      <th>6749</th>\n",
       "      <td>0</td>\n",
       "      <td>0</td>\n",
       "      <td>0</td>\n",
       "      <td>0</td>\n",
       "    </tr>\n",
       "    <tr>\n",
       "      <th>3077</th>\n",
       "      <td>0</td>\n",
       "      <td>0</td>\n",
       "      <td>0</td>\n",
       "      <td>0</td>\n",
       "    </tr>\n",
       "    <tr>\n",
       "      <th>4353</th>\n",
       "      <td>1</td>\n",
       "      <td>0</td>\n",
       "      <td>1</td>\n",
       "      <td>0</td>\n",
       "    </tr>\n",
       "  </tbody>\n",
       "</table>\n",
       "<p>1036 rows × 4 columns</p>\n",
       "</div>"
      ],
      "text/plain": [
       "      y_pred_dt  y_pred_rf  y_pred_gbc  y_test\n",
       "5579          1          0           0       0\n",
       "8164          0          1           1       0\n",
       "2934          0          0           0       0\n",
       "2875          0          1           0       0\n",
       "4264          0          0           0       0\n",
       "...         ...        ...         ...     ...\n",
       "6904          0          1           0       0\n",
       "2490          0          0           0       0\n",
       "6749          0          0           0       0\n",
       "3077          0          0           0       0\n",
       "4353          1          0           1       0\n",
       "\n",
       "[1036 rows x 4 columns]"
      ]
     },
     "execution_count": 246,
     "metadata": {},
     "output_type": "execute_result"
    }
   ],
   "source": [
    "df_ex  = pd.DataFrame({'y_pred_dt': y_pred_dt, 'y_pred_rf': y_pred_rf, 'y_pred_gbc': y_pred_gbc , 'y_test': y_test})\n",
    "df_ex"
   ]
  },
  {
   "cell_type": "markdown",
   "id": "23735828",
   "metadata": {},
   "source": [
    "# Using Voting Classifier :"
   ]
  },
  {
   "cell_type": "code",
   "execution_count": 248,
   "id": "bd5c534f",
   "metadata": {},
   "outputs": [],
   "source": [
    "from sklearn.ensemble import VotingClassifier"
   ]
  },
  {
   "cell_type": "code",
   "execution_count": 249,
   "id": "4835ec2c",
   "metadata": {},
   "outputs": [
    {
     "name": "stdout",
     "output_type": "stream",
     "text": [
      "accuracy_score of Voting Classifier : 0.7741312741312741\n"
     ]
    }
   ],
   "source": [
    "voting_clf = VotingClassifier(\n",
    "   estimators = [\n",
    "       ('dt', DecisionTreeClassifier(criterion='gini', splitter='best', max_depth= 4)),\n",
    "       ('rf', RandomForestClassifier(n_estimators=300,  criterion='gini', max_depth= 8)),\n",
    "       ('gbc',GradientBoostingClassifier( learning_rate=0.1, n_estimators=500,criterion='friedman_mse'))\n",
    "   ])\n",
    "voting_clf.fit(X_train_dummy , y_train)\n",
    "voting_pred = voting_clf.predict(X_test_dummy)\n",
    "accuracy = accuracy_score(y_test, voting_pred)\n",
    "print(\"accuracy_score of Voting Classifier :\", accuracy)"
   ]
  },
  {
   "cell_type": "code",
   "execution_count": 250,
   "id": "959cf04f",
   "metadata": {},
   "outputs": [
    {
     "name": "stdout",
     "output_type": "stream",
     "text": [
      "[[491 100]\n",
      " [134 311]]\n"
     ]
    }
   ],
   "source": [
    "print(confusion_matrix(y_test, voting_pred))"
   ]
  },
  {
   "cell_type": "markdown",
   "id": "19b455b2",
   "metadata": {},
   "source": [
    "# Using StackingClassifier :"
   ]
  },
  {
   "cell_type": "code",
   "execution_count": 252,
   "id": "b5c507c1",
   "metadata": {},
   "outputs": [],
   "source": [
    "from sklearn.ensemble import StackingClassifier\n",
    "from sklearn.linear_model import LogisticRegression"
   ]
  },
  {
   "cell_type": "code",
   "execution_count": 253,
   "id": "90a192bf",
   "metadata": {},
   "outputs": [],
   "source": [
    "stacking_clf = StackingClassifier(\n",
    "   estimators = [\n",
    "       ('dt', DecisionTreeClassifier(criterion='gini', splitter='best', max_depth= 4)),\n",
    "       ('rf', RandomForestClassifier(n_estimators=300,  criterion='gini', max_depth= 8)),\n",
    "       ('gbc',GradientBoostingClassifier( learning_rate=0.1, n_estimators=500,criterion='friedman_mse'))\n",
    "   ],\n",
    "   final_estimator = LogisticRegression(),\n",
    "   cv = 5\n",
    ")\n"
   ]
  },
  {
   "cell_type": "code",
   "execution_count": 254,
   "id": "cda2bcaf",
   "metadata": {},
   "outputs": [
    {
     "name": "stdout",
     "output_type": "stream",
     "text": [
      "accuracy_score of Stacking Classifier : 0.7712355212355212\n"
     ]
    }
   ],
   "source": [
    "stacking_clf.fit(X_train_dummy , y_train)\n",
    "stacking_pred = stacking_clf.predict(X_test_dummy)\n",
    "accuracy = accuracy_score(y_test, stacking_pred)\n",
    "print(\"accuracy_score of Stacking Classifier :\", accuracy)"
   ]
  },
  {
   "cell_type": "code",
   "execution_count": 256,
   "id": "264878c5",
   "metadata": {},
   "outputs": [
    {
     "name": "stdout",
     "output_type": "stream",
     "text": [
      "[[489 102]\n",
      " [135 310]]\n"
     ]
    }
   ],
   "source": [
    "print(confusion_matrix(y_test, stacking_pred))"
   ]
  },
  {
   "cell_type": "markdown",
   "id": "ae99e6f6",
   "metadata": {},
   "source": [
    "# So, I will go for decisionTree model :\n",
    "In this model , the value of True negetive(Actually no rain tomorrow but model predicting rain) is least ."
   ]
  },
  {
   "cell_type": "markdown",
   "id": "2b2c0abe",
   "metadata": {},
   "source": [
    "# Prediction model :"
   ]
  },
  {
   "cell_type": "code",
   "execution_count": 266,
   "id": "45a4ac51",
   "metadata": {},
   "outputs": [],
   "source": [
    "def RainPrediction(Rainfall,\tSunshine,\tWindGustDir,\tWindDir9am,\tWindDir3pm,\tHumidity9am,\tHumidity3pm,\tCloud9am,\tCloud3pm,\tRainToday):\n",
    "    features = np.array([[Rainfall,\tSunshine,\tWindGustDir,\tWindDir9am,\tWindDir3pm,\tHumidity9am,\tHumidity3pm,\tCloud9am,\tCloud3pm,\tRainToday]])\n",
    "    modified_features = preprocessor.transform(features)\n",
    "    prediction = dt.predict(modified_features).reshape(1,-1)\n",
    "    return prediction[0]"
   ]
  },
  {
   "cell_type": "code",
   "execution_count": 268,
   "id": "1644696e",
   "metadata": {},
   "outputs": [
    {
     "name": "stderr",
     "output_type": "stream",
     "text": [
      "C:\\Users\\admin\\anaconda3\\Lib\\site-packages\\sklearn\\base.py:464: UserWarning: X does not have valid feature names, but OneHotEncoder was fitted with feature names\n",
      "  warnings.warn(\n"
     ]
    },
    {
     "data": {
      "text/plain": [
       "array([0], dtype=int64)"
      ]
     },
     "execution_count": 268,
     "metadata": {},
     "output_type": "execute_result"
    }
   ],
   "source": [
    "Rainfall = 0.0\n",
    "Sunshine = 10.20\n",
    "WindGustDir = 'NW'\n",
    "WindDir9am = 'WSW'\n",
    "WindDir3pm = 'NW'\n",
    "Humidity9am = 72.0\n",
    "Humidity3pm = 61.0\n",
    "Cloud9am = 5.0\n",
    "Cloud3pm = 3.0\n",
    "RainToday = 'No'\n",
    "result = RainPrediction(Rainfall,\tSunshine,\tWindGustDir,\tWindDir9am,\tWindDir3pm,\tHumidity9am,\tHumidity3pm,\tCloud9am,\tCloud3pm,\tRainToday)\n",
    "result"
   ]
  },
  {
   "cell_type": "code",
   "execution_count": null,
   "id": "bc2368b6",
   "metadata": {},
   "outputs": [],
   "source": []
  }
 ],
 "metadata": {
  "kernelspec": {
   "display_name": "Python 3 (ipykernel)",
   "language": "python",
   "name": "python3"
  },
  "language_info": {
   "codemirror_mode": {
    "name": "ipython",
    "version": 3
   },
   "file_extension": ".py",
   "mimetype": "text/x-python",
   "name": "python",
   "nbconvert_exporter": "python",
   "pygments_lexer": "ipython3",
   "version": "3.11.5"
  }
 },
 "nbformat": 4,
 "nbformat_minor": 5
}
