{
 "cells": [
  {
   "cell_type": "markdown",
   "id": "5d3fec6a",
   "metadata": {},
   "source": [
    "# HR Analytics Project- Understanding the Attrition in HR"
   ]
  },
  {
   "cell_type": "code",
   "execution_count": 321,
   "id": "4ea7dae8",
   "metadata": {},
   "outputs": [],
   "source": [
    "# Importing different libraries :\n",
    "import pandas as pd\n",
    "import numpy as np\n",
    "import matplotlib.pyplot as plt\n",
    "import seaborn as sns\n",
    "import warnings\n",
    "warnings.filterwarnings(\"ignore\")"
   ]
  },
  {
   "cell_type": "code",
   "execution_count": 322,
   "id": "d680bc1b",
   "metadata": {},
   "outputs": [
    {
     "data": {
      "text/html": [
       "<div>\n",
       "<style scoped>\n",
       "    .dataframe tbody tr th:only-of-type {\n",
       "        vertical-align: middle;\n",
       "    }\n",
       "\n",
       "    .dataframe tbody tr th {\n",
       "        vertical-align: top;\n",
       "    }\n",
       "\n",
       "    .dataframe thead th {\n",
       "        text-align: right;\n",
       "    }\n",
       "</style>\n",
       "<table border=\"1\" class=\"dataframe\">\n",
       "  <thead>\n",
       "    <tr style=\"text-align: right;\">\n",
       "      <th></th>\n",
       "      <th>Age</th>\n",
       "      <th>Attrition</th>\n",
       "      <th>BusinessTravel</th>\n",
       "      <th>DailyRate</th>\n",
       "      <th>Department</th>\n",
       "      <th>DistanceFromHome</th>\n",
       "      <th>Education</th>\n",
       "      <th>EducationField</th>\n",
       "      <th>EmployeeCount</th>\n",
       "      <th>EmployeeNumber</th>\n",
       "      <th>...</th>\n",
       "      <th>RelationshipSatisfaction</th>\n",
       "      <th>StandardHours</th>\n",
       "      <th>StockOptionLevel</th>\n",
       "      <th>TotalWorkingYears</th>\n",
       "      <th>TrainingTimesLastYear</th>\n",
       "      <th>WorkLifeBalance</th>\n",
       "      <th>YearsAtCompany</th>\n",
       "      <th>YearsInCurrentRole</th>\n",
       "      <th>YearsSinceLastPromotion</th>\n",
       "      <th>YearsWithCurrManager</th>\n",
       "    </tr>\n",
       "  </thead>\n",
       "  <tbody>\n",
       "    <tr>\n",
       "      <th>0</th>\n",
       "      <td>41</td>\n",
       "      <td>Yes</td>\n",
       "      <td>Travel_Rarely</td>\n",
       "      <td>1102</td>\n",
       "      <td>Sales</td>\n",
       "      <td>1</td>\n",
       "      <td>2</td>\n",
       "      <td>Life Sciences</td>\n",
       "      <td>1</td>\n",
       "      <td>1</td>\n",
       "      <td>...</td>\n",
       "      <td>1</td>\n",
       "      <td>80</td>\n",
       "      <td>0</td>\n",
       "      <td>8</td>\n",
       "      <td>0</td>\n",
       "      <td>1</td>\n",
       "      <td>6</td>\n",
       "      <td>4</td>\n",
       "      <td>0</td>\n",
       "      <td>5</td>\n",
       "    </tr>\n",
       "    <tr>\n",
       "      <th>1</th>\n",
       "      <td>49</td>\n",
       "      <td>No</td>\n",
       "      <td>Travel_Frequently</td>\n",
       "      <td>279</td>\n",
       "      <td>Research &amp; Development</td>\n",
       "      <td>8</td>\n",
       "      <td>1</td>\n",
       "      <td>Life Sciences</td>\n",
       "      <td>1</td>\n",
       "      <td>2</td>\n",
       "      <td>...</td>\n",
       "      <td>4</td>\n",
       "      <td>80</td>\n",
       "      <td>1</td>\n",
       "      <td>10</td>\n",
       "      <td>3</td>\n",
       "      <td>3</td>\n",
       "      <td>10</td>\n",
       "      <td>7</td>\n",
       "      <td>1</td>\n",
       "      <td>7</td>\n",
       "    </tr>\n",
       "    <tr>\n",
       "      <th>2</th>\n",
       "      <td>37</td>\n",
       "      <td>Yes</td>\n",
       "      <td>Travel_Rarely</td>\n",
       "      <td>1373</td>\n",
       "      <td>Research &amp; Development</td>\n",
       "      <td>2</td>\n",
       "      <td>2</td>\n",
       "      <td>Other</td>\n",
       "      <td>1</td>\n",
       "      <td>4</td>\n",
       "      <td>...</td>\n",
       "      <td>2</td>\n",
       "      <td>80</td>\n",
       "      <td>0</td>\n",
       "      <td>7</td>\n",
       "      <td>3</td>\n",
       "      <td>3</td>\n",
       "      <td>0</td>\n",
       "      <td>0</td>\n",
       "      <td>0</td>\n",
       "      <td>0</td>\n",
       "    </tr>\n",
       "    <tr>\n",
       "      <th>3</th>\n",
       "      <td>33</td>\n",
       "      <td>No</td>\n",
       "      <td>Travel_Frequently</td>\n",
       "      <td>1392</td>\n",
       "      <td>Research &amp; Development</td>\n",
       "      <td>3</td>\n",
       "      <td>4</td>\n",
       "      <td>Life Sciences</td>\n",
       "      <td>1</td>\n",
       "      <td>5</td>\n",
       "      <td>...</td>\n",
       "      <td>3</td>\n",
       "      <td>80</td>\n",
       "      <td>0</td>\n",
       "      <td>8</td>\n",
       "      <td>3</td>\n",
       "      <td>3</td>\n",
       "      <td>8</td>\n",
       "      <td>7</td>\n",
       "      <td>3</td>\n",
       "      <td>0</td>\n",
       "    </tr>\n",
       "    <tr>\n",
       "      <th>4</th>\n",
       "      <td>27</td>\n",
       "      <td>No</td>\n",
       "      <td>Travel_Rarely</td>\n",
       "      <td>591</td>\n",
       "      <td>Research &amp; Development</td>\n",
       "      <td>2</td>\n",
       "      <td>1</td>\n",
       "      <td>Medical</td>\n",
       "      <td>1</td>\n",
       "      <td>7</td>\n",
       "      <td>...</td>\n",
       "      <td>4</td>\n",
       "      <td>80</td>\n",
       "      <td>1</td>\n",
       "      <td>6</td>\n",
       "      <td>3</td>\n",
       "      <td>3</td>\n",
       "      <td>2</td>\n",
       "      <td>2</td>\n",
       "      <td>2</td>\n",
       "      <td>2</td>\n",
       "    </tr>\n",
       "    <tr>\n",
       "      <th>...</th>\n",
       "      <td>...</td>\n",
       "      <td>...</td>\n",
       "      <td>...</td>\n",
       "      <td>...</td>\n",
       "      <td>...</td>\n",
       "      <td>...</td>\n",
       "      <td>...</td>\n",
       "      <td>...</td>\n",
       "      <td>...</td>\n",
       "      <td>...</td>\n",
       "      <td>...</td>\n",
       "      <td>...</td>\n",
       "      <td>...</td>\n",
       "      <td>...</td>\n",
       "      <td>...</td>\n",
       "      <td>...</td>\n",
       "      <td>...</td>\n",
       "      <td>...</td>\n",
       "      <td>...</td>\n",
       "      <td>...</td>\n",
       "      <td>...</td>\n",
       "    </tr>\n",
       "    <tr>\n",
       "      <th>1465</th>\n",
       "      <td>36</td>\n",
       "      <td>No</td>\n",
       "      <td>Travel_Frequently</td>\n",
       "      <td>884</td>\n",
       "      <td>Research &amp; Development</td>\n",
       "      <td>23</td>\n",
       "      <td>2</td>\n",
       "      <td>Medical</td>\n",
       "      <td>1</td>\n",
       "      <td>2061</td>\n",
       "      <td>...</td>\n",
       "      <td>3</td>\n",
       "      <td>80</td>\n",
       "      <td>1</td>\n",
       "      <td>17</td>\n",
       "      <td>3</td>\n",
       "      <td>3</td>\n",
       "      <td>5</td>\n",
       "      <td>2</td>\n",
       "      <td>0</td>\n",
       "      <td>3</td>\n",
       "    </tr>\n",
       "    <tr>\n",
       "      <th>1466</th>\n",
       "      <td>39</td>\n",
       "      <td>No</td>\n",
       "      <td>Travel_Rarely</td>\n",
       "      <td>613</td>\n",
       "      <td>Research &amp; Development</td>\n",
       "      <td>6</td>\n",
       "      <td>1</td>\n",
       "      <td>Medical</td>\n",
       "      <td>1</td>\n",
       "      <td>2062</td>\n",
       "      <td>...</td>\n",
       "      <td>1</td>\n",
       "      <td>80</td>\n",
       "      <td>1</td>\n",
       "      <td>9</td>\n",
       "      <td>5</td>\n",
       "      <td>3</td>\n",
       "      <td>7</td>\n",
       "      <td>7</td>\n",
       "      <td>1</td>\n",
       "      <td>7</td>\n",
       "    </tr>\n",
       "    <tr>\n",
       "      <th>1467</th>\n",
       "      <td>27</td>\n",
       "      <td>No</td>\n",
       "      <td>Travel_Rarely</td>\n",
       "      <td>155</td>\n",
       "      <td>Research &amp; Development</td>\n",
       "      <td>4</td>\n",
       "      <td>3</td>\n",
       "      <td>Life Sciences</td>\n",
       "      <td>1</td>\n",
       "      <td>2064</td>\n",
       "      <td>...</td>\n",
       "      <td>2</td>\n",
       "      <td>80</td>\n",
       "      <td>1</td>\n",
       "      <td>6</td>\n",
       "      <td>0</td>\n",
       "      <td>3</td>\n",
       "      <td>6</td>\n",
       "      <td>2</td>\n",
       "      <td>0</td>\n",
       "      <td>3</td>\n",
       "    </tr>\n",
       "    <tr>\n",
       "      <th>1468</th>\n",
       "      <td>49</td>\n",
       "      <td>No</td>\n",
       "      <td>Travel_Frequently</td>\n",
       "      <td>1023</td>\n",
       "      <td>Sales</td>\n",
       "      <td>2</td>\n",
       "      <td>3</td>\n",
       "      <td>Medical</td>\n",
       "      <td>1</td>\n",
       "      <td>2065</td>\n",
       "      <td>...</td>\n",
       "      <td>4</td>\n",
       "      <td>80</td>\n",
       "      <td>0</td>\n",
       "      <td>17</td>\n",
       "      <td>3</td>\n",
       "      <td>2</td>\n",
       "      <td>9</td>\n",
       "      <td>6</td>\n",
       "      <td>0</td>\n",
       "      <td>8</td>\n",
       "    </tr>\n",
       "    <tr>\n",
       "      <th>1469</th>\n",
       "      <td>34</td>\n",
       "      <td>No</td>\n",
       "      <td>Travel_Rarely</td>\n",
       "      <td>628</td>\n",
       "      <td>Research &amp; Development</td>\n",
       "      <td>8</td>\n",
       "      <td>3</td>\n",
       "      <td>Medical</td>\n",
       "      <td>1</td>\n",
       "      <td>2068</td>\n",
       "      <td>...</td>\n",
       "      <td>1</td>\n",
       "      <td>80</td>\n",
       "      <td>0</td>\n",
       "      <td>6</td>\n",
       "      <td>3</td>\n",
       "      <td>4</td>\n",
       "      <td>4</td>\n",
       "      <td>3</td>\n",
       "      <td>1</td>\n",
       "      <td>2</td>\n",
       "    </tr>\n",
       "  </tbody>\n",
       "</table>\n",
       "<p>1470 rows × 35 columns</p>\n",
       "</div>"
      ],
      "text/plain": [
       "      Age Attrition     BusinessTravel  DailyRate              Department  \\\n",
       "0      41       Yes      Travel_Rarely       1102                   Sales   \n",
       "1      49        No  Travel_Frequently        279  Research & Development   \n",
       "2      37       Yes      Travel_Rarely       1373  Research & Development   \n",
       "3      33        No  Travel_Frequently       1392  Research & Development   \n",
       "4      27        No      Travel_Rarely        591  Research & Development   \n",
       "...   ...       ...                ...        ...                     ...   \n",
       "1465   36        No  Travel_Frequently        884  Research & Development   \n",
       "1466   39        No      Travel_Rarely        613  Research & Development   \n",
       "1467   27        No      Travel_Rarely        155  Research & Development   \n",
       "1468   49        No  Travel_Frequently       1023                   Sales   \n",
       "1469   34        No      Travel_Rarely        628  Research & Development   \n",
       "\n",
       "      DistanceFromHome  Education EducationField  EmployeeCount  \\\n",
       "0                    1          2  Life Sciences              1   \n",
       "1                    8          1  Life Sciences              1   \n",
       "2                    2          2          Other              1   \n",
       "3                    3          4  Life Sciences              1   \n",
       "4                    2          1        Medical              1   \n",
       "...                ...        ...            ...            ...   \n",
       "1465                23          2        Medical              1   \n",
       "1466                 6          1        Medical              1   \n",
       "1467                 4          3  Life Sciences              1   \n",
       "1468                 2          3        Medical              1   \n",
       "1469                 8          3        Medical              1   \n",
       "\n",
       "      EmployeeNumber  ...  RelationshipSatisfaction StandardHours  \\\n",
       "0                  1  ...                         1            80   \n",
       "1                  2  ...                         4            80   \n",
       "2                  4  ...                         2            80   \n",
       "3                  5  ...                         3            80   \n",
       "4                  7  ...                         4            80   \n",
       "...              ...  ...                       ...           ...   \n",
       "1465            2061  ...                         3            80   \n",
       "1466            2062  ...                         1            80   \n",
       "1467            2064  ...                         2            80   \n",
       "1468            2065  ...                         4            80   \n",
       "1469            2068  ...                         1            80   \n",
       "\n",
       "      StockOptionLevel  TotalWorkingYears  TrainingTimesLastYear  \\\n",
       "0                    0                  8                      0   \n",
       "1                    1                 10                      3   \n",
       "2                    0                  7                      3   \n",
       "3                    0                  8                      3   \n",
       "4                    1                  6                      3   \n",
       "...                ...                ...                    ...   \n",
       "1465                 1                 17                      3   \n",
       "1466                 1                  9                      5   \n",
       "1467                 1                  6                      0   \n",
       "1468                 0                 17                      3   \n",
       "1469                 0                  6                      3   \n",
       "\n",
       "     WorkLifeBalance  YearsAtCompany YearsInCurrentRole  \\\n",
       "0                  1               6                  4   \n",
       "1                  3              10                  7   \n",
       "2                  3               0                  0   \n",
       "3                  3               8                  7   \n",
       "4                  3               2                  2   \n",
       "...              ...             ...                ...   \n",
       "1465               3               5                  2   \n",
       "1466               3               7                  7   \n",
       "1467               3               6                  2   \n",
       "1468               2               9                  6   \n",
       "1469               4               4                  3   \n",
       "\n",
       "      YearsSinceLastPromotion  YearsWithCurrManager  \n",
       "0                           0                     5  \n",
       "1                           1                     7  \n",
       "2                           0                     0  \n",
       "3                           3                     0  \n",
       "4                           2                     2  \n",
       "...                       ...                   ...  \n",
       "1465                        0                     3  \n",
       "1466                        1                     7  \n",
       "1467                        0                     3  \n",
       "1468                        0                     8  \n",
       "1469                        1                     2  \n",
       "\n",
       "[1470 rows x 35 columns]"
      ]
     },
     "execution_count": 322,
     "metadata": {},
     "output_type": "execute_result"
    }
   ],
   "source": [
    "# Getting the dataset :\n",
    "df = pd.read_csv('ibm-hr-analytics-employee-attrition-performance (4).zip')\n",
    "df"
   ]
  },
  {
   "cell_type": "code",
   "execution_count": 323,
   "id": "16e3e313",
   "metadata": {},
   "outputs": [
    {
     "data": {
      "text/plain": [
       "Index(['Age', 'Attrition', 'BusinessTravel', 'DailyRate', 'Department',\n",
       "       'DistanceFromHome', 'Education', 'EducationField', 'EmployeeCount',\n",
       "       'EmployeeNumber', 'EnvironmentSatisfaction', 'Gender', 'HourlyRate',\n",
       "       'JobInvolvement', 'JobLevel', 'JobRole', 'JobSatisfaction',\n",
       "       'MaritalStatus', 'MonthlyIncome', 'MonthlyRate', 'NumCompaniesWorked',\n",
       "       'Over18', 'OverTime', 'PercentSalaryHike', 'PerformanceRating',\n",
       "       'RelationshipSatisfaction', 'StandardHours', 'StockOptionLevel',\n",
       "       'TotalWorkingYears', 'TrainingTimesLastYear', 'WorkLifeBalance',\n",
       "       'YearsAtCompany', 'YearsInCurrentRole', 'YearsSinceLastPromotion',\n",
       "       'YearsWithCurrManager'],\n",
       "      dtype='object')"
      ]
     },
     "execution_count": 323,
     "metadata": {},
     "output_type": "execute_result"
    }
   ],
   "source": [
    "df.columns"
   ]
  },
  {
   "cell_type": "markdown",
   "id": "9f789afe",
   "metadata": {},
   "source": [
    "# I will analyse each and every column properly "
   ]
  },
  {
   "cell_type": "markdown",
   "id": "2b943901",
   "metadata": {},
   "source": [
    "# First I will check the categorical columns :"
   ]
  },
  {
   "cell_type": "markdown",
   "id": "f61dd29d",
   "metadata": {},
   "source": [
    "# BusinessTravel :"
   ]
  },
  {
   "cell_type": "code",
   "execution_count": 4,
   "id": "be00878d",
   "metadata": {},
   "outputs": [
    {
     "data": {
      "text/plain": [
       "Travel_Rarely        1043\n",
       "Travel_Frequently     277\n",
       "Non-Travel            150\n",
       "Name: BusinessTravel, dtype: int64"
      ]
     },
     "execution_count": 4,
     "metadata": {},
     "output_type": "execute_result"
    }
   ],
   "source": [
    "df['BusinessTravel'].value_counts()"
   ]
  },
  {
   "cell_type": "code",
   "execution_count": 5,
   "id": "1bb4a2ca",
   "metadata": {},
   "outputs": [
    {
     "data": {
      "text/plain": [
       "<Axes: xlabel='Attrition'>"
      ]
     },
     "execution_count": 5,
     "metadata": {},
     "output_type": "execute_result"
    },
    {
     "data": {
      "image/png": "[encoded data removed]",
      "text/plain": [
       "<Figure size 640x480 with 1 Axes>"
      ]
     },
     "metadata": {},
     "output_type": "display_data"
    }
   ],
   "source": [
    "crosstab = pd.crosstab(df['Attrition'] , df['BusinessTravel'])\n",
    "crosstab.plot(kind = 'bar')"
   ]
  },
  {
   "cell_type": "code",
   "execution_count": 6,
   "id": "7bb49036",
   "metadata": {},
   "outputs": [],
   "source": [
    "# So , 'BusinessTravel' is not an important column here"
   ]
  },
  {
   "cell_type": "markdown",
   "id": "beecc11e",
   "metadata": {},
   "source": [
    "# Department :"
   ]
  },
  {
   "cell_type": "code",
   "execution_count": 7,
   "id": "b90cbbc5",
   "metadata": {},
   "outputs": [
    {
     "data": {
      "text/plain": [
       "Research & Development    961\n",
       "Sales                     446\n",
       "Human Resources            63\n",
       "Name: Department, dtype: int64"
      ]
     },
     "execution_count": 7,
     "metadata": {},
     "output_type": "execute_result"
    }
   ],
   "source": [
    "df['Department'].value_counts()"
   ]
  },
  {
   "cell_type": "code",
   "execution_count": 8,
   "id": "fd994c0c",
   "metadata": {},
   "outputs": [
    {
     "data": {
      "text/plain": [
       "<Axes: xlabel='Attrition'>"
      ]
     },
     "execution_count": 8,
     "metadata": {},
     "output_type": "execute_result"
    },
    {
     "data": {
      "image/png": "[encoded data removed]",
      "text/plain": [
       "<Figure size 640x480 with 1 Axes>"
      ]
     },
     "metadata": {},
     "output_type": "display_data"
    }
   ],
   "source": [
    "crosstab = pd.crosstab(df['Attrition'] , df['Department'])\n",
    "crosstab.plot(kind = 'bar')"
   ]
  },
  {
   "cell_type": "code",
   "execution_count": 9,
   "id": "67a725e5",
   "metadata": {},
   "outputs": [],
   "source": [
    "# I will take the department column , and will map this column"
   ]
  },
  {
   "cell_type": "markdown",
   "id": "3004f2f1",
   "metadata": {},
   "source": [
    "# Education :"
   ]
  },
  {
   "cell_type": "code",
   "execution_count": 10,
   "id": "df24fb46",
   "metadata": {},
   "outputs": [
    {
     "data": {
      "text/plain": [
       "3    572\n",
       "4    398\n",
       "2    282\n",
       "1    170\n",
       "5     48\n",
       "Name: Education, dtype: int64"
      ]
     },
     "execution_count": 10,
     "metadata": {},
     "output_type": "execute_result"
    }
   ],
   "source": [
    "df['Education'].value_counts()"
   ]
  },
  {
   "cell_type": "code",
   "execution_count": 11,
   "id": "14bdcc48",
   "metadata": {},
   "outputs": [
    {
     "data": {
      "text/plain": [
       "<Axes: xlabel='Attrition'>"
      ]
     },
     "execution_count": 11,
     "metadata": {},
     "output_type": "execute_result"
    },
    {
     "data": {
      "image/png": "[encoded data removed]",
      "text/plain": [
       "<Figure size 640x480 with 1 Axes>"
      ]
     },
     "metadata": {},
     "output_type": "display_data"
    }
   ],
   "source": [
    "crosstab = pd.crosstab(df['Attrition'] , df['Education'])\n",
    "crosstab.plot(kind = 'bar')"
   ]
  },
  {
   "cell_type": "code",
   "execution_count": 12,
   "id": "df443227",
   "metadata": {},
   "outputs": [],
   "source": [
    "# So , education is not an important column here"
   ]
  },
  {
   "cell_type": "markdown",
   "id": "976b4005",
   "metadata": {},
   "source": [
    "# Education Field :"
   ]
  },
  {
   "cell_type": "code",
   "execution_count": 13,
   "id": "4ae5e4ed",
   "metadata": {},
   "outputs": [
    {
     "data": {
      "text/plain": [
       "Life Sciences       606\n",
       "Medical             464\n",
       "Marketing           159\n",
       "Technical Degree    132\n",
       "Other                82\n",
       "Human Resources      27\n",
       "Name: EducationField, dtype: int64"
      ]
     },
     "execution_count": 13,
     "metadata": {},
     "output_type": "execute_result"
    }
   ],
   "source": [
    "df['EducationField'].value_counts()"
   ]
  },
  {
   "cell_type": "code",
   "execution_count": 14,
   "id": "24ec28ed",
   "metadata": {},
   "outputs": [
    {
     "data": {
      "text/plain": [
       "<Axes: xlabel='Attrition'>"
      ]
     },
     "execution_count": 14,
     "metadata": {},
     "output_type": "execute_result"
    },
    {
     "data": {
      "image/png": "[encoded data removed]",
      "text/plain": [
       "<Figure size 640x480 with 1 Axes>"
      ]
     },
     "metadata": {},
     "output_type": "display_data"
    }
   ],
   "source": [
    "crosstab = pd.crosstab(df['Attrition'] , df['EducationField'])\n",
    "crosstab.plot(kind = 'bar')"
   ]
  },
  {
   "cell_type": "code",
   "execution_count": 15,
   "id": "91787f34",
   "metadata": {},
   "outputs": [],
   "source": [
    "# So , 'EducationField' is also not an important column here "
   ]
  },
  {
   "cell_type": "markdown",
   "id": "8311e96f",
   "metadata": {},
   "source": [
    "# Environment Satisfaction :"
   ]
  },
  {
   "cell_type": "code",
   "execution_count": 16,
   "id": "c60695c3",
   "metadata": {},
   "outputs": [
    {
     "data": {
      "text/plain": [
       "3    453\n",
       "4    446\n",
       "2    287\n",
       "1    284\n",
       "Name: EnvironmentSatisfaction, dtype: int64"
      ]
     },
     "execution_count": 16,
     "metadata": {},
     "output_type": "execute_result"
    }
   ],
   "source": [
    "df['EnvironmentSatisfaction'].value_counts()"
   ]
  },
  {
   "cell_type": "code",
   "execution_count": 17,
   "id": "9c2d879c",
   "metadata": {},
   "outputs": [
    {
     "data": {
      "text/plain": [
       "<Axes: xlabel='Attrition'>"
      ]
     },
     "execution_count": 17,
     "metadata": {},
     "output_type": "execute_result"
    },
    {
     "data": {
      "image/png": "[encoded data removed]",
      "text/plain": [
       "<Figure size 640x480 with 1 Axes>"
      ]
     },
     "metadata": {},
     "output_type": "display_data"
    }
   ],
   "source": [
    "crosstab = pd.crosstab(df['Attrition'] , df['EnvironmentSatisfaction'])\n",
    "crosstab.plot(kind = 'bar')"
   ]
  },
  {
   "cell_type": "code",
   "execution_count": 18,
   "id": "5e76a5c4",
   "metadata": {},
   "outputs": [],
   "source": [
    "# So , 'EnvironmentSatisfaction' has an impact"
   ]
  },
  {
   "cell_type": "markdown",
   "id": "d67a272e",
   "metadata": {},
   "source": [
    "# Gender :"
   ]
  },
  {
   "cell_type": "code",
   "execution_count": 19,
   "id": "acef31f9",
   "metadata": {},
   "outputs": [
    {
     "data": {
      "text/plain": [
       "<Axes: xlabel='Attrition'>"
      ]
     },
     "execution_count": 19,
     "metadata": {},
     "output_type": "execute_result"
    },
    {
     "data": {
      "image/png": "[encoded data removed]",
      "text/plain": [
       "<Figure size 640x480 with 1 Axes>"
      ]
     },
     "metadata": {},
     "output_type": "display_data"
    }
   ],
   "source": [
    "crosstab = pd.crosstab(df['Attrition'] , df['Gender'])\n",
    "crosstab.plot(kind = 'bar')"
   ]
  },
  {
   "cell_type": "code",
   "execution_count": 20,
   "id": "f697fe66",
   "metadata": {},
   "outputs": [],
   "source": [
    "# So , 'Gender' is not affecting here"
   ]
  },
  {
   "cell_type": "markdown",
   "id": "7136f0d7",
   "metadata": {},
   "source": [
    "# JobInvolvment :"
   ]
  },
  {
   "cell_type": "code",
   "execution_count": 21,
   "id": "43054dd1",
   "metadata": {},
   "outputs": [
    {
     "data": {
      "text/plain": [
       "3    868\n",
       "2    375\n",
       "4    144\n",
       "1     83\n",
       "Name: JobInvolvement, dtype: int64"
      ]
     },
     "execution_count": 21,
     "metadata": {},
     "output_type": "execute_result"
    }
   ],
   "source": [
    "df['JobInvolvement'].value_counts()"
   ]
  },
  {
   "cell_type": "code",
   "execution_count": 22,
   "id": "66b21c4f",
   "metadata": {},
   "outputs": [
    {
     "data": {
      "text/plain": [
       "<Axes: xlabel='Attrition'>"
      ]
     },
     "execution_count": 22,
     "metadata": {},
     "output_type": "execute_result"
    },
    {
     "data": {
      "image/png": "[encoded data removed]",
      "text/plain": [
       "<Figure size 640x480 with 1 Axes>"
      ]
     },
     "metadata": {},
     "output_type": "display_data"
    }
   ],
   "source": [
    "crosstab = pd.crosstab(df['Attrition'] , df['JobInvolvement'])\n",
    "crosstab.plot(kind = 'bar')"
   ]
  },
  {
   "cell_type": "code",
   "execution_count": 23,
   "id": "f54093db",
   "metadata": {},
   "outputs": [],
   "source": [
    "# So 'JobInvolvement' is not affectin "
   ]
  },
  {
   "cell_type": "markdown",
   "id": "69a7d498",
   "metadata": {},
   "source": [
    "# Joblavel :"
   ]
  },
  {
   "cell_type": "code",
   "execution_count": 24,
   "id": "05adfde8",
   "metadata": {},
   "outputs": [
    {
     "data": {
      "text/plain": [
       "1    543\n",
       "2    534\n",
       "3    218\n",
       "4    106\n",
       "5     69\n",
       "Name: JobLevel, dtype: int64"
      ]
     },
     "execution_count": 24,
     "metadata": {},
     "output_type": "execute_result"
    }
   ],
   "source": [
    "df['JobLevel'].value_counts()"
   ]
  },
  {
   "cell_type": "code",
   "execution_count": 25,
   "id": "48cd3470",
   "metadata": {},
   "outputs": [
    {
     "data": {
      "text/plain": [
       "<Axes: xlabel='Attrition'>"
      ]
     },
     "execution_count": 25,
     "metadata": {},
     "output_type": "execute_result"
    },
    {
     "data": {
      "image/png": "[encoded data removed]",
      "text/plain": [
       "<Figure size 640x480 with 1 Axes>"
      ]
     },
     "metadata": {},
     "output_type": "display_data"
    }
   ],
   "source": [
    "crosstab = pd.crosstab(df['Attrition'] , df['JobLevel'])\n",
    "crosstab.plot(kind = 'bar')"
   ]
  },
  {
   "cell_type": "code",
   "execution_count": 26,
   "id": "0f5a61cf",
   "metadata": {},
   "outputs": [],
   "source": [
    "# So , 'JobLevel' has an effect here"
   ]
  },
  {
   "cell_type": "markdown",
   "id": "bf0ac006",
   "metadata": {},
   "source": [
    "# JobRole :"
   ]
  },
  {
   "cell_type": "code",
   "execution_count": 27,
   "id": "76c0e9eb",
   "metadata": {},
   "outputs": [
    {
     "data": {
      "text/plain": [
       "Sales Executive              326\n",
       "Research Scientist           292\n",
       "Laboratory Technician        259\n",
       "Manufacturing Director       145\n",
       "Healthcare Representative    131\n",
       "Manager                      102\n",
       "Sales Representative          83\n",
       "Research Director             80\n",
       "Human Resources               52\n",
       "Name: JobRole, dtype: int64"
      ]
     },
     "execution_count": 27,
     "metadata": {},
     "output_type": "execute_result"
    }
   ],
   "source": [
    "df['JobRole'].value_counts()"
   ]
  },
  {
   "cell_type": "code",
   "execution_count": 28,
   "id": "4211ddea",
   "metadata": {},
   "outputs": [
    {
     "data": {
      "text/plain": [
       "<Axes: xlabel='Attrition'>"
      ]
     },
     "execution_count": 28,
     "metadata": {},
     "output_type": "execute_result"
    },
    {
     "data": {
      "image/png": "[encoded data removed]",
      "text/plain": [
       "<Figure size 640x480 with 1 Axes>"
      ]
     },
     "metadata": {},
     "output_type": "display_data"
    }
   ],
   "source": [
    "crosstab = pd.crosstab(df['Attrition'] , df['JobRole'])\n",
    "crosstab.plot(kind = 'bar')"
   ]
  },
  {
   "cell_type": "code",
   "execution_count": 29,
   "id": "d92bb992",
   "metadata": {},
   "outputs": [],
   "source": [
    "# So , 'JobRole'  is not that important still I will kep it"
   ]
  },
  {
   "cell_type": "markdown",
   "id": "13e0f1d0",
   "metadata": {},
   "source": [
    "# JobSatisfaction :"
   ]
  },
  {
   "cell_type": "code",
   "execution_count": 30,
   "id": "f11cba99",
   "metadata": {},
   "outputs": [
    {
     "data": {
      "text/plain": [
       "4    459\n",
       "3    442\n",
       "1    289\n",
       "2    280\n",
       "Name: JobSatisfaction, dtype: int64"
      ]
     },
     "execution_count": 30,
     "metadata": {},
     "output_type": "execute_result"
    }
   ],
   "source": [
    "df['JobSatisfaction'].value_counts()"
   ]
  },
  {
   "cell_type": "code",
   "execution_count": 31,
   "id": "537f4fb8",
   "metadata": {},
   "outputs": [
    {
     "data": {
      "text/plain": [
       "<Axes: xlabel='Attrition'>"
      ]
     },
     "execution_count": 31,
     "metadata": {},
     "output_type": "execute_result"
    },
    {
     "data": {
      "image/png": "[encoded data removed]",
      "text/plain": [
       "<Figure size 640x480 with 1 Axes>"
      ]
     },
     "metadata": {},
     "output_type": "display_data"
    }
   ],
   "source": [
    "crosstab = pd.crosstab(df['Attrition'] , df['JobSatisfaction'])\n",
    "crosstab.plot(kind = 'bar')"
   ]
  },
  {
   "cell_type": "code",
   "execution_count": 32,
   "id": "5d587b44",
   "metadata": {},
   "outputs": [],
   "source": [
    "# So , 'JobSatisfaction' is an important column "
   ]
  },
  {
   "cell_type": "markdown",
   "id": "746e1d90",
   "metadata": {},
   "source": [
    "# MaritalStatus :"
   ]
  },
  {
   "cell_type": "code",
   "execution_count": 33,
   "id": "8563bdd1",
   "metadata": {},
   "outputs": [
    {
     "data": {
      "text/plain": [
       "Married     673\n",
       "Single      470\n",
       "Divorced    327\n",
       "Name: MaritalStatus, dtype: int64"
      ]
     },
     "execution_count": 33,
     "metadata": {},
     "output_type": "execute_result"
    }
   ],
   "source": [
    "df['MaritalStatus'].value_counts()"
   ]
  },
  {
   "cell_type": "code",
   "execution_count": 34,
   "id": "529780cf",
   "metadata": {},
   "outputs": [
    {
     "data": {
      "text/plain": [
       "<Axes: xlabel='Attrition'>"
      ]
     },
     "execution_count": 34,
     "metadata": {},
     "output_type": "execute_result"
    },
    {
     "data": {
      "image/png": "[encoded data removed]",
      "text/plain": [
       "<Figure size 640x480 with 1 Axes>"
      ]
     },
     "metadata": {},
     "output_type": "display_data"
    }
   ],
   "source": [
    "crosstab = pd.crosstab(df['Attrition'] , df['MaritalStatus'])\n",
    "crosstab.plot(kind = 'bar')"
   ]
  },
  {
   "cell_type": "code",
   "execution_count": 35,
   "id": "ad3c0a58",
   "metadata": {},
   "outputs": [],
   "source": [
    "# So , 'MaritalStatus' is an important column here "
   ]
  },
  {
   "cell_type": "markdown",
   "id": "edd91d86",
   "metadata": {},
   "source": [
    "# NumCompaniesWorked :"
   ]
  },
  {
   "cell_type": "code",
   "execution_count": 36,
   "id": "25a37ca8",
   "metadata": {},
   "outputs": [
    {
     "data": {
      "text/plain": [
       "1    521\n",
       "0    197\n",
       "3    159\n",
       "2    146\n",
       "4    139\n",
       "7     74\n",
       "6     70\n",
       "5     63\n",
       "9     52\n",
       "8     49\n",
       "Name: NumCompaniesWorked, dtype: int64"
      ]
     },
     "execution_count": 36,
     "metadata": {},
     "output_type": "execute_result"
    }
   ],
   "source": [
    "df['NumCompaniesWorked'].value_counts()"
   ]
  },
  {
   "cell_type": "code",
   "execution_count": 37,
   "id": "ac58cab8",
   "metadata": {},
   "outputs": [
    {
     "data": {
      "text/plain": [
       "<Axes: xlabel='Attrition'>"
      ]
     },
     "execution_count": 37,
     "metadata": {},
     "output_type": "execute_result"
    },
    {
     "data": {
      "image/png": "[encoded data removed]",
      "text/plain": [
       "<Figure size 640x480 with 1 Axes>"
      ]
     },
     "metadata": {},
     "output_type": "display_data"
    }
   ],
   "source": [
    "crosstab = pd.crosstab(df['Attrition'] , df['NumCompaniesWorked'])\n",
    "crosstab.plot(kind = 'bar')"
   ]
  },
  {
   "cell_type": "code",
   "execution_count": 38,
   "id": "fe52d44f",
   "metadata": {},
   "outputs": [],
   "source": [
    "# So , here 'NumCompaniesWorked' is not an important column here"
   ]
  },
  {
   "cell_type": "markdown",
   "id": "70aca33d",
   "metadata": {},
   "source": [
    "# Over18 :"
   ]
  },
  {
   "cell_type": "code",
   "execution_count": 39,
   "id": "8551f76d",
   "metadata": {},
   "outputs": [
    {
     "data": {
      "text/plain": [
       "Y    1470\n",
       "Name: Over18, dtype: int64"
      ]
     },
     "execution_count": 39,
     "metadata": {},
     "output_type": "execute_result"
    }
   ],
   "source": [
    "df['Over18'].value_counts()"
   ]
  },
  {
   "cell_type": "code",
   "execution_count": 40,
   "id": "8fd9132a",
   "metadata": {},
   "outputs": [],
   "source": [
    "# Over18 is not at all an important column"
   ]
  },
  {
   "cell_type": "markdown",
   "id": "de3770d8",
   "metadata": {},
   "source": [
    "# OverTime :"
   ]
  },
  {
   "cell_type": "code",
   "execution_count": 41,
   "id": "5a208388",
   "metadata": {},
   "outputs": [
    {
     "data": {
      "text/plain": [
       "No     1054\n",
       "Yes     416\n",
       "Name: OverTime, dtype: int64"
      ]
     },
     "execution_count": 41,
     "metadata": {},
     "output_type": "execute_result"
    }
   ],
   "source": [
    "df['OverTime'].value_counts()"
   ]
  },
  {
   "cell_type": "code",
   "execution_count": 42,
   "id": "8fa3b09a",
   "metadata": {},
   "outputs": [
    {
     "data": {
      "text/plain": [
       "<Axes: xlabel='Attrition'>"
      ]
     },
     "execution_count": 42,
     "metadata": {},
     "output_type": "execute_result"
    },
    {
     "data": {
      "image/png": "[encoded data removed]",
      "text/plain": [
       "<Figure size 640x480 with 1 Axes>"
      ]
     },
     "metadata": {},
     "output_type": "display_data"
    }
   ],
   "source": [
    "crosstab = pd.crosstab(df['Attrition'] , df['OverTime'])\n",
    "crosstab.plot(kind = 'bar')"
   ]
  },
  {
   "cell_type": "code",
   "execution_count": 43,
   "id": "367219cb",
   "metadata": {},
   "outputs": [],
   "source": [
    "# So Overtime is an important column here . I will use mapping here"
   ]
  },
  {
   "cell_type": "markdown",
   "id": "dd416d5b",
   "metadata": {},
   "source": [
    "# PercentSalaryHike :"
   ]
  },
  {
   "cell_type": "code",
   "execution_count": 44,
   "id": "3b1a5c1b",
   "metadata": {},
   "outputs": [
    {
     "data": {
      "text/plain": [
       "11    210\n",
       "13    209\n",
       "14    201\n",
       "12    198\n",
       "15    101\n",
       "18     89\n",
       "17     82\n",
       "16     78\n",
       "19     76\n",
       "22     56\n",
       "20     55\n",
       "21     48\n",
       "23     28\n",
       "24     21\n",
       "25     18\n",
       "Name: PercentSalaryHike, dtype: int64"
      ]
     },
     "execution_count": 44,
     "metadata": {},
     "output_type": "execute_result"
    }
   ],
   "source": [
    "df['PercentSalaryHike'].value_counts()"
   ]
  },
  {
   "cell_type": "code",
   "execution_count": 45,
   "id": "45df0d3d",
   "metadata": {},
   "outputs": [
    {
     "data": {
      "text/plain": [
       "<Axes: xlabel='Attrition'>"
      ]
     },
     "execution_count": 45,
     "metadata": {},
     "output_type": "execute_result"
    },
    {
     "data": {
      "image/png": "[encoded data removed]",
      "text/plain": [
       "<Figure size 640x480 with 1 Axes>"
      ]
     },
     "metadata": {},
     "output_type": "display_data"
    }
   ],
   "source": [
    "crosstab = pd.crosstab(df['Attrition'] , df['PercentSalaryHike'])\n",
    "crosstab.plot(kind = 'bar')"
   ]
  },
  {
   "cell_type": "code",
   "execution_count": 46,
   "id": "0825f774",
   "metadata": {},
   "outputs": [],
   "source": [
    "# So 'PercentSalaryHike' is not an important column here"
   ]
  },
  {
   "cell_type": "markdown",
   "id": "1e2a7d44",
   "metadata": {},
   "source": [
    "# PerformanceRating :"
   ]
  },
  {
   "cell_type": "code",
   "execution_count": 47,
   "id": "8d11f293",
   "metadata": {},
   "outputs": [
    {
     "data": {
      "text/plain": [
       "3    1244\n",
       "4     226\n",
       "Name: PerformanceRating, dtype: int64"
      ]
     },
     "execution_count": 47,
     "metadata": {},
     "output_type": "execute_result"
    }
   ],
   "source": [
    "df['PerformanceRating'].value_counts()"
   ]
  },
  {
   "cell_type": "code",
   "execution_count": 48,
   "id": "211a8ff7",
   "metadata": {},
   "outputs": [
    {
     "data": {
      "text/plain": [
       "<Axes: xlabel='Attrition'>"
      ]
     },
     "execution_count": 48,
     "metadata": {},
     "output_type": "execute_result"
    },
    {
     "data": {
      "image/png": "[encoded data removed]",
      "text/plain": [
       "<Figure size 640x480 with 1 Axes>"
      ]
     },
     "metadata": {},
     "output_type": "display_data"
    }
   ],
   "source": [
    "crosstab = pd.crosstab(df['Attrition'], df['PerformanceRating'])\n",
    "crosstab.plot(kind = 'bar')"
   ]
  },
  {
   "cell_type": "code",
   "execution_count": 49,
   "id": "73920119",
   "metadata": {},
   "outputs": [],
   "source": [
    "# So , 'PerformanceRating' is  an important column here"
   ]
  },
  {
   "cell_type": "markdown",
   "id": "9c86a205",
   "metadata": {},
   "source": [
    "# Relationship Satisfaction :"
   ]
  },
  {
   "cell_type": "code",
   "execution_count": 50,
   "id": "58c55d50",
   "metadata": {},
   "outputs": [
    {
     "data": {
      "text/plain": [
       "3    459\n",
       "4    432\n",
       "2    303\n",
       "1    276\n",
       "Name: RelationshipSatisfaction, dtype: int64"
      ]
     },
     "execution_count": 50,
     "metadata": {},
     "output_type": "execute_result"
    }
   ],
   "source": [
    "df['RelationshipSatisfaction'].value_counts()"
   ]
  },
  {
   "cell_type": "code",
   "execution_count": 51,
   "id": "b9c780b5",
   "metadata": {},
   "outputs": [
    {
     "data": {
      "text/plain": [
       "<Axes: xlabel='Attrition'>"
      ]
     },
     "execution_count": 51,
     "metadata": {},
     "output_type": "execute_result"
    },
    {
     "data": {
      "image/png": "[encoded data removed]",
      "text/plain": [
       "<Figure size 640x480 with 1 Axes>"
      ]
     },
     "metadata": {},
     "output_type": "display_data"
    }
   ],
   "source": [
    "crosstab = pd.crosstab(df['Attrition'], df['RelationshipSatisfaction'])\n",
    "crosstab.plot(kind = 'bar')"
   ]
  },
  {
   "cell_type": "code",
   "execution_count": 52,
   "id": "f8f78608",
   "metadata": {},
   "outputs": [],
   "source": [
    "# 'RelationshipSatisfaction' is not that important"
   ]
  },
  {
   "cell_type": "markdown",
   "id": "633d6142",
   "metadata": {},
   "source": [
    "# StandardHours :"
   ]
  },
  {
   "cell_type": "code",
   "execution_count": 53,
   "id": "959d8e25",
   "metadata": {},
   "outputs": [
    {
     "data": {
      "text/plain": [
       "80    1470\n",
       "Name: StandardHours, dtype: int64"
      ]
     },
     "execution_count": 53,
     "metadata": {},
     "output_type": "execute_result"
    }
   ],
   "source": [
    "df['StandardHours'].value_counts()"
   ]
  },
  {
   "cell_type": "code",
   "execution_count": 54,
   "id": "4e7b9d20",
   "metadata": {},
   "outputs": [],
   "source": [
    "# So , 'StandardHours' is not an important column "
   ]
  },
  {
   "cell_type": "markdown",
   "id": "279eee53",
   "metadata": {},
   "source": [
    "# StockOptionLevel :"
   ]
  },
  {
   "cell_type": "code",
   "execution_count": 55,
   "id": "f8a34d58",
   "metadata": {},
   "outputs": [
    {
     "data": {
      "text/plain": [
       "0    631\n",
       "1    596\n",
       "2    158\n",
       "3     85\n",
       "Name: StockOptionLevel, dtype: int64"
      ]
     },
     "execution_count": 55,
     "metadata": {},
     "output_type": "execute_result"
    }
   ],
   "source": [
    "df['StockOptionLevel'].value_counts()"
   ]
  },
  {
   "cell_type": "code",
   "execution_count": 56,
   "id": "bc7b1040",
   "metadata": {},
   "outputs": [
    {
     "data": {
      "text/plain": [
       "<Axes: xlabel='Attrition'>"
      ]
     },
     "execution_count": 56,
     "metadata": {},
     "output_type": "execute_result"
    },
    {
     "data": {
      "image/png": "[encoded data removed]",
      "text/plain": [
       "<Figure size 640x480 with 1 Axes>"
      ]
     },
     "metadata": {},
     "output_type": "display_data"
    }
   ],
   "source": [
    "crosstab = pd.crosstab(df['Attrition'], df['StockOptionLevel'])\n",
    "crosstab.plot(kind = 'bar')"
   ]
  },
  {
   "cell_type": "code",
   "execution_count": 57,
   "id": "250fc521",
   "metadata": {},
   "outputs": [],
   "source": [
    "# The column 'StockOptionLevel' is little bit important . The 'No' Attrition has StockOptionLevel : 1 high ."
   ]
  },
  {
   "cell_type": "markdown",
   "id": "0ac02c84",
   "metadata": {},
   "source": [
    "# TrainingTime Last Year :"
   ]
  },
  {
   "cell_type": "code",
   "execution_count": 58,
   "id": "a8494e5d",
   "metadata": {},
   "outputs": [
    {
     "data": {
      "text/plain": [
       "2    547\n",
       "3    491\n",
       "4    123\n",
       "5    119\n",
       "1     71\n",
       "6     65\n",
       "0     54\n",
       "Name: TrainingTimesLastYear, dtype: int64"
      ]
     },
     "execution_count": 58,
     "metadata": {},
     "output_type": "execute_result"
    }
   ],
   "source": [
    "df['TrainingTimesLastYear'].value_counts()"
   ]
  },
  {
   "cell_type": "code",
   "execution_count": 59,
   "id": "2de3119f",
   "metadata": {},
   "outputs": [
    {
     "data": {
      "text/plain": [
       "<Axes: xlabel='Attrition'>"
      ]
     },
     "execution_count": 59,
     "metadata": {},
     "output_type": "execute_result"
    },
    {
     "data": {
      "image/png": "[encoded data removed]",
      "text/plain": [
       "<Figure size 640x480 with 1 Axes>"
      ]
     },
     "metadata": {},
     "output_type": "display_data"
    }
   ],
   "source": [
    "crosstab = pd.crosstab(df['Attrition'], df['TrainingTimesLastYear'])\n",
    "crosstab.plot(kind = 'bar')"
   ]
  },
  {
   "cell_type": "code",
   "execution_count": 60,
   "id": "210bfb17",
   "metadata": {},
   "outputs": [],
   "source": [
    "# So , TrainingTimesLastYear is not an important column here :"
   ]
  },
  {
   "cell_type": "markdown",
   "id": "15469608",
   "metadata": {},
   "source": [
    "# WorkLifeBalance :"
   ]
  },
  {
   "cell_type": "code",
   "execution_count": 61,
   "id": "4eeb5831",
   "metadata": {},
   "outputs": [
    {
     "data": {
      "text/plain": [
       "3    893\n",
       "2    344\n",
       "4    153\n",
       "1     80\n",
       "Name: WorkLifeBalance, dtype: int64"
      ]
     },
     "execution_count": 61,
     "metadata": {},
     "output_type": "execute_result"
    }
   ],
   "source": [
    "df['WorkLifeBalance'].value_counts()"
   ]
  },
  {
   "cell_type": "code",
   "execution_count": 62,
   "id": "3de9d8a2",
   "metadata": {},
   "outputs": [
    {
     "data": {
      "text/plain": [
       "<Axes: xlabel='Attrition'>"
      ]
     },
     "execution_count": 62,
     "metadata": {},
     "output_type": "execute_result"
    },
    {
     "data": {
      "image/png": "[encoded data removed]",
      "text/plain": [
       "<Figure size 640x480 with 1 Axes>"
      ]
     },
     "metadata": {},
     "output_type": "display_data"
    }
   ],
   "source": [
    "crosstab = pd.crosstab(df['Attrition'], df['WorkLifeBalance'])\n",
    "crosstab.plot(kind = 'bar')"
   ]
  },
  {
   "cell_type": "code",
   "execution_count": 63,
   "id": "b62ada65",
   "metadata": {},
   "outputs": [],
   "source": [
    "# So , 'WorkLifeBalance' is not an important coumn "
   ]
  },
  {
   "cell_type": "code",
   "execution_count": 64,
   "id": "3d71fa11",
   "metadata": {},
   "outputs": [],
   "source": [
    "# My analysis on the categorical columns :\n",
    "    \n",
    "#     The Columns that are affecting the 'Attrition' are :\n",
    "#         1. Department\n",
    "#         2. EnvironmentSatisfaction\n",
    "#         3. JobLavel\n",
    "#         4. JobRole\n",
    "#         5. JobSatisfaction\n",
    "#         6. MaritalStatus\n",
    "#         7. OverTime\n",
    "#         8. PerformanceRating\n",
    "#         9. StockOptionLevel\n",
    "        \n",
    "#     The Columns that are not affecting the 'Attrition' are :\n",
    "#         1. BusinessTravel\n",
    "#         2. Education\n",
    "#         3. EducationField\n",
    "#         4. Gender\n",
    "#         5. JobInvovment\n",
    "#         6. NumCompaniesWorked\n",
    "#         7. Over18\n",
    "#         8. PercentSalaryHike\n",
    "#         9. RelationshipSatisfaction\n",
    "#         10. TrainingTimeLastYear\n",
    "#         11. WorklifeBalance "
   ]
  },
  {
   "cell_type": "markdown",
   "id": "7469d92d",
   "metadata": {},
   "source": [
    "# Working with Numerical Column :"
   ]
  },
  {
   "cell_type": "code",
   "execution_count": 65,
   "id": "ea47e3f1",
   "metadata": {},
   "outputs": [
    {
     "data": {
      "text/plain": [
       "Index(['Age', 'Attrition', 'BusinessTravel', 'DailyRate', 'Department',\n",
       "       'DistanceFromHome', 'Education', 'EducationField', 'EmployeeCount',\n",
       "       'EmployeeNumber', 'EnvironmentSatisfaction', 'Gender', 'HourlyRate',\n",
       "       'JobInvolvement', 'JobLevel', 'JobRole', 'JobSatisfaction',\n",
       "       'MaritalStatus', 'MonthlyIncome', 'MonthlyRate', 'NumCompaniesWorked',\n",
       "       'Over18', 'OverTime', 'PercentSalaryHike', 'PerformanceRating',\n",
       "       'RelationshipSatisfaction', 'StandardHours', 'StockOptionLevel',\n",
       "       'TotalWorkingYears', 'TrainingTimesLastYear', 'WorkLifeBalance',\n",
       "       'YearsAtCompany', 'YearsInCurrentRole', 'YearsSinceLastPromotion',\n",
       "       'YearsWithCurrManager'],\n",
       "      dtype='object')"
      ]
     },
     "execution_count": 65,
     "metadata": {},
     "output_type": "execute_result"
    }
   ],
   "source": [
    "df.columns"
   ]
  },
  {
   "cell_type": "markdown",
   "id": "2db81821",
   "metadata": {},
   "source": [
    "# Age :"
   ]
  },
  {
   "cell_type": "code",
   "execution_count": 66,
   "id": "f79462c6",
   "metadata": {},
   "outputs": [
    {
     "data": {
      "text/plain": [
       "<Axes: xlabel='Attrition', ylabel='Age'>"
      ]
     },
     "execution_count": 66,
     "metadata": {},
     "output_type": "execute_result"
    },
    {
     "data": {
      "image/png": "[encoded data removed]",
      "text/plain": [
       "<Figure size 640x480 with 1 Axes>"
      ]
     },
     "metadata": {},
     "output_type": "display_data"
    }
   ],
   "source": [
    "sns.barplot(data = df , x = 'Attrition', y = 'Age')"
   ]
  },
  {
   "cell_type": "code",
   "execution_count": 67,
   "id": "d11caac4",
   "metadata": {},
   "outputs": [],
   "source": [
    "# bAge is little bit important"
   ]
  },
  {
   "cell_type": "markdown",
   "id": "2e59fe3b",
   "metadata": {},
   "source": [
    "# DailyRate :"
   ]
  },
  {
   "cell_type": "code",
   "execution_count": 68,
   "id": "0257756f",
   "metadata": {},
   "outputs": [
    {
     "data": {
      "text/plain": [
       "<Axes: xlabel='Attrition', ylabel='DailyRate'>"
      ]
     },
     "execution_count": 68,
     "metadata": {},
     "output_type": "execute_result"
    },
    {
     "data": {
      "image/png": "[encoded data removed]",
      "text/plain": [
       "<Figure size 640x480 with 1 Axes>"
      ]
     },
     "metadata": {},
     "output_type": "display_data"
    }
   ],
   "source": [
    "sns.barplot(data = df , x = 'Attrition' , y = 'DailyRate')"
   ]
  },
  {
   "cell_type": "code",
   "execution_count": 69,
   "id": "1721cb20",
   "metadata": {},
   "outputs": [],
   "source": [
    "# DailyRate is not important"
   ]
  },
  {
   "cell_type": "markdown",
   "id": "fd2ea3b6",
   "metadata": {},
   "source": [
    "# DistanceFromeHome :"
   ]
  },
  {
   "cell_type": "code",
   "execution_count": 70,
   "id": "c7401374",
   "metadata": {},
   "outputs": [
    {
     "data": {
      "text/plain": [
       "<Axes: xlabel='Attrition', ylabel='DistanceFromHome'>"
      ]
     },
     "execution_count": 70,
     "metadata": {},
     "output_type": "execute_result"
    },
    {
     "data": {
      "image/png": "[encoded data removed]",
      "text/plain": [
       "<Figure size 640x480 with 1 Axes>"
      ]
     },
     "metadata": {},
     "output_type": "display_data"
    }
   ],
   "source": [
    "sns.barplot(data = df , x = 'Attrition' , y = 'DistanceFromHome')"
   ]
  },
  {
   "cell_type": "code",
   "execution_count": 71,
   "id": "91f60520",
   "metadata": {},
   "outputs": [],
   "source": [
    "# DistanceFromHome is an important column "
   ]
  },
  {
   "cell_type": "markdown",
   "id": "c6af8b9e",
   "metadata": {},
   "source": [
    "# HourlyRate :"
   ]
  },
  {
   "cell_type": "code",
   "execution_count": 72,
   "id": "24cc5030",
   "metadata": {},
   "outputs": [
    {
     "data": {
      "text/plain": [
       "<Axes: xlabel='Attrition', ylabel='HourlyRate'>"
      ]
     },
     "execution_count": 72,
     "metadata": {},
     "output_type": "execute_result"
    },
    {
     "data": {
      "image/png": "[encoded data removed]",
      "text/plain": [
       "<Figure size 640x480 with 1 Axes>"
      ]
     },
     "metadata": {},
     "output_type": "display_data"
    }
   ],
   "source": [
    "sns.barplot(data = df , x = 'Attrition' , y = 'HourlyRate')"
   ]
  },
  {
   "cell_type": "code",
   "execution_count": 73,
   "id": "7956cdca",
   "metadata": {},
   "outputs": [],
   "source": [
    "# HourlyRate is not Important "
   ]
  },
  {
   "cell_type": "markdown",
   "id": "a6adbd21",
   "metadata": {},
   "source": [
    "# MonthlyIncome :"
   ]
  },
  {
   "cell_type": "code",
   "execution_count": 74,
   "id": "baed0925",
   "metadata": {},
   "outputs": [
    {
     "data": {
      "text/plain": [
       "<Axes: xlabel='Attrition', ylabel='MonthlyIncome'>"
      ]
     },
     "execution_count": 74,
     "metadata": {},
     "output_type": "execute_result"
    },
    {
     "data": {
      "image/png": "[encoded data removed]",
      "text/plain": [
       "<Figure size 640x480 with 1 Axes>"
      ]
     },
     "metadata": {},
     "output_type": "display_data"
    }
   ],
   "source": [
    "sns.barplot(data = df , x = 'Attrition' , y = 'MonthlyIncome')"
   ]
  },
  {
   "cell_type": "code",
   "execution_count": 75,
   "id": "0aa3c2c7",
   "metadata": {},
   "outputs": [],
   "source": [
    "# So MonthlyIncome is very Important"
   ]
  },
  {
   "cell_type": "markdown",
   "id": "29f26bfe",
   "metadata": {},
   "source": [
    "# MonthlyRate :"
   ]
  },
  {
   "cell_type": "code",
   "execution_count": 76,
   "id": "a5203c9c",
   "metadata": {},
   "outputs": [
    {
     "data": {
      "text/plain": [
       "<Axes: xlabel='Attrition', ylabel='MonthlyRate'>"
      ]
     },
     "execution_count": 76,
     "metadata": {},
     "output_type": "execute_result"
    },
    {
     "data": {
      "image/png": "[encoded data removed]",
      "text/plain": [
       "<Figure size 640x480 with 1 Axes>"
      ]
     },
     "metadata": {},
     "output_type": "display_data"
    }
   ],
   "source": [
    "sns.barplot(data = df , x = 'Attrition' , y = 'MonthlyRate')"
   ]
  },
  {
   "cell_type": "code",
   "execution_count": 77,
   "id": "6ad1735b",
   "metadata": {},
   "outputs": [],
   "source": [
    "# MonthlyRate is not Important"
   ]
  },
  {
   "cell_type": "markdown",
   "id": "c078cfe3",
   "metadata": {},
   "source": [
    "# StandardHours :"
   ]
  },
  {
   "cell_type": "code",
   "execution_count": 78,
   "id": "f6616887",
   "metadata": {},
   "outputs": [
    {
     "data": {
      "text/plain": [
       "<Axes: xlabel='Attrition', ylabel='StandardHours'>"
      ]
     },
     "execution_count": 78,
     "metadata": {},
     "output_type": "execute_result"
    },
    {
     "data": {
      "image/png": "[encoded data removed]",
      "text/plain": [
       "<Figure size 640x480 with 1 Axes>"
      ]
     },
     "metadata": {},
     "output_type": "display_data"
    }
   ],
   "source": [
    "sns.barplot(data = df , x = 'Attrition' , y = 'StandardHours')"
   ]
  },
  {
   "cell_type": "code",
   "execution_count": 79,
   "id": "4168aa93",
   "metadata": {},
   "outputs": [],
   "source": [
    "# StandardHours is not Important"
   ]
  },
  {
   "cell_type": "markdown",
   "id": "9a9dfc3c",
   "metadata": {},
   "source": [
    "# Total Work Years :"
   ]
  },
  {
   "cell_type": "code",
   "execution_count": 83,
   "id": "87d03cdf",
   "metadata": {},
   "outputs": [
    {
     "data": {
      "text/plain": [
       "<Axes: xlabel='Attrition', ylabel='TotalWorkingYears'>"
      ]
     },
     "execution_count": 83,
     "metadata": {},
     "output_type": "execute_result"
    },
    {
     "data": {
      "image/png": "[encoded data removed]",
      "text/plain": [
       "<Figure size 640x480 with 1 Axes>"
      ]
     },
     "metadata": {},
     "output_type": "display_data"
    }
   ],
   "source": [
    "sns.barplot(data = df , x = 'Attrition' , y = 'TotalWorkingYears')"
   ]
  },
  {
   "cell_type": "markdown",
   "id": "5fe50f75",
   "metadata": {},
   "source": [
    "# Years At Company :"
   ]
  },
  {
   "cell_type": "code",
   "execution_count": 78,
   "id": "8451a785",
   "metadata": {},
   "outputs": [
    {
     "data": {
      "text/plain": [
       "<Axes: xlabel='Attrition', ylabel='YearsAtCompany'>"
      ]
     },
     "execution_count": 78,
     "metadata": {},
     "output_type": "execute_result"
    },
    {
     "data": {
      "image/png": "[encoded data removed]",
      "text/plain": [
       "<Figure size 640x480 with 1 Axes>"
      ]
     },
     "metadata": {},
     "output_type": "display_data"
    }
   ],
   "source": [
    "sns.barplot(data = df , x = 'Attrition' , y = 'YearsAtCompany')"
   ]
  },
  {
   "cell_type": "markdown",
   "id": "06ad1dd2",
   "metadata": {},
   "source": [
    "# Years in Corrent Role :"
   ]
  },
  {
   "cell_type": "code",
   "execution_count": 79,
   "id": "9db54be9",
   "metadata": {
    "scrolled": false
   },
   "outputs": [
    {
     "data": {
      "text/plain": [
       "<Axes: xlabel='Attrition', ylabel='YearsInCurrentRole'>"
      ]
     },
     "execution_count": 79,
     "metadata": {},
     "output_type": "execute_result"
    },
    {
     "data": {
      "image/png": "[encoded data removed]",
      "text/plain": [
       "<Figure size 640x480 with 1 Axes>"
      ]
     },
     "metadata": {},
     "output_type": "display_data"
    }
   ],
   "source": [
    "sns.barplot(data = df , x = 'Attrition' , y = 'YearsInCurrentRole')"
   ]
  },
  {
   "cell_type": "markdown",
   "id": "547ab8cd",
   "metadata": {},
   "source": [
    "# Years since last Promotion :"
   ]
  },
  {
   "cell_type": "code",
   "execution_count": 80,
   "id": "3bd3c242",
   "metadata": {},
   "outputs": [
    {
     "data": {
      "text/plain": [
       "<Axes: xlabel='Attrition', ylabel='YearsSinceLastPromotion'>"
      ]
     },
     "execution_count": 80,
     "metadata": {},
     "output_type": "execute_result"
    },
    {
     "data": {
      "image/png": "[encoded data removed]",
      "text/plain": [
       "<Figure size 640x480 with 1 Axes>"
      ]
     },
     "metadata": {},
     "output_type": "display_data"
    }
   ],
   "source": [
    "sns.barplot(data = df , x = 'Attrition' , y = 'YearsSinceLastPromotion')"
   ]
  },
  {
   "cell_type": "code",
   "execution_count": 81,
   "id": "641fb024",
   "metadata": {},
   "outputs": [],
   "source": [
    "# So , 'YearsSinceLastPromotion' is not that much important , but "
   ]
  },
  {
   "cell_type": "markdown",
   "id": "f34e1e42",
   "metadata": {},
   "source": [
    "# Years with Current Manager :"
   ]
  },
  {
   "cell_type": "code",
   "execution_count": 82,
   "id": "ac41b1c7",
   "metadata": {},
   "outputs": [
    {
     "data": {
      "text/plain": [
       "<Axes: xlabel='Attrition', ylabel='YearsWithCurrManager'>"
      ]
     },
     "execution_count": 82,
     "metadata": {},
     "output_type": "execute_result"
    },
    {
     "data": {
      "image/png": "[encoded data removed]",
      "text/plain": [
       "<Figure size 640x480 with 1 Axes>"
      ]
     },
     "metadata": {},
     "output_type": "display_data"
    }
   ],
   "source": [
    "sns.barplot(data = df , x = 'Attrition' , y = 'YearsWithCurrManager')"
   ]
  },
  {
   "cell_type": "code",
   "execution_count": 80,
   "id": "616c1555",
   "metadata": {},
   "outputs": [],
   "source": [
    "# My analysis on the numerical columns :\n",
    "    \n",
    "#     The Columns that are affecting the 'Attrition' are :\n",
    "#         1. DistanceFromHome\n",
    "#         2. Monthly Income\n",
    "#         3. Total Work Years\n",
    "#         4. Years at Company\n",
    "#         5. Years in current role\n",
    "#         6. Years with current manager\n",
    "\n",
    "        \n",
    "#     The Columns that are not affecting the 'Attrition' are :\n",
    "#         1. Age\n",
    "#         2. HourlyRate\n",
    "#         3. MonthlyRate\n",
    "#         4. StandardHours\n",
    "#         5. Years Since last promotion\n"
   ]
  },
  {
   "cell_type": "code",
   "execution_count": 81,
   "id": "ea1b91b5",
   "metadata": {},
   "outputs": [],
   "source": [
    "# I will remove all the unimportant columns :"
   ]
  },
  {
   "cell_type": "code",
   "execution_count": 324,
   "id": "40ae1476",
   "metadata": {},
   "outputs": [],
   "source": [
    "columns_to_drop = ['Age','DailyRate','Education', 'EducationField', 'EmployeeCount','EmployeeNumber','Gender','HourlyRate','JobInvolvement','MonthlyRate', 'NumCompaniesWorked','Over18','PercentSalaryHike','RelationshipSatisfaction','StandardHours','TrainingTimesLastYear','WorkLifeBalance','YearsSinceLastPromotion']"
   ]
  },
  {
   "cell_type": "code",
   "execution_count": 325,
   "id": "3d9f1c7a",
   "metadata": {},
   "outputs": [],
   "source": [
    "new_df = df.drop(columns_to_drop , axis = 1)"
   ]
  },
  {
   "cell_type": "code",
   "execution_count": 326,
   "id": "9bcb21d6",
   "metadata": {
    "scrolled": true
   },
   "outputs": [
    {
     "data": {
      "text/html": [
       "<div>\n",
       "<style scoped>\n",
       "    .dataframe tbody tr th:only-of-type {\n",
       "        vertical-align: middle;\n",
       "    }\n",
       "\n",
       "    .dataframe tbody tr th {\n",
       "        vertical-align: top;\n",
       "    }\n",
       "\n",
       "    .dataframe thead th {\n",
       "        text-align: right;\n",
       "    }\n",
       "</style>\n",
       "<table border=\"1\" class=\"dataframe\">\n",
       "  <thead>\n",
       "    <tr style=\"text-align: right;\">\n",
       "      <th></th>\n",
       "      <th>Attrition</th>\n",
       "      <th>Department</th>\n",
       "      <th>DistanceFromHome</th>\n",
       "      <th>EnvironmentSatisfaction</th>\n",
       "      <th>JobLevel</th>\n",
       "      <th>JobRole</th>\n",
       "      <th>JobSatisfaction</th>\n",
       "      <th>MaritalStatus</th>\n",
       "      <th>MonthlyIncome</th>\n",
       "      <th>OverTime</th>\n",
       "      <th>PerformanceRating</th>\n",
       "      <th>StockOptionLevel</th>\n",
       "      <th>TotalWorkingYears</th>\n",
       "      <th>YearsAtCompany</th>\n",
       "      <th>YearsInCurrentRole</th>\n",
       "      <th>YearsWithCurrManager</th>\n",
       "    </tr>\n",
       "  </thead>\n",
       "  <tbody>\n",
       "    <tr>\n",
       "      <th>0</th>\n",
       "      <td>Yes</td>\n",
       "      <td>Sales</td>\n",
       "      <td>1</td>\n",
       "      <td>2</td>\n",
       "      <td>2</td>\n",
       "      <td>Sales Executive</td>\n",
       "      <td>4</td>\n",
       "      <td>Single</td>\n",
       "      <td>5993</td>\n",
       "      <td>Yes</td>\n",
       "      <td>3</td>\n",
       "      <td>0</td>\n",
       "      <td>8</td>\n",
       "      <td>6</td>\n",
       "      <td>4</td>\n",
       "      <td>5</td>\n",
       "    </tr>\n",
       "    <tr>\n",
       "      <th>1</th>\n",
       "      <td>No</td>\n",
       "      <td>Research &amp; Development</td>\n",
       "      <td>8</td>\n",
       "      <td>3</td>\n",
       "      <td>2</td>\n",
       "      <td>Research Scientist</td>\n",
       "      <td>2</td>\n",
       "      <td>Married</td>\n",
       "      <td>5130</td>\n",
       "      <td>No</td>\n",
       "      <td>4</td>\n",
       "      <td>1</td>\n",
       "      <td>10</td>\n",
       "      <td>10</td>\n",
       "      <td>7</td>\n",
       "      <td>7</td>\n",
       "    </tr>\n",
       "    <tr>\n",
       "      <th>2</th>\n",
       "      <td>Yes</td>\n",
       "      <td>Research &amp; Development</td>\n",
       "      <td>2</td>\n",
       "      <td>4</td>\n",
       "      <td>1</td>\n",
       "      <td>Laboratory Technician</td>\n",
       "      <td>3</td>\n",
       "      <td>Single</td>\n",
       "      <td>2090</td>\n",
       "      <td>Yes</td>\n",
       "      <td>3</td>\n",
       "      <td>0</td>\n",
       "      <td>7</td>\n",
       "      <td>0</td>\n",
       "      <td>0</td>\n",
       "      <td>0</td>\n",
       "    </tr>\n",
       "    <tr>\n",
       "      <th>3</th>\n",
       "      <td>No</td>\n",
       "      <td>Research &amp; Development</td>\n",
       "      <td>3</td>\n",
       "      <td>4</td>\n",
       "      <td>1</td>\n",
       "      <td>Research Scientist</td>\n",
       "      <td>3</td>\n",
       "      <td>Married</td>\n",
       "      <td>2909</td>\n",
       "      <td>Yes</td>\n",
       "      <td>3</td>\n",
       "      <td>0</td>\n",
       "      <td>8</td>\n",
       "      <td>8</td>\n",
       "      <td>7</td>\n",
       "      <td>0</td>\n",
       "    </tr>\n",
       "    <tr>\n",
       "      <th>4</th>\n",
       "      <td>No</td>\n",
       "      <td>Research &amp; Development</td>\n",
       "      <td>2</td>\n",
       "      <td>1</td>\n",
       "      <td>1</td>\n",
       "      <td>Laboratory Technician</td>\n",
       "      <td>2</td>\n",
       "      <td>Married</td>\n",
       "      <td>3468</td>\n",
       "      <td>No</td>\n",
       "      <td>3</td>\n",
       "      <td>1</td>\n",
       "      <td>6</td>\n",
       "      <td>2</td>\n",
       "      <td>2</td>\n",
       "      <td>2</td>\n",
       "    </tr>\n",
       "    <tr>\n",
       "      <th>...</th>\n",
       "      <td>...</td>\n",
       "      <td>...</td>\n",
       "      <td>...</td>\n",
       "      <td>...</td>\n",
       "      <td>...</td>\n",
       "      <td>...</td>\n",
       "      <td>...</td>\n",
       "      <td>...</td>\n",
       "      <td>...</td>\n",
       "      <td>...</td>\n",
       "      <td>...</td>\n",
       "      <td>...</td>\n",
       "      <td>...</td>\n",
       "      <td>...</td>\n",
       "      <td>...</td>\n",
       "      <td>...</td>\n",
       "    </tr>\n",
       "    <tr>\n",
       "      <th>1465</th>\n",
       "      <td>No</td>\n",
       "      <td>Research &amp; Development</td>\n",
       "      <td>23</td>\n",
       "      <td>3</td>\n",
       "      <td>2</td>\n",
       "      <td>Laboratory Technician</td>\n",
       "      <td>4</td>\n",
       "      <td>Married</td>\n",
       "      <td>2571</td>\n",
       "      <td>No</td>\n",
       "      <td>3</td>\n",
       "      <td>1</td>\n",
       "      <td>17</td>\n",
       "      <td>5</td>\n",
       "      <td>2</td>\n",
       "      <td>3</td>\n",
       "    </tr>\n",
       "    <tr>\n",
       "      <th>1466</th>\n",
       "      <td>No</td>\n",
       "      <td>Research &amp; Development</td>\n",
       "      <td>6</td>\n",
       "      <td>4</td>\n",
       "      <td>3</td>\n",
       "      <td>Healthcare Representative</td>\n",
       "      <td>1</td>\n",
       "      <td>Married</td>\n",
       "      <td>9991</td>\n",
       "      <td>No</td>\n",
       "      <td>3</td>\n",
       "      <td>1</td>\n",
       "      <td>9</td>\n",
       "      <td>7</td>\n",
       "      <td>7</td>\n",
       "      <td>7</td>\n",
       "    </tr>\n",
       "    <tr>\n",
       "      <th>1467</th>\n",
       "      <td>No</td>\n",
       "      <td>Research &amp; Development</td>\n",
       "      <td>4</td>\n",
       "      <td>2</td>\n",
       "      <td>2</td>\n",
       "      <td>Manufacturing Director</td>\n",
       "      <td>2</td>\n",
       "      <td>Married</td>\n",
       "      <td>6142</td>\n",
       "      <td>Yes</td>\n",
       "      <td>4</td>\n",
       "      <td>1</td>\n",
       "      <td>6</td>\n",
       "      <td>6</td>\n",
       "      <td>2</td>\n",
       "      <td>3</td>\n",
       "    </tr>\n",
       "    <tr>\n",
       "      <th>1468</th>\n",
       "      <td>No</td>\n",
       "      <td>Sales</td>\n",
       "      <td>2</td>\n",
       "      <td>4</td>\n",
       "      <td>2</td>\n",
       "      <td>Sales Executive</td>\n",
       "      <td>2</td>\n",
       "      <td>Married</td>\n",
       "      <td>5390</td>\n",
       "      <td>No</td>\n",
       "      <td>3</td>\n",
       "      <td>0</td>\n",
       "      <td>17</td>\n",
       "      <td>9</td>\n",
       "      <td>6</td>\n",
       "      <td>8</td>\n",
       "    </tr>\n",
       "    <tr>\n",
       "      <th>1469</th>\n",
       "      <td>No</td>\n",
       "      <td>Research &amp; Development</td>\n",
       "      <td>8</td>\n",
       "      <td>2</td>\n",
       "      <td>2</td>\n",
       "      <td>Laboratory Technician</td>\n",
       "      <td>3</td>\n",
       "      <td>Married</td>\n",
       "      <td>4404</td>\n",
       "      <td>No</td>\n",
       "      <td>3</td>\n",
       "      <td>0</td>\n",
       "      <td>6</td>\n",
       "      <td>4</td>\n",
       "      <td>3</td>\n",
       "      <td>2</td>\n",
       "    </tr>\n",
       "  </tbody>\n",
       "</table>\n",
       "<p>1470 rows × 16 columns</p>\n",
       "</div>"
      ],
      "text/plain": [
       "     Attrition              Department  DistanceFromHome  \\\n",
       "0          Yes                   Sales                 1   \n",
       "1           No  Research & Development                 8   \n",
       "2          Yes  Research & Development                 2   \n",
       "3           No  Research & Development                 3   \n",
       "4           No  Research & Development                 2   \n",
       "...        ...                     ...               ...   \n",
       "1465        No  Research & Development                23   \n",
       "1466        No  Research & Development                 6   \n",
       "1467        No  Research & Development                 4   \n",
       "1468        No                   Sales                 2   \n",
       "1469        No  Research & Development                 8   \n",
       "\n",
       "      EnvironmentSatisfaction  JobLevel                    JobRole  \\\n",
       "0                           2         2            Sales Executive   \n",
       "1                           3         2         Research Scientist   \n",
       "2                           4         1      Laboratory Technician   \n",
       "3                           4         1         Research Scientist   \n",
       "4                           1         1      Laboratory Technician   \n",
       "...                       ...       ...                        ...   \n",
       "1465                        3         2      Laboratory Technician   \n",
       "1466                        4         3  Healthcare Representative   \n",
       "1467                        2         2     Manufacturing Director   \n",
       "1468                        4         2            Sales Executive   \n",
       "1469                        2         2      Laboratory Technician   \n",
       "\n",
       "      JobSatisfaction MaritalStatus  MonthlyIncome OverTime  \\\n",
       "0                   4        Single           5993      Yes   \n",
       "1                   2       Married           5130       No   \n",
       "2                   3        Single           2090      Yes   \n",
       "3                   3       Married           2909      Yes   \n",
       "4                   2       Married           3468       No   \n",
       "...               ...           ...            ...      ...   \n",
       "1465                4       Married           2571       No   \n",
       "1466                1       Married           9991       No   \n",
       "1467                2       Married           6142      Yes   \n",
       "1468                2       Married           5390       No   \n",
       "1469                3       Married           4404       No   \n",
       "\n",
       "      PerformanceRating  StockOptionLevel  TotalWorkingYears  YearsAtCompany  \\\n",
       "0                     3                 0                  8               6   \n",
       "1                     4                 1                 10              10   \n",
       "2                     3                 0                  7               0   \n",
       "3                     3                 0                  8               8   \n",
       "4                     3                 1                  6               2   \n",
       "...                 ...               ...                ...             ...   \n",
       "1465                  3                 1                 17               5   \n",
       "1466                  3                 1                  9               7   \n",
       "1467                  4                 1                  6               6   \n",
       "1468                  3                 0                 17               9   \n",
       "1469                  3                 0                  6               4   \n",
       "\n",
       "      YearsInCurrentRole  YearsWithCurrManager  \n",
       "0                      4                     5  \n",
       "1                      7                     7  \n",
       "2                      0                     0  \n",
       "3                      7                     0  \n",
       "4                      2                     2  \n",
       "...                  ...                   ...  \n",
       "1465                   2                     3  \n",
       "1466                   7                     7  \n",
       "1467                   2                     3  \n",
       "1468                   6                     8  \n",
       "1469                   3                     2  \n",
       "\n",
       "[1470 rows x 16 columns]"
      ]
     },
     "execution_count": 326,
     "metadata": {},
     "output_type": "execute_result"
    }
   ],
   "source": [
    "new_df = new_df.drop('BusinessTravel' , axis = 1)\n",
    "new_df"
   ]
  },
  {
   "cell_type": "markdown",
   "id": "c1361078",
   "metadata": {},
   "source": [
    "# Column Transformation :"
   ]
  },
  {
   "cell_type": "code",
   "execution_count": 327,
   "id": "70d96722",
   "metadata": {},
   "outputs": [
    {
     "name": "stdout",
     "output_type": "stream",
     "text": [
      "Attrition         No        Yes\n",
      "OverTime                       \n",
      "No         89.563567  10.436433\n",
      "Yes        69.471154  30.528846\n"
     ]
    }
   ],
   "source": [
    "percentages = new_df.groupby(['OverTime', 'Attrition']).size().unstack().fillna(0).apply(lambda x: x / x.sum() * 100, axis=1)\n",
    "\n",
    "# Print the percentages\n",
    "print(percentages.to_string())"
   ]
  },
  {
   "cell_type": "code",
   "execution_count": 328,
   "id": "bb07c165",
   "metadata": {},
   "outputs": [
    {
     "data": {
      "text/html": [
       "<div>\n",
       "<style scoped>\n",
       "    .dataframe tbody tr th:only-of-type {\n",
       "        vertical-align: middle;\n",
       "    }\n",
       "\n",
       "    .dataframe tbody tr th {\n",
       "        vertical-align: top;\n",
       "    }\n",
       "\n",
       "    .dataframe thead th {\n",
       "        text-align: right;\n",
       "    }\n",
       "</style>\n",
       "<table border=\"1\" class=\"dataframe\">\n",
       "  <thead>\n",
       "    <tr style=\"text-align: right;\">\n",
       "      <th></th>\n",
       "      <th>Attrition</th>\n",
       "      <th>Department</th>\n",
       "      <th>DistanceFromHome</th>\n",
       "      <th>EnvironmentSatisfaction</th>\n",
       "      <th>JobLevel</th>\n",
       "      <th>JobRole</th>\n",
       "      <th>JobSatisfaction</th>\n",
       "      <th>MaritalStatus</th>\n",
       "      <th>MonthlyIncome</th>\n",
       "      <th>OverTime</th>\n",
       "      <th>PerformanceRating</th>\n",
       "      <th>StockOptionLevel</th>\n",
       "      <th>TotalWorkingYears</th>\n",
       "      <th>YearsAtCompany</th>\n",
       "      <th>YearsInCurrentRole</th>\n",
       "      <th>YearsWithCurrManager</th>\n",
       "    </tr>\n",
       "  </thead>\n",
       "  <tbody>\n",
       "    <tr>\n",
       "      <th>0</th>\n",
       "      <td>Yes</td>\n",
       "      <td>Sales</td>\n",
       "      <td>1</td>\n",
       "      <td>2</td>\n",
       "      <td>2</td>\n",
       "      <td>Sales Executive</td>\n",
       "      <td>4</td>\n",
       "      <td>Single</td>\n",
       "      <td>5993</td>\n",
       "      <td>1</td>\n",
       "      <td>3</td>\n",
       "      <td>0</td>\n",
       "      <td>8</td>\n",
       "      <td>6</td>\n",
       "      <td>4</td>\n",
       "      <td>5</td>\n",
       "    </tr>\n",
       "    <tr>\n",
       "      <th>1</th>\n",
       "      <td>No</td>\n",
       "      <td>Research &amp; Development</td>\n",
       "      <td>8</td>\n",
       "      <td>3</td>\n",
       "      <td>2</td>\n",
       "      <td>Research Scientist</td>\n",
       "      <td>2</td>\n",
       "      <td>Married</td>\n",
       "      <td>5130</td>\n",
       "      <td>2</td>\n",
       "      <td>4</td>\n",
       "      <td>1</td>\n",
       "      <td>10</td>\n",
       "      <td>10</td>\n",
       "      <td>7</td>\n",
       "      <td>7</td>\n",
       "    </tr>\n",
       "    <tr>\n",
       "      <th>2</th>\n",
       "      <td>Yes</td>\n",
       "      <td>Research &amp; Development</td>\n",
       "      <td>2</td>\n",
       "      <td>4</td>\n",
       "      <td>1</td>\n",
       "      <td>Laboratory Technician</td>\n",
       "      <td>3</td>\n",
       "      <td>Single</td>\n",
       "      <td>2090</td>\n",
       "      <td>1</td>\n",
       "      <td>3</td>\n",
       "      <td>0</td>\n",
       "      <td>7</td>\n",
       "      <td>0</td>\n",
       "      <td>0</td>\n",
       "      <td>0</td>\n",
       "    </tr>\n",
       "    <tr>\n",
       "      <th>3</th>\n",
       "      <td>No</td>\n",
       "      <td>Research &amp; Development</td>\n",
       "      <td>3</td>\n",
       "      <td>4</td>\n",
       "      <td>1</td>\n",
       "      <td>Research Scientist</td>\n",
       "      <td>3</td>\n",
       "      <td>Married</td>\n",
       "      <td>2909</td>\n",
       "      <td>1</td>\n",
       "      <td>3</td>\n",
       "      <td>0</td>\n",
       "      <td>8</td>\n",
       "      <td>8</td>\n",
       "      <td>7</td>\n",
       "      <td>0</td>\n",
       "    </tr>\n",
       "    <tr>\n",
       "      <th>4</th>\n",
       "      <td>No</td>\n",
       "      <td>Research &amp; Development</td>\n",
       "      <td>2</td>\n",
       "      <td>1</td>\n",
       "      <td>1</td>\n",
       "      <td>Laboratory Technician</td>\n",
       "      <td>2</td>\n",
       "      <td>Married</td>\n",
       "      <td>3468</td>\n",
       "      <td>2</td>\n",
       "      <td>3</td>\n",
       "      <td>1</td>\n",
       "      <td>6</td>\n",
       "      <td>2</td>\n",
       "      <td>2</td>\n",
       "      <td>2</td>\n",
       "    </tr>\n",
       "    <tr>\n",
       "      <th>...</th>\n",
       "      <td>...</td>\n",
       "      <td>...</td>\n",
       "      <td>...</td>\n",
       "      <td>...</td>\n",
       "      <td>...</td>\n",
       "      <td>...</td>\n",
       "      <td>...</td>\n",
       "      <td>...</td>\n",
       "      <td>...</td>\n",
       "      <td>...</td>\n",
       "      <td>...</td>\n",
       "      <td>...</td>\n",
       "      <td>...</td>\n",
       "      <td>...</td>\n",
       "      <td>...</td>\n",
       "      <td>...</td>\n",
       "    </tr>\n",
       "    <tr>\n",
       "      <th>1465</th>\n",
       "      <td>No</td>\n",
       "      <td>Research &amp; Development</td>\n",
       "      <td>23</td>\n",
       "      <td>3</td>\n",
       "      <td>2</td>\n",
       "      <td>Laboratory Technician</td>\n",
       "      <td>4</td>\n",
       "      <td>Married</td>\n",
       "      <td>2571</td>\n",
       "      <td>2</td>\n",
       "      <td>3</td>\n",
       "      <td>1</td>\n",
       "      <td>17</td>\n",
       "      <td>5</td>\n",
       "      <td>2</td>\n",
       "      <td>3</td>\n",
       "    </tr>\n",
       "    <tr>\n",
       "      <th>1466</th>\n",
       "      <td>No</td>\n",
       "      <td>Research &amp; Development</td>\n",
       "      <td>6</td>\n",
       "      <td>4</td>\n",
       "      <td>3</td>\n",
       "      <td>Healthcare Representative</td>\n",
       "      <td>1</td>\n",
       "      <td>Married</td>\n",
       "      <td>9991</td>\n",
       "      <td>2</td>\n",
       "      <td>3</td>\n",
       "      <td>1</td>\n",
       "      <td>9</td>\n",
       "      <td>7</td>\n",
       "      <td>7</td>\n",
       "      <td>7</td>\n",
       "    </tr>\n",
       "    <tr>\n",
       "      <th>1467</th>\n",
       "      <td>No</td>\n",
       "      <td>Research &amp; Development</td>\n",
       "      <td>4</td>\n",
       "      <td>2</td>\n",
       "      <td>2</td>\n",
       "      <td>Manufacturing Director</td>\n",
       "      <td>2</td>\n",
       "      <td>Married</td>\n",
       "      <td>6142</td>\n",
       "      <td>1</td>\n",
       "      <td>4</td>\n",
       "      <td>1</td>\n",
       "      <td>6</td>\n",
       "      <td>6</td>\n",
       "      <td>2</td>\n",
       "      <td>3</td>\n",
       "    </tr>\n",
       "    <tr>\n",
       "      <th>1468</th>\n",
       "      <td>No</td>\n",
       "      <td>Sales</td>\n",
       "      <td>2</td>\n",
       "      <td>4</td>\n",
       "      <td>2</td>\n",
       "      <td>Sales Executive</td>\n",
       "      <td>2</td>\n",
       "      <td>Married</td>\n",
       "      <td>5390</td>\n",
       "      <td>2</td>\n",
       "      <td>3</td>\n",
       "      <td>0</td>\n",
       "      <td>17</td>\n",
       "      <td>9</td>\n",
       "      <td>6</td>\n",
       "      <td>8</td>\n",
       "    </tr>\n",
       "    <tr>\n",
       "      <th>1469</th>\n",
       "      <td>No</td>\n",
       "      <td>Research &amp; Development</td>\n",
       "      <td>8</td>\n",
       "      <td>2</td>\n",
       "      <td>2</td>\n",
       "      <td>Laboratory Technician</td>\n",
       "      <td>3</td>\n",
       "      <td>Married</td>\n",
       "      <td>4404</td>\n",
       "      <td>2</td>\n",
       "      <td>3</td>\n",
       "      <td>0</td>\n",
       "      <td>6</td>\n",
       "      <td>4</td>\n",
       "      <td>3</td>\n",
       "      <td>2</td>\n",
       "    </tr>\n",
       "  </tbody>\n",
       "</table>\n",
       "<p>1470 rows × 16 columns</p>\n",
       "</div>"
      ],
      "text/plain": [
       "     Attrition              Department  DistanceFromHome  \\\n",
       "0          Yes                   Sales                 1   \n",
       "1           No  Research & Development                 8   \n",
       "2          Yes  Research & Development                 2   \n",
       "3           No  Research & Development                 3   \n",
       "4           No  Research & Development                 2   \n",
       "...        ...                     ...               ...   \n",
       "1465        No  Research & Development                23   \n",
       "1466        No  Research & Development                 6   \n",
       "1467        No  Research & Development                 4   \n",
       "1468        No                   Sales                 2   \n",
       "1469        No  Research & Development                 8   \n",
       "\n",
       "      EnvironmentSatisfaction  JobLevel                    JobRole  \\\n",
       "0                           2         2            Sales Executive   \n",
       "1                           3         2         Research Scientist   \n",
       "2                           4         1      Laboratory Technician   \n",
       "3                           4         1         Research Scientist   \n",
       "4                           1         1      Laboratory Technician   \n",
       "...                       ...       ...                        ...   \n",
       "1465                        3         2      Laboratory Technician   \n",
       "1466                        4         3  Healthcare Representative   \n",
       "1467                        2         2     Manufacturing Director   \n",
       "1468                        4         2            Sales Executive   \n",
       "1469                        2         2      Laboratory Technician   \n",
       "\n",
       "      JobSatisfaction MaritalStatus  MonthlyIncome  OverTime  \\\n",
       "0                   4        Single           5993         1   \n",
       "1                   2       Married           5130         2   \n",
       "2                   3        Single           2090         1   \n",
       "3                   3       Married           2909         1   \n",
       "4                   2       Married           3468         2   \n",
       "...               ...           ...            ...       ...   \n",
       "1465                4       Married           2571         2   \n",
       "1466                1       Married           9991         2   \n",
       "1467                2       Married           6142         1   \n",
       "1468                2       Married           5390         2   \n",
       "1469                3       Married           4404         2   \n",
       "\n",
       "      PerformanceRating  StockOptionLevel  TotalWorkingYears  YearsAtCompany  \\\n",
       "0                     3                 0                  8               6   \n",
       "1                     4                 1                 10              10   \n",
       "2                     3                 0                  7               0   \n",
       "3                     3                 0                  8               8   \n",
       "4                     3                 1                  6               2   \n",
       "...                 ...               ...                ...             ...   \n",
       "1465                  3                 1                 17               5   \n",
       "1466                  3                 1                  9               7   \n",
       "1467                  4                 1                  6               6   \n",
       "1468                  3                 0                 17               9   \n",
       "1469                  3                 0                  6               4   \n",
       "\n",
       "      YearsInCurrentRole  YearsWithCurrManager  \n",
       "0                      4                     5  \n",
       "1                      7                     7  \n",
       "2                      0                     0  \n",
       "3                      7                     0  \n",
       "4                      2                     2  \n",
       "...                  ...                   ...  \n",
       "1465                   2                     3  \n",
       "1466                   7                     7  \n",
       "1467                   2                     3  \n",
       "1468                   6                     8  \n",
       "1469                   3                     2  \n",
       "\n",
       "[1470 rows x 16 columns]"
      ]
     },
     "execution_count": 328,
     "metadata": {},
     "output_type": "execute_result"
    }
   ],
   "source": [
    "# I will again use mapping to handle OverTime\n",
    "new_df['OverTime'] = new_df['OverTime'].map({'Yes': 1 , 'No': 2})\n",
    "new_df"
   ]
  },
  {
   "cell_type": "code",
   "execution_count": 329,
   "id": "37d71184",
   "metadata": {
    "scrolled": false
   },
   "outputs": [
    {
     "data": {
      "text/html": [
       "<div>\n",
       "<style scoped>\n",
       "    .dataframe tbody tr th:only-of-type {\n",
       "        vertical-align: middle;\n",
       "    }\n",
       "\n",
       "    .dataframe tbody tr th {\n",
       "        vertical-align: top;\n",
       "    }\n",
       "\n",
       "    .dataframe thead th {\n",
       "        text-align: right;\n",
       "    }\n",
       "</style>\n",
       "<table border=\"1\" class=\"dataframe\">\n",
       "  <thead>\n",
       "    <tr style=\"text-align: right;\">\n",
       "      <th></th>\n",
       "      <th>Attrition</th>\n",
       "      <th>Department</th>\n",
       "      <th>DistanceFromHome</th>\n",
       "      <th>EnvironmentSatisfaction</th>\n",
       "      <th>JobLevel</th>\n",
       "      <th>JobRole</th>\n",
       "      <th>JobSatisfaction</th>\n",
       "      <th>MaritalStatus</th>\n",
       "      <th>MonthlyIncome</th>\n",
       "      <th>OverTime</th>\n",
       "      <th>PerformanceRating</th>\n",
       "      <th>StockOptionLevel</th>\n",
       "      <th>TotalWorkingYears</th>\n",
       "      <th>YearsAtCompany</th>\n",
       "      <th>YearsInCurrentRole</th>\n",
       "      <th>YearsWithCurrManager</th>\n",
       "    </tr>\n",
       "  </thead>\n",
       "  <tbody>\n",
       "    <tr>\n",
       "      <th>0</th>\n",
       "      <td>1</td>\n",
       "      <td>Sales</td>\n",
       "      <td>1</td>\n",
       "      <td>2</td>\n",
       "      <td>2</td>\n",
       "      <td>Sales Executive</td>\n",
       "      <td>4</td>\n",
       "      <td>Single</td>\n",
       "      <td>5993</td>\n",
       "      <td>1</td>\n",
       "      <td>3</td>\n",
       "      <td>0</td>\n",
       "      <td>8</td>\n",
       "      <td>6</td>\n",
       "      <td>4</td>\n",
       "      <td>5</td>\n",
       "    </tr>\n",
       "    <tr>\n",
       "      <th>1</th>\n",
       "      <td>0</td>\n",
       "      <td>Research &amp; Development</td>\n",
       "      <td>8</td>\n",
       "      <td>3</td>\n",
       "      <td>2</td>\n",
       "      <td>Research Scientist</td>\n",
       "      <td>2</td>\n",
       "      <td>Married</td>\n",
       "      <td>5130</td>\n",
       "      <td>2</td>\n",
       "      <td>4</td>\n",
       "      <td>1</td>\n",
       "      <td>10</td>\n",
       "      <td>10</td>\n",
       "      <td>7</td>\n",
       "      <td>7</td>\n",
       "    </tr>\n",
       "    <tr>\n",
       "      <th>2</th>\n",
       "      <td>1</td>\n",
       "      <td>Research &amp; Development</td>\n",
       "      <td>2</td>\n",
       "      <td>4</td>\n",
       "      <td>1</td>\n",
       "      <td>Laboratory Technician</td>\n",
       "      <td>3</td>\n",
       "      <td>Single</td>\n",
       "      <td>2090</td>\n",
       "      <td>1</td>\n",
       "      <td>3</td>\n",
       "      <td>0</td>\n",
       "      <td>7</td>\n",
       "      <td>0</td>\n",
       "      <td>0</td>\n",
       "      <td>0</td>\n",
       "    </tr>\n",
       "    <tr>\n",
       "      <th>3</th>\n",
       "      <td>0</td>\n",
       "      <td>Research &amp; Development</td>\n",
       "      <td>3</td>\n",
       "      <td>4</td>\n",
       "      <td>1</td>\n",
       "      <td>Research Scientist</td>\n",
       "      <td>3</td>\n",
       "      <td>Married</td>\n",
       "      <td>2909</td>\n",
       "      <td>1</td>\n",
       "      <td>3</td>\n",
       "      <td>0</td>\n",
       "      <td>8</td>\n",
       "      <td>8</td>\n",
       "      <td>7</td>\n",
       "      <td>0</td>\n",
       "    </tr>\n",
       "    <tr>\n",
       "      <th>4</th>\n",
       "      <td>0</td>\n",
       "      <td>Research &amp; Development</td>\n",
       "      <td>2</td>\n",
       "      <td>1</td>\n",
       "      <td>1</td>\n",
       "      <td>Laboratory Technician</td>\n",
       "      <td>2</td>\n",
       "      <td>Married</td>\n",
       "      <td>3468</td>\n",
       "      <td>2</td>\n",
       "      <td>3</td>\n",
       "      <td>1</td>\n",
       "      <td>6</td>\n",
       "      <td>2</td>\n",
       "      <td>2</td>\n",
       "      <td>2</td>\n",
       "    </tr>\n",
       "    <tr>\n",
       "      <th>...</th>\n",
       "      <td>...</td>\n",
       "      <td>...</td>\n",
       "      <td>...</td>\n",
       "      <td>...</td>\n",
       "      <td>...</td>\n",
       "      <td>...</td>\n",
       "      <td>...</td>\n",
       "      <td>...</td>\n",
       "      <td>...</td>\n",
       "      <td>...</td>\n",
       "      <td>...</td>\n",
       "      <td>...</td>\n",
       "      <td>...</td>\n",
       "      <td>...</td>\n",
       "      <td>...</td>\n",
       "      <td>...</td>\n",
       "    </tr>\n",
       "    <tr>\n",
       "      <th>1465</th>\n",
       "      <td>0</td>\n",
       "      <td>Research &amp; Development</td>\n",
       "      <td>23</td>\n",
       "      <td>3</td>\n",
       "      <td>2</td>\n",
       "      <td>Laboratory Technician</td>\n",
       "      <td>4</td>\n",
       "      <td>Married</td>\n",
       "      <td>2571</td>\n",
       "      <td>2</td>\n",
       "      <td>3</td>\n",
       "      <td>1</td>\n",
       "      <td>17</td>\n",
       "      <td>5</td>\n",
       "      <td>2</td>\n",
       "      <td>3</td>\n",
       "    </tr>\n",
       "    <tr>\n",
       "      <th>1466</th>\n",
       "      <td>0</td>\n",
       "      <td>Research &amp; Development</td>\n",
       "      <td>6</td>\n",
       "      <td>4</td>\n",
       "      <td>3</td>\n",
       "      <td>Healthcare Representative</td>\n",
       "      <td>1</td>\n",
       "      <td>Married</td>\n",
       "      <td>9991</td>\n",
       "      <td>2</td>\n",
       "      <td>3</td>\n",
       "      <td>1</td>\n",
       "      <td>9</td>\n",
       "      <td>7</td>\n",
       "      <td>7</td>\n",
       "      <td>7</td>\n",
       "    </tr>\n",
       "    <tr>\n",
       "      <th>1467</th>\n",
       "      <td>0</td>\n",
       "      <td>Research &amp; Development</td>\n",
       "      <td>4</td>\n",
       "      <td>2</td>\n",
       "      <td>2</td>\n",
       "      <td>Manufacturing Director</td>\n",
       "      <td>2</td>\n",
       "      <td>Married</td>\n",
       "      <td>6142</td>\n",
       "      <td>1</td>\n",
       "      <td>4</td>\n",
       "      <td>1</td>\n",
       "      <td>6</td>\n",
       "      <td>6</td>\n",
       "      <td>2</td>\n",
       "      <td>3</td>\n",
       "    </tr>\n",
       "    <tr>\n",
       "      <th>1468</th>\n",
       "      <td>0</td>\n",
       "      <td>Sales</td>\n",
       "      <td>2</td>\n",
       "      <td>4</td>\n",
       "      <td>2</td>\n",
       "      <td>Sales Executive</td>\n",
       "      <td>2</td>\n",
       "      <td>Married</td>\n",
       "      <td>5390</td>\n",
       "      <td>2</td>\n",
       "      <td>3</td>\n",
       "      <td>0</td>\n",
       "      <td>17</td>\n",
       "      <td>9</td>\n",
       "      <td>6</td>\n",
       "      <td>8</td>\n",
       "    </tr>\n",
       "    <tr>\n",
       "      <th>1469</th>\n",
       "      <td>0</td>\n",
       "      <td>Research &amp; Development</td>\n",
       "      <td>8</td>\n",
       "      <td>2</td>\n",
       "      <td>2</td>\n",
       "      <td>Laboratory Technician</td>\n",
       "      <td>3</td>\n",
       "      <td>Married</td>\n",
       "      <td>4404</td>\n",
       "      <td>2</td>\n",
       "      <td>3</td>\n",
       "      <td>0</td>\n",
       "      <td>6</td>\n",
       "      <td>4</td>\n",
       "      <td>3</td>\n",
       "      <td>2</td>\n",
       "    </tr>\n",
       "  </tbody>\n",
       "</table>\n",
       "<p>1470 rows × 16 columns</p>\n",
       "</div>"
      ],
      "text/plain": [
       "      Attrition              Department  DistanceFromHome  \\\n",
       "0             1                   Sales                 1   \n",
       "1             0  Research & Development                 8   \n",
       "2             1  Research & Development                 2   \n",
       "3             0  Research & Development                 3   \n",
       "4             0  Research & Development                 2   \n",
       "...         ...                     ...               ...   \n",
       "1465          0  Research & Development                23   \n",
       "1466          0  Research & Development                 6   \n",
       "1467          0  Research & Development                 4   \n",
       "1468          0                   Sales                 2   \n",
       "1469          0  Research & Development                 8   \n",
       "\n",
       "      EnvironmentSatisfaction  JobLevel                    JobRole  \\\n",
       "0                           2         2            Sales Executive   \n",
       "1                           3         2         Research Scientist   \n",
       "2                           4         1      Laboratory Technician   \n",
       "3                           4         1         Research Scientist   \n",
       "4                           1         1      Laboratory Technician   \n",
       "...                       ...       ...                        ...   \n",
       "1465                        3         2      Laboratory Technician   \n",
       "1466                        4         3  Healthcare Representative   \n",
       "1467                        2         2     Manufacturing Director   \n",
       "1468                        4         2            Sales Executive   \n",
       "1469                        2         2      Laboratory Technician   \n",
       "\n",
       "      JobSatisfaction MaritalStatus  MonthlyIncome  OverTime  \\\n",
       "0                   4        Single           5993         1   \n",
       "1                   2       Married           5130         2   \n",
       "2                   3        Single           2090         1   \n",
       "3                   3       Married           2909         1   \n",
       "4                   2       Married           3468         2   \n",
       "...               ...           ...            ...       ...   \n",
       "1465                4       Married           2571         2   \n",
       "1466                1       Married           9991         2   \n",
       "1467                2       Married           6142         1   \n",
       "1468                2       Married           5390         2   \n",
       "1469                3       Married           4404         2   \n",
       "\n",
       "      PerformanceRating  StockOptionLevel  TotalWorkingYears  YearsAtCompany  \\\n",
       "0                     3                 0                  8               6   \n",
       "1                     4                 1                 10              10   \n",
       "2                     3                 0                  7               0   \n",
       "3                     3                 0                  8               8   \n",
       "4                     3                 1                  6               2   \n",
       "...                 ...               ...                ...             ...   \n",
       "1465                  3                 1                 17               5   \n",
       "1466                  3                 1                  9               7   \n",
       "1467                  4                 1                  6               6   \n",
       "1468                  3                 0                 17               9   \n",
       "1469                  3                 0                  6               4   \n",
       "\n",
       "      YearsInCurrentRole  YearsWithCurrManager  \n",
       "0                      4                     5  \n",
       "1                      7                     7  \n",
       "2                      0                     0  \n",
       "3                      7                     0  \n",
       "4                      2                     2  \n",
       "...                  ...                   ...  \n",
       "1465                   2                     3  \n",
       "1466                   7                     7  \n",
       "1467                   2                     3  \n",
       "1468                   6                     8  \n",
       "1469                   3                     2  \n",
       "\n",
       "[1470 rows x 16 columns]"
      ]
     },
     "execution_count": 329,
     "metadata": {},
     "output_type": "execute_result"
    }
   ],
   "source": [
    "new_df['Attrition'] = new_df['Attrition'].map({'Yes': 1 , 'No': 0})\n",
    "new_df"
   ]
  },
  {
   "cell_type": "markdown",
   "id": "3a5b5d19",
   "metadata": {},
   "source": [
    "# Reducing Imbalancing :"
   ]
  },
  {
   "cell_type": "code",
   "execution_count": 330,
   "id": "285f033d",
   "metadata": {},
   "outputs": [
    {
     "data": {
      "text/plain": [
       "0    1233\n",
       "1     237\n",
       "Name: Attrition, dtype: int64"
      ]
     },
     "execution_count": 330,
     "metadata": {},
     "output_type": "execute_result"
    }
   ],
   "source": [
    "new_df['Attrition'].value_counts()"
   ]
  },
  {
   "cell_type": "code",
   "execution_count": 331,
   "id": "0af21893",
   "metadata": {},
   "outputs": [],
   "source": [
    "No = new_df[new_df.Attrition == 0]\n",
    "Yes = new_df[new_df['Attrition'] == 1]"
   ]
  },
  {
   "cell_type": "code",
   "execution_count": 332,
   "id": "80269558",
   "metadata": {},
   "outputs": [],
   "source": [
    "No_sample = No.sample(n=350)"
   ]
  },
  {
   "cell_type": "code",
   "execution_count": 333,
   "id": "0e060038",
   "metadata": {},
   "outputs": [
    {
     "data": {
      "text/html": [
       "<div>\n",
       "<style scoped>\n",
       "    .dataframe tbody tr th:only-of-type {\n",
       "        vertical-align: middle;\n",
       "    }\n",
       "\n",
       "    .dataframe tbody tr th {\n",
       "        vertical-align: top;\n",
       "    }\n",
       "\n",
       "    .dataframe thead th {\n",
       "        text-align: right;\n",
       "    }\n",
       "</style>\n",
       "<table border=\"1\" class=\"dataframe\">\n",
       "  <thead>\n",
       "    <tr style=\"text-align: right;\">\n",
       "      <th></th>\n",
       "      <th>Attrition</th>\n",
       "      <th>Department</th>\n",
       "      <th>DistanceFromHome</th>\n",
       "      <th>EnvironmentSatisfaction</th>\n",
       "      <th>JobLevel</th>\n",
       "      <th>JobRole</th>\n",
       "      <th>JobSatisfaction</th>\n",
       "      <th>MaritalStatus</th>\n",
       "      <th>MonthlyIncome</th>\n",
       "      <th>OverTime</th>\n",
       "      <th>PerformanceRating</th>\n",
       "      <th>StockOptionLevel</th>\n",
       "      <th>TotalWorkingYears</th>\n",
       "      <th>YearsAtCompany</th>\n",
       "      <th>YearsInCurrentRole</th>\n",
       "      <th>YearsWithCurrManager</th>\n",
       "    </tr>\n",
       "  </thead>\n",
       "  <tbody>\n",
       "    <tr>\n",
       "      <th>639</th>\n",
       "      <td>0</td>\n",
       "      <td>Research &amp; Development</td>\n",
       "      <td>1</td>\n",
       "      <td>3</td>\n",
       "      <td>1</td>\n",
       "      <td>Research Scientist</td>\n",
       "      <td>1</td>\n",
       "      <td>Married</td>\n",
       "      <td>3580</td>\n",
       "      <td>2</td>\n",
       "      <td>3</td>\n",
       "      <td>1</td>\n",
       "      <td>7</td>\n",
       "      <td>4</td>\n",
       "      <td>2</td>\n",
       "      <td>2</td>\n",
       "    </tr>\n",
       "    <tr>\n",
       "      <th>1335</th>\n",
       "      <td>0</td>\n",
       "      <td>Research &amp; Development</td>\n",
       "      <td>19</td>\n",
       "      <td>4</td>\n",
       "      <td>2</td>\n",
       "      <td>Research Scientist</td>\n",
       "      <td>4</td>\n",
       "      <td>Divorced</td>\n",
       "      <td>3902</td>\n",
       "      <td>2</td>\n",
       "      <td>3</td>\n",
       "      <td>3</td>\n",
       "      <td>7</td>\n",
       "      <td>2</td>\n",
       "      <td>2</td>\n",
       "      <td>2</td>\n",
       "    </tr>\n",
       "    <tr>\n",
       "      <th>541</th>\n",
       "      <td>0</td>\n",
       "      <td>Research &amp; Development</td>\n",
       "      <td>8</td>\n",
       "      <td>1</td>\n",
       "      <td>3</td>\n",
       "      <td>Research Director</td>\n",
       "      <td>1</td>\n",
       "      <td>Married</td>\n",
       "      <td>11713</td>\n",
       "      <td>2</td>\n",
       "      <td>3</td>\n",
       "      <td>1</td>\n",
       "      <td>10</td>\n",
       "      <td>8</td>\n",
       "      <td>7</td>\n",
       "      <td>5</td>\n",
       "    </tr>\n",
       "    <tr>\n",
       "      <th>237</th>\n",
       "      <td>0</td>\n",
       "      <td>Sales</td>\n",
       "      <td>2</td>\n",
       "      <td>1</td>\n",
       "      <td>5</td>\n",
       "      <td>Manager</td>\n",
       "      <td>3</td>\n",
       "      <td>Single</td>\n",
       "      <td>19068</td>\n",
       "      <td>1</td>\n",
       "      <td>3</td>\n",
       "      <td>0</td>\n",
       "      <td>33</td>\n",
       "      <td>33</td>\n",
       "      <td>7</td>\n",
       "      <td>12</td>\n",
       "    </tr>\n",
       "    <tr>\n",
       "      <th>649</th>\n",
       "      <td>0</td>\n",
       "      <td>Research &amp; Development</td>\n",
       "      <td>23</td>\n",
       "      <td>4</td>\n",
       "      <td>4</td>\n",
       "      <td>Research Director</td>\n",
       "      <td>4</td>\n",
       "      <td>Single</td>\n",
       "      <td>14275</td>\n",
       "      <td>2</td>\n",
       "      <td>3</td>\n",
       "      <td>0</td>\n",
       "      <td>33</td>\n",
       "      <td>12</td>\n",
       "      <td>9</td>\n",
       "      <td>8</td>\n",
       "    </tr>\n",
       "    <tr>\n",
       "      <th>...</th>\n",
       "      <td>...</td>\n",
       "      <td>...</td>\n",
       "      <td>...</td>\n",
       "      <td>...</td>\n",
       "      <td>...</td>\n",
       "      <td>...</td>\n",
       "      <td>...</td>\n",
       "      <td>...</td>\n",
       "      <td>...</td>\n",
       "      <td>...</td>\n",
       "      <td>...</td>\n",
       "      <td>...</td>\n",
       "      <td>...</td>\n",
       "      <td>...</td>\n",
       "      <td>...</td>\n",
       "      <td>...</td>\n",
       "    </tr>\n",
       "    <tr>\n",
       "      <th>1438</th>\n",
       "      <td>1</td>\n",
       "      <td>Sales</td>\n",
       "      <td>9</td>\n",
       "      <td>4</td>\n",
       "      <td>1</td>\n",
       "      <td>Sales Representative</td>\n",
       "      <td>1</td>\n",
       "      <td>Married</td>\n",
       "      <td>1790</td>\n",
       "      <td>2</td>\n",
       "      <td>3</td>\n",
       "      <td>1</td>\n",
       "      <td>1</td>\n",
       "      <td>1</td>\n",
       "      <td>0</td>\n",
       "      <td>0</td>\n",
       "    </tr>\n",
       "    <tr>\n",
       "      <th>1442</th>\n",
       "      <td>1</td>\n",
       "      <td>Research &amp; Development</td>\n",
       "      <td>1</td>\n",
       "      <td>1</td>\n",
       "      <td>1</td>\n",
       "      <td>Research Scientist</td>\n",
       "      <td>4</td>\n",
       "      <td>Married</td>\n",
       "      <td>4787</td>\n",
       "      <td>1</td>\n",
       "      <td>3</td>\n",
       "      <td>3</td>\n",
       "      <td>4</td>\n",
       "      <td>2</td>\n",
       "      <td>2</td>\n",
       "      <td>2</td>\n",
       "    </tr>\n",
       "    <tr>\n",
       "      <th>1444</th>\n",
       "      <td>1</td>\n",
       "      <td>Research &amp; Development</td>\n",
       "      <td>7</td>\n",
       "      <td>4</td>\n",
       "      <td>1</td>\n",
       "      <td>Laboratory Technician</td>\n",
       "      <td>3</td>\n",
       "      <td>Married</td>\n",
       "      <td>2339</td>\n",
       "      <td>2</td>\n",
       "      <td>3</td>\n",
       "      <td>1</td>\n",
       "      <td>14</td>\n",
       "      <td>10</td>\n",
       "      <td>9</td>\n",
       "      <td>8</td>\n",
       "    </tr>\n",
       "    <tr>\n",
       "      <th>1452</th>\n",
       "      <td>1</td>\n",
       "      <td>Sales</td>\n",
       "      <td>1</td>\n",
       "      <td>2</td>\n",
       "      <td>2</td>\n",
       "      <td>Sales Executive</td>\n",
       "      <td>3</td>\n",
       "      <td>Divorced</td>\n",
       "      <td>6728</td>\n",
       "      <td>2</td>\n",
       "      <td>3</td>\n",
       "      <td>2</td>\n",
       "      <td>12</td>\n",
       "      <td>6</td>\n",
       "      <td>3</td>\n",
       "      <td>1</td>\n",
       "    </tr>\n",
       "    <tr>\n",
       "      <th>1461</th>\n",
       "      <td>1</td>\n",
       "      <td>Sales</td>\n",
       "      <td>28</td>\n",
       "      <td>4</td>\n",
       "      <td>3</td>\n",
       "      <td>Sales Executive</td>\n",
       "      <td>1</td>\n",
       "      <td>Divorced</td>\n",
       "      <td>10854</td>\n",
       "      <td>1</td>\n",
       "      <td>3</td>\n",
       "      <td>1</td>\n",
       "      <td>20</td>\n",
       "      <td>3</td>\n",
       "      <td>2</td>\n",
       "      <td>0</td>\n",
       "    </tr>\n",
       "  </tbody>\n",
       "</table>\n",
       "<p>587 rows × 16 columns</p>\n",
       "</div>"
      ],
      "text/plain": [
       "      Attrition              Department  DistanceFromHome  \\\n",
       "639           0  Research & Development                 1   \n",
       "1335          0  Research & Development                19   \n",
       "541           0  Research & Development                 8   \n",
       "237           0                   Sales                 2   \n",
       "649           0  Research & Development                23   \n",
       "...         ...                     ...               ...   \n",
       "1438          1                   Sales                 9   \n",
       "1442          1  Research & Development                 1   \n",
       "1444          1  Research & Development                 7   \n",
       "1452          1                   Sales                 1   \n",
       "1461          1                   Sales                28   \n",
       "\n",
       "      EnvironmentSatisfaction  JobLevel                JobRole  \\\n",
       "639                         3         1     Research Scientist   \n",
       "1335                        4         2     Research Scientist   \n",
       "541                         1         3      Research Director   \n",
       "237                         1         5                Manager   \n",
       "649                         4         4      Research Director   \n",
       "...                       ...       ...                    ...   \n",
       "1438                        4         1   Sales Representative   \n",
       "1442                        1         1     Research Scientist   \n",
       "1444                        4         1  Laboratory Technician   \n",
       "1452                        2         2        Sales Executive   \n",
       "1461                        4         3        Sales Executive   \n",
       "\n",
       "      JobSatisfaction MaritalStatus  MonthlyIncome  OverTime  \\\n",
       "639                 1       Married           3580         2   \n",
       "1335                4      Divorced           3902         2   \n",
       "541                 1       Married          11713         2   \n",
       "237                 3        Single          19068         1   \n",
       "649                 4        Single          14275         2   \n",
       "...               ...           ...            ...       ...   \n",
       "1438                1       Married           1790         2   \n",
       "1442                4       Married           4787         1   \n",
       "1444                3       Married           2339         2   \n",
       "1452                3      Divorced           6728         2   \n",
       "1461                1      Divorced          10854         1   \n",
       "\n",
       "      PerformanceRating  StockOptionLevel  TotalWorkingYears  YearsAtCompany  \\\n",
       "639                   3                 1                  7               4   \n",
       "1335                  3                 3                  7               2   \n",
       "541                   3                 1                 10               8   \n",
       "237                   3                 0                 33              33   \n",
       "649                   3                 0                 33              12   \n",
       "...                 ...               ...                ...             ...   \n",
       "1438                  3                 1                  1               1   \n",
       "1442                  3                 3                  4               2   \n",
       "1444                  3                 1                 14              10   \n",
       "1452                  3                 2                 12               6   \n",
       "1461                  3                 1                 20               3   \n",
       "\n",
       "      YearsInCurrentRole  YearsWithCurrManager  \n",
       "639                    2                     2  \n",
       "1335                   2                     2  \n",
       "541                    7                     5  \n",
       "237                    7                    12  \n",
       "649                    9                     8  \n",
       "...                  ...                   ...  \n",
       "1438                   0                     0  \n",
       "1442                   2                     2  \n",
       "1444                   9                     8  \n",
       "1452                   3                     1  \n",
       "1461                   2                     0  \n",
       "\n",
       "[587 rows x 16 columns]"
      ]
     },
     "execution_count": 333,
     "metadata": {},
     "output_type": "execute_result"
    }
   ],
   "source": [
    "new_df = pd.concat([No_sample , Yes] , axis = 0)\n",
    "new_df"
   ]
  },
  {
   "cell_type": "markdown",
   "id": "0709013b",
   "metadata": {},
   "source": [
    "# Spliting the dataset :"
   ]
  },
  {
   "cell_type": "code",
   "execution_count": 334,
   "id": "2cbd5a62",
   "metadata": {},
   "outputs": [],
   "source": [
    "from sklearn.model_selection import train_test_split"
   ]
  },
  {
   "cell_type": "code",
   "execution_count": 335,
   "id": "1a201905",
   "metadata": {},
   "outputs": [],
   "source": [
    "X = new_df.drop('Attrition' , axis = 1)\n",
    "y = new_df['Attrition']"
   ]
  },
  {
   "cell_type": "code",
   "execution_count": 336,
   "id": "b7ff8470",
   "metadata": {},
   "outputs": [],
   "source": [
    "X_train , X_test , y_train , y_test = train_test_split(X,y,test_size = 0.3 , random_state =  42)"
   ]
  },
  {
   "cell_type": "markdown",
   "id": "0e9dd38f",
   "metadata": {},
   "source": [
    "# Preprocessing the dataset :"
   ]
  },
  {
   "cell_type": "code",
   "execution_count": 337,
   "id": "92ff74e7",
   "metadata": {},
   "outputs": [],
   "source": [
    "from sklearn.preprocessing import OneHotEncoder , StandardScaler\n",
    "from sklearn.compose import  ColumnTransformer\n",
    "ohe = OneHotEncoder(drop = 'first')\n",
    "scaler = StandardScaler()"
   ]
  },
  {
   "cell_type": "code",
   "execution_count": 338,
   "id": "107d97e6",
   "metadata": {},
   "outputs": [
    {
     "data": {
      "text/html": [
       "<div>\n",
       "<style scoped>\n",
       "    .dataframe tbody tr th:only-of-type {\n",
       "        vertical-align: middle;\n",
       "    }\n",
       "\n",
       "    .dataframe tbody tr th {\n",
       "        vertical-align: top;\n",
       "    }\n",
       "\n",
       "    .dataframe thead th {\n",
       "        text-align: right;\n",
       "    }\n",
       "</style>\n",
       "<table border=\"1\" class=\"dataframe\">\n",
       "  <thead>\n",
       "    <tr style=\"text-align: right;\">\n",
       "      <th></th>\n",
       "      <th>Department</th>\n",
       "      <th>DistanceFromHome</th>\n",
       "      <th>EnvironmentSatisfaction</th>\n",
       "      <th>JobLevel</th>\n",
       "      <th>JobRole</th>\n",
       "      <th>JobSatisfaction</th>\n",
       "      <th>MaritalStatus</th>\n",
       "      <th>MonthlyIncome</th>\n",
       "      <th>OverTime</th>\n",
       "      <th>PerformanceRating</th>\n",
       "      <th>StockOptionLevel</th>\n",
       "      <th>TotalWorkingYears</th>\n",
       "      <th>YearsAtCompany</th>\n",
       "      <th>YearsInCurrentRole</th>\n",
       "      <th>YearsWithCurrManager</th>\n",
       "    </tr>\n",
       "  </thead>\n",
       "  <tbody>\n",
       "    <tr>\n",
       "      <th>111</th>\n",
       "      <td>Research &amp; Development</td>\n",
       "      <td>7</td>\n",
       "      <td>1</td>\n",
       "      <td>2</td>\n",
       "      <td>Laboratory Technician</td>\n",
       "      <td>3</td>\n",
       "      <td>Single</td>\n",
       "      <td>6074</td>\n",
       "      <td>1</td>\n",
       "      <td>4</td>\n",
       "      <td>0</td>\n",
       "      <td>9</td>\n",
       "      <td>9</td>\n",
       "      <td>7</td>\n",
       "      <td>6</td>\n",
       "    </tr>\n",
       "  </tbody>\n",
       "</table>\n",
       "</div>"
      ],
      "text/plain": [
       "                 Department  DistanceFromHome  EnvironmentSatisfaction  \\\n",
       "111  Research & Development                 7                        1   \n",
       "\n",
       "     JobLevel                JobRole  JobSatisfaction MaritalStatus  \\\n",
       "111         2  Laboratory Technician                3        Single   \n",
       "\n",
       "     MonthlyIncome  OverTime  PerformanceRating  StockOptionLevel  \\\n",
       "111           6074         1                  4                 0   \n",
       "\n",
       "     TotalWorkingYears  YearsAtCompany  YearsInCurrentRole  \\\n",
       "111                  9               9                   7   \n",
       "\n",
       "     YearsWithCurrManager  \n",
       "111                     6  "
      ]
     },
     "execution_count": 338,
     "metadata": {},
     "output_type": "execute_result"
    }
   ],
   "source": [
    "X_train.head(1)"
   ]
  },
  {
   "cell_type": "code",
   "execution_count": 339,
   "id": "8ac2bfe6",
   "metadata": {},
   "outputs": [],
   "source": [
    "preprocessor = ColumnTransformer(\n",
    "transformers = [\n",
    "    ('onehotencoder', ohe ,[0,4,6] ),\n",
    "    ('standerdization' , scaler , [1,2,3,5,7,8,9,10,11,12,13,14])\n",
    "],\n",
    "remainder = 'passthrough'\n",
    ")"
   ]
  },
  {
   "cell_type": "code",
   "execution_count": 340,
   "id": "e527019b",
   "metadata": {},
   "outputs": [],
   "source": [
    "X_train_dummy = preprocessor.fit_transform(X_train)\n",
    "X_test_dummy = preprocessor.transform(X_test)"
   ]
  },
  {
   "cell_type": "markdown",
   "id": "c66a0262",
   "metadata": {},
   "source": [
    "# Trying Different Models :"
   ]
  },
  {
   "cell_type": "code",
   "execution_count": 341,
   "id": "85417ced",
   "metadata": {},
   "outputs": [],
   "source": [
    "# Here I will check the ConfusionMatrix and will check the TrueNegetive value ( Actual 'No' , Prediction : 'Yes') .\n",
    "# If the True Negetive value is less , I will consider it as a good model ."
   ]
  },
  {
   "cell_type": "code",
   "execution_count": 342,
   "id": "09534133",
   "metadata": {},
   "outputs": [],
   "source": [
    "from sklearn.metrics import accuracy_score , confusion_matrix"
   ]
  },
  {
   "cell_type": "markdown",
   "id": "0a881eba",
   "metadata": {},
   "source": [
    "# Using DecisionTreeClassifier :"
   ]
  },
  {
   "cell_type": "code",
   "execution_count": 343,
   "id": "8e749856",
   "metadata": {},
   "outputs": [
    {
     "name": "stdout",
     "output_type": "stream",
     "text": [
      "0.7062146892655368\n"
     ]
    }
   ],
   "source": [
    "from sklearn.tree import DecisionTreeClassifier\n",
    "dc = DecisionTreeClassifier( max_depth = 8)\n",
    "dc.fit(X_train_dummy , y_train)\n",
    "y_pred = dc.predict(X_test_dummy)\n",
    "print(accuracy_score(y_test , y_pred))"
   ]
  },
  {
   "cell_type": "code",
   "execution_count": 344,
   "id": "a3b562a7",
   "metadata": {},
   "outputs": [
    {
     "name": "stdout",
     "output_type": "stream",
     "text": [
      "[[88 23]\n",
      " [29 37]]\n"
     ]
    }
   ],
   "source": [
    "print(confusion_matrix(y_test , y_pred))"
   ]
  },
  {
   "cell_type": "markdown",
   "id": "9f89bef6",
   "metadata": {},
   "source": [
    "# Using RandomForestClassifier :"
   ]
  },
  {
   "cell_type": "code",
   "execution_count": 345,
   "id": "acfc7202",
   "metadata": {},
   "outputs": [],
   "source": [
    "rf_score = []\n",
    "for i  in range(50):\n",
    "    X_train , X_test , y_train  , y_test = train_test_split(X,y,test_size = 0.2 , random_state = i)\n",
    "    rf = RandomForestClassifier(n_estimators = 100 , max_depth = 10)\n",
    "    X_train_dummy = preprocessor.fit_transform(X_train)\n",
    "    X_test_dummy = preprocessor.transform(X_test)\n",
    "    rf.fit(X_train_dummy , y_train)\n",
    "    y_pred = rf.predict(X_test_dummy)\n",
    "    rf_score.append(accuracy_score(y_test , y_pred))"
   ]
  },
  {
   "cell_type": "code",
   "execution_count": 346,
   "id": "c719cc0d",
   "metadata": {},
   "outputs": [
    {
     "name": "stdout",
     "output_type": "stream",
     "text": [
      "1\n",
      "0.8220338983050848\n"
     ]
    }
   ],
   "source": [
    "print(np.argmax(rf_score))\n",
    "print(rf_score[np.argmax(rf_score)])"
   ]
  },
  {
   "cell_type": "code",
   "execution_count": 347,
   "id": "57945fcf",
   "metadata": {},
   "outputs": [
    {
     "name": "stdout",
     "output_type": "stream",
     "text": [
      "[[62 15]\n",
      " [34  7]]\n"
     ]
    }
   ],
   "source": [
    "from sklearn.ensemble import RandomForestClassifier\n",
    "X_train , X_test , y_train  , y_test = train_test_split(X,y,test_size = 0.2 , random_state = 9)\n",
    "rf = RandomForestClassifier(n_estimators = 100 , max_depth = 10)\n",
    "rf.fit(X_train_dummy , y_train)\n",
    "y_pred = rf.predict(X_test_dummy)\n",
    "print(confusion_matrix(y_test , y_pred))"
   ]
  },
  {
   "cell_type": "markdown",
   "id": "f085d856",
   "metadata": {},
   "source": [
    "# Using GradientBoostingClassifier :"
   ]
  },
  {
   "cell_type": "code",
   "execution_count": 348,
   "id": "6bf558ed",
   "metadata": {},
   "outputs": [],
   "source": [
    "gb_score = []\n",
    "for i  in range(50):\n",
    "    X_train , X_test , y_train  , y_test = train_test_split(X,y,test_size = 0.2 , random_state = i)\n",
    "    gb = GradientBoostingClassifier(n_estimators = 100 , max_depth = 1)\n",
    "    X_train_dummy = preprocessor.fit_transform(X_train)\n",
    "    X_test_dummy = preprocessor.transform(X_test)\n",
    "    gb.fit(X_train_dummy , y_train)\n",
    "    y_pred = gb.predict(X_test_dummy)\n",
    "    gb_score.append(accuracy_score(y_test , y_pred))"
   ]
  },
  {
   "cell_type": "code",
   "execution_count": 349,
   "id": "94eb9ea6",
   "metadata": {},
   "outputs": [
    {
     "data": {
      "text/plain": [
       "40"
      ]
     },
     "execution_count": 349,
     "metadata": {},
     "output_type": "execute_result"
    }
   ],
   "source": [
    "np.argmax(gb_score)"
   ]
  },
  {
   "cell_type": "code",
   "execution_count": 350,
   "id": "0a6a5a0f",
   "metadata": {},
   "outputs": [
    {
     "data": {
      "text/plain": [
       "0.847457627118644"
      ]
     },
     "execution_count": 350,
     "metadata": {},
     "output_type": "execute_result"
    }
   ],
   "source": [
    "gb_score[np.argmax(gb_score)]"
   ]
  },
  {
   "cell_type": "code",
   "execution_count": 351,
   "id": "9e8fcc06",
   "metadata": {},
   "outputs": [],
   "source": [
    "X_train , X_test , y_train  , y_test = train_test_split(X,y,test_size = 0.2 , random_state = 45)\n",
    "gb = GradientBoostingClassifier(n_estimators = 100 , max_depth = 1)\n",
    "X_train_dummy = preprocessor.fit_transform(X_train)\n",
    "X_test_dummy = preprocessor.transform(X_test)\n",
    "gb.fit(X_train_dummy , y_train)\n",
    "y_pred = gb.predict(X_test_dummy)"
   ]
  },
  {
   "cell_type": "code",
   "execution_count": 352,
   "id": "33739aab",
   "metadata": {},
   "outputs": [
    {
     "name": "stdout",
     "output_type": "stream",
     "text": [
      "[[64  6]\n",
      " [16 32]]\n"
     ]
    }
   ],
   "source": [
    "print(confusion_matrix(y_test , y_pred))"
   ]
  },
  {
   "cell_type": "markdown",
   "id": "a1d660c3",
   "metadata": {},
   "source": [
    "# Using LogisticRegression :"
   ]
  },
  {
   "cell_type": "code",
   "execution_count": 353,
   "id": "b334d526",
   "metadata": {},
   "outputs": [],
   "source": [
    "lr_score = []\n",
    "for i  in range(100):\n",
    "    X_train , X_test , y_train  , y_test = train_test_split(X,y,test_size = 0.2 , random_state = i)\n",
    "    lr = LogisticRegression(C = 100)\n",
    "    X_train_dummy = preprocessor.fit_transform(X_train)\n",
    "    X_test_dummy = preprocessor.transform(X_test)\n",
    "    lr.fit(X_train_dummy , y_train)\n",
    "    y_pred = lr.predict(X_test_dummy)\n",
    "    lr_score.append(accuracy_score(y_test , y_pred))"
   ]
  },
  {
   "cell_type": "code",
   "execution_count": 354,
   "id": "3d459ab6",
   "metadata": {},
   "outputs": [
    {
     "name": "stdout",
     "output_type": "stream",
     "text": [
      "33\n",
      "0.8305084745762712\n"
     ]
    }
   ],
   "source": [
    "print(np.argmax(lr_score))\n",
    "print(lr_score[np.argmax(lr_score)])"
   ]
  },
  {
   "cell_type": "code",
   "execution_count": 355,
   "id": "6f457e73",
   "metadata": {},
   "outputs": [
    {
     "name": "stdout",
     "output_type": "stream",
     "text": [
      "[[51 16]\n",
      " [39 12]]\n"
     ]
    }
   ],
   "source": [
    "X_train , X_test , y_train  , y_test = train_test_split(X,y,test_size = 0.2 , random_state = 1)\n",
    "from sklearn.linear_model import LogisticRegression\n",
    "lr = LogisticRegression(C = 100)\n",
    "lr.fit(X_train_dummy , y_train)\n",
    "y_pred = lr.predict(X_test_dummy)\n",
    "print(confusion_matrix(y_test , y_pred))"
   ]
  },
  {
   "cell_type": "markdown",
   "id": "ecde8231",
   "metadata": {},
   "source": [
    "# Using KNeighborsClassifier :"
   ]
  },
  {
   "cell_type": "code",
   "execution_count": 356,
   "id": "37ee80db",
   "metadata": {},
   "outputs": [],
   "source": [
    "knn_score = []\n",
    "for i  in range(100):\n",
    "    X_train , X_test , y_train  , y_test = train_test_split(X,y,test_size = 0.2 , random_state = i)\n",
    "    knn = KNeighborsClassifier(n_neighbors = 7 , weights = 'distance')\n",
    "    X_train_dummy = preprocessor.fit_transform(X_train)\n",
    "    X_test_dummy = preprocessor.transform(X_test)\n",
    "    knn.fit(X_train_dummy , y_train)\n",
    "    y_pred = knn.predict(X_test_dummy)\n",
    "    knn_score.append(accuracy_score(y_test , y_pred))"
   ]
  },
  {
   "cell_type": "code",
   "execution_count": 357,
   "id": "eef217b9",
   "metadata": {},
   "outputs": [
    {
     "name": "stdout",
     "output_type": "stream",
     "text": [
      "13\n",
      "0.8135593220338984\n"
     ]
    }
   ],
   "source": [
    "print(np.argmax(knn_score))\n",
    "print(knn_score[np.argmax(knn_score)])"
   ]
  },
  {
   "cell_type": "code",
   "execution_count": 358,
   "id": "e6614653",
   "metadata": {},
   "outputs": [
    {
     "name": "stdout",
     "output_type": "stream",
     "text": [
      "[[47 23]\n",
      " [30 18]]\n"
     ]
    }
   ],
   "source": [
    "from sklearn.neighbors import KNeighborsClassifier\n",
    "X_train , X_test , y_train  , y_test = train_test_split(X,y,test_size = 0.2 , random_state = 4)\n",
    "knc = KNeighborsClassifier(n_neighbors = 5 , weights = 'distance')\n",
    "knc.fit(X_train_dummy , y_train)\n",
    "y_pred = knc.predict(X_test_dummy)\n",
    "print(confusion_matrix(y_test , y_pred))"
   ]
  },
  {
   "cell_type": "code",
   "execution_count": 359,
   "id": "d26b4821",
   "metadata": {},
   "outputs": [],
   "source": [
    "# So , Here I will go for GradientBoostingClassifier . Because , this model is safer then the other models because the TrueNegetive value is minimum (6)"
   ]
  },
  {
   "cell_type": "markdown",
   "id": "c9d016c1",
   "metadata": {},
   "source": [
    "# Prediction System :"
   ]
  },
  {
   "cell_type": "code",
   "execution_count": 360,
   "id": "ec7005db",
   "metadata": {},
   "outputs": [],
   "source": [
    "def Attrition_prediction(Department,\tDistanceFromHome,\tEnvironmentSatisfaction,\tJobLevel,\tJobRole,\tJobSatisfaction,\tMaritalStatus,\tMonthlyIncome,\tOverTime,\tPerformanceRating,\tStockOptionLevel,\tTotalWorkingYears,\tYearsAtCompany,\tYearsInCurrentRole,\tYearsWithCurrManager):\n",
    "    features = np.array([[Department,\tDistanceFromHome,\tEnvironmentSatisfaction,\tJobLevel,\tJobRole,\tJobSatisfaction,\tMaritalStatus,\tMonthlyIncome,\tOverTime,\tPerformanceRating,\tStockOptionLevel,\tTotalWorkingYears,\tYearsAtCompany,\tYearsInCurrentRole,\tYearsWithCurrManager]])\n",
    "    \n",
    "    transformed_features = preprocessor.transform(features)\n",
    "    predict_value = gb.predict(transformed_features).reshape(1,-1)\n",
    "    if predict_value == 0 :\n",
    "        print(\" No attrition \")\n",
    "    else :\n",
    "        print(\"Attrition !\")"
   ]
  },
  {
   "cell_type": "code",
   "execution_count": 364,
   "id": "09f2219f",
   "metadata": {},
   "outputs": [],
   "source": [
    "Department = 'Sales'\n",
    "DistanceFromHome = 13\n",
    "EnvironmentSatisfaction = 4\n",
    "JobLevel = 2\n",
    "JobRole = 'Sales Executive'\n",
    "JobSatisfaction = 3\n",
    "MaritalStatus = 'Single'\n",
    "MonthlyIncome = 9854\n",
    "OverTime = 1\n",
    "PerformanceRating = 3\n",
    "StockOptionLevel = 0\n",
    "TotalWorkingYears =6\n",
    "YearsAtCompany = 2\n",
    "YearsInCurrentRole= 0\n",
    "YearsWithCurrManager = 2"
   ]
  },
  {
   "cell_type": "code",
   "execution_count": 365,
   "id": "3c426bd4",
   "metadata": {},
   "outputs": [
    {
     "name": "stdout",
     "output_type": "stream",
     "text": [
      "Attrition !\n"
     ]
    }
   ],
   "source": [
    "Attrition_prediction(Department,\tDistanceFromHome,\tEnvironmentSatisfaction,\tJobLevel,\tJobRole,\tJobSatisfaction,\tMaritalStatus,\tMonthlyIncome,\tOverTime,\tPerformanceRating,\tStockOptionLevel,\tTotalWorkingYears,\tYearsAtCompany,\tYearsInCurrentRole,\tYearsWithCurrManager)"
   ]
  },
  {
   "cell_type": "code",
   "execution_count": 363,
   "id": "b14fb320",
   "metadata": {},
   "outputs": [
    {
     "data": {
      "text/html": [
       "<div>\n",
       "<style scoped>\n",
       "    .dataframe tbody tr th:only-of-type {\n",
       "        vertical-align: middle;\n",
       "    }\n",
       "\n",
       "    .dataframe tbody tr th {\n",
       "        vertical-align: top;\n",
       "    }\n",
       "\n",
       "    .dataframe thead th {\n",
       "        text-align: right;\n",
       "    }\n",
       "</style>\n",
       "<table border=\"1\" class=\"dataframe\">\n",
       "  <thead>\n",
       "    <tr style=\"text-align: right;\">\n",
       "      <th></th>\n",
       "      <th>Attrition</th>\n",
       "      <th>Department</th>\n",
       "      <th>DistanceFromHome</th>\n",
       "      <th>EnvironmentSatisfaction</th>\n",
       "      <th>JobLevel</th>\n",
       "      <th>JobRole</th>\n",
       "      <th>JobSatisfaction</th>\n",
       "      <th>MaritalStatus</th>\n",
       "      <th>MonthlyIncome</th>\n",
       "      <th>OverTime</th>\n",
       "      <th>PerformanceRating</th>\n",
       "      <th>StockOptionLevel</th>\n",
       "      <th>TotalWorkingYears</th>\n",
       "      <th>YearsAtCompany</th>\n",
       "      <th>YearsInCurrentRole</th>\n",
       "      <th>YearsWithCurrManager</th>\n",
       "    </tr>\n",
       "  </thead>\n",
       "  <tbody>\n",
       "    <tr>\n",
       "      <th>1459</th>\n",
       "      <td>0</td>\n",
       "      <td>Research &amp; Development</td>\n",
       "      <td>13</td>\n",
       "      <td>4</td>\n",
       "      <td>2</td>\n",
       "      <td>Laboratory Technician</td>\n",
       "      <td>2</td>\n",
       "      <td>Married</td>\n",
       "      <td>4025</td>\n",
       "      <td>1</td>\n",
       "      <td>3</td>\n",
       "      <td>1</td>\n",
       "      <td>10</td>\n",
       "      <td>4</td>\n",
       "      <td>3</td>\n",
       "      <td>3</td>\n",
       "    </tr>\n",
       "    <tr>\n",
       "      <th>700</th>\n",
       "      <td>1</td>\n",
       "      <td>Research &amp; Development</td>\n",
       "      <td>2</td>\n",
       "      <td>4</td>\n",
       "      <td>1</td>\n",
       "      <td>Research Scientist</td>\n",
       "      <td>3</td>\n",
       "      <td>Single</td>\n",
       "      <td>2479</td>\n",
       "      <td>2</td>\n",
       "      <td>4</td>\n",
       "      <td>0</td>\n",
       "      <td>7</td>\n",
       "      <td>1</td>\n",
       "      <td>0</td>\n",
       "      <td>0</td>\n",
       "    </tr>\n",
       "    <tr>\n",
       "      <th>796</th>\n",
       "      <td>1</td>\n",
       "      <td>Research &amp; Development</td>\n",
       "      <td>4</td>\n",
       "      <td>4</td>\n",
       "      <td>1</td>\n",
       "      <td>Laboratory Technician</td>\n",
       "      <td>4</td>\n",
       "      <td>Married</td>\n",
       "      <td>3691</td>\n",
       "      <td>1</td>\n",
       "      <td>3</td>\n",
       "      <td>1</td>\n",
       "      <td>7</td>\n",
       "      <td>7</td>\n",
       "      <td>7</td>\n",
       "      <td>6</td>\n",
       "    </tr>\n",
       "    <tr>\n",
       "      <th>1272</th>\n",
       "      <td>0</td>\n",
       "      <td>Research &amp; Development</td>\n",
       "      <td>6</td>\n",
       "      <td>4</td>\n",
       "      <td>1</td>\n",
       "      <td>Laboratory Technician</td>\n",
       "      <td>3</td>\n",
       "      <td>Married</td>\n",
       "      <td>3702</td>\n",
       "      <td>2</td>\n",
       "      <td>3</td>\n",
       "      <td>1</td>\n",
       "      <td>5</td>\n",
       "      <td>5</td>\n",
       "      <td>4</td>\n",
       "      <td>4</td>\n",
       "    </tr>\n",
       "    <tr>\n",
       "      <th>468</th>\n",
       "      <td>0</td>\n",
       "      <td>Research &amp; Development</td>\n",
       "      <td>6</td>\n",
       "      <td>4</td>\n",
       "      <td>2</td>\n",
       "      <td>Research Scientist</td>\n",
       "      <td>1</td>\n",
       "      <td>Divorced</td>\n",
       "      <td>5577</td>\n",
       "      <td>1</td>\n",
       "      <td>3</td>\n",
       "      <td>2</td>\n",
       "      <td>18</td>\n",
       "      <td>10</td>\n",
       "      <td>9</td>\n",
       "      <td>9</td>\n",
       "    </tr>\n",
       "    <tr>\n",
       "      <th>787</th>\n",
       "      <td>0</td>\n",
       "      <td>Research &amp; Development</td>\n",
       "      <td>2</td>\n",
       "      <td>4</td>\n",
       "      <td>3</td>\n",
       "      <td>Manufacturing Director</td>\n",
       "      <td>2</td>\n",
       "      <td>Married</td>\n",
       "      <td>10976</td>\n",
       "      <td>2</td>\n",
       "      <td>3</td>\n",
       "      <td>1</td>\n",
       "      <td>23</td>\n",
       "      <td>3</td>\n",
       "      <td>2</td>\n",
       "      <td>2</td>\n",
       "    </tr>\n",
       "    <tr>\n",
       "      <th>892</th>\n",
       "      <td>1</td>\n",
       "      <td>Research &amp; Development</td>\n",
       "      <td>10</td>\n",
       "      <td>1</td>\n",
       "      <td>1</td>\n",
       "      <td>Research Scientist</td>\n",
       "      <td>2</td>\n",
       "      <td>Single</td>\n",
       "      <td>1859</td>\n",
       "      <td>1</td>\n",
       "      <td>4</td>\n",
       "      <td>0</td>\n",
       "      <td>1</td>\n",
       "      <td>1</td>\n",
       "      <td>1</td>\n",
       "      <td>0</td>\n",
       "    </tr>\n",
       "    <tr>\n",
       "      <th>237</th>\n",
       "      <td>0</td>\n",
       "      <td>Sales</td>\n",
       "      <td>2</td>\n",
       "      <td>1</td>\n",
       "      <td>5</td>\n",
       "      <td>Manager</td>\n",
       "      <td>3</td>\n",
       "      <td>Single</td>\n",
       "      <td>19068</td>\n",
       "      <td>1</td>\n",
       "      <td>3</td>\n",
       "      <td>0</td>\n",
       "      <td>33</td>\n",
       "      <td>33</td>\n",
       "      <td>7</td>\n",
       "      <td>12</td>\n",
       "    </tr>\n",
       "    <tr>\n",
       "      <th>129</th>\n",
       "      <td>0</td>\n",
       "      <td>Research &amp; Development</td>\n",
       "      <td>20</td>\n",
       "      <td>3</td>\n",
       "      <td>2</td>\n",
       "      <td>Manufacturing Director</td>\n",
       "      <td>1</td>\n",
       "      <td>Married</td>\n",
       "      <td>6567</td>\n",
       "      <td>2</td>\n",
       "      <td>3</td>\n",
       "      <td>0</td>\n",
       "      <td>16</td>\n",
       "      <td>15</td>\n",
       "      <td>11</td>\n",
       "      <td>11</td>\n",
       "    </tr>\n",
       "    <tr>\n",
       "      <th>689</th>\n",
       "      <td>1</td>\n",
       "      <td>Research &amp; Development</td>\n",
       "      <td>4</td>\n",
       "      <td>1</td>\n",
       "      <td>1</td>\n",
       "      <td>Laboratory Technician</td>\n",
       "      <td>1</td>\n",
       "      <td>Single</td>\n",
       "      <td>2973</td>\n",
       "      <td>2</td>\n",
       "      <td>3</td>\n",
       "      <td>0</td>\n",
       "      <td>1</td>\n",
       "      <td>1</td>\n",
       "      <td>0</td>\n",
       "      <td>0</td>\n",
       "    </tr>\n",
       "  </tbody>\n",
       "</table>\n",
       "</div>"
      ],
      "text/plain": [
       "      Attrition              Department  DistanceFromHome  \\\n",
       "1459          0  Research & Development                13   \n",
       "700           1  Research & Development                 2   \n",
       "796           1  Research & Development                 4   \n",
       "1272          0  Research & Development                 6   \n",
       "468           0  Research & Development                 6   \n",
       "787           0  Research & Development                 2   \n",
       "892           1  Research & Development                10   \n",
       "237           0                   Sales                 2   \n",
       "129           0  Research & Development                20   \n",
       "689           1  Research & Development                 4   \n",
       "\n",
       "      EnvironmentSatisfaction  JobLevel                 JobRole  \\\n",
       "1459                        4         2   Laboratory Technician   \n",
       "700                         4         1      Research Scientist   \n",
       "796                         4         1   Laboratory Technician   \n",
       "1272                        4         1   Laboratory Technician   \n",
       "468                         4         2      Research Scientist   \n",
       "787                         4         3  Manufacturing Director   \n",
       "892                         1         1      Research Scientist   \n",
       "237                         1         5                 Manager   \n",
       "129                         3         2  Manufacturing Director   \n",
       "689                         1         1   Laboratory Technician   \n",
       "\n",
       "      JobSatisfaction MaritalStatus  MonthlyIncome  OverTime  \\\n",
       "1459                2       Married           4025         1   \n",
       "700                 3        Single           2479         2   \n",
       "796                 4       Married           3691         1   \n",
       "1272                3       Married           3702         2   \n",
       "468                 1      Divorced           5577         1   \n",
       "787                 2       Married          10976         2   \n",
       "892                 2        Single           1859         1   \n",
       "237                 3        Single          19068         1   \n",
       "129                 1       Married           6567         2   \n",
       "689                 1        Single           2973         2   \n",
       "\n",
       "      PerformanceRating  StockOptionLevel  TotalWorkingYears  YearsAtCompany  \\\n",
       "1459                  3                 1                 10               4   \n",
       "700                   4                 0                  7               1   \n",
       "796                   3                 1                  7               7   \n",
       "1272                  3                 1                  5               5   \n",
       "468                   3                 2                 18              10   \n",
       "787                   3                 1                 23               3   \n",
       "892                   4                 0                  1               1   \n",
       "237                   3                 0                 33              33   \n",
       "129                   3                 0                 16              15   \n",
       "689                   3                 0                  1               1   \n",
       "\n",
       "      YearsInCurrentRole  YearsWithCurrManager  \n",
       "1459                   3                     3  \n",
       "700                    0                     0  \n",
       "796                    7                     6  \n",
       "1272                   4                     4  \n",
       "468                    9                     9  \n",
       "787                    2                     2  \n",
       "892                    1                     0  \n",
       "237                    7                    12  \n",
       "129                   11                    11  \n",
       "689                    0                     0  "
      ]
     },
     "execution_count": 363,
     "metadata": {},
     "output_type": "execute_result"
    }
   ],
   "source": [
    "new_df.sample(10)"
   ]
  },
  {
   "cell_type": "code",
   "execution_count": null,
   "id": "36b48112",
   "metadata": {},
   "outputs": [],
   "source": []
  }
 ],
 "metadata": {
  "kernelspec": {
   "display_name": "Python 3 (ipykernel)",
   "language": "python",
   "name": "python3"
  },
  "language_info": {
   "codemirror_mode": {
    "name": "ipython",
    "version": 3
   },
   "file_extension": ".py",
   "mimetype": "text/x-python",
   "name": "python",
   "nbconvert_exporter": "python",
   "pygments_lexer": "ipython3",
   "version": "3.11.5"
  }
 },
 "nbformat": 4,
 "nbformat_minor": 5
}
